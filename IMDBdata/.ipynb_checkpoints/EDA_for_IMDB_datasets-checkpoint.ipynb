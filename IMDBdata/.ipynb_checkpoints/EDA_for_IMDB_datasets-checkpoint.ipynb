{
 "cells": [
  {
   "cell_type": "markdown",
   "id": "d6f5e8df",
   "metadata": {},
   "source": [
    "# IMDB 5000 Movie Dataset"
   ]
  },
  {
   "cell_type": "markdown",
   "id": "4d6caac8",
   "metadata": {},
   "source": [
    "https://www.kaggle.com/datasets/carolzhangdc/imdb-5000-movie-dataset?datasetId=7181&sortBy=voteCount&language=Python"
   ]
  },
  {
   "cell_type": "markdown",
   "id": "b85c3d7c",
   "metadata": {},
   "source": [
    "一部商業上成功的電影不僅能娛樂觀眾，還能讓電影公司獲得巨大的利潤。 好的導演、有經驗的演員等很多因素對於拍出好的電影來說都是相當重要的。 但是，著名導演和演員總能帶來預期的票房收入，但不能保證imdb評分很高。\n",
    "\n",
    "數據集來自 Kaggle 網站。 它包含 5043 部電影的 28 個變量，跨越 66 個國家/地區的。 有 2399 個獨特的導演姓名，以及數千名演員/女演員。 “imdb_score”是響應變量，而其他 27 個變量是可能的預測變量。"
   ]
  },
  {
   "cell_type": "code",
   "execution_count": 1,
   "id": "da296f9a",
   "metadata": {},
   "outputs": [],
   "source": [
    "# 資料描述\n",
    "\n",
    "# 變數名稱：描述\n",
    "# movie_title                Title of the Movie, 電影名稱                       \n",
    "# duration                   Duration in minutes, 電影長度\n",
    "# director_name              Name of the Director of the Movie, 導演名\n",
    "# director_facebook_likes    Number of likes of the Director on his Facebook Page, 導演粉絲專業讚數\n",
    "# actor_1_name               Primary actor starring in the movie, 主要演員名\n",
    "# actor_1_facebook_likes     Number of likes of the Actor_1 on his/her Facebook Page, 主要演員粉絲專業讚數\n",
    "# actor_2_name               Other actor starring in the movie, 主要演員名\n",
    "# actor_2_facebook_likes     Number of likes of the Actor_2 on his/her Facebook Page, 主要演員粉絲專業讚數\n",
    "# actor_3_name               Other actor starring in the movie, 主要演員名\n",
    "# actor_3_facebook_likes     Number of likes of the Actor_3 on his/her Facebook Page, 主要演員粉絲專業讚數\n",
    "# num_user_for_reviews       Number of users who gave a review, 使用者給予回饋數\n",
    "# num_critic_for_reviews     Number of critical reviews on imdb, 在IMDB上的評論數\n",
    "# num_voted_users            Number of people who voted for the movie, 投票數\n",
    "# cast_total_facebook_likes  Total number of facebook likes of the entire cast of the movie, 整部電影的讚數\n",
    "# movie_facebook_likes       Number of Facebook likes in the movie page, 電影粉絲專業讚數\n",
    "# plot_keywords              Keywords describing the movie plot, 電影關鍵詞\n",
    "# facenumber_in_poster       Number of the actor who featured in the movie poster, 電影海報出現演員數\n",
    "# color                      Film colorization. ‘Black and White’ or ‘Color’, 黑白電影/彩色電影\n",
    "# genres                     Film categorization like ‘Animation’, ‘Comedy’, ‘Romance’, ‘Horror’, ‘Sci-Fi’, ‘Action’, ‘Family’, 電影類別\n",
    "# title_year                 The year in which the movie is released (1916:2016), 電影出版年\n",
    "# language                   English, Arabic, Chinese, French, German, Danish, Italian, Japanese etc, 語言\n",
    "# country                    Country where the movie is produced, 出版國家\n",
    "# content_rating             Content rating of the movie, 電影分級\n",
    "# aspect_ratio               Aspect ratio the movie was made in, 電影長寬比\n",
    "# movie_imdb_link            IMDB link of the movie, 電影imdb連結\n",
    "# gross\tGross                earnings of the movie in Dollars, 電影總收益\n",
    "# budget                     Budget of the movie in Dollars, 電影預算\n",
    "# imdb_score                 IMDB Score of the movie on IMDB, IMDB評分"
   ]
  },
  {
   "cell_type": "markdown",
   "id": "982169f1",
   "metadata": {},
   "source": [
    "## Data Loading"
   ]
  },
  {
   "cell_type": "code",
   "execution_count": 2,
   "id": "f9a9e712",
   "metadata": {},
   "outputs": [],
   "source": [
    "#!pip install seaborn\n",
    "#!pip install pandas-profiling\n",
    "#!pip3 install ipywidgets"
   ]
  },
  {
   "cell_type": "code",
   "execution_count": 3,
   "id": "512c227e",
   "metadata": {},
   "outputs": [],
   "source": [
    "#importing the libraries that we use\n",
    "import pandas as pd \n",
    "import numpy as np\n",
    "import matplotlib.pyplot as plt\n",
    "import seaborn as sns\n",
    "import pandas_profiling as pp"
   ]
  },
  {
   "cell_type": "code",
   "execution_count": 4,
   "id": "68289acb",
   "metadata": {
    "scrolled": true
   },
   "outputs": [
    {
     "data": {
      "text/html": [
       "<div>\n",
       "<style scoped>\n",
       "    .dataframe tbody tr th:only-of-type {\n",
       "        vertical-align: middle;\n",
       "    }\n",
       "\n",
       "    .dataframe tbody tr th {\n",
       "        vertical-align: top;\n",
       "    }\n",
       "\n",
       "    .dataframe thead th {\n",
       "        text-align: right;\n",
       "    }\n",
       "</style>\n",
       "<table border=\"1\" class=\"dataframe\">\n",
       "  <thead>\n",
       "    <tr style=\"text-align: right;\">\n",
       "      <th></th>\n",
       "      <th>color</th>\n",
       "      <th>director_name</th>\n",
       "      <th>num_critic_for_reviews</th>\n",
       "      <th>duration</th>\n",
       "      <th>director_facebook_likes</th>\n",
       "      <th>actor_3_facebook_likes</th>\n",
       "      <th>actor_2_name</th>\n",
       "      <th>actor_1_facebook_likes</th>\n",
       "      <th>gross</th>\n",
       "      <th>genres</th>\n",
       "      <th>...</th>\n",
       "      <th>num_user_for_reviews</th>\n",
       "      <th>language</th>\n",
       "      <th>country</th>\n",
       "      <th>content_rating</th>\n",
       "      <th>budget</th>\n",
       "      <th>title_year</th>\n",
       "      <th>actor_2_facebook_likes</th>\n",
       "      <th>imdb_score</th>\n",
       "      <th>aspect_ratio</th>\n",
       "      <th>movie_facebook_likes</th>\n",
       "    </tr>\n",
       "  </thead>\n",
       "  <tbody>\n",
       "    <tr>\n",
       "      <th>0</th>\n",
       "      <td>Color</td>\n",
       "      <td>James Cameron</td>\n",
       "      <td>723.0</td>\n",
       "      <td>178.0</td>\n",
       "      <td>0.0</td>\n",
       "      <td>855.0</td>\n",
       "      <td>Joel David Moore</td>\n",
       "      <td>1000.0</td>\n",
       "      <td>760505847.0</td>\n",
       "      <td>Action|Adventure|Fantasy|Sci-Fi</td>\n",
       "      <td>...</td>\n",
       "      <td>3054.0</td>\n",
       "      <td>English</td>\n",
       "      <td>USA</td>\n",
       "      <td>PG-13</td>\n",
       "      <td>237000000.0</td>\n",
       "      <td>2009.0</td>\n",
       "      <td>936.0</td>\n",
       "      <td>7.9</td>\n",
       "      <td>1.78</td>\n",
       "      <td>33000</td>\n",
       "    </tr>\n",
       "    <tr>\n",
       "      <th>1</th>\n",
       "      <td>Color</td>\n",
       "      <td>Gore Verbinski</td>\n",
       "      <td>302.0</td>\n",
       "      <td>169.0</td>\n",
       "      <td>563.0</td>\n",
       "      <td>1000.0</td>\n",
       "      <td>Orlando Bloom</td>\n",
       "      <td>40000.0</td>\n",
       "      <td>309404152.0</td>\n",
       "      <td>Action|Adventure|Fantasy</td>\n",
       "      <td>...</td>\n",
       "      <td>1238.0</td>\n",
       "      <td>English</td>\n",
       "      <td>USA</td>\n",
       "      <td>PG-13</td>\n",
       "      <td>300000000.0</td>\n",
       "      <td>2007.0</td>\n",
       "      <td>5000.0</td>\n",
       "      <td>7.1</td>\n",
       "      <td>2.35</td>\n",
       "      <td>0</td>\n",
       "    </tr>\n",
       "    <tr>\n",
       "      <th>2</th>\n",
       "      <td>Color</td>\n",
       "      <td>Sam Mendes</td>\n",
       "      <td>602.0</td>\n",
       "      <td>148.0</td>\n",
       "      <td>0.0</td>\n",
       "      <td>161.0</td>\n",
       "      <td>Rory Kinnear</td>\n",
       "      <td>11000.0</td>\n",
       "      <td>200074175.0</td>\n",
       "      <td>Action|Adventure|Thriller</td>\n",
       "      <td>...</td>\n",
       "      <td>994.0</td>\n",
       "      <td>English</td>\n",
       "      <td>UK</td>\n",
       "      <td>PG-13</td>\n",
       "      <td>245000000.0</td>\n",
       "      <td>2015.0</td>\n",
       "      <td>393.0</td>\n",
       "      <td>6.8</td>\n",
       "      <td>2.35</td>\n",
       "      <td>85000</td>\n",
       "    </tr>\n",
       "    <tr>\n",
       "      <th>3</th>\n",
       "      <td>Color</td>\n",
       "      <td>Christopher Nolan</td>\n",
       "      <td>813.0</td>\n",
       "      <td>164.0</td>\n",
       "      <td>22000.0</td>\n",
       "      <td>23000.0</td>\n",
       "      <td>Christian Bale</td>\n",
       "      <td>27000.0</td>\n",
       "      <td>448130642.0</td>\n",
       "      <td>Action|Thriller</td>\n",
       "      <td>...</td>\n",
       "      <td>2701.0</td>\n",
       "      <td>English</td>\n",
       "      <td>USA</td>\n",
       "      <td>PG-13</td>\n",
       "      <td>250000000.0</td>\n",
       "      <td>2012.0</td>\n",
       "      <td>23000.0</td>\n",
       "      <td>8.5</td>\n",
       "      <td>2.35</td>\n",
       "      <td>164000</td>\n",
       "    </tr>\n",
       "    <tr>\n",
       "      <th>4</th>\n",
       "      <td>NaN</td>\n",
       "      <td>Doug Walker</td>\n",
       "      <td>NaN</td>\n",
       "      <td>NaN</td>\n",
       "      <td>131.0</td>\n",
       "      <td>NaN</td>\n",
       "      <td>Rob Walker</td>\n",
       "      <td>131.0</td>\n",
       "      <td>NaN</td>\n",
       "      <td>Documentary</td>\n",
       "      <td>...</td>\n",
       "      <td>NaN</td>\n",
       "      <td>NaN</td>\n",
       "      <td>NaN</td>\n",
       "      <td>NaN</td>\n",
       "      <td>NaN</td>\n",
       "      <td>NaN</td>\n",
       "      <td>12.0</td>\n",
       "      <td>7.1</td>\n",
       "      <td>NaN</td>\n",
       "      <td>0</td>\n",
       "    </tr>\n",
       "  </tbody>\n",
       "</table>\n",
       "<p>5 rows × 28 columns</p>\n",
       "</div>"
      ],
      "text/plain": [
       "   color      director_name  num_critic_for_reviews  duration  \\\n",
       "0  Color      James Cameron                   723.0     178.0   \n",
       "1  Color     Gore Verbinski                   302.0     169.0   \n",
       "2  Color         Sam Mendes                   602.0     148.0   \n",
       "3  Color  Christopher Nolan                   813.0     164.0   \n",
       "4    NaN        Doug Walker                     NaN       NaN   \n",
       "\n",
       "   director_facebook_likes  actor_3_facebook_likes      actor_2_name  \\\n",
       "0                      0.0                   855.0  Joel David Moore   \n",
       "1                    563.0                  1000.0     Orlando Bloom   \n",
       "2                      0.0                   161.0      Rory Kinnear   \n",
       "3                  22000.0                 23000.0    Christian Bale   \n",
       "4                    131.0                     NaN        Rob Walker   \n",
       "\n",
       "   actor_1_facebook_likes        gross                           genres  ...  \\\n",
       "0                  1000.0  760505847.0  Action|Adventure|Fantasy|Sci-Fi  ...   \n",
       "1                 40000.0  309404152.0         Action|Adventure|Fantasy  ...   \n",
       "2                 11000.0  200074175.0        Action|Adventure|Thriller  ...   \n",
       "3                 27000.0  448130642.0                  Action|Thriller  ...   \n",
       "4                   131.0          NaN                      Documentary  ...   \n",
       "\n",
       "  num_user_for_reviews language  country  content_rating       budget  \\\n",
       "0               3054.0  English      USA           PG-13  237000000.0   \n",
       "1               1238.0  English      USA           PG-13  300000000.0   \n",
       "2                994.0  English       UK           PG-13  245000000.0   \n",
       "3               2701.0  English      USA           PG-13  250000000.0   \n",
       "4                  NaN      NaN      NaN             NaN          NaN   \n",
       "\n",
       "   title_year actor_2_facebook_likes imdb_score  aspect_ratio  \\\n",
       "0      2009.0                  936.0        7.9          1.78   \n",
       "1      2007.0                 5000.0        7.1          2.35   \n",
       "2      2015.0                  393.0        6.8          2.35   \n",
       "3      2012.0                23000.0        8.5          2.35   \n",
       "4         NaN                   12.0        7.1           NaN   \n",
       "\n",
       "  movie_facebook_likes  \n",
       "0                33000  \n",
       "1                    0  \n",
       "2                85000  \n",
       "3               164000  \n",
       "4                    0  \n",
       "\n",
       "[5 rows x 28 columns]"
      ]
     },
     "execution_count": 4,
     "metadata": {},
     "output_type": "execute_result"
    }
   ],
   "source": [
    "dataset = pd.read_csv('./movie_metadata.csv')\n",
    "dataset.head()"
   ]
  },
  {
   "cell_type": "code",
   "execution_count": 5,
   "id": "8a71a093",
   "metadata": {},
   "outputs": [
    {
     "name": "stdout",
     "output_type": "stream",
     "text": [
      "(5043, 28)\n",
      "Index(['color', 'director_name', 'num_critic_for_reviews', 'duration',\n",
      "       'director_facebook_likes', 'actor_3_facebook_likes', 'actor_2_name',\n",
      "       'actor_1_facebook_likes', 'gross', 'genres', 'actor_1_name',\n",
      "       'movie_title', 'num_voted_users', 'cast_total_facebook_likes',\n",
      "       'actor_3_name', 'facenumber_in_poster', 'plot_keywords',\n",
      "       'movie_imdb_link', 'num_user_for_reviews', 'language', 'country',\n",
      "       'content_rating', 'budget', 'title_year', 'actor_2_facebook_likes',\n",
      "       'imdb_score', 'aspect_ratio', 'movie_facebook_likes'],\n",
      "      dtype='object')\n"
     ]
    },
    {
     "data": {
      "text/html": [
       "<div>\n",
       "<style scoped>\n",
       "    .dataframe tbody tr th:only-of-type {\n",
       "        vertical-align: middle;\n",
       "    }\n",
       "\n",
       "    .dataframe tbody tr th {\n",
       "        vertical-align: top;\n",
       "    }\n",
       "\n",
       "    .dataframe thead th {\n",
       "        text-align: right;\n",
       "    }\n",
       "</style>\n",
       "<table border=\"1\" class=\"dataframe\">\n",
       "  <thead>\n",
       "    <tr style=\"text-align: right;\">\n",
       "      <th></th>\n",
       "      <th>num_critic_for_reviews</th>\n",
       "      <th>duration</th>\n",
       "      <th>director_facebook_likes</th>\n",
       "      <th>actor_3_facebook_likes</th>\n",
       "      <th>actor_1_facebook_likes</th>\n",
       "      <th>gross</th>\n",
       "      <th>num_voted_users</th>\n",
       "      <th>cast_total_facebook_likes</th>\n",
       "      <th>facenumber_in_poster</th>\n",
       "      <th>num_user_for_reviews</th>\n",
       "      <th>budget</th>\n",
       "      <th>title_year</th>\n",
       "      <th>actor_2_facebook_likes</th>\n",
       "      <th>imdb_score</th>\n",
       "      <th>aspect_ratio</th>\n",
       "      <th>movie_facebook_likes</th>\n",
       "    </tr>\n",
       "  </thead>\n",
       "  <tbody>\n",
       "    <tr>\n",
       "      <th>count</th>\n",
       "      <td>4993.000000</td>\n",
       "      <td>5028.000000</td>\n",
       "      <td>4939.000000</td>\n",
       "      <td>5020.000000</td>\n",
       "      <td>5036.000000</td>\n",
       "      <td>4.159000e+03</td>\n",
       "      <td>5.043000e+03</td>\n",
       "      <td>5043.000000</td>\n",
       "      <td>5030.000000</td>\n",
       "      <td>5022.000000</td>\n",
       "      <td>4.551000e+03</td>\n",
       "      <td>4935.000000</td>\n",
       "      <td>5030.000000</td>\n",
       "      <td>5043.000000</td>\n",
       "      <td>4714.000000</td>\n",
       "      <td>5043.000000</td>\n",
       "    </tr>\n",
       "    <tr>\n",
       "      <th>mean</th>\n",
       "      <td>140.194272</td>\n",
       "      <td>107.201074</td>\n",
       "      <td>686.509212</td>\n",
       "      <td>645.009761</td>\n",
       "      <td>6560.047061</td>\n",
       "      <td>4.846841e+07</td>\n",
       "      <td>8.366816e+04</td>\n",
       "      <td>9699.063851</td>\n",
       "      <td>1.371173</td>\n",
       "      <td>272.770808</td>\n",
       "      <td>3.975262e+07</td>\n",
       "      <td>2002.470517</td>\n",
       "      <td>1651.754473</td>\n",
       "      <td>6.442138</td>\n",
       "      <td>2.220403</td>\n",
       "      <td>7525.964505</td>\n",
       "    </tr>\n",
       "    <tr>\n",
       "      <th>std</th>\n",
       "      <td>121.601675</td>\n",
       "      <td>25.197441</td>\n",
       "      <td>2813.328607</td>\n",
       "      <td>1665.041728</td>\n",
       "      <td>15020.759120</td>\n",
       "      <td>6.845299e+07</td>\n",
       "      <td>1.384853e+05</td>\n",
       "      <td>18163.799124</td>\n",
       "      <td>2.013576</td>\n",
       "      <td>377.982886</td>\n",
       "      <td>2.061149e+08</td>\n",
       "      <td>12.474599</td>\n",
       "      <td>4042.438863</td>\n",
       "      <td>1.125116</td>\n",
       "      <td>1.385113</td>\n",
       "      <td>19320.445110</td>\n",
       "    </tr>\n",
       "    <tr>\n",
       "      <th>min</th>\n",
       "      <td>1.000000</td>\n",
       "      <td>7.000000</td>\n",
       "      <td>0.000000</td>\n",
       "      <td>0.000000</td>\n",
       "      <td>0.000000</td>\n",
       "      <td>1.620000e+02</td>\n",
       "      <td>5.000000e+00</td>\n",
       "      <td>0.000000</td>\n",
       "      <td>0.000000</td>\n",
       "      <td>1.000000</td>\n",
       "      <td>2.180000e+02</td>\n",
       "      <td>1916.000000</td>\n",
       "      <td>0.000000</td>\n",
       "      <td>1.600000</td>\n",
       "      <td>1.180000</td>\n",
       "      <td>0.000000</td>\n",
       "    </tr>\n",
       "    <tr>\n",
       "      <th>25%</th>\n",
       "      <td>50.000000</td>\n",
       "      <td>93.000000</td>\n",
       "      <td>7.000000</td>\n",
       "      <td>133.000000</td>\n",
       "      <td>614.000000</td>\n",
       "      <td>5.340988e+06</td>\n",
       "      <td>8.593500e+03</td>\n",
       "      <td>1411.000000</td>\n",
       "      <td>0.000000</td>\n",
       "      <td>65.000000</td>\n",
       "      <td>6.000000e+06</td>\n",
       "      <td>1999.000000</td>\n",
       "      <td>281.000000</td>\n",
       "      <td>5.800000</td>\n",
       "      <td>1.850000</td>\n",
       "      <td>0.000000</td>\n",
       "    </tr>\n",
       "    <tr>\n",
       "      <th>50%</th>\n",
       "      <td>110.000000</td>\n",
       "      <td>103.000000</td>\n",
       "      <td>49.000000</td>\n",
       "      <td>371.500000</td>\n",
       "      <td>988.000000</td>\n",
       "      <td>2.551750e+07</td>\n",
       "      <td>3.435900e+04</td>\n",
       "      <td>3090.000000</td>\n",
       "      <td>1.000000</td>\n",
       "      <td>156.000000</td>\n",
       "      <td>2.000000e+07</td>\n",
       "      <td>2005.000000</td>\n",
       "      <td>595.000000</td>\n",
       "      <td>6.600000</td>\n",
       "      <td>2.350000</td>\n",
       "      <td>166.000000</td>\n",
       "    </tr>\n",
       "    <tr>\n",
       "      <th>75%</th>\n",
       "      <td>195.000000</td>\n",
       "      <td>118.000000</td>\n",
       "      <td>194.500000</td>\n",
       "      <td>636.000000</td>\n",
       "      <td>11000.000000</td>\n",
       "      <td>6.230944e+07</td>\n",
       "      <td>9.630900e+04</td>\n",
       "      <td>13756.500000</td>\n",
       "      <td>2.000000</td>\n",
       "      <td>326.000000</td>\n",
       "      <td>4.500000e+07</td>\n",
       "      <td>2011.000000</td>\n",
       "      <td>918.000000</td>\n",
       "      <td>7.200000</td>\n",
       "      <td>2.350000</td>\n",
       "      <td>3000.000000</td>\n",
       "    </tr>\n",
       "    <tr>\n",
       "      <th>max</th>\n",
       "      <td>813.000000</td>\n",
       "      <td>511.000000</td>\n",
       "      <td>23000.000000</td>\n",
       "      <td>23000.000000</td>\n",
       "      <td>640000.000000</td>\n",
       "      <td>7.605058e+08</td>\n",
       "      <td>1.689764e+06</td>\n",
       "      <td>656730.000000</td>\n",
       "      <td>43.000000</td>\n",
       "      <td>5060.000000</td>\n",
       "      <td>1.221550e+10</td>\n",
       "      <td>2016.000000</td>\n",
       "      <td>137000.000000</td>\n",
       "      <td>9.500000</td>\n",
       "      <td>16.000000</td>\n",
       "      <td>349000.000000</td>\n",
       "    </tr>\n",
       "  </tbody>\n",
       "</table>\n",
       "</div>"
      ],
      "text/plain": [
       "       num_critic_for_reviews     duration  director_facebook_likes  \\\n",
       "count             4993.000000  5028.000000              4939.000000   \n",
       "mean               140.194272   107.201074               686.509212   \n",
       "std                121.601675    25.197441              2813.328607   \n",
       "min                  1.000000     7.000000                 0.000000   \n",
       "25%                 50.000000    93.000000                 7.000000   \n",
       "50%                110.000000   103.000000                49.000000   \n",
       "75%                195.000000   118.000000               194.500000   \n",
       "max                813.000000   511.000000             23000.000000   \n",
       "\n",
       "       actor_3_facebook_likes  actor_1_facebook_likes         gross  \\\n",
       "count             5020.000000             5036.000000  4.159000e+03   \n",
       "mean               645.009761             6560.047061  4.846841e+07   \n",
       "std               1665.041728            15020.759120  6.845299e+07   \n",
       "min                  0.000000                0.000000  1.620000e+02   \n",
       "25%                133.000000              614.000000  5.340988e+06   \n",
       "50%                371.500000              988.000000  2.551750e+07   \n",
       "75%                636.000000            11000.000000  6.230944e+07   \n",
       "max              23000.000000           640000.000000  7.605058e+08   \n",
       "\n",
       "       num_voted_users  cast_total_facebook_likes  facenumber_in_poster  \\\n",
       "count     5.043000e+03                5043.000000           5030.000000   \n",
       "mean      8.366816e+04                9699.063851              1.371173   \n",
       "std       1.384853e+05               18163.799124              2.013576   \n",
       "min       5.000000e+00                   0.000000              0.000000   \n",
       "25%       8.593500e+03                1411.000000              0.000000   \n",
       "50%       3.435900e+04                3090.000000              1.000000   \n",
       "75%       9.630900e+04               13756.500000              2.000000   \n",
       "max       1.689764e+06              656730.000000             43.000000   \n",
       "\n",
       "       num_user_for_reviews        budget   title_year  \\\n",
       "count           5022.000000  4.551000e+03  4935.000000   \n",
       "mean             272.770808  3.975262e+07  2002.470517   \n",
       "std              377.982886  2.061149e+08    12.474599   \n",
       "min                1.000000  2.180000e+02  1916.000000   \n",
       "25%               65.000000  6.000000e+06  1999.000000   \n",
       "50%              156.000000  2.000000e+07  2005.000000   \n",
       "75%              326.000000  4.500000e+07  2011.000000   \n",
       "max             5060.000000  1.221550e+10  2016.000000   \n",
       "\n",
       "       actor_2_facebook_likes   imdb_score  aspect_ratio  movie_facebook_likes  \n",
       "count             5030.000000  5043.000000   4714.000000           5043.000000  \n",
       "mean              1651.754473     6.442138      2.220403           7525.964505  \n",
       "std               4042.438863     1.125116      1.385113          19320.445110  \n",
       "min                  0.000000     1.600000      1.180000              0.000000  \n",
       "25%                281.000000     5.800000      1.850000              0.000000  \n",
       "50%                595.000000     6.600000      2.350000            166.000000  \n",
       "75%                918.000000     7.200000      2.350000           3000.000000  \n",
       "max             137000.000000     9.500000     16.000000         349000.000000  "
      ]
     },
     "execution_count": 5,
     "metadata": {},
     "output_type": "execute_result"
    }
   ],
   "source": [
    "print(dataset.shape)\n",
    "print(dataset.columns)\n",
    "dataset.describe()"
   ]
  },
  {
   "cell_type": "code",
   "execution_count": 6,
   "id": "f40de8ca",
   "metadata": {},
   "outputs": [],
   "source": [
    "#dataset.profile_report()"
   ]
  },
  {
   "cell_type": "markdown",
   "id": "81c68852",
   "metadata": {},
   "source": [
    "## Data Cleaning"
   ]
  },
  {
   "cell_type": "code",
   "execution_count": 56,
   "id": "a0373d63",
   "metadata": {},
   "outputs": [
    {
     "name": "stdout",
     "output_type": "stream",
     "text": [
      "(3851, 27)\n",
      "(3817, 27)\n"
     ]
    }
   ],
   "source": [
    "print(dataset.shape)\n",
    "dataset.drop_duplicates(inplace = True)\n",
    "print(dataset.shape)"
   ]
  },
  {
   "cell_type": "code",
   "execution_count": 7,
   "id": "ea2b451b",
   "metadata": {},
   "outputs": [],
   "source": [
    "numerical_cols = [col for col in dataset.columns if dataset[col].dtype != 'object']\n",
    "categorical_cols = [col for col in dataset.columns if dataset[col].dtype == 'object']"
   ]
  },
  {
   "cell_type": "code",
   "execution_count": 8,
   "id": "43b5158c",
   "metadata": {},
   "outputs": [
    {
     "data": {
      "text/html": [
       "<div>\n",
       "<style scoped>\n",
       "    .dataframe tbody tr th:only-of-type {\n",
       "        vertical-align: middle;\n",
       "    }\n",
       "\n",
       "    .dataframe tbody tr th {\n",
       "        vertical-align: top;\n",
       "    }\n",
       "\n",
       "    .dataframe thead th {\n",
       "        text-align: right;\n",
       "    }\n",
       "</style>\n",
       "<table border=\"1\" class=\"dataframe\">\n",
       "  <thead>\n",
       "    <tr style=\"text-align: right;\">\n",
       "      <th></th>\n",
       "      <th>num_critic_for_reviews</th>\n",
       "      <th>duration</th>\n",
       "      <th>director_facebook_likes</th>\n",
       "      <th>actor_3_facebook_likes</th>\n",
       "      <th>actor_1_facebook_likes</th>\n",
       "      <th>gross</th>\n",
       "      <th>num_voted_users</th>\n",
       "      <th>cast_total_facebook_likes</th>\n",
       "      <th>facenumber_in_poster</th>\n",
       "      <th>num_user_for_reviews</th>\n",
       "      <th>budget</th>\n",
       "      <th>title_year</th>\n",
       "      <th>actor_2_facebook_likes</th>\n",
       "      <th>imdb_score</th>\n",
       "      <th>aspect_ratio</th>\n",
       "      <th>movie_facebook_likes</th>\n",
       "    </tr>\n",
       "  </thead>\n",
       "  <tbody>\n",
       "    <tr>\n",
       "      <th>count</th>\n",
       "      <td>4993.000000</td>\n",
       "      <td>5028.000000</td>\n",
       "      <td>4939.000000</td>\n",
       "      <td>5020.000000</td>\n",
       "      <td>5036.000000</td>\n",
       "      <td>4.159000e+03</td>\n",
       "      <td>5.043000e+03</td>\n",
       "      <td>5043.000000</td>\n",
       "      <td>5030.000000</td>\n",
       "      <td>5022.000000</td>\n",
       "      <td>4.551000e+03</td>\n",
       "      <td>4935.000000</td>\n",
       "      <td>5030.000000</td>\n",
       "      <td>5043.000000</td>\n",
       "      <td>4714.000000</td>\n",
       "      <td>5043.000000</td>\n",
       "    </tr>\n",
       "    <tr>\n",
       "      <th>mean</th>\n",
       "      <td>140.194272</td>\n",
       "      <td>107.201074</td>\n",
       "      <td>686.509212</td>\n",
       "      <td>645.009761</td>\n",
       "      <td>6560.047061</td>\n",
       "      <td>4.846841e+07</td>\n",
       "      <td>8.366816e+04</td>\n",
       "      <td>9699.063851</td>\n",
       "      <td>1.371173</td>\n",
       "      <td>272.770808</td>\n",
       "      <td>3.975262e+07</td>\n",
       "      <td>2002.470517</td>\n",
       "      <td>1651.754473</td>\n",
       "      <td>6.442138</td>\n",
       "      <td>2.220403</td>\n",
       "      <td>7525.964505</td>\n",
       "    </tr>\n",
       "    <tr>\n",
       "      <th>std</th>\n",
       "      <td>121.601675</td>\n",
       "      <td>25.197441</td>\n",
       "      <td>2813.328607</td>\n",
       "      <td>1665.041728</td>\n",
       "      <td>15020.759120</td>\n",
       "      <td>6.845299e+07</td>\n",
       "      <td>1.384853e+05</td>\n",
       "      <td>18163.799124</td>\n",
       "      <td>2.013576</td>\n",
       "      <td>377.982886</td>\n",
       "      <td>2.061149e+08</td>\n",
       "      <td>12.474599</td>\n",
       "      <td>4042.438863</td>\n",
       "      <td>1.125116</td>\n",
       "      <td>1.385113</td>\n",
       "      <td>19320.445110</td>\n",
       "    </tr>\n",
       "    <tr>\n",
       "      <th>min</th>\n",
       "      <td>1.000000</td>\n",
       "      <td>7.000000</td>\n",
       "      <td>0.000000</td>\n",
       "      <td>0.000000</td>\n",
       "      <td>0.000000</td>\n",
       "      <td>1.620000e+02</td>\n",
       "      <td>5.000000e+00</td>\n",
       "      <td>0.000000</td>\n",
       "      <td>0.000000</td>\n",
       "      <td>1.000000</td>\n",
       "      <td>2.180000e+02</td>\n",
       "      <td>1916.000000</td>\n",
       "      <td>0.000000</td>\n",
       "      <td>1.600000</td>\n",
       "      <td>1.180000</td>\n",
       "      <td>0.000000</td>\n",
       "    </tr>\n",
       "    <tr>\n",
       "      <th>25%</th>\n",
       "      <td>50.000000</td>\n",
       "      <td>93.000000</td>\n",
       "      <td>7.000000</td>\n",
       "      <td>133.000000</td>\n",
       "      <td>614.000000</td>\n",
       "      <td>5.340988e+06</td>\n",
       "      <td>8.593500e+03</td>\n",
       "      <td>1411.000000</td>\n",
       "      <td>0.000000</td>\n",
       "      <td>65.000000</td>\n",
       "      <td>6.000000e+06</td>\n",
       "      <td>1999.000000</td>\n",
       "      <td>281.000000</td>\n",
       "      <td>5.800000</td>\n",
       "      <td>1.850000</td>\n",
       "      <td>0.000000</td>\n",
       "    </tr>\n",
       "    <tr>\n",
       "      <th>50%</th>\n",
       "      <td>110.000000</td>\n",
       "      <td>103.000000</td>\n",
       "      <td>49.000000</td>\n",
       "      <td>371.500000</td>\n",
       "      <td>988.000000</td>\n",
       "      <td>2.551750e+07</td>\n",
       "      <td>3.435900e+04</td>\n",
       "      <td>3090.000000</td>\n",
       "      <td>1.000000</td>\n",
       "      <td>156.000000</td>\n",
       "      <td>2.000000e+07</td>\n",
       "      <td>2005.000000</td>\n",
       "      <td>595.000000</td>\n",
       "      <td>6.600000</td>\n",
       "      <td>2.350000</td>\n",
       "      <td>166.000000</td>\n",
       "    </tr>\n",
       "    <tr>\n",
       "      <th>75%</th>\n",
       "      <td>195.000000</td>\n",
       "      <td>118.000000</td>\n",
       "      <td>194.500000</td>\n",
       "      <td>636.000000</td>\n",
       "      <td>11000.000000</td>\n",
       "      <td>6.230944e+07</td>\n",
       "      <td>9.630900e+04</td>\n",
       "      <td>13756.500000</td>\n",
       "      <td>2.000000</td>\n",
       "      <td>326.000000</td>\n",
       "      <td>4.500000e+07</td>\n",
       "      <td>2011.000000</td>\n",
       "      <td>918.000000</td>\n",
       "      <td>7.200000</td>\n",
       "      <td>2.350000</td>\n",
       "      <td>3000.000000</td>\n",
       "    </tr>\n",
       "    <tr>\n",
       "      <th>max</th>\n",
       "      <td>813.000000</td>\n",
       "      <td>511.000000</td>\n",
       "      <td>23000.000000</td>\n",
       "      <td>23000.000000</td>\n",
       "      <td>640000.000000</td>\n",
       "      <td>7.605058e+08</td>\n",
       "      <td>1.689764e+06</td>\n",
       "      <td>656730.000000</td>\n",
       "      <td>43.000000</td>\n",
       "      <td>5060.000000</td>\n",
       "      <td>1.221550e+10</td>\n",
       "      <td>2016.000000</td>\n",
       "      <td>137000.000000</td>\n",
       "      <td>9.500000</td>\n",
       "      <td>16.000000</td>\n",
       "      <td>349000.000000</td>\n",
       "    </tr>\n",
       "  </tbody>\n",
       "</table>\n",
       "</div>"
      ],
      "text/plain": [
       "       num_critic_for_reviews     duration  director_facebook_likes  \\\n",
       "count             4993.000000  5028.000000              4939.000000   \n",
       "mean               140.194272   107.201074               686.509212   \n",
       "std                121.601675    25.197441              2813.328607   \n",
       "min                  1.000000     7.000000                 0.000000   \n",
       "25%                 50.000000    93.000000                 7.000000   \n",
       "50%                110.000000   103.000000                49.000000   \n",
       "75%                195.000000   118.000000               194.500000   \n",
       "max                813.000000   511.000000             23000.000000   \n",
       "\n",
       "       actor_3_facebook_likes  actor_1_facebook_likes         gross  \\\n",
       "count             5020.000000             5036.000000  4.159000e+03   \n",
       "mean               645.009761             6560.047061  4.846841e+07   \n",
       "std               1665.041728            15020.759120  6.845299e+07   \n",
       "min                  0.000000                0.000000  1.620000e+02   \n",
       "25%                133.000000              614.000000  5.340988e+06   \n",
       "50%                371.500000              988.000000  2.551750e+07   \n",
       "75%                636.000000            11000.000000  6.230944e+07   \n",
       "max              23000.000000           640000.000000  7.605058e+08   \n",
       "\n",
       "       num_voted_users  cast_total_facebook_likes  facenumber_in_poster  \\\n",
       "count     5.043000e+03                5043.000000           5030.000000   \n",
       "mean      8.366816e+04                9699.063851              1.371173   \n",
       "std       1.384853e+05               18163.799124              2.013576   \n",
       "min       5.000000e+00                   0.000000              0.000000   \n",
       "25%       8.593500e+03                1411.000000              0.000000   \n",
       "50%       3.435900e+04                3090.000000              1.000000   \n",
       "75%       9.630900e+04               13756.500000              2.000000   \n",
       "max       1.689764e+06              656730.000000             43.000000   \n",
       "\n",
       "       num_user_for_reviews        budget   title_year  \\\n",
       "count           5022.000000  4.551000e+03  4935.000000   \n",
       "mean             272.770808  3.975262e+07  2002.470517   \n",
       "std              377.982886  2.061149e+08    12.474599   \n",
       "min                1.000000  2.180000e+02  1916.000000   \n",
       "25%               65.000000  6.000000e+06  1999.000000   \n",
       "50%              156.000000  2.000000e+07  2005.000000   \n",
       "75%              326.000000  4.500000e+07  2011.000000   \n",
       "max             5060.000000  1.221550e+10  2016.000000   \n",
       "\n",
       "       actor_2_facebook_likes   imdb_score  aspect_ratio  movie_facebook_likes  \n",
       "count             5030.000000  5043.000000   4714.000000           5043.000000  \n",
       "mean              1651.754473     6.442138      2.220403           7525.964505  \n",
       "std               4042.438863     1.125116      1.385113          19320.445110  \n",
       "min                  0.000000     1.600000      1.180000              0.000000  \n",
       "25%                281.000000     5.800000      1.850000              0.000000  \n",
       "50%                595.000000     6.600000      2.350000            166.000000  \n",
       "75%                918.000000     7.200000      2.350000           3000.000000  \n",
       "max             137000.000000     9.500000     16.000000         349000.000000  "
      ]
     },
     "execution_count": 8,
     "metadata": {},
     "output_type": "execute_result"
    }
   ],
   "source": [
    "dataset[numerical_cols].describe()"
   ]
  },
  {
   "cell_type": "code",
   "execution_count": 9,
   "id": "72c9ffa8",
   "metadata": {},
   "outputs": [
    {
     "data": {
      "text/html": [
       "<div>\n",
       "<style scoped>\n",
       "    .dataframe tbody tr th:only-of-type {\n",
       "        vertical-align: middle;\n",
       "    }\n",
       "\n",
       "    .dataframe tbody tr th {\n",
       "        vertical-align: top;\n",
       "    }\n",
       "\n",
       "    .dataframe thead th {\n",
       "        text-align: right;\n",
       "    }\n",
       "</style>\n",
       "<table border=\"1\" class=\"dataframe\">\n",
       "  <thead>\n",
       "    <tr style=\"text-align: right;\">\n",
       "      <th></th>\n",
       "      <th>color</th>\n",
       "      <th>director_name</th>\n",
       "      <th>actor_2_name</th>\n",
       "      <th>genres</th>\n",
       "      <th>actor_1_name</th>\n",
       "      <th>movie_title</th>\n",
       "      <th>actor_3_name</th>\n",
       "      <th>plot_keywords</th>\n",
       "      <th>movie_imdb_link</th>\n",
       "      <th>language</th>\n",
       "      <th>country</th>\n",
       "      <th>content_rating</th>\n",
       "    </tr>\n",
       "  </thead>\n",
       "  <tbody>\n",
       "    <tr>\n",
       "      <th>count</th>\n",
       "      <td>5024</td>\n",
       "      <td>4939</td>\n",
       "      <td>5030</td>\n",
       "      <td>5043</td>\n",
       "      <td>5036</td>\n",
       "      <td>5043</td>\n",
       "      <td>5020</td>\n",
       "      <td>4890</td>\n",
       "      <td>5043</td>\n",
       "      <td>5031</td>\n",
       "      <td>5038</td>\n",
       "      <td>4740</td>\n",
       "    </tr>\n",
       "    <tr>\n",
       "      <th>unique</th>\n",
       "      <td>2</td>\n",
       "      <td>2398</td>\n",
       "      <td>3032</td>\n",
       "      <td>914</td>\n",
       "      <td>2097</td>\n",
       "      <td>4917</td>\n",
       "      <td>3521</td>\n",
       "      <td>4760</td>\n",
       "      <td>4919</td>\n",
       "      <td>47</td>\n",
       "      <td>65</td>\n",
       "      <td>18</td>\n",
       "    </tr>\n",
       "    <tr>\n",
       "      <th>top</th>\n",
       "      <td>Color</td>\n",
       "      <td>Steven Spielberg</td>\n",
       "      <td>Morgan Freeman</td>\n",
       "      <td>Drama</td>\n",
       "      <td>Robert De Niro</td>\n",
       "      <td>Ben-Hur</td>\n",
       "      <td>John Heard</td>\n",
       "      <td>based on novel</td>\n",
       "      <td>http://www.imdb.com/title/tt0232500/?ref_=fn_t...</td>\n",
       "      <td>English</td>\n",
       "      <td>USA</td>\n",
       "      <td>R</td>\n",
       "    </tr>\n",
       "    <tr>\n",
       "      <th>freq</th>\n",
       "      <td>4815</td>\n",
       "      <td>26</td>\n",
       "      <td>20</td>\n",
       "      <td>236</td>\n",
       "      <td>49</td>\n",
       "      <td>3</td>\n",
       "      <td>8</td>\n",
       "      <td>4</td>\n",
       "      <td>3</td>\n",
       "      <td>4704</td>\n",
       "      <td>3807</td>\n",
       "      <td>2118</td>\n",
       "    </tr>\n",
       "  </tbody>\n",
       "</table>\n",
       "</div>"
      ],
      "text/plain": [
       "        color     director_name    actor_2_name genres    actor_1_name  \\\n",
       "count    5024              4939            5030   5043            5036   \n",
       "unique      2              2398            3032    914            2097   \n",
       "top     Color  Steven Spielberg  Morgan Freeman  Drama  Robert De Niro   \n",
       "freq     4815                26              20    236              49   \n",
       "\n",
       "       movie_title actor_3_name   plot_keywords  \\\n",
       "count         5043         5020            4890   \n",
       "unique        4917         3521            4760   \n",
       "top       Ben-Hur    John Heard  based on novel   \n",
       "freq             3            8               4   \n",
       "\n",
       "                                          movie_imdb_link language country  \\\n",
       "count                                                5043     5031    5038   \n",
       "unique                                               4919       47      65   \n",
       "top     http://www.imdb.com/title/tt0232500/?ref_=fn_t...  English     USA   \n",
       "freq                                                    3     4704    3807   \n",
       "\n",
       "       content_rating  \n",
       "count            4740  \n",
       "unique             18  \n",
       "top                 R  \n",
       "freq             2118  "
      ]
     },
     "execution_count": 9,
     "metadata": {},
     "output_type": "execute_result"
    }
   ],
   "source": [
    "dataset[categorical_cols].describe()"
   ]
  },
  {
   "cell_type": "code",
   "execution_count": 10,
   "id": "8be0dc15",
   "metadata": {},
   "outputs": [
    {
     "data": {
      "text/plain": [
       "color                         19\n",
       "director_name                104\n",
       "num_critic_for_reviews        50\n",
       "duration                      15\n",
       "director_facebook_likes      104\n",
       "actor_3_facebook_likes        23\n",
       "actor_2_name                  13\n",
       "actor_1_facebook_likes         7\n",
       "gross                        884\n",
       "genres                         0\n",
       "actor_1_name                   7\n",
       "movie_title                    0\n",
       "num_voted_users                0\n",
       "cast_total_facebook_likes      0\n",
       "actor_3_name                  23\n",
       "facenumber_in_poster          13\n",
       "plot_keywords                153\n",
       "movie_imdb_link                0\n",
       "num_user_for_reviews          21\n",
       "language                      12\n",
       "country                        5\n",
       "content_rating               303\n",
       "budget                       492\n",
       "title_year                   108\n",
       "actor_2_facebook_likes        13\n",
       "imdb_score                     0\n",
       "aspect_ratio                 329\n",
       "movie_facebook_likes           0\n",
       "dtype: int64"
      ]
     },
     "execution_count": 10,
     "metadata": {},
     "output_type": "execute_result"
    }
   ],
   "source": [
    "#查看各變數的缺失值\n",
    "dataset.isnull().sum()"
   ]
  },
  {
   "cell_type": "code",
   "execution_count": 11,
   "id": "e05bf558",
   "metadata": {},
   "outputs": [
    {
     "data": {
      "text/plain": [
       "array(['Color', nan, ' Black and White'], dtype=object)"
      ]
     },
     "execution_count": 11,
     "metadata": {},
     "output_type": "execute_result"
    }
   ],
   "source": [
    "dataset.color.unique()"
   ]
  },
  {
   "cell_type": "code",
   "execution_count": 12,
   "id": "4ec7f316",
   "metadata": {},
   "outputs": [
    {
     "name": "stdout",
     "output_type": "stream",
     "text": [
      "19\n",
      "0\n"
     ]
    }
   ],
   "source": [
    "#將color的19個缺失值改為'color', mode():眾數\n",
    "print(dataset.color.isnull().sum())\n",
    "color_mode = dataset['color'].mode().iloc[0]\n",
    "dataset.color.fillna(color_mode, inplace = True)\n",
    "print(dataset.color.isnull().sum())"
   ]
  },
  {
   "cell_type": "code",
   "execution_count": 14,
   "id": "d71135ec",
   "metadata": {},
   "outputs": [],
   "source": [
    "#沒有導演的資料 直接刪除\n",
    "print(dataset.director_name.nunique(), dataset.director_name.isnull().sum())\n",
    "dataset = dataset.dropna(axis = 0, subset = ['director_name'] )"
   ]
  },
  {
   "cell_type": "code",
   "execution_count": 15,
   "id": "14b354ad",
   "metadata": {},
   "outputs": [
    {
     "name": "stdout",
     "output_type": "stream",
     "text": [
      "count    4894.000000\n",
      "mean      142.552309\n",
      "std       121.627905\n",
      "min         1.000000\n",
      "25%        53.000000\n",
      "50%       112.000000\n",
      "75%       197.000000\n",
      "max       813.000000\n",
      "Name: num_critic_for_reviews, dtype: float64\n",
      "-------------------------------------------\n",
      "45\n",
      "0\n"
     ]
    }
   ],
   "source": [
    "#評論數的缺失值由中位數替換\n",
    "print(dataset.num_critic_for_reviews.describe())\n",
    "print(\"-------------------------------------------\")\n",
    "print(dataset.num_critic_for_reviews.isnull().sum())\n",
    "num_critic_for_reviews_median = dataset['num_critic_for_reviews'].median()\n",
    "dataset.num_critic_for_reviews.fillna(num_critic_for_reviews_median, inplace = True)\n",
    "print(dataset.num_critic_for_reviews.isnull().sum())"
   ]
  },
  {
   "cell_type": "code",
   "execution_count": 16,
   "id": "72264960",
   "metadata": {},
   "outputs": [
    {
     "name": "stdout",
     "output_type": "stream",
     "text": [
      "count    4926.000000\n",
      "mean      108.137028\n",
      "std        22.577966\n",
      "min         7.000000\n",
      "25%        94.000000\n",
      "50%       104.000000\n",
      "75%       118.000000\n",
      "max       330.000000\n",
      "Name: duration, dtype: float64\n",
      "-------------------------------------------\n",
      "13\n",
      "0\n"
     ]
    }
   ],
   "source": [
    "#電影時長的缺失值由中位數替換\n",
    "print(dataset.duration.describe())\n",
    "print(\"-------------------------------------------\")\n",
    "print(dataset.duration.isnull().sum())\n",
    "duration_median = dataset.duration.median()\n",
    "dataset.duration.fillna(duration_median, inplace = True)\n",
    "print(dataset.duration.isnull().sum())"
   ]
  },
  {
   "cell_type": "code",
   "execution_count": 17,
   "id": "83ead900",
   "metadata": {},
   "outputs": [
    {
     "name": "stdout",
     "output_type": "stream",
     "text": [
      "count     4939.000000\n",
      "mean       686.509212\n",
      "std       2813.328607\n",
      "min          0.000000\n",
      "25%          7.000000\n",
      "50%         49.000000\n",
      "75%        194.500000\n",
      "max      23000.000000\n",
      "Name: director_facebook_likes, dtype: float64\n",
      "-------------------------------------------\n",
      "0\n",
      "0\n"
     ]
    }
   ],
   "source": [
    "#或許需要修正\n",
    "#導演facebook案讚由平均數取代\n",
    "print(dataset.director_facebook_likes.describe())\n",
    "print(\"-------------------------------------------\")\n",
    "print(dataset.director_facebook_likes.isnull().sum())\n",
    "director_facebook_likes_mean = dataset.director_facebook_likes.mean()\n",
    "dataset.director_facebook_likes.fillna(director_facebook_likes_mean, inplace = True)\n",
    "print(dataset.director_facebook_likes.isnull().sum())"
   ]
  },
  {
   "cell_type": "code",
   "execution_count": 18,
   "id": "ec2568d4",
   "metadata": {},
   "outputs": [
    {
     "name": "stdout",
     "output_type": "stream",
     "text": [
      "count     4919.00000\n",
      "mean       651.20553\n",
      "std       1681.08616\n",
      "min          0.00000\n",
      "25%        133.00000\n",
      "50%        372.00000\n",
      "75%        637.00000\n",
      "max      23000.00000\n",
      "Name: actor_3_facebook_likes, dtype: float64\n",
      "-------------------------------------------\n",
      "20\n",
      "0\n"
     ]
    }
   ],
   "source": [
    "#演員3按讚數的缺失值由平均數取代\n",
    "print(dataset.actor_3_facebook_likes.describe())\n",
    "print(\"-------------------------------------------\")\n",
    "print(dataset.actor_3_facebook_likes.isnull().sum())\n",
    "actor_3_facebook_likes_mean = dataset.actor_3_facebook_likes.mean()\n",
    "dataset.actor_3_facebook_likes.fillna(actor_3_facebook_likes_mean, inplace = True)\n",
    "print(dataset.actor_3_facebook_likes.isnull().sum())"
   ]
  },
  {
   "cell_type": "code",
   "execution_count": 19,
   "id": "3c5afcd9",
   "metadata": {},
   "outputs": [
    {
     "name": "stdout",
     "output_type": "stream",
     "text": [
      "count      4928.000000\n",
      "mean       1675.850852\n",
      "std        4080.170643\n",
      "min           0.000000\n",
      "25%         281.750000\n",
      "50%         598.000000\n",
      "75%         920.000000\n",
      "max      137000.000000\n",
      "Name: actor_2_facebook_likes, dtype: float64\n",
      "-------------------------------------------\n",
      "11\n",
      "0\n"
     ]
    }
   ],
   "source": [
    "#演員2按讚數的缺失值由平均數取代\n",
    "print(dataset.actor_2_facebook_likes.describe())\n",
    "print(\"-------------------------------------------\")\n",
    "print(dataset.actor_2_facebook_likes.isnull().sum())\n",
    "actor_2_facebook_likes_mean = dataset.actor_2_facebook_likes.mean()\n",
    "dataset.actor_2_facebook_likes.fillna(actor_2_facebook_likes_mean, inplace = True)\n",
    "print(dataset.actor_2_facebook_likes.isnull().sum())"
   ]
  },
  {
   "cell_type": "code",
   "execution_count": 20,
   "id": "6ce3acbc",
   "metadata": {},
   "outputs": [
    {
     "name": "stdout",
     "output_type": "stream",
     "text": [
      "count      4932.000000\n",
      "mean       6668.287713\n",
      "std       15150.446402\n",
      "min           0.000000\n",
      "25%         618.000000\n",
      "50%         991.500000\n",
      "75%       11000.000000\n",
      "max      640000.000000\n",
      "Name: actor_1_facebook_likes, dtype: float64\n",
      "-------------------------------------------\n",
      "7\n",
      "0\n"
     ]
    }
   ],
   "source": [
    "#演員1按讚數的缺失值由平均數取代\n",
    "print(dataset.actor_1_facebook_likes.describe())\n",
    "print(\"-------------------------------------------\")\n",
    "print(dataset.actor_1_facebook_likes.isnull().sum())\n",
    "actor_1_facebook_likes_mean = dataset.actor_1_facebook_likes.mean()\n",
    "dataset.actor_1_facebook_likes.fillna(actor_1_facebook_likes_mean, inplace = True)\n",
    "print(dataset.actor_1_facebook_likes.isnull().sum())"
   ]
  },
  {
   "cell_type": "code",
   "execution_count": 21,
   "id": "7f1d8276",
   "metadata": {},
   "outputs": [
    {
     "name": "stdout",
     "output_type": "stream",
     "text": [
      "(4939, 28)\n",
      "count    4.156000e+03\n",
      "mean     4.850314e+07\n",
      "std      6.846548e+07\n",
      "min      1.620000e+02\n",
      "25%      5.355042e+06\n",
      "50%      2.552969e+07\n",
      "75%      6.231942e+07\n",
      "max      7.605058e+08\n",
      "Name: gross, dtype: float64\n",
      "783\n",
      "(4156, 28)\n"
     ]
    }
   ],
   "source": [
    "#收益有缺失值的資料直接刪去\n",
    "print(dataset.shape)\n",
    "print(dataset.gross.describe())\n",
    "print(dataset.gross.isnull().sum())\n",
    "dataset = dataset.dropna(axis = 0, subset = ['gross'])\n",
    "dataset.gross.isnull().sum()\n",
    "print(dataset.shape)"
   ]
  },
  {
   "cell_type": "code",
   "execution_count": 22,
   "id": "985ab9f8",
   "metadata": {},
   "outputs": [
    {
     "data": {
      "text/plain": [
       "color                          0\n",
       "director_name                  0\n",
       "num_critic_for_reviews         0\n",
       "duration                       0\n",
       "director_facebook_likes        0\n",
       "actor_3_facebook_likes         0\n",
       "actor_2_name                   6\n",
       "actor_1_facebook_likes         0\n",
       "gross                          0\n",
       "genres                         0\n",
       "actor_1_name                   4\n",
       "movie_title                    0\n",
       "num_voted_users                0\n",
       "cast_total_facebook_likes      0\n",
       "actor_3_name                  13\n",
       "facenumber_in_poster           7\n",
       "plot_keywords                 40\n",
       "movie_imdb_link                0\n",
       "num_user_for_reviews           1\n",
       "language                       3\n",
       "country                        0\n",
       "content_rating                64\n",
       "budget                       265\n",
       "title_year                     0\n",
       "actor_2_facebook_likes         0\n",
       "imdb_score                     0\n",
       "aspect_ratio                 105\n",
       "movie_facebook_likes           0\n",
       "dtype: int64"
      ]
     },
     "execution_count": 22,
     "metadata": {},
     "output_type": "execute_result"
    }
   ],
   "source": [
    "dataset.isnull().sum()"
   ]
  },
  {
   "cell_type": "code",
   "execution_count": 23,
   "id": "7c0b2e63",
   "metadata": {},
   "outputs": [
    {
     "name": "stdout",
     "output_type": "stream",
     "text": [
      "265\n",
      "0\n"
     ]
    }
   ],
   "source": [
    "#把預算有缺失資料直接刪除\n",
    "print(dataset.budget.isnull().sum())\n",
    "dataset = dataset.dropna(axis = 0, subset = ['budget'])\n",
    "print(dataset.budget.isnull().sum())"
   ]
  },
  {
   "cell_type": "code",
   "execution_count": 24,
   "id": "80f5e014",
   "metadata": {},
   "outputs": [
    {
     "name": "stdout",
     "output_type": "stream",
     "text": [
      "10\n",
      "0\n"
     ]
    }
   ],
   "source": [
    "#把缺少演員3名子的資料直接刪除\n",
    "print(dataset.actor_3_name.isnull().sum())\n",
    "dataset = dataset.dropna(axis = 0, subset = ['actor_3_name'])\n",
    "print(dataset.actor_3_name.isnull().sum())"
   ]
  },
  {
   "cell_type": "code",
   "execution_count": 25,
   "id": "fe2eab7e",
   "metadata": {},
   "outputs": [
    {
     "name": "stdout",
     "output_type": "stream",
     "text": [
      "count    3875.000000\n",
      "mean        1.383226\n",
      "std         2.056878\n",
      "min         0.000000\n",
      "25%         0.000000\n",
      "50%         1.000000\n",
      "75%         2.000000\n",
      "max        43.000000\n",
      "Name: facenumber_in_poster, dtype: float64\n",
      "6\n",
      "0\n"
     ]
    }
   ],
   "source": [
    "#把電影海報出現人數的缺失資料填入中位數\n",
    "print(dataset.facenumber_in_poster.describe())\n",
    "print(dataset.facenumber_in_poster.isnull().sum())\n",
    "facenumber_in_poster_median = dataset.facenumber_in_poster.median()\n",
    "dataset.facenumber_in_poster.fillna(facenumber_in_poster_median, inplace = True)\n",
    "print(dataset.facenumber_in_poster.isnull().sum())"
   ]
  },
  {
   "cell_type": "code",
   "execution_count": 26,
   "id": "20847fc8",
   "metadata": {},
   "outputs": [
    {
     "data": {
      "text/plain": [
       "array(['avatar|future|marine|native|paraplegic',\n",
       "       'goddess|marriage ceremony|marriage proposal|pirate|singapore',\n",
       "       'bomb|espionage|sequel|spy|terrorist', ...,\n",
       "       'assassin|death|guitar|gun|mariachi',\n",
       "       'written and directed by cast member',\n",
       "       'actress name in title|crush|date|four word title|video camera'],\n",
       "      dtype=object)"
      ]
     },
     "execution_count": 26,
     "metadata": {},
     "output_type": "execute_result"
    }
   ],
   "source": [
    "dataset.plot_keywords.unique()"
   ]
  },
  {
   "cell_type": "code",
   "execution_count": 27,
   "id": "be040758",
   "metadata": {},
   "outputs": [
    {
     "data": {
      "text/plain": [
       "assistant|experiment|frankenstein|medical student|scientist                          3\n",
       "animal name in title|ape abducts a woman|gorilla|island|king kong                    3\n",
       "1940s|child hero|fantasy world|orphan|reference to peter pan                         3\n",
       "alien friendship|alien invasion|australia|flying car|mother daughter relationship    3\n",
       "eighteen wheeler|illegal street racing|truck|trucker|undercover cop                  3\n",
       "                                                                                    ..\n",
       "drifter|past life regression|psychological testing|right hand man|scientology        1\n",
       "african american|coach|football movie|nonlinear timeline|syracuse university         1\n",
       "alien|attack|based on novel|based on young adult novel|fear                          1\n",
       "boxing|boxing match|fight|montage|philadelphia                                       1\n",
       "actress name in title|crush|date|four word title|video camera                        1\n",
       "Name: plot_keywords, Length: 3750, dtype: int64"
      ]
     },
     "execution_count": 27,
     "metadata": {},
     "output_type": "execute_result"
    }
   ],
   "source": [
    "dataset.plot_keywords.value_counts()"
   ]
  },
  {
   "cell_type": "code",
   "execution_count": 28,
   "id": "f1476190",
   "metadata": {},
   "outputs": [
    {
     "data": {
      "text/plain": [
       "English       3698\n",
       "French          37\n",
       "Spanish         26\n",
       "Mandarin        15\n",
       "German          13\n",
       "Japanese        12\n",
       "Hindi           10\n",
       "Cantonese        8\n",
       "Italian          7\n",
       "Portuguese       5\n",
       "Korean           5\n",
       "Norwegian        4\n",
       "Dutch            3\n",
       "Persian          3\n",
       "Thai             3\n",
       "Danish           3\n",
       "Aboriginal       2\n",
       "Dari             2\n",
       "Indonesian       2\n",
       "Hebrew           2\n",
       "Russian          1\n",
       "Romanian         1\n",
       "Vietnamese       1\n",
       "Arabic           1\n",
       "Dzongkha         1\n",
       "Zulu             1\n",
       "None             1\n",
       "Aramaic          1\n",
       "Czech            1\n",
       "Telugu           1\n",
       "Icelandic        1\n",
       "Filipino         1\n",
       "Hungarian        1\n",
       "Maya             1\n",
       "Bosnian          1\n",
       "Mongolian        1\n",
       "Kazakh           1\n",
       "Swedish          1\n",
       "Name: language, dtype: int64"
      ]
     },
     "execution_count": 28,
     "metadata": {},
     "output_type": "execute_result"
    }
   ],
   "source": [
    "dataset.language.value_counts()"
   ]
  },
  {
   "cell_type": "code",
   "execution_count": 29,
   "id": "fabc009b",
   "metadata": {},
   "outputs": [
    {
     "name": "stdout",
     "output_type": "stream",
     "text": [
      "3\n",
      "0\n"
     ]
    }
   ],
   "source": [
    "#把語言缺失資料設為 'English'\n",
    "print(dataset.language.isnull().sum())\n",
    "language_mode = dataset.language.mode().iloc[0]\n",
    "# print(language_mode)\n",
    "dataset.language.fillna(language_mode, inplace = True)\n",
    "print(dataset.language.isnull().sum())"
   ]
  },
  {
   "cell_type": "code",
   "execution_count": 30,
   "id": "10362f47",
   "metadata": {},
   "outputs": [
    {
     "name": "stdout",
     "output_type": "stream",
     "text": [
      "30\n",
      "0\n"
     ]
    }
   ],
   "source": [
    "#把缺乏關鍵字的資料直接刪除\n",
    "print(dataset.plot_keywords.isnull().sum())\n",
    "dataset = dataset.dropna(axis = 0, subset = ['plot_keywords'])\n",
    "print(dataset.plot_keywords.isnull().sum())"
   ]
  },
  {
   "cell_type": "code",
   "execution_count": 31,
   "id": "28ffe103",
   "metadata": {},
   "outputs": [
    {
     "data": {
      "text/plain": [
       "array(['PG-13', 'PG', 'G', 'R', 'Approved', 'NC-17', nan, 'X',\n",
       "       'Not Rated', 'Unrated', 'M', 'GP', 'Passed'], dtype=object)"
      ]
     },
     "execution_count": 31,
     "metadata": {},
     "output_type": "execute_result"
    }
   ],
   "source": [
    "dataset.content_rating.unique()"
   ]
  },
  {
   "cell_type": "code",
   "execution_count": 32,
   "id": "3ba07f1c",
   "metadata": {},
   "outputs": [
    {
     "name": "stdout",
     "output_type": "stream",
     "text": [
      "38\n",
      "0\n"
     ]
    }
   ],
   "source": [
    "#把沒有被分級的電影，新增類別 \"Not Rated\"\n",
    "print(dataset.content_rating.isnull().sum())\n",
    "dataset.content_rating.fillna('Not Rated', inplace = True)\n",
    "print(dataset.content_rating.isnull().sum())"
   ]
  },
  {
   "cell_type": "code",
   "execution_count": 33,
   "id": "20686e91",
   "metadata": {},
   "outputs": [
    {
     "name": "stdout",
     "output_type": "stream",
     "text": [
      "count    3790.000000\n",
      "mean        2.110164\n",
      "std         0.352579\n",
      "min         1.180000\n",
      "25%         1.850000\n",
      "50%         2.350000\n",
      "75%         2.350000\n",
      "max        16.000000\n",
      "Name: aspect_ratio, dtype: float64\n",
      "-------------------------------------------\n",
      "61\n",
      "0\n"
     ]
    }
   ],
   "source": [
    "print(dataset.aspect_ratio.describe())\n",
    "print(\"-------------------------------------------\")\n",
    "print(dataset.aspect_ratio.isnull().sum())\n",
    "dataset.aspect_ratio.unique()\n",
    "aspect_ratio_mode = dataset.aspect_ratio.mode().iloc[0]\n",
    "dataset.aspect_ratio.fillna(aspect_ratio_mode, inplace = True)\n",
    "print(dataset.aspect_ratio.isnull().sum())"
   ]
  },
  {
   "cell_type": "code",
   "execution_count": 34,
   "id": "1fd978e1",
   "metadata": {},
   "outputs": [
    {
     "data": {
      "text/plain": [
       "color                        0\n",
       "director_name                0\n",
       "num_critic_for_reviews       0\n",
       "duration                     0\n",
       "director_facebook_likes      0\n",
       "actor_3_facebook_likes       0\n",
       "actor_2_name                 0\n",
       "actor_1_facebook_likes       0\n",
       "gross                        0\n",
       "genres                       0\n",
       "actor_1_name                 0\n",
       "movie_title                  0\n",
       "num_voted_users              0\n",
       "cast_total_facebook_likes    0\n",
       "actor_3_name                 0\n",
       "facenumber_in_poster         0\n",
       "plot_keywords                0\n",
       "movie_imdb_link              0\n",
       "num_user_for_reviews         0\n",
       "language                     0\n",
       "country                      0\n",
       "content_rating               0\n",
       "budget                       0\n",
       "title_year                   0\n",
       "actor_2_facebook_likes       0\n",
       "imdb_score                   0\n",
       "aspect_ratio                 0\n",
       "movie_facebook_likes         0\n",
       "dtype: int64"
      ]
     },
     "execution_count": 34,
     "metadata": {},
     "output_type": "execute_result"
    }
   ],
   "source": [
    "dataset.isnull().sum()"
   ]
  },
  {
   "cell_type": "code",
   "execution_count": 35,
   "id": "eb965cb0",
   "metadata": {},
   "outputs": [],
   "source": [
    "dataset.reset_index(inplace = True, drop = True)"
   ]
  },
  {
   "cell_type": "code",
   "execution_count": 36,
   "id": "36ef3010",
   "metadata": {},
   "outputs": [],
   "source": [
    "# dataset.profile_report()"
   ]
  },
  {
   "cell_type": "code",
   "execution_count": 37,
   "id": "91a94360",
   "metadata": {},
   "outputs": [
    {
     "data": {
      "text/plain": [
       "(['num_critic_for_reviews',\n",
       "  'duration',\n",
       "  'director_facebook_likes',\n",
       "  'actor_3_facebook_likes',\n",
       "  'actor_1_facebook_likes',\n",
       "  'gross',\n",
       "  'num_voted_users',\n",
       "  'cast_total_facebook_likes',\n",
       "  'facenumber_in_poster',\n",
       "  'num_user_for_reviews',\n",
       "  'budget',\n",
       "  'title_year',\n",
       "  'actor_2_facebook_likes',\n",
       "  'imdb_score',\n",
       "  'aspect_ratio',\n",
       "  'movie_facebook_likes'],\n",
       " ['color',\n",
       "  'director_name',\n",
       "  'actor_2_name',\n",
       "  'genres',\n",
       "  'actor_1_name',\n",
       "  'movie_title',\n",
       "  'actor_3_name',\n",
       "  'plot_keywords',\n",
       "  'movie_imdb_link',\n",
       "  'language',\n",
       "  'country',\n",
       "  'content_rating'])"
      ]
     },
     "execution_count": 37,
     "metadata": {},
     "output_type": "execute_result"
    }
   ],
   "source": [
    "numerical_cols, categorical_cols"
   ]
  },
  {
   "cell_type": "code",
   "execution_count": 38,
   "id": "ce9df49a",
   "metadata": {},
   "outputs": [],
   "source": [
    "dataset['color'] = dataset.color.map({'Color' : 1 , ' Black and White' : 0})"
   ]
  },
  {
   "cell_type": "code",
   "execution_count": 39,
   "id": "ac63e9f2",
   "metadata": {},
   "outputs": [
    {
     "name": "stdout",
     "output_type": "stream",
     "text": [
      "      color  num_critic_for_reviews  duration  director_facebook_likes  \\\n",
      "0         1                   723.0     178.0                      0.0   \n",
      "1         1                   302.0     169.0                    563.0   \n",
      "2         1                   602.0     148.0                      0.0   \n",
      "3         1                   813.0     164.0                  22000.0   \n",
      "4         1                   462.0     132.0                    475.0   \n",
      "...     ...                     ...       ...                      ...   \n",
      "3846      1                   143.0      77.0                    291.0   \n",
      "3847      1                    35.0      80.0                      0.0   \n",
      "3848      1                    56.0      81.0                      0.0   \n",
      "3849      1                    14.0      95.0                      0.0   \n",
      "3850      1                    43.0      90.0                     16.0   \n",
      "\n",
      "      actor_3_facebook_likes        actor_2_name  actor_1_facebook_likes  \\\n",
      "0                      855.0    Joel David Moore                  1000.0   \n",
      "1                     1000.0       Orlando Bloom                 40000.0   \n",
      "2                      161.0        Rory Kinnear                 11000.0   \n",
      "3                    23000.0      Christian Bale                 27000.0   \n",
      "4                      530.0     Samantha Morton                   640.0   \n",
      "...                      ...                 ...                     ...   \n",
      "3846                     8.0      David Sullivan                   291.0   \n",
      "3847                     0.0     Edgar Tancangco                     0.0   \n",
      "3848                     6.0     Peter Marquardt                   121.0   \n",
      "3849                   133.0  Caitlin FitzGerald                   296.0   \n",
      "3850                    16.0    Brian Herzlinger                    86.0   \n",
      "\n",
      "            gross                               genres     actor_1_name  ...  \\\n",
      "0     760505847.0      Action|Adventure|Fantasy|Sci-Fi      CCH Pounder  ...   \n",
      "1     309404152.0             Action|Adventure|Fantasy      Johnny Depp  ...   \n",
      "2     200074175.0            Action|Adventure|Thriller  Christoph Waltz  ...   \n",
      "3     448130642.0                      Action|Thriller        Tom Hardy  ...   \n",
      "4      73058679.0              Action|Adventure|Sci-Fi     Daryl Sabara  ...   \n",
      "...           ...                                  ...              ...  ...   \n",
      "3846     424760.0                Drama|Sci-Fi|Thriller    Shane Carruth  ...   \n",
      "3847      70071.0                             Thriller      Ian Gamazon  ...   \n",
      "3848    2040920.0  Action|Crime|Drama|Romance|Thriller  Carlos Gallardo  ...   \n",
      "3849       4584.0                         Comedy|Drama      Kerry Bishé  ...   \n",
      "3850      85222.0                          Documentary      John August  ...   \n",
      "\n",
      "     language      country  content_rating       budget  title_year  \\\n",
      "0     English          USA           PG-13  237000000.0      2009.0   \n",
      "1     English          USA           PG-13  300000000.0      2007.0   \n",
      "2     English           UK           PG-13  245000000.0      2015.0   \n",
      "3     English          USA           PG-13  250000000.0      2012.0   \n",
      "4     English          USA           PG-13  263700000.0      2012.0   \n",
      "...       ...          ...             ...          ...         ...   \n",
      "3846  English          USA           PG-13       7000.0      2004.0   \n",
      "3847  English  Philippines       Not Rated       7000.0      2005.0   \n",
      "3848  Spanish          USA               R       7000.0      1992.0   \n",
      "3849  English          USA       Not Rated       9000.0      2011.0   \n",
      "3850  English          USA              PG       1100.0      2004.0   \n",
      "\n",
      "     actor_2_facebook_likes imdb_score  aspect_ratio movie_facebook_likes  \\\n",
      "0                     936.0        7.9          1.78                33000   \n",
      "1                    5000.0        7.1          2.35                    0   \n",
      "2                     393.0        6.8          2.35                85000   \n",
      "3                   23000.0        8.5          2.35               164000   \n",
      "4                     632.0        6.6          2.35                24000   \n",
      "...                     ...        ...           ...                  ...   \n",
      "3846                   45.0        7.0          1.85                19000   \n",
      "3847                    0.0        6.3          2.35                   74   \n",
      "3848                   20.0        6.9          1.37                    0   \n",
      "3849                  205.0        6.4          2.35                  413   \n",
      "3850                   23.0        6.6          1.85                  456   \n",
      "\n",
      "     director_name_value_counts  \n",
      "0                             7  \n",
      "1                             7  \n",
      "2                             8  \n",
      "3                             8  \n",
      "4                             3  \n",
      "...                         ...  \n",
      "3846                          1  \n",
      "3847                          1  \n",
      "3848                         13  \n",
      "3849                          3  \n",
      "3850                          3  \n",
      "\n",
      "[3851 rows x 28 columns]\n"
     ]
    }
   ],
   "source": [
    "#把導演在該資料所有的作品個數新增為一行，並且刪除導演的名稱\n",
    "# dataset.director_name.unique(), dataset.director_name.nunique()\n",
    "director_name_value_counts = dataset.director_name.value_counts()\n",
    "director_name_value_counts  = pd.DataFrame(director_name_value_counts).reset_index().rename(columns = {'index': 'director_name', 'director_name':'director_name_value_counts'})\n",
    "dataset = pd.merge(dataset, director_name_value_counts,left_on = 'director_name', right_on = 'director_name', how = 'left')\n",
    "dataset = dataset.drop(columns = 'director_name')\n",
    "print(dataset)"
   ]
  },
  {
   "cell_type": "code",
   "execution_count": 40,
   "id": "6f1cb008",
   "metadata": {},
   "outputs": [],
   "source": [
    "#把演員1在該資料所有的作品個數新增為一行，並且刪除演員一的名稱\n",
    "#dataset.actor_1_name.unique(), dataset.actor_1_name.nunique()\n",
    "actor_1_name_value_counts = dataset.actor_1_name.value_counts()\n",
    "actor_1_name_value_counts  = pd.DataFrame(actor_1_name_value_counts).reset_index().rename(columns = {'index': 'actor_1_name', 'actor_1_name':'actor_1_name_value_counts'})\n",
    "dataset = pd.merge(dataset, actor_1_name_value_counts,left_on = 'actor_1_name', right_on = 'actor_1_name', how = 'left')\n",
    "dataset = dataset.drop(columns = 'actor_1_name')"
   ]
  },
  {
   "cell_type": "code",
   "execution_count": 41,
   "id": "2c5aeae3",
   "metadata": {},
   "outputs": [],
   "source": [
    "#把演員2在該資料所有的作品個數新增為一行，並且刪除演員二的名稱\n",
    "#print(dataset.actor_2_name.unique(), dataset.actor_2_name.nunique())\n",
    "actor_2_name_value_counts = dataset.actor_2_name.value_counts()\n",
    "actor_2_name_value_counts  = pd.DataFrame(actor_2_name_value_counts).reset_index().rename(columns = {'index': 'actor_2_name', 'actor_2_name':'actor_2_name_value_counts'})\n",
    "dataset = pd.merge(dataset, actor_2_name_value_counts,left_on = 'actor_2_name', right_on = 'actor_2_name', how = 'left')\n",
    "dataset = dataset.drop(columns = 'actor_2_name')"
   ]
  },
  {
   "cell_type": "code",
   "execution_count": 42,
   "id": "739996e5",
   "metadata": {},
   "outputs": [],
   "source": [
    "#把演員3在該資料所有的作品個數新增為一行，並且刪除演員三的名稱\n",
    "# print(dataset.actor_3_name.unique(), dataset.actor_3_name.nunique())\n",
    "actor_3_name_value_counts = dataset.actor_3_name.value_counts()\n",
    "actor_3_name_value_counts = pd.DataFrame(actor_3_name_value_counts).reset_index().rename(columns = {'index' : 'actor_3_name', 'actor_3_name' : 'actor_3_name_value_counts'})\n",
    "dataset= pd.merge(dataset, actor_3_name_value_counts,left_on = 'actor_3_name', right_on = 'actor_3_name', how = 'left')\n",
    "dataset = dataset.drop(columns = 'actor_3_name')"
   ]
  },
  {
   "cell_type": "code",
   "execution_count": 43,
   "id": "1ffafb1f",
   "metadata": {},
   "outputs": [
    {
     "name": "stdout",
     "output_type": "stream",
     "text": [
      "0            Action\n",
      "1            Action\n",
      "2            Action\n",
      "3            Action\n",
      "4            Action\n",
      "           ...     \n",
      "3846          Drama\n",
      "3847       Thriller\n",
      "3848         Action\n",
      "3849         Comedy\n",
      "3850    Documentary\n",
      "Name: main_genre, Length: 3851, dtype: object\n"
     ]
    }
   ],
   "source": [
    "#新增一行為主要類別 'main_genre'\n",
    "print(dataset.genres.unique(), dataset.genres.nunique())\n",
    "dataset['main_genre'] = dataset.genres.str.split('|').str[0]\n",
    "print(dataset['main_genre'])"
   ]
  },
  {
   "cell_type": "code",
   "execution_count": 44,
   "id": "eefb017f",
   "metadata": {},
   "outputs": [
    {
     "name": "stdout",
     "output_type": "stream",
     "text": [
      "['Action' 'Adventure' 'Drama' 'Animation' 'Comedy' 'Mystery' 'Crime'\n",
      " 'Biography' 'Fantasy' 'Documentary' 'Sci-Fi' 'Horror' 'Romance' 'Family'\n",
      " 'Western' 'Musical' 'Thriller'] 17\n",
      "0        0\n",
      "1        0\n",
      "2        0\n",
      "3        0\n",
      "4        0\n",
      "        ..\n",
      "3846     7\n",
      "3847    15\n",
      "3848     0\n",
      "3849     4\n",
      "3850     6\n",
      "Name: main_genre, Length: 3851, dtype: int32\n"
     ]
    }
   ],
   "source": [
    "#將 'main_genre' 轉為數字類別\n",
    "# print(dataset.main_genre.unique(), dataset.main_genre.nunique())\n",
    "from sklearn.preprocessing import LabelEncoder\n",
    "le = LabelEncoder()\n",
    "dataset['main_genre'] = le.fit_transform(dataset.main_genre)\n",
    "print(dataset['main_genre'])"
   ]
  },
  {
   "cell_type": "code",
   "execution_count": 45,
   "id": "47f0268b",
   "metadata": {},
   "outputs": [
    {
     "name": "stdout",
     "output_type": "stream",
     "text": [
      "Comedy|Drama|Romance                        151\n",
      "Drama                                       149\n",
      "Comedy|Drama                                146\n",
      "Comedy                                      146\n",
      "Comedy|Romance                              135\n",
      "                                           ... \n",
      "Action|Adventure|Fantasy|Horror|Thriller      1\n",
      "Action|Biography|Drama                        1\n",
      "Animation|Comedy|Family|Horror|Sci-Fi         1\n",
      "Action|Adventure|Drama|Fantasy|War            1\n",
      "Comedy|Crime|Horror                           1\n",
      "Name: genres, Length: 758, dtype: int64\n"
     ]
    }
   ],
   "source": [
    "#把相同電影類別進行記數，並新增 'genres_value_counts' ，再將原本 'genres' 刪去\n",
    "genres_value_counts = dataset.genres.value_counts()\n",
    "print(genres_value_counts)\n",
    "genres_value_counts  = pd.DataFrame(genres_value_counts).reset_index().rename(columns = {'index' : 'genres', 'genres' : 'genres_value_counts'})\n",
    "dataset = pd.merge(dataset, genres_value_counts,left_on = 'genres', right_on = 'genres', how = 'left')\n",
    "dataset = dataset.drop(columns = 'genres')\n"
   ]
  },
  {
   "cell_type": "code",
   "execution_count": 46,
   "id": "8e7e5cd2",
   "metadata": {},
   "outputs": [
    {
     "name": "stdout",
     "output_type": "stream",
     "text": [
      "['Avatar\\xa0' \"Pirates of the Caribbean: At World's End\\xa0\" 'Spectre\\xa0'\n",
      " ... 'El Mariachi\\xa0' 'Newlyweds\\xa0' 'My Date with Drew\\xa0'] 3749\n"
     ]
    }
   ],
   "source": [
    "#把缺少 \"title\" 的資料直接刪除\n",
    "print(dataset.movie_title.unique(), dataset.movie_title.nunique())\n",
    "dataset = dataset.drop(columns = 'movie_title')"
   ]
  },
  {
   "cell_type": "code",
   "execution_count": 47,
   "id": "f5653581",
   "metadata": {},
   "outputs": [
    {
     "name": "stdout",
     "output_type": "stream",
     "text": [
      "['avatar' 'goddess' 'bomb' ... 'jihad'\n",
      " 'written and directed by cast member' 'actress name in title'] 1688\n"
     ]
    }
   ],
   "source": [
    "#新增 'main_plot_keyword' ，並把 'plot_keywords' 刪除\n",
    "# print(dataset.plot_keywords.unique(), dataset.plot_keywords.nunique())\n",
    "dataset['main_plot_keyword'] = dataset.plot_keywords.str.split('|').str[0]\n",
    "dataset = dataset.drop(columns = 'plot_keywords')\n",
    "print(dataset.main_plot_keyword.unique(), dataset.main_plot_keyword.nunique())"
   ]
  },
  {
   "cell_type": "code",
   "execution_count": 48,
   "id": "2236f9e9",
   "metadata": {},
   "outputs": [],
   "source": [
    "#將 main_plot_keyword 記數，並新增一行 'main_plot_keyword_value_counts'，然後將原始行刪除\n",
    "main_plot_keyword_value_counts = dataset.main_plot_keyword.value_counts()\n",
    "main_plot_keyword_value_counts = pd.DataFrame(main_plot_keyword_value_counts).reset_index().rename(columns = {'index' : 'main_plot_keyword', 'main_plot_keyword' : 'main_plot_keyword_value_counts'})\n",
    "dataset = pd.merge(dataset, main_plot_keyword_value_counts, left_on = 'main_plot_keyword', right_on = 'main_plot_keyword', how = 'left')\n",
    "dataset = dataset.drop(columns = 'main_plot_keyword')\n"
   ]
  },
  {
   "cell_type": "code",
   "execution_count": 49,
   "id": "dc4bc897",
   "metadata": {},
   "outputs": [
    {
     "name": "stdout",
     "output_type": "stream",
     "text": [
      "['http://www.imdb.com/title/tt0499549/?ref_=fn_tt_tt_1'\n",
      " 'http://www.imdb.com/title/tt0449088/?ref_=fn_tt_tt_1'\n",
      " 'http://www.imdb.com/title/tt2379713/?ref_=fn_tt_tt_1' ...\n",
      " 'http://www.imdb.com/title/tt0104815/?ref_=fn_tt_tt_1'\n",
      " 'http://www.imdb.com/title/tt1880418/?ref_=fn_tt_tt_1'\n",
      " 'http://www.imdb.com/title/tt0378407/?ref_=fn_tt_tt_1'] 3750\n"
     ]
    }
   ],
   "source": [
    "#將 'movie_imdb_link' 資料刪去\n",
    "print(dataset.movie_imdb_link.unique(), dataset.movie_imdb_link.nunique())\n",
    "dataset = dataset.drop(columns = 'movie_imdb_link')"
   ]
  },
  {
   "cell_type": "code",
   "execution_count": 50,
   "id": "038fb2d4",
   "metadata": {},
   "outputs": [
    {
     "name": "stdout",
     "output_type": "stream",
     "text": [
      "['English' 'Mandarin' 'Aboriginal' 'Spanish' 'French' 'Filipino' 'Maya'\n",
      " 'Kazakh' 'Telugu' 'Cantonese' 'Japanese' 'Aramaic' 'Italian' 'Dutch'\n",
      " 'Dari' 'German' 'Mongolian' 'Thai' 'Bosnian' 'Korean' 'Hungarian' 'Hindi'\n",
      " 'Icelandic' 'Danish' 'Portuguese' 'Norwegian' 'Czech' 'Russian' 'None'\n",
      " 'Zulu' 'Hebrew' 'Dzongkha' 'Arabic' 'Vietnamese' 'Indonesian' 'Romanian'\n",
      " 'Persian' 'Swedish'] 38\n"
     ]
    }
   ],
   "source": [
    "#將 'language' encode\n",
    "print(dataset.language.unique(), dataset.language.nunique())\n",
    "from sklearn.preprocessing import LabelEncoder\n",
    "le1 = LabelEncoder()\n",
    "dataset['language'] = le1.fit_transform(dataset.language)\n"
   ]
  },
  {
   "cell_type": "code",
   "execution_count": 51,
   "id": "cd534094",
   "metadata": {},
   "outputs": [
    {
     "name": "stdout",
     "output_type": "stream",
     "text": [
      "['USA' 'UK' 'New Zealand' 'Canada' 'Australia' 'Germany' 'China'\n",
      " 'New Line' 'France' 'Japan' 'Spain' 'Hong Kong' 'Czech Republic' 'Peru'\n",
      " 'South Korea' 'India' 'Aruba' 'Denmark' 'Ireland' 'South Africa' 'Italy'\n",
      " 'Romania' 'Chile' 'Netherlands' 'Hungary' 'Russia' 'Belgium' 'Greece'\n",
      " 'Taiwan' 'Official site' 'Thailand' 'Iran' 'West Germany' 'Georgia'\n",
      " 'Mexico' 'Iceland' 'Brazil' 'Finland' 'Norway' 'Argentina' 'Colombia'\n",
      " 'Poland' 'Israel' 'Indonesia' 'Afghanistan' 'Sweden' 'Philippines'] 47\n"
     ]
    }
   ],
   "source": [
    "#將 'country' encode\n",
    "print(dataset.country.unique(), dataset.country.nunique())\n",
    "from sklearn.preprocessing import LabelEncoder\n",
    "le2 = LabelEncoder()\n",
    "dataset['country'] = le2.fit_transform(dataset.country)"
   ]
  },
  {
   "cell_type": "code",
   "execution_count": 52,
   "id": "0742e808",
   "metadata": {},
   "outputs": [
    {
     "name": "stdout",
     "output_type": "stream",
     "text": [
      "['PG-13' 'PG' 'G' 'R' 'Approved' 'NC-17' 'Not Rated' 'X' 'Unrated' 'M'\n",
      " 'GP' 'Passed'] 12\n"
     ]
    }
   ],
   "source": [
    "#將 'content_rating' encode\n",
    "print(dataset.content_rating.unique(),dataset.content_rating.nunique())\n",
    "from sklearn.preprocessing import LabelEncoder\n",
    "le3 = LabelEncoder()\n",
    "dataset['content_rating'] = le3.fit_transform(dataset.content_rating)\n"
   ]
  },
  {
   "cell_type": "code",
   "execution_count": 53,
   "id": "3924db8f",
   "metadata": {},
   "outputs": [
    {
     "data": {
      "text/html": [
       "<div>\n",
       "<style scoped>\n",
       "    .dataframe tbody tr th:only-of-type {\n",
       "        vertical-align: middle;\n",
       "    }\n",
       "\n",
       "    .dataframe tbody tr th {\n",
       "        vertical-align: top;\n",
       "    }\n",
       "\n",
       "    .dataframe thead th {\n",
       "        text-align: right;\n",
       "    }\n",
       "</style>\n",
       "<table border=\"1\" class=\"dataframe\">\n",
       "  <thead>\n",
       "    <tr style=\"text-align: right;\">\n",
       "      <th></th>\n",
       "      <th>color</th>\n",
       "      <th>num_critic_for_reviews</th>\n",
       "      <th>duration</th>\n",
       "      <th>director_facebook_likes</th>\n",
       "      <th>actor_3_facebook_likes</th>\n",
       "      <th>actor_1_facebook_likes</th>\n",
       "      <th>gross</th>\n",
       "      <th>num_voted_users</th>\n",
       "      <th>cast_total_facebook_likes</th>\n",
       "      <th>facenumber_in_poster</th>\n",
       "      <th>...</th>\n",
       "      <th>imdb_score</th>\n",
       "      <th>aspect_ratio</th>\n",
       "      <th>movie_facebook_likes</th>\n",
       "      <th>director_name_value_counts</th>\n",
       "      <th>actor_1_name_value_counts</th>\n",
       "      <th>actor_2_name_value_counts</th>\n",
       "      <th>actor_3_name_value_counts</th>\n",
       "      <th>main_genre</th>\n",
       "      <th>genres_value_counts</th>\n",
       "      <th>main_plot_keyword_value_counts</th>\n",
       "    </tr>\n",
       "  </thead>\n",
       "  <tbody>\n",
       "    <tr>\n",
       "      <th>0</th>\n",
       "      <td>1</td>\n",
       "      <td>723.0</td>\n",
       "      <td>178.0</td>\n",
       "      <td>0.0</td>\n",
       "      <td>855.0</td>\n",
       "      <td>1000.0</td>\n",
       "      <td>760505847.0</td>\n",
       "      <td>886204</td>\n",
       "      <td>4834</td>\n",
       "      <td>0.0</td>\n",
       "      <td>...</td>\n",
       "      <td>7.9</td>\n",
       "      <td>1.78</td>\n",
       "      <td>33000</td>\n",
       "      <td>7</td>\n",
       "      <td>4</td>\n",
       "      <td>3</td>\n",
       "      <td>3</td>\n",
       "      <td>0</td>\n",
       "      <td>12</td>\n",
       "      <td>2</td>\n",
       "    </tr>\n",
       "    <tr>\n",
       "      <th>1</th>\n",
       "      <td>1</td>\n",
       "      <td>302.0</td>\n",
       "      <td>169.0</td>\n",
       "      <td>563.0</td>\n",
       "      <td>1000.0</td>\n",
       "      <td>40000.0</td>\n",
       "      <td>309404152.0</td>\n",
       "      <td>471220</td>\n",
       "      <td>48350</td>\n",
       "      <td>0.0</td>\n",
       "      <td>...</td>\n",
       "      <td>7.1</td>\n",
       "      <td>2.35</td>\n",
       "      <td>0</td>\n",
       "      <td>7</td>\n",
       "      <td>39</td>\n",
       "      <td>7</td>\n",
       "      <td>4</td>\n",
       "      <td>0</td>\n",
       "      <td>25</td>\n",
       "      <td>1</td>\n",
       "    </tr>\n",
       "    <tr>\n",
       "      <th>2</th>\n",
       "      <td>1</td>\n",
       "      <td>602.0</td>\n",
       "      <td>148.0</td>\n",
       "      <td>0.0</td>\n",
       "      <td>161.0</td>\n",
       "      <td>11000.0</td>\n",
       "      <td>200074175.0</td>\n",
       "      <td>275868</td>\n",
       "      <td>11700</td>\n",
       "      <td>1.0</td>\n",
       "      <td>...</td>\n",
       "      <td>6.8</td>\n",
       "      <td>2.35</td>\n",
       "      <td>85000</td>\n",
       "      <td>8</td>\n",
       "      <td>5</td>\n",
       "      <td>2</td>\n",
       "      <td>1</td>\n",
       "      <td>0</td>\n",
       "      <td>45</td>\n",
       "      <td>7</td>\n",
       "    </tr>\n",
       "    <tr>\n",
       "      <th>3</th>\n",
       "      <td>1</td>\n",
       "      <td>813.0</td>\n",
       "      <td>164.0</td>\n",
       "      <td>22000.0</td>\n",
       "      <td>23000.0</td>\n",
       "      <td>27000.0</td>\n",
       "      <td>448130642.0</td>\n",
       "      <td>1144337</td>\n",
       "      <td>106759</td>\n",
       "      <td>0.0</td>\n",
       "      <td>...</td>\n",
       "      <td>8.5</td>\n",
       "      <td>2.35</td>\n",
       "      <td>164000</td>\n",
       "      <td>8</td>\n",
       "      <td>9</td>\n",
       "      <td>5</td>\n",
       "      <td>2</td>\n",
       "      <td>0</td>\n",
       "      <td>22</td>\n",
       "      <td>2</td>\n",
       "    </tr>\n",
       "    <tr>\n",
       "      <th>4</th>\n",
       "      <td>1</td>\n",
       "      <td>462.0</td>\n",
       "      <td>132.0</td>\n",
       "      <td>475.0</td>\n",
       "      <td>530.0</td>\n",
       "      <td>640.0</td>\n",
       "      <td>73058679.0</td>\n",
       "      <td>212204</td>\n",
       "      <td>1873</td>\n",
       "      <td>1.0</td>\n",
       "      <td>...</td>\n",
       "      <td>6.6</td>\n",
       "      <td>2.35</td>\n",
       "      <td>24000</td>\n",
       "      <td>3</td>\n",
       "      <td>2</td>\n",
       "      <td>3</td>\n",
       "      <td>1</td>\n",
       "      <td>0</td>\n",
       "      <td>48</td>\n",
       "      <td>69</td>\n",
       "    </tr>\n",
       "  </tbody>\n",
       "</table>\n",
       "<p>5 rows × 27 columns</p>\n",
       "</div>"
      ],
      "text/plain": [
       "   color  num_critic_for_reviews  duration  director_facebook_likes  \\\n",
       "0      1                   723.0     178.0                      0.0   \n",
       "1      1                   302.0     169.0                    563.0   \n",
       "2      1                   602.0     148.0                      0.0   \n",
       "3      1                   813.0     164.0                  22000.0   \n",
       "4      1                   462.0     132.0                    475.0   \n",
       "\n",
       "   actor_3_facebook_likes  actor_1_facebook_likes        gross  \\\n",
       "0                   855.0                  1000.0  760505847.0   \n",
       "1                  1000.0                 40000.0  309404152.0   \n",
       "2                   161.0                 11000.0  200074175.0   \n",
       "3                 23000.0                 27000.0  448130642.0   \n",
       "4                   530.0                   640.0   73058679.0   \n",
       "\n",
       "   num_voted_users  cast_total_facebook_likes  facenumber_in_poster  ...  \\\n",
       "0           886204                       4834                   0.0  ...   \n",
       "1           471220                      48350                   0.0  ...   \n",
       "2           275868                      11700                   1.0  ...   \n",
       "3          1144337                     106759                   0.0  ...   \n",
       "4           212204                       1873                   1.0  ...   \n",
       "\n",
       "   imdb_score  aspect_ratio  movie_facebook_likes  director_name_value_counts  \\\n",
       "0         7.9          1.78                 33000                           7   \n",
       "1         7.1          2.35                     0                           7   \n",
       "2         6.8          2.35                 85000                           8   \n",
       "3         8.5          2.35                164000                           8   \n",
       "4         6.6          2.35                 24000                           3   \n",
       "\n",
       "   actor_1_name_value_counts  actor_2_name_value_counts  \\\n",
       "0                          4                          3   \n",
       "1                         39                          7   \n",
       "2                          5                          2   \n",
       "3                          9                          5   \n",
       "4                          2                          3   \n",
       "\n",
       "   actor_3_name_value_counts  main_genre  genres_value_counts  \\\n",
       "0                          3           0                   12   \n",
       "1                          4           0                   25   \n",
       "2                          1           0                   45   \n",
       "3                          2           0                   22   \n",
       "4                          1           0                   48   \n",
       "\n",
       "   main_plot_keyword_value_counts  \n",
       "0                               2  \n",
       "1                               1  \n",
       "2                               7  \n",
       "3                               2  \n",
       "4                              69  \n",
       "\n",
       "[5 rows x 27 columns]"
      ]
     },
     "execution_count": 53,
     "metadata": {},
     "output_type": "execute_result"
    }
   ],
   "source": [
    "dataset.head()"
   ]
  },
  {
   "cell_type": "code",
   "execution_count": 54,
   "id": "1374faa5",
   "metadata": {},
   "outputs": [
    {
     "name": "stdout",
     "output_type": "stream",
     "text": [
      "color                               int64\n",
      "num_critic_for_reviews            float64\n",
      "duration                          float64\n",
      "director_facebook_likes           float64\n",
      "actor_3_facebook_likes            float64\n",
      "actor_1_facebook_likes            float64\n",
      "gross                             float64\n",
      "num_voted_users                     int64\n",
      "cast_total_facebook_likes           int64\n",
      "facenumber_in_poster              float64\n",
      "num_user_for_reviews              float64\n",
      "language                            int32\n",
      "country                             int32\n",
      "content_rating                      int32\n",
      "budget                            float64\n",
      "title_year                        float64\n",
      "actor_2_facebook_likes            float64\n",
      "imdb_score                        float64\n",
      "aspect_ratio                      float64\n",
      "movie_facebook_likes                int64\n",
      "director_name_value_counts          int64\n",
      "actor_1_name_value_counts           int64\n",
      "actor_2_name_value_counts           int64\n",
      "actor_3_name_value_counts           int64\n",
      "main_genre                          int32\n",
      "genres_value_counts                 int64\n",
      "main_plot_keyword_value_counts      int64\n",
      "dtype: object\n"
     ]
    }
   ],
   "source": [
    "print(dataset.dtypes)"
   ]
  },
  {
   "cell_type": "code",
   "execution_count": 55,
   "id": "1a79ecbe",
   "metadata": {},
   "outputs": [],
   "source": [
    "dataset.profile_report()\n"
   ]
  },
  {
   "cell_type": "code",
   "execution_count": null,
   "id": "6a803d3f",
   "metadata": {},
   "outputs": [],
   "source": []
  }
 ],
 "metadata": {
  "kernelspec": {
   "display_name": "Python 3 (ipykernel)",
   "language": "python",
   "name": "python3"
  },
  "language_info": {
   "codemirror_mode": {
    "name": "ipython",
    "version": 3
   },
   "file_extension": ".py",
   "mimetype": "text/x-python",
   "name": "python",
   "nbconvert_exporter": "python",
   "pygments_lexer": "ipython3",
   "version": "3.9.7"
  }
 },
 "nbformat": 4,
 "nbformat_minor": 5
}
