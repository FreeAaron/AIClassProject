{
 "cells": [
  {
   "cell_type": "markdown",
   "id": "35f26d15",
   "metadata": {},
   "source": [
    "# Data Loading"
   ]
  },
  {
   "cell_type": "code",
   "execution_count": 1,
   "id": "841a2cfd",
   "metadata": {},
   "outputs": [],
   "source": [
    "#!pip install seaborn\n",
    "#!pip install pandas-profiling\n",
    "#!pip3 install ipywidgets"
   ]
  },
  {
   "cell_type": "code",
   "execution_count": 2,
   "id": "ae5fd5aa",
   "metadata": {},
   "outputs": [],
   "source": [
    "#importing the libraries that we use\n",
    "import pandas as pd \n",
    "import numpy as np\n",
    "import matplotlib.pyplot as plt\n",
    "import seaborn as sns\n",
    "import pandas_profiling as pp"
   ]
  },
  {
   "cell_type": "code",
   "execution_count": 3,
   "id": "1761d4db",
   "metadata": {},
   "outputs": [
    {
     "data": {
      "text/html": [
       "<div>\n",
       "<style scoped>\n",
       "    .dataframe tbody tr th:only-of-type {\n",
       "        vertical-align: middle;\n",
       "    }\n",
       "\n",
       "    .dataframe tbody tr th {\n",
       "        vertical-align: top;\n",
       "    }\n",
       "\n",
       "    .dataframe thead th {\n",
       "        text-align: right;\n",
       "    }\n",
       "</style>\n",
       "<table border=\"1\" class=\"dataframe\">\n",
       "  <thead>\n",
       "    <tr style=\"text-align: right;\">\n",
       "      <th></th>\n",
       "      <th>color</th>\n",
       "      <th>director_name</th>\n",
       "      <th>num_critic_for_reviews</th>\n",
       "      <th>duration</th>\n",
       "      <th>director_facebook_likes</th>\n",
       "      <th>actor_3_facebook_likes</th>\n",
       "      <th>actor_2_name</th>\n",
       "      <th>actor_1_facebook_likes</th>\n",
       "      <th>gross</th>\n",
       "      <th>genres</th>\n",
       "      <th>...</th>\n",
       "      <th>num_user_for_reviews</th>\n",
       "      <th>language</th>\n",
       "      <th>country</th>\n",
       "      <th>content_rating</th>\n",
       "      <th>budget</th>\n",
       "      <th>title_year</th>\n",
       "      <th>actor_2_facebook_likes</th>\n",
       "      <th>imdb_score</th>\n",
       "      <th>aspect_ratio</th>\n",
       "      <th>movie_facebook_likes</th>\n",
       "    </tr>\n",
       "  </thead>\n",
       "  <tbody>\n",
       "    <tr>\n",
       "      <th>0</th>\n",
       "      <td>Color</td>\n",
       "      <td>James Cameron</td>\n",
       "      <td>723.0</td>\n",
       "      <td>178.0</td>\n",
       "      <td>0.0</td>\n",
       "      <td>855.0</td>\n",
       "      <td>Joel David Moore</td>\n",
       "      <td>1000.0</td>\n",
       "      <td>760505847.0</td>\n",
       "      <td>Action|Adventure|Fantasy|Sci-Fi</td>\n",
       "      <td>...</td>\n",
       "      <td>3054.0</td>\n",
       "      <td>English</td>\n",
       "      <td>USA</td>\n",
       "      <td>PG-13</td>\n",
       "      <td>237000000.0</td>\n",
       "      <td>2009.0</td>\n",
       "      <td>936.0</td>\n",
       "      <td>7.9</td>\n",
       "      <td>1.78</td>\n",
       "      <td>33000</td>\n",
       "    </tr>\n",
       "    <tr>\n",
       "      <th>1</th>\n",
       "      <td>Color</td>\n",
       "      <td>Gore Verbinski</td>\n",
       "      <td>302.0</td>\n",
       "      <td>169.0</td>\n",
       "      <td>563.0</td>\n",
       "      <td>1000.0</td>\n",
       "      <td>Orlando Bloom</td>\n",
       "      <td>40000.0</td>\n",
       "      <td>309404152.0</td>\n",
       "      <td>Action|Adventure|Fantasy</td>\n",
       "      <td>...</td>\n",
       "      <td>1238.0</td>\n",
       "      <td>English</td>\n",
       "      <td>USA</td>\n",
       "      <td>PG-13</td>\n",
       "      <td>300000000.0</td>\n",
       "      <td>2007.0</td>\n",
       "      <td>5000.0</td>\n",
       "      <td>7.1</td>\n",
       "      <td>2.35</td>\n",
       "      <td>0</td>\n",
       "    </tr>\n",
       "    <tr>\n",
       "      <th>2</th>\n",
       "      <td>Color</td>\n",
       "      <td>Sam Mendes</td>\n",
       "      <td>602.0</td>\n",
       "      <td>148.0</td>\n",
       "      <td>0.0</td>\n",
       "      <td>161.0</td>\n",
       "      <td>Rory Kinnear</td>\n",
       "      <td>11000.0</td>\n",
       "      <td>200074175.0</td>\n",
       "      <td>Action|Adventure|Thriller</td>\n",
       "      <td>...</td>\n",
       "      <td>994.0</td>\n",
       "      <td>English</td>\n",
       "      <td>UK</td>\n",
       "      <td>PG-13</td>\n",
       "      <td>245000000.0</td>\n",
       "      <td>2015.0</td>\n",
       "      <td>393.0</td>\n",
       "      <td>6.8</td>\n",
       "      <td>2.35</td>\n",
       "      <td>85000</td>\n",
       "    </tr>\n",
       "    <tr>\n",
       "      <th>3</th>\n",
       "      <td>Color</td>\n",
       "      <td>Christopher Nolan</td>\n",
       "      <td>813.0</td>\n",
       "      <td>164.0</td>\n",
       "      <td>22000.0</td>\n",
       "      <td>23000.0</td>\n",
       "      <td>Christian Bale</td>\n",
       "      <td>27000.0</td>\n",
       "      <td>448130642.0</td>\n",
       "      <td>Action|Thriller</td>\n",
       "      <td>...</td>\n",
       "      <td>2701.0</td>\n",
       "      <td>English</td>\n",
       "      <td>USA</td>\n",
       "      <td>PG-13</td>\n",
       "      <td>250000000.0</td>\n",
       "      <td>2012.0</td>\n",
       "      <td>23000.0</td>\n",
       "      <td>8.5</td>\n",
       "      <td>2.35</td>\n",
       "      <td>164000</td>\n",
       "    </tr>\n",
       "    <tr>\n",
       "      <th>4</th>\n",
       "      <td>NaN</td>\n",
       "      <td>Doug Walker</td>\n",
       "      <td>NaN</td>\n",
       "      <td>NaN</td>\n",
       "      <td>131.0</td>\n",
       "      <td>NaN</td>\n",
       "      <td>Rob Walker</td>\n",
       "      <td>131.0</td>\n",
       "      <td>NaN</td>\n",
       "      <td>Documentary</td>\n",
       "      <td>...</td>\n",
       "      <td>NaN</td>\n",
       "      <td>NaN</td>\n",
       "      <td>NaN</td>\n",
       "      <td>NaN</td>\n",
       "      <td>NaN</td>\n",
       "      <td>NaN</td>\n",
       "      <td>12.0</td>\n",
       "      <td>7.1</td>\n",
       "      <td>NaN</td>\n",
       "      <td>0</td>\n",
       "    </tr>\n",
       "  </tbody>\n",
       "</table>\n",
       "<p>5 rows × 28 columns</p>\n",
       "</div>"
      ],
      "text/plain": [
       "   color      director_name  num_critic_for_reviews  duration  \\\n",
       "0  Color      James Cameron                   723.0     178.0   \n",
       "1  Color     Gore Verbinski                   302.0     169.0   \n",
       "2  Color         Sam Mendes                   602.0     148.0   \n",
       "3  Color  Christopher Nolan                   813.0     164.0   \n",
       "4    NaN        Doug Walker                     NaN       NaN   \n",
       "\n",
       "   director_facebook_likes  actor_3_facebook_likes      actor_2_name  \\\n",
       "0                      0.0                   855.0  Joel David Moore   \n",
       "1                    563.0                  1000.0     Orlando Bloom   \n",
       "2                      0.0                   161.0      Rory Kinnear   \n",
       "3                  22000.0                 23000.0    Christian Bale   \n",
       "4                    131.0                     NaN        Rob Walker   \n",
       "\n",
       "   actor_1_facebook_likes        gross                           genres  ...  \\\n",
       "0                  1000.0  760505847.0  Action|Adventure|Fantasy|Sci-Fi  ...   \n",
       "1                 40000.0  309404152.0         Action|Adventure|Fantasy  ...   \n",
       "2                 11000.0  200074175.0        Action|Adventure|Thriller  ...   \n",
       "3                 27000.0  448130642.0                  Action|Thriller  ...   \n",
       "4                   131.0          NaN                      Documentary  ...   \n",
       "\n",
       "  num_user_for_reviews language  country  content_rating       budget  \\\n",
       "0               3054.0  English      USA           PG-13  237000000.0   \n",
       "1               1238.0  English      USA           PG-13  300000000.0   \n",
       "2                994.0  English       UK           PG-13  245000000.0   \n",
       "3               2701.0  English      USA           PG-13  250000000.0   \n",
       "4                  NaN      NaN      NaN             NaN          NaN   \n",
       "\n",
       "   title_year actor_2_facebook_likes imdb_score  aspect_ratio  \\\n",
       "0      2009.0                  936.0        7.9          1.78   \n",
       "1      2007.0                 5000.0        7.1          2.35   \n",
       "2      2015.0                  393.0        6.8          2.35   \n",
       "3      2012.0                23000.0        8.5          2.35   \n",
       "4         NaN                   12.0        7.1           NaN   \n",
       "\n",
       "  movie_facebook_likes  \n",
       "0                33000  \n",
       "1                    0  \n",
       "2                85000  \n",
       "3               164000  \n",
       "4                    0  \n",
       "\n",
       "[5 rows x 28 columns]"
      ]
     },
     "execution_count": 3,
     "metadata": {},
     "output_type": "execute_result"
    }
   ],
   "source": [
    "dataset = pd.read_csv('./movie_metadata.csv')\n",
    "dataset.head()"
   ]
  },
  {
   "cell_type": "code",
   "execution_count": 4,
   "id": "31fa4306",
   "metadata": {},
   "outputs": [
    {
     "data": {
      "text/plain": [
       "(5043, 28)"
      ]
     },
     "execution_count": 4,
     "metadata": {},
     "output_type": "execute_result"
    }
   ],
   "source": [
    "dataset.shape"
   ]
  },
  {
   "cell_type": "code",
   "execution_count": 5,
   "id": "daf7b1aa",
   "metadata": {},
   "outputs": [
    {
     "data": {
      "text/plain": [
       "Index(['color', 'director_name', 'num_critic_for_reviews', 'duration',\n",
       "       'director_facebook_likes', 'actor_3_facebook_likes', 'actor_2_name',\n",
       "       'actor_1_facebook_likes', 'gross', 'genres', 'actor_1_name',\n",
       "       'movie_title', 'num_voted_users', 'cast_total_facebook_likes',\n",
       "       'actor_3_name', 'facenumber_in_poster', 'plot_keywords',\n",
       "       'movie_imdb_link', 'num_user_for_reviews', 'language', 'country',\n",
       "       'content_rating', 'budget', 'title_year', 'actor_2_facebook_likes',\n",
       "       'imdb_score', 'aspect_ratio', 'movie_facebook_likes'],\n",
       "      dtype='object')"
      ]
     },
     "execution_count": 5,
     "metadata": {},
     "output_type": "execute_result"
    }
   ],
   "source": [
    "dataset.columns"
   ]
  },
  {
   "cell_type": "markdown",
   "id": "50b0ee4a",
   "metadata": {},
   "source": [
    "# Data Profile"
   ]
  },
  {
   "cell_type": "code",
   "execution_count": 6,
   "id": "f8d8b5b5",
   "metadata": {
    "scrolled": false
   },
   "outputs": [],
   "source": [
    "#dataset.profile_report()"
   ]
  },
  {
   "cell_type": "code",
   "execution_count": 7,
   "id": "0c65e9e9",
   "metadata": {},
   "outputs": [
    {
     "name": "stdout",
     "output_type": "stream",
     "text": [
      "(4998, 28)\n"
     ]
    }
   ],
   "source": [
    "dataset.drop_duplicates(inplace = True)\n",
    "print(dataset.shape)"
   ]
  },
  {
   "cell_type": "markdown",
   "id": "c4ec63fe",
   "metadata": {},
   "source": [
    "# Data Cleaning"
   ]
  },
  {
   "cell_type": "code",
   "execution_count": 8,
   "id": "a11e26fa",
   "metadata": {},
   "outputs": [],
   "source": [
    "numerical_cols = [col for col in dataset.columns if dataset[col].dtype != 'object']\n",
    "categorical_cols = [col for col in dataset.columns if dataset[col].dtype == 'object']"
   ]
  },
  {
   "cell_type": "code",
   "execution_count": 9,
   "id": "43bdfd74",
   "metadata": {},
   "outputs": [
    {
     "data": {
      "text/html": [
       "<div>\n",
       "<style scoped>\n",
       "    .dataframe tbody tr th:only-of-type {\n",
       "        vertical-align: middle;\n",
       "    }\n",
       "\n",
       "    .dataframe tbody tr th {\n",
       "        vertical-align: top;\n",
       "    }\n",
       "\n",
       "    .dataframe thead th {\n",
       "        text-align: right;\n",
       "    }\n",
       "</style>\n",
       "<table border=\"1\" class=\"dataframe\">\n",
       "  <thead>\n",
       "    <tr style=\"text-align: right;\">\n",
       "      <th></th>\n",
       "      <th>num_critic_for_reviews</th>\n",
       "      <th>duration</th>\n",
       "      <th>director_facebook_likes</th>\n",
       "      <th>actor_3_facebook_likes</th>\n",
       "      <th>actor_1_facebook_likes</th>\n",
       "      <th>gross</th>\n",
       "      <th>num_voted_users</th>\n",
       "      <th>cast_total_facebook_likes</th>\n",
       "      <th>facenumber_in_poster</th>\n",
       "      <th>num_user_for_reviews</th>\n",
       "      <th>budget</th>\n",
       "      <th>title_year</th>\n",
       "      <th>actor_2_facebook_likes</th>\n",
       "      <th>imdb_score</th>\n",
       "      <th>aspect_ratio</th>\n",
       "      <th>movie_facebook_likes</th>\n",
       "    </tr>\n",
       "  </thead>\n",
       "  <tbody>\n",
       "    <tr>\n",
       "      <th>count</th>\n",
       "      <td>4949.000000</td>\n",
       "      <td>4983.000000</td>\n",
       "      <td>4895.000000</td>\n",
       "      <td>4975.000000</td>\n",
       "      <td>4991.000000</td>\n",
       "      <td>4.124000e+03</td>\n",
       "      <td>4.998000e+03</td>\n",
       "      <td>4998.000000</td>\n",
       "      <td>4985.000000</td>\n",
       "      <td>4977.000000</td>\n",
       "      <td>4.511000e+03</td>\n",
       "      <td>4891.000000</td>\n",
       "      <td>4985.000000</td>\n",
       "      <td>4998.000000</td>\n",
       "      <td>4671.000000</td>\n",
       "      <td>4998.000000</td>\n",
       "    </tr>\n",
       "    <tr>\n",
       "      <th>mean</th>\n",
       "      <td>139.890079</td>\n",
       "      <td>107.213325</td>\n",
       "      <td>688.679060</td>\n",
       "      <td>639.900905</td>\n",
       "      <td>6556.939892</td>\n",
       "      <td>4.832565e+07</td>\n",
       "      <td>8.347020e+04</td>\n",
       "      <td>9676.941176</td>\n",
       "      <td>1.368907</td>\n",
       "      <td>272.014667</td>\n",
       "      <td>3.974787e+07</td>\n",
       "      <td>2002.468820</td>\n",
       "      <td>1642.998796</td>\n",
       "      <td>6.441056</td>\n",
       "      <td>2.221417</td>\n",
       "      <td>7487.430172</td>\n",
       "    </tr>\n",
       "    <tr>\n",
       "      <th>std</th>\n",
       "      <td>121.477586</td>\n",
       "      <td>25.248775</td>\n",
       "      <td>2821.649616</td>\n",
       "      <td>1643.298282</td>\n",
       "      <td>15061.586700</td>\n",
       "      <td>6.796483e+07</td>\n",
       "      <td>1.380866e+05</td>\n",
       "      <td>18165.404578</td>\n",
       "      <td>2.014623</td>\n",
       "      <td>377.776210</td>\n",
       "      <td>2.069689e+08</td>\n",
       "      <td>12.475235</td>\n",
       "      <td>4030.925303</td>\n",
       "      <td>1.124107</td>\n",
       "      <td>1.391185</td>\n",
       "      <td>19290.726563</td>\n",
       "    </tr>\n",
       "    <tr>\n",
       "      <th>min</th>\n",
       "      <td>1.000000</td>\n",
       "      <td>7.000000</td>\n",
       "      <td>0.000000</td>\n",
       "      <td>0.000000</td>\n",
       "      <td>0.000000</td>\n",
       "      <td>1.620000e+02</td>\n",
       "      <td>5.000000e+00</td>\n",
       "      <td>0.000000</td>\n",
       "      <td>0.000000</td>\n",
       "      <td>1.000000</td>\n",
       "      <td>2.180000e+02</td>\n",
       "      <td>1916.000000</td>\n",
       "      <td>0.000000</td>\n",
       "      <td>1.600000</td>\n",
       "      <td>1.180000</td>\n",
       "      <td>0.000000</td>\n",
       "    </tr>\n",
       "    <tr>\n",
       "      <th>25%</th>\n",
       "      <td>50.000000</td>\n",
       "      <td>93.000000</td>\n",
       "      <td>7.000000</td>\n",
       "      <td>133.000000</td>\n",
       "      <td>611.500000</td>\n",
       "      <td>5.304835e+06</td>\n",
       "      <td>8.560000e+03</td>\n",
       "      <td>1405.500000</td>\n",
       "      <td>0.000000</td>\n",
       "      <td>64.000000</td>\n",
       "      <td>6.000000e+06</td>\n",
       "      <td>1999.000000</td>\n",
       "      <td>280.000000</td>\n",
       "      <td>5.800000</td>\n",
       "      <td>1.850000</td>\n",
       "      <td>0.000000</td>\n",
       "    </tr>\n",
       "    <tr>\n",
       "      <th>50%</th>\n",
       "      <td>110.000000</td>\n",
       "      <td>103.000000</td>\n",
       "      <td>49.000000</td>\n",
       "      <td>369.000000</td>\n",
       "      <td>984.000000</td>\n",
       "      <td>2.544575e+07</td>\n",
       "      <td>3.426050e+04</td>\n",
       "      <td>3085.500000</td>\n",
       "      <td>1.000000</td>\n",
       "      <td>156.000000</td>\n",
       "      <td>2.000000e+07</td>\n",
       "      <td>2005.000000</td>\n",
       "      <td>595.000000</td>\n",
       "      <td>6.600000</td>\n",
       "      <td>2.350000</td>\n",
       "      <td>162.500000</td>\n",
       "    </tr>\n",
       "    <tr>\n",
       "      <th>75%</th>\n",
       "      <td>195.000000</td>\n",
       "      <td>118.000000</td>\n",
       "      <td>192.000000</td>\n",
       "      <td>635.000000</td>\n",
       "      <td>11000.000000</td>\n",
       "      <td>6.231942e+07</td>\n",
       "      <td>9.612075e+04</td>\n",
       "      <td>13740.500000</td>\n",
       "      <td>2.000000</td>\n",
       "      <td>324.000000</td>\n",
       "      <td>4.500000e+07</td>\n",
       "      <td>2011.000000</td>\n",
       "      <td>917.000000</td>\n",
       "      <td>7.200000</td>\n",
       "      <td>2.350000</td>\n",
       "      <td>3000.000000</td>\n",
       "    </tr>\n",
       "    <tr>\n",
       "      <th>max</th>\n",
       "      <td>813.000000</td>\n",
       "      <td>511.000000</td>\n",
       "      <td>23000.000000</td>\n",
       "      <td>23000.000000</td>\n",
       "      <td>640000.000000</td>\n",
       "      <td>7.605058e+08</td>\n",
       "      <td>1.689764e+06</td>\n",
       "      <td>656730.000000</td>\n",
       "      <td>43.000000</td>\n",
       "      <td>5060.000000</td>\n",
       "      <td>1.221550e+10</td>\n",
       "      <td>2016.000000</td>\n",
       "      <td>137000.000000</td>\n",
       "      <td>9.500000</td>\n",
       "      <td>16.000000</td>\n",
       "      <td>349000.000000</td>\n",
       "    </tr>\n",
       "  </tbody>\n",
       "</table>\n",
       "</div>"
      ],
      "text/plain": [
       "       num_critic_for_reviews     duration  director_facebook_likes  \\\n",
       "count             4949.000000  4983.000000              4895.000000   \n",
       "mean               139.890079   107.213325               688.679060   \n",
       "std                121.477586    25.248775              2821.649616   \n",
       "min                  1.000000     7.000000                 0.000000   \n",
       "25%                 50.000000    93.000000                 7.000000   \n",
       "50%                110.000000   103.000000                49.000000   \n",
       "75%                195.000000   118.000000               192.000000   \n",
       "max                813.000000   511.000000             23000.000000   \n",
       "\n",
       "       actor_3_facebook_likes  actor_1_facebook_likes         gross  \\\n",
       "count             4975.000000             4991.000000  4.124000e+03   \n",
       "mean               639.900905             6556.939892  4.832565e+07   \n",
       "std               1643.298282            15061.586700  6.796483e+07   \n",
       "min                  0.000000                0.000000  1.620000e+02   \n",
       "25%                133.000000              611.500000  5.304835e+06   \n",
       "50%                369.000000              984.000000  2.544575e+07   \n",
       "75%                635.000000            11000.000000  6.231942e+07   \n",
       "max              23000.000000           640000.000000  7.605058e+08   \n",
       "\n",
       "       num_voted_users  cast_total_facebook_likes  facenumber_in_poster  \\\n",
       "count     4.998000e+03                4998.000000           4985.000000   \n",
       "mean      8.347020e+04                9676.941176              1.368907   \n",
       "std       1.380866e+05               18165.404578              2.014623   \n",
       "min       5.000000e+00                   0.000000              0.000000   \n",
       "25%       8.560000e+03                1405.500000              0.000000   \n",
       "50%       3.426050e+04                3085.500000              1.000000   \n",
       "75%       9.612075e+04               13740.500000              2.000000   \n",
       "max       1.689764e+06              656730.000000             43.000000   \n",
       "\n",
       "       num_user_for_reviews        budget   title_year  \\\n",
       "count           4977.000000  4.511000e+03  4891.000000   \n",
       "mean             272.014667  3.974787e+07  2002.468820   \n",
       "std              377.776210  2.069689e+08    12.475235   \n",
       "min                1.000000  2.180000e+02  1916.000000   \n",
       "25%               64.000000  6.000000e+06  1999.000000   \n",
       "50%              156.000000  2.000000e+07  2005.000000   \n",
       "75%              324.000000  4.500000e+07  2011.000000   \n",
       "max             5060.000000  1.221550e+10  2016.000000   \n",
       "\n",
       "       actor_2_facebook_likes   imdb_score  aspect_ratio  movie_facebook_likes  \n",
       "count             4985.000000  4998.000000   4671.000000           4998.000000  \n",
       "mean              1642.998796     6.441056      2.221417           7487.430172  \n",
       "std               4030.925303     1.124107      1.391185          19290.726563  \n",
       "min                  0.000000     1.600000      1.180000              0.000000  \n",
       "25%                280.000000     5.800000      1.850000              0.000000  \n",
       "50%                595.000000     6.600000      2.350000            162.500000  \n",
       "75%                917.000000     7.200000      2.350000           3000.000000  \n",
       "max             137000.000000     9.500000     16.000000         349000.000000  "
      ]
     },
     "execution_count": 9,
     "metadata": {},
     "output_type": "execute_result"
    }
   ],
   "source": [
    "dataset[numerical_cols].describe()"
   ]
  },
  {
   "cell_type": "code",
   "execution_count": 10,
   "id": "7dcf4a6a",
   "metadata": {},
   "outputs": [
    {
     "data": {
      "text/html": [
       "<div>\n",
       "<style scoped>\n",
       "    .dataframe tbody tr th:only-of-type {\n",
       "        vertical-align: middle;\n",
       "    }\n",
       "\n",
       "    .dataframe tbody tr th {\n",
       "        vertical-align: top;\n",
       "    }\n",
       "\n",
       "    .dataframe thead th {\n",
       "        text-align: right;\n",
       "    }\n",
       "</style>\n",
       "<table border=\"1\" class=\"dataframe\">\n",
       "  <thead>\n",
       "    <tr style=\"text-align: right;\">\n",
       "      <th></th>\n",
       "      <th>color</th>\n",
       "      <th>director_name</th>\n",
       "      <th>actor_2_name</th>\n",
       "      <th>genres</th>\n",
       "      <th>actor_1_name</th>\n",
       "      <th>movie_title</th>\n",
       "      <th>actor_3_name</th>\n",
       "      <th>plot_keywords</th>\n",
       "      <th>movie_imdb_link</th>\n",
       "      <th>language</th>\n",
       "      <th>country</th>\n",
       "      <th>content_rating</th>\n",
       "    </tr>\n",
       "  </thead>\n",
       "  <tbody>\n",
       "    <tr>\n",
       "      <th>count</th>\n",
       "      <td>4979</td>\n",
       "      <td>4895</td>\n",
       "      <td>4985</td>\n",
       "      <td>4998</td>\n",
       "      <td>4991</td>\n",
       "      <td>4998</td>\n",
       "      <td>4975</td>\n",
       "      <td>4846</td>\n",
       "      <td>4998</td>\n",
       "      <td>4986</td>\n",
       "      <td>4993</td>\n",
       "      <td>4697</td>\n",
       "    </tr>\n",
       "    <tr>\n",
       "      <th>unique</th>\n",
       "      <td>2</td>\n",
       "      <td>2398</td>\n",
       "      <td>3032</td>\n",
       "      <td>914</td>\n",
       "      <td>2097</td>\n",
       "      <td>4917</td>\n",
       "      <td>3521</td>\n",
       "      <td>4760</td>\n",
       "      <td>4919</td>\n",
       "      <td>47</td>\n",
       "      <td>65</td>\n",
       "      <td>18</td>\n",
       "    </tr>\n",
       "    <tr>\n",
       "      <th>top</th>\n",
       "      <td>Color</td>\n",
       "      <td>Steven Spielberg</td>\n",
       "      <td>Morgan Freeman</td>\n",
       "      <td>Drama</td>\n",
       "      <td>Robert De Niro</td>\n",
       "      <td>Ben-Hur</td>\n",
       "      <td>Steve Coogan</td>\n",
       "      <td>based on novel</td>\n",
       "      <td>http://www.imdb.com/title/tt2638144/?ref_=fn_t...</td>\n",
       "      <td>English</td>\n",
       "      <td>USA</td>\n",
       "      <td>R</td>\n",
       "    </tr>\n",
       "    <tr>\n",
       "      <th>freq</th>\n",
       "      <td>4772</td>\n",
       "      <td>26</td>\n",
       "      <td>20</td>\n",
       "      <td>235</td>\n",
       "      <td>49</td>\n",
       "      <td>3</td>\n",
       "      <td>8</td>\n",
       "      <td>4</td>\n",
       "      <td>3</td>\n",
       "      <td>4662</td>\n",
       "      <td>3773</td>\n",
       "      <td>2098</td>\n",
       "    </tr>\n",
       "  </tbody>\n",
       "</table>\n",
       "</div>"
      ],
      "text/plain": [
       "        color     director_name    actor_2_name genres    actor_1_name  \\\n",
       "count    4979              4895            4985   4998            4991   \n",
       "unique      2              2398            3032    914            2097   \n",
       "top     Color  Steven Spielberg  Morgan Freeman  Drama  Robert De Niro   \n",
       "freq     4772                26              20    235              49   \n",
       "\n",
       "       movie_title  actor_3_name   plot_keywords  \\\n",
       "count         4998          4975            4846   \n",
       "unique        4917          3521            4760   \n",
       "top       Ben-Hur   Steve Coogan  based on novel   \n",
       "freq             3             8               4   \n",
       "\n",
       "                                          movie_imdb_link language country  \\\n",
       "count                                                4998     4986    4993   \n",
       "unique                                               4919       47      65   \n",
       "top     http://www.imdb.com/title/tt2638144/?ref_=fn_t...  English     USA   \n",
       "freq                                                    3     4662    3773   \n",
       "\n",
       "       content_rating  \n",
       "count            4697  \n",
       "unique             18  \n",
       "top                 R  \n",
       "freq             2098  "
      ]
     },
     "execution_count": 10,
     "metadata": {},
     "output_type": "execute_result"
    }
   ],
   "source": [
    "dataset[categorical_cols].describe()"
   ]
  },
  {
   "cell_type": "code",
   "execution_count": 11,
   "id": "d85bc666",
   "metadata": {},
   "outputs": [
    {
     "data": {
      "text/plain": [
       "color                         19\n",
       "director_name                103\n",
       "num_critic_for_reviews        49\n",
       "duration                      15\n",
       "director_facebook_likes      103\n",
       "actor_3_facebook_likes        23\n",
       "actor_2_name                  13\n",
       "actor_1_facebook_likes         7\n",
       "gross                        874\n",
       "genres                         0\n",
       "actor_1_name                   7\n",
       "movie_title                    0\n",
       "num_voted_users                0\n",
       "cast_total_facebook_likes      0\n",
       "actor_3_name                  23\n",
       "facenumber_in_poster          13\n",
       "plot_keywords                152\n",
       "movie_imdb_link                0\n",
       "num_user_for_reviews          21\n",
       "language                      12\n",
       "country                        5\n",
       "content_rating               301\n",
       "budget                       487\n",
       "title_year                   107\n",
       "actor_2_facebook_likes        13\n",
       "imdb_score                     0\n",
       "aspect_ratio                 327\n",
       "movie_facebook_likes           0\n",
       "dtype: int64"
      ]
     },
     "execution_count": 11,
     "metadata": {},
     "output_type": "execute_result"
    }
   ],
   "source": [
    "dataset.isnull().sum()"
   ]
  },
  {
   "cell_type": "code",
   "execution_count": 12,
   "id": "732adf6b",
   "metadata": {},
   "outputs": [
    {
     "data": {
      "text/plain": [
       "array(['Color', nan, ' Black and White'], dtype=object)"
      ]
     },
     "execution_count": 12,
     "metadata": {},
     "output_type": "execute_result"
    }
   ],
   "source": [
    "dataset.color.unique()"
   ]
  },
  {
   "cell_type": "code",
   "execution_count": 13,
   "id": "25a22a50",
   "metadata": {},
   "outputs": [
    {
     "name": "stdout",
     "output_type": "stream",
     "text": [
      "19\n",
      "0\n"
     ]
    }
   ],
   "source": [
    "print(dataset.color.isnull().sum())\n",
    "color_mode = dataset['color'].mode().iloc[0]\n",
    "dataset.color.fillna(color_mode, inplace = True)\n",
    "print(dataset.color.isnull().sum())"
   ]
  },
  {
   "cell_type": "code",
   "execution_count": 14,
   "id": "36041397",
   "metadata": {},
   "outputs": [
    {
     "data": {
      "text/plain": [
       "(2398, 103)"
      ]
     },
     "execution_count": 14,
     "metadata": {},
     "output_type": "execute_result"
    }
   ],
   "source": [
    "dataset.director_name.nunique(), dataset.director_name.isnull().sum()"
   ]
  },
  {
   "cell_type": "code",
   "execution_count": 15,
   "id": "198ff973",
   "metadata": {},
   "outputs": [],
   "source": [
    "dataset = dataset.dropna(axis = 0, subset = ['director_name'] )"
   ]
  },
  {
   "cell_type": "code",
   "execution_count": 16,
   "id": "cc87c202",
   "metadata": {},
   "outputs": [
    {
     "data": {
      "text/plain": [
       "count    4851.000000\n",
       "mean      142.235828\n",
       "std       121.509947\n",
       "min         1.000000\n",
       "25%        52.000000\n",
       "50%       112.000000\n",
       "75%       196.000000\n",
       "max       813.000000\n",
       "Name: num_critic_for_reviews, dtype: float64"
      ]
     },
     "execution_count": 16,
     "metadata": {},
     "output_type": "execute_result"
    }
   ],
   "source": [
    "dataset.num_critic_for_reviews.describe()"
   ]
  },
  {
   "cell_type": "code",
   "execution_count": 17,
   "id": "5c74363c",
   "metadata": {},
   "outputs": [
    {
     "name": "stdout",
     "output_type": "stream",
     "text": [
      "44\n",
      "0\n"
     ]
    }
   ],
   "source": [
    "print(dataset.num_critic_for_reviews.isnull().sum())\n",
    "num_critic_for_reviews_median = dataset['num_critic_for_reviews'].median()\n",
    "dataset.num_critic_for_reviews.fillna(num_critic_for_reviews_median, inplace = True)\n",
    "print(dataset.num_critic_for_reviews.isnull().sum())"
   ]
  },
  {
   "cell_type": "code",
   "execution_count": 18,
   "id": "52e7c209",
   "metadata": {},
   "outputs": [
    {
     "data": {
      "text/plain": [
       "count    4882.000000\n",
       "mean      108.148300\n",
       "std        22.618418\n",
       "min         7.000000\n",
       "25%        94.000000\n",
       "50%       104.000000\n",
       "75%       118.000000\n",
       "max       330.000000\n",
       "Name: duration, dtype: float64"
      ]
     },
     "execution_count": 18,
     "metadata": {},
     "output_type": "execute_result"
    }
   ],
   "source": [
    "dataset.duration.describe()"
   ]
  },
  {
   "cell_type": "code",
   "execution_count": 19,
   "id": "9410880c",
   "metadata": {},
   "outputs": [
    {
     "name": "stdout",
     "output_type": "stream",
     "text": [
      "13\n",
      "0\n"
     ]
    }
   ],
   "source": [
    "print(dataset.duration.isnull().sum())\n",
    "duration_median = dataset.duration.median()\n",
    "dataset.duration.fillna(duration_median, inplace = True)\n",
    "print(dataset.duration.isnull().sum())"
   ]
  },
  {
   "cell_type": "code",
   "execution_count": 20,
   "id": "d8ddcf5a",
   "metadata": {},
   "outputs": [
    {
     "data": {
      "text/plain": [
       "count     4895.000000\n",
       "mean       688.679060\n",
       "std       2821.649616\n",
       "min          0.000000\n",
       "25%          7.000000\n",
       "50%         49.000000\n",
       "75%        192.000000\n",
       "max      23000.000000\n",
       "Name: director_facebook_likes, dtype: float64"
      ]
     },
     "execution_count": 20,
     "metadata": {},
     "output_type": "execute_result"
    }
   ],
   "source": [
    "dataset.director_facebook_likes.describe()"
   ]
  },
  {
   "cell_type": "code",
   "execution_count": 21,
   "id": "badef700",
   "metadata": {},
   "outputs": [
    {
     "data": {
      "text/plain": [
       "count     4895.000000\n",
       "mean       688.679060\n",
       "std       2821.649616\n",
       "min          0.000000\n",
       "25%          7.000000\n",
       "50%         49.000000\n",
       "75%        192.000000\n",
       "max      23000.000000\n",
       "Name: director_facebook_likes, dtype: float64"
      ]
     },
     "execution_count": 21,
     "metadata": {},
     "output_type": "execute_result"
    }
   ],
   "source": [
    "dataset.director_facebook_likes.describe()"
   ]
  },
  {
   "cell_type": "code",
   "execution_count": 22,
   "id": "5e96c553",
   "metadata": {},
   "outputs": [
    {
     "name": "stdout",
     "output_type": "stream",
     "text": [
      "0\n",
      "0\n"
     ]
    }
   ],
   "source": [
    "print(dataset.director_facebook_likes.isnull().sum())\n",
    "director_facebook_likes_mean = dataset.director_facebook_likes.mean()\n",
    "dataset.director_facebook_likes.fillna(director_facebook_likes_mean, inplace = True)\n",
    "print(dataset.director_facebook_likes.isnull().sum())"
   ]
  },
  {
   "cell_type": "code",
   "execution_count": 23,
   "id": "4032fc6f",
   "metadata": {},
   "outputs": [
    {
     "data": {
      "text/plain": [
       "count     4875.000000\n",
       "mean       646.100923\n",
       "std       1659.106350\n",
       "min          0.000000\n",
       "25%        133.000000\n",
       "50%        372.000000\n",
       "75%        636.000000\n",
       "max      23000.000000\n",
       "Name: actor_3_facebook_likes, dtype: float64"
      ]
     },
     "execution_count": 23,
     "metadata": {},
     "output_type": "execute_result"
    }
   ],
   "source": [
    "dataset.actor_3_facebook_likes.describe()"
   ]
  },
  {
   "cell_type": "code",
   "execution_count": 24,
   "id": "a453c324",
   "metadata": {},
   "outputs": [
    {
     "name": "stdout",
     "output_type": "stream",
     "text": [
      "20\n",
      "0\n"
     ]
    }
   ],
   "source": [
    "print(dataset.actor_3_facebook_likes.isnull().sum())\n",
    "actor_3_facebook_likes_mean = dataset.actor_3_facebook_likes.mean()\n",
    "dataset.actor_3_facebook_likes.fillna(actor_3_facebook_likes_mean, inplace = True)\n",
    "print(dataset.actor_3_facebook_likes.isnull().sum())"
   ]
  },
  {
   "cell_type": "code",
   "execution_count": 25,
   "id": "68d4df1c",
   "metadata": {},
   "outputs": [
    {
     "name": "stdout",
     "output_type": "stream",
     "text": [
      "11\n",
      "0\n"
     ]
    }
   ],
   "source": [
    "print(dataset.actor_2_name.isnull().sum())\n",
    "dataset = dataset.dropna(axis = 0, subset = ['actor_2_name'])\n",
    "print(dataset.actor_2_name.isnull().sum())"
   ]
  },
  {
   "cell_type": "code",
   "execution_count": 26,
   "id": "5fe02647",
   "metadata": {},
   "outputs": [
    {
     "data": {
      "text/plain": [
       "count      4884.000000\n",
       "mean       6670.408886\n",
       "std       15196.676305\n",
       "min           0.000000\n",
       "25%         618.000000\n",
       "50%         991.000000\n",
       "75%       11000.000000\n",
       "max      640000.000000\n",
       "Name: actor_1_facebook_likes, dtype: float64"
      ]
     },
     "execution_count": 26,
     "metadata": {},
     "output_type": "execute_result"
    }
   ],
   "source": [
    "dataset.actor_1_facebook_likes.describe()"
   ]
  },
  {
   "cell_type": "code",
   "execution_count": 27,
   "id": "4b00bfbb",
   "metadata": {},
   "outputs": [
    {
     "name": "stdout",
     "output_type": "stream",
     "text": [
      "0\n",
      "0\n"
     ]
    }
   ],
   "source": [
    "print(dataset.actor_1_facebook_likes.isnull().sum())\n",
    "actor_1_facebook_likes_mean = dataset.actor_1_facebook_likes.mean()\n",
    "dataset.actor_1_facebook_likes.fillna(actor_1_facebook_likes_mean, inplace = True)\n",
    "print(dataset.actor_1_facebook_likes.isnull().sum())"
   ]
  },
  {
   "cell_type": "code",
   "execution_count": 28,
   "id": "0967d709",
   "metadata": {},
   "outputs": [
    {
     "name": "stdout",
     "output_type": "stream",
     "text": [
      "(4884, 28)\n",
      "count    4.115000e+03\n",
      "mean     4.842949e+07\n",
      "std      6.800274e+07\n",
      "min      1.620000e+02\n",
      "25%      5.354708e+06\n",
      "50%      2.551750e+07\n",
      "75%      6.242729e+07\n",
      "max      7.605058e+08\n",
      "Name: gross, dtype: float64\n",
      "769\n"
     ]
    }
   ],
   "source": [
    "print(dataset.shape)\n",
    "print(dataset.gross.describe())\n",
    "print(dataset.gross.isnull().sum())"
   ]
  },
  {
   "cell_type": "code",
   "execution_count": 29,
   "id": "5e65ef9f",
   "metadata": {},
   "outputs": [
    {
     "data": {
      "text/plain": [
       "0"
      ]
     },
     "execution_count": 29,
     "metadata": {},
     "output_type": "execute_result"
    }
   ],
   "source": [
    "dataset = dataset.dropna(axis = 0, subset = ['gross'])\n",
    "dataset.gross.isnull().sum()"
   ]
  },
  {
   "cell_type": "code",
   "execution_count": 30,
   "id": "ceb6a936",
   "metadata": {},
   "outputs": [
    {
     "data": {
      "text/plain": [
       "(4115, 28)"
      ]
     },
     "execution_count": 30,
     "metadata": {},
     "output_type": "execute_result"
    }
   ],
   "source": [
    "dataset.shape"
   ]
  },
  {
   "cell_type": "code",
   "execution_count": 31,
   "id": "1af02440",
   "metadata": {},
   "outputs": [
    {
     "data": {
      "text/plain": [
       "color                          0\n",
       "director_name                  0\n",
       "num_critic_for_reviews         0\n",
       "duration                       0\n",
       "director_facebook_likes        0\n",
       "actor_3_facebook_likes         0\n",
       "actor_2_name                   0\n",
       "actor_1_facebook_likes         0\n",
       "gross                          0\n",
       "genres                         0\n",
       "actor_1_name                   0\n",
       "movie_title                    0\n",
       "num_voted_users                0\n",
       "cast_total_facebook_likes      0\n",
       "actor_3_name                   7\n",
       "facenumber_in_poster           7\n",
       "plot_keywords                 39\n",
       "movie_imdb_link                0\n",
       "num_user_for_reviews           1\n",
       "language                       3\n",
       "country                        0\n",
       "content_rating                60\n",
       "budget                       263\n",
       "title_year                     0\n",
       "actor_2_facebook_likes         0\n",
       "imdb_score                     0\n",
       "aspect_ratio                 102\n",
       "movie_facebook_likes           0\n",
       "dtype: int64"
      ]
     },
     "execution_count": 31,
     "metadata": {},
     "output_type": "execute_result"
    }
   ],
   "source": [
    "dataset.isnull().sum()"
   ]
  },
  {
   "cell_type": "code",
   "execution_count": 32,
   "id": "28b9ed43",
   "metadata": {},
   "outputs": [
    {
     "data": {
      "text/plain": [
       "0"
      ]
     },
     "execution_count": 32,
     "metadata": {},
     "output_type": "execute_result"
    }
   ],
   "source": [
    "dataset = dataset.dropna(axis = 0, subset = ['budget'])\n",
    "dataset.budget.isnull().sum()"
   ]
  },
  {
   "cell_type": "code",
   "execution_count": 33,
   "id": "6d15f31a",
   "metadata": {},
   "outputs": [
    {
     "data": {
      "text/plain": [
       "0"
      ]
     },
     "execution_count": 33,
     "metadata": {},
     "output_type": "execute_result"
    }
   ],
   "source": [
    "dataset = dataset.dropna(axis = 0, subset = ['actor_3_name'])\n",
    "dataset.actor_3_name.isnull().sum()"
   ]
  },
  {
   "cell_type": "code",
   "execution_count": 34,
   "id": "498b27bf",
   "metadata": {},
   "outputs": [
    {
     "data": {
      "text/plain": [
       "0"
      ]
     },
     "execution_count": 34,
     "metadata": {},
     "output_type": "execute_result"
    }
   ],
   "source": [
    "facenumber_in_poster_median = dataset.facenumber_in_poster.median()\n",
    "dataset.facenumber_in_poster.fillna(facenumber_in_poster_median, inplace = True)\n",
    "dataset.facenumber_in_poster.isnull().sum()"
   ]
  },
  {
   "cell_type": "code",
   "execution_count": 35,
   "id": "cf2e8548",
   "metadata": {},
   "outputs": [
    {
     "data": {
      "text/plain": [
       "array(['avatar|future|marine|native|paraplegic',\n",
       "       'goddess|marriage ceremony|marriage proposal|pirate|singapore',\n",
       "       'bomb|espionage|sequel|spy|terrorist', ...,\n",
       "       'assassin|death|guitar|gun|mariachi',\n",
       "       'written and directed by cast member',\n",
       "       'actress name in title|crush|date|four word title|video camera'],\n",
       "      dtype=object)"
      ]
     },
     "execution_count": 35,
     "metadata": {},
     "output_type": "execute_result"
    }
   ],
   "source": [
    "dataset.plot_keywords.unique()"
   ]
  },
  {
   "cell_type": "code",
   "execution_count": 36,
   "id": "126be88b",
   "metadata": {},
   "outputs": [
    {
     "data": {
      "text/plain": [
       "animal name in title|ape abducts a woman|gorilla|island|king kong                    3\n",
       "alien friendship|alien invasion|australia|flying car|mother daughter relationship    3\n",
       "ghost|haunted|haunting|house|paranormal investigator                                 2\n",
       "anti war|liverpool|love|protest|song                                                 2\n",
       "famous line|hand to hand combat|kraken|rape|zeus                                     2\n",
       "                                                                                    ..\n",
       "alien|left for dead|mercenary|survival|vomiting                                      1\n",
       "deputy|fbi agent|knife held to throat|serial killer|sheriff                          1\n",
       "army|mexican|orphan|texas|texas ranger                                               1\n",
       "box|food|mayor|pipeworks|scientist                                                   1\n",
       "actress name in title|crush|date|four word title|video camera                        1\n",
       "Name: plot_keywords, Length: 3750, dtype: int64"
      ]
     },
     "execution_count": 36,
     "metadata": {},
     "output_type": "execute_result"
    }
   ],
   "source": [
    "dataset.plot_keywords.value_counts()"
   ]
  },
  {
   "cell_type": "code",
   "execution_count": 37,
   "id": "367d4c66",
   "metadata": {},
   "outputs": [
    {
     "data": {
      "text/plain": [
       "array(['English', 'Mandarin', 'Aboriginal', 'Spanish', 'French',\n",
       "       'Filipino', 'Maya', 'Kazakh', 'Telugu', 'Cantonese', 'Japanese',\n",
       "       'Aramaic', 'Italian', 'Dutch', 'Dari', 'German', 'Mongolian',\n",
       "       'Thai', 'Bosnian', 'Korean', 'Hungarian', 'Hindi', nan,\n",
       "       'Icelandic', 'Danish', 'Portuguese', 'Norwegian', 'Czech',\n",
       "       'Russian', 'None', 'Zulu', 'Hebrew', 'Dzongkha', 'Arabic',\n",
       "       'Vietnamese', 'Indonesian', 'Romanian', 'Persian', 'Swedish'],\n",
       "      dtype=object)"
      ]
     },
     "execution_count": 37,
     "metadata": {},
     "output_type": "execute_result"
    }
   ],
   "source": [
    "dataset.language.unique()"
   ]
  },
  {
   "cell_type": "code",
   "execution_count": 38,
   "id": "9f475226",
   "metadata": {},
   "outputs": [
    {
     "data": {
      "text/plain": [
       "English       3665\n",
       "French          37\n",
       "Spanish         26\n",
       "Mandarin        14\n",
       "German          13\n",
       "Japanese        12\n",
       "Hindi           10\n",
       "Cantonese        8\n",
       "Italian          7\n",
       "Portuguese       5\n",
       "Korean           5\n",
       "Norwegian        4\n",
       "Dutch            3\n",
       "Persian          3\n",
       "Thai             3\n",
       "Danish           3\n",
       "Aboriginal       2\n",
       "Dari             2\n",
       "Indonesian       2\n",
       "Hebrew           2\n",
       "Russian          1\n",
       "Romanian         1\n",
       "Vietnamese       1\n",
       "Arabic           1\n",
       "Dzongkha         1\n",
       "Zulu             1\n",
       "None             1\n",
       "Aramaic          1\n",
       "Czech            1\n",
       "Telugu           1\n",
       "Icelandic        1\n",
       "Filipino         1\n",
       "Hungarian        1\n",
       "Maya             1\n",
       "Bosnian          1\n",
       "Mongolian        1\n",
       "Kazakh           1\n",
       "Swedish          1\n",
       "Name: language, dtype: int64"
      ]
     },
     "execution_count": 38,
     "metadata": {},
     "output_type": "execute_result"
    }
   ],
   "source": [
    "dataset.language.value_counts()"
   ]
  },
  {
   "cell_type": "code",
   "execution_count": 39,
   "id": "f8f9aadb",
   "metadata": {},
   "outputs": [
    {
     "data": {
      "text/plain": [
       "3"
      ]
     },
     "execution_count": 39,
     "metadata": {},
     "output_type": "execute_result"
    }
   ],
   "source": [
    "dataset.language.isnull().sum()"
   ]
  },
  {
   "cell_type": "code",
   "execution_count": 40,
   "id": "0678d305",
   "metadata": {},
   "outputs": [
    {
     "name": "stdout",
     "output_type": "stream",
     "text": [
      "English\n"
     ]
    },
    {
     "data": {
      "text/plain": [
       "0"
      ]
     },
     "execution_count": 40,
     "metadata": {},
     "output_type": "execute_result"
    }
   ],
   "source": [
    "language_mode = dataset.language.mode().iloc[0]\n",
    "print(language_mode)\n",
    "dataset.language.fillna(language_mode, inplace = True)\n",
    "dataset.language.isnull().sum()"
   ]
  },
  {
   "cell_type": "code",
   "execution_count": 41,
   "id": "4a795f38",
   "metadata": {},
   "outputs": [
    {
     "data": {
      "text/plain": [
       "0"
      ]
     },
     "execution_count": 41,
     "metadata": {},
     "output_type": "execute_result"
    }
   ],
   "source": [
    "dataset = dataset.dropna(axis = 0, subset = ['plot_keywords'])\n",
    "dataset.plot_keywords.isnull().sum()"
   ]
  },
  {
   "cell_type": "code",
   "execution_count": 42,
   "id": "c30893f5",
   "metadata": {},
   "outputs": [
    {
     "data": {
      "text/plain": [
       "array(['PG-13', 'PG', 'G', 'R', 'Approved', 'NC-17', nan, 'X',\n",
       "       'Not Rated', 'Unrated', 'M', 'GP', 'Passed'], dtype=object)"
      ]
     },
     "execution_count": 42,
     "metadata": {},
     "output_type": "execute_result"
    }
   ],
   "source": [
    "dataset.content_rating.unique()"
   ]
  },
  {
   "cell_type": "code",
   "execution_count": 43,
   "id": "463ed4fe",
   "metadata": {},
   "outputs": [],
   "source": [
    "dataset.content_rating.fillna('Not Rated', inplace = True)"
   ]
  },
  {
   "cell_type": "code",
   "execution_count": 44,
   "id": "d3680f89",
   "metadata": {},
   "outputs": [
    {
     "data": {
      "text/plain": [
       "array([ 1.78,  2.35,  1.85,  2.  ,  2.2 ,  2.39,  2.24,  1.66,  1.5 ,\n",
       "        1.77,  2.4 ,  1.37,   nan,  2.76,  1.33,  1.18,  2.55,  1.75,\n",
       "       16.  ])"
      ]
     },
     "execution_count": 44,
     "metadata": {},
     "output_type": "execute_result"
    }
   ],
   "source": [
    "dataset.aspect_ratio.unique()"
   ]
  },
  {
   "cell_type": "code",
   "execution_count": 45,
   "id": "0ba07f29",
   "metadata": {},
   "outputs": [],
   "source": [
    "aspect_ratio_mode = dataset.aspect_ratio.mode().iloc[0]\n",
    "dataset.aspect_ratio.fillna(aspect_ratio_mode, inplace = True)  "
   ]
  },
  {
   "cell_type": "code",
   "execution_count": 46,
   "id": "882c0504",
   "metadata": {},
   "outputs": [
    {
     "data": {
      "text/plain": [
       "color                        0\n",
       "director_name                0\n",
       "num_critic_for_reviews       0\n",
       "duration                     0\n",
       "director_facebook_likes      0\n",
       "actor_3_facebook_likes       0\n",
       "actor_2_name                 0\n",
       "actor_1_facebook_likes       0\n",
       "gross                        0\n",
       "genres                       0\n",
       "actor_1_name                 0\n",
       "movie_title                  0\n",
       "num_voted_users              0\n",
       "cast_total_facebook_likes    0\n",
       "actor_3_name                 0\n",
       "facenumber_in_poster         0\n",
       "plot_keywords                0\n",
       "movie_imdb_link              0\n",
       "num_user_for_reviews         0\n",
       "language                     0\n",
       "country                      0\n",
       "content_rating               0\n",
       "budget                       0\n",
       "title_year                   0\n",
       "actor_2_facebook_likes       0\n",
       "imdb_score                   0\n",
       "aspect_ratio                 0\n",
       "movie_facebook_likes         0\n",
       "dtype: int64"
      ]
     },
     "execution_count": 46,
     "metadata": {},
     "output_type": "execute_result"
    }
   ],
   "source": [
    "dataset.isnull().sum()"
   ]
  },
  {
   "cell_type": "code",
   "execution_count": 47,
   "id": "096a91bd",
   "metadata": {},
   "outputs": [],
   "source": [
    "dataset.reset_index(inplace = True, drop = True)"
   ]
  },
  {
   "cell_type": "code",
   "execution_count": 48,
   "id": "fe964372",
   "metadata": {},
   "outputs": [],
   "source": [
    "#dataset.profile_report()"
   ]
  },
  {
   "cell_type": "markdown",
   "id": "a6840058",
   "metadata": {},
   "source": [
    "Dealing with Null Data amount we have lost 25% of the given data. Let's deal with converting the Data in to numericals to feed our model."
   ]
  },
  {
   "cell_type": "code",
   "execution_count": 49,
   "id": "0edb2867",
   "metadata": {},
   "outputs": [
    {
     "data": {
      "text/plain": [
       "(['num_critic_for_reviews',\n",
       "  'duration',\n",
       "  'director_facebook_likes',\n",
       "  'actor_3_facebook_likes',\n",
       "  'actor_1_facebook_likes',\n",
       "  'gross',\n",
       "  'num_voted_users',\n",
       "  'cast_total_facebook_likes',\n",
       "  'facenumber_in_poster',\n",
       "  'num_user_for_reviews',\n",
       "  'budget',\n",
       "  'title_year',\n",
       "  'actor_2_facebook_likes',\n",
       "  'imdb_score',\n",
       "  'aspect_ratio',\n",
       "  'movie_facebook_likes'],\n",
       " ['color',\n",
       "  'director_name',\n",
       "  'actor_2_name',\n",
       "  'genres',\n",
       "  'actor_1_name',\n",
       "  'movie_title',\n",
       "  'actor_3_name',\n",
       "  'plot_keywords',\n",
       "  'movie_imdb_link',\n",
       "  'language',\n",
       "  'country',\n",
       "  'content_rating'])"
      ]
     },
     "execution_count": 49,
     "metadata": {},
     "output_type": "execute_result"
    }
   ],
   "source": [
    "numerical_cols, categorical_cols"
   ]
  },
  {
   "cell_type": "code",
   "execution_count": 50,
   "id": "70ba67b3",
   "metadata": {},
   "outputs": [],
   "source": [
    "dataset['color'] = dataset.color.map({'Color' : 1 , ' Black and White' : 0})"
   ]
  },
  {
   "cell_type": "code",
   "execution_count": 51,
   "id": "e5ac4d30",
   "metadata": {},
   "outputs": [
    {
     "data": {
      "text/plain": [
       "(array(['James Cameron', 'Gore Verbinski', 'Sam Mendes', ...,\n",
       "        'Kiyoshi Kurosawa', 'Shane Carruth', 'Neill Dela Llana'],\n",
       "       dtype=object),\n",
       " 1723)"
      ]
     },
     "execution_count": 51,
     "metadata": {},
     "output_type": "execute_result"
    }
   ],
   "source": [
    "dataset.director_name.unique(), dataset.director_name.nunique()"
   ]
  },
  {
   "cell_type": "code",
   "execution_count": 52,
   "id": "66d45c76",
   "metadata": {},
   "outputs": [],
   "source": [
    "director_name_value_counts = dataset.director_name.value_counts()"
   ]
  },
  {
   "cell_type": "code",
   "execution_count": 53,
   "id": "2224a56e",
   "metadata": {},
   "outputs": [],
   "source": [
    "director_name_value_counts  = pd.DataFrame(director_name_value_counts).reset_index().rename(columns = {'index': 'director_name', 'director_name':'director_name_value_counts'})"
   ]
  },
  {
   "cell_type": "code",
   "execution_count": 54,
   "id": "4a8705db",
   "metadata": {},
   "outputs": [
    {
     "name": "stdout",
     "output_type": "stream",
     "text": [
      "          director_name  director_name_value_counts\n",
      "0      Steven Spielberg                          25\n",
      "1           Woody Allen                          19\n",
      "2        Clint Eastwood                          19\n",
      "3          Ridley Scott                          17\n",
      "4     Steven Soderbergh                          16\n",
      "...                 ...                         ...\n",
      "1718      Bruce Paltrow                           1\n",
      "1719        Adam Rifkin                           1\n",
      "1720       Susanne Bier                           1\n",
      "1721    Kenneth Johnson                           1\n",
      "1722   Neill Dela Llana                           1\n",
      "\n",
      "[1723 rows x 2 columns]\n"
     ]
    }
   ],
   "source": [
    "print(director_name_value_counts)"
   ]
  },
  {
   "cell_type": "code",
   "execution_count": 55,
   "id": "a19906f0",
   "metadata": {},
   "outputs": [],
   "source": [
    "dataset = pd.merge(dataset, director_name_value_counts,left_on = 'director_name', right_on = 'director_name', how = 'left')"
   ]
  },
  {
   "cell_type": "code",
   "execution_count": 56,
   "id": "8feedc10",
   "metadata": {},
   "outputs": [
    {
     "name": "stdout",
     "output_type": "stream",
     "text": [
      "      color  num_critic_for_reviews  duration  director_facebook_likes  \\\n",
      "0         1                   723.0     178.0                      0.0   \n",
      "1         1                   302.0     169.0                    563.0   \n",
      "2         1                   602.0     148.0                      0.0   \n",
      "3         1                   813.0     164.0                  22000.0   \n",
      "4         1                   462.0     132.0                    475.0   \n",
      "...     ...                     ...       ...                      ...   \n",
      "3812      1                   143.0      77.0                    291.0   \n",
      "3813      1                    35.0      80.0                      0.0   \n",
      "3814      1                    56.0      81.0                      0.0   \n",
      "3815      1                    14.0      95.0                      0.0   \n",
      "3816      1                    43.0      90.0                     16.0   \n",
      "\n",
      "      actor_3_facebook_likes        actor_2_name  actor_1_facebook_likes  \\\n",
      "0                      855.0    Joel David Moore                  1000.0   \n",
      "1                     1000.0       Orlando Bloom                 40000.0   \n",
      "2                      161.0        Rory Kinnear                 11000.0   \n",
      "3                    23000.0      Christian Bale                 27000.0   \n",
      "4                      530.0     Samantha Morton                   640.0   \n",
      "...                      ...                 ...                     ...   \n",
      "3812                     8.0      David Sullivan                   291.0   \n",
      "3813                     0.0     Edgar Tancangco                     0.0   \n",
      "3814                     6.0     Peter Marquardt                   121.0   \n",
      "3815                   133.0  Caitlin FitzGerald                   296.0   \n",
      "3816                    16.0    Brian Herzlinger                    86.0   \n",
      "\n",
      "            gross                               genres     actor_1_name  ...  \\\n",
      "0     760505847.0      Action|Adventure|Fantasy|Sci-Fi      CCH Pounder  ...   \n",
      "1     309404152.0             Action|Adventure|Fantasy      Johnny Depp  ...   \n",
      "2     200074175.0            Action|Adventure|Thriller  Christoph Waltz  ...   \n",
      "3     448130642.0                      Action|Thriller        Tom Hardy  ...   \n",
      "4      73058679.0              Action|Adventure|Sci-Fi     Daryl Sabara  ...   \n",
      "...           ...                                  ...              ...  ...   \n",
      "3812     424760.0                Drama|Sci-Fi|Thriller    Shane Carruth  ...   \n",
      "3813      70071.0                             Thriller      Ian Gamazon  ...   \n",
      "3814    2040920.0  Action|Crime|Drama|Romance|Thriller  Carlos Gallardo  ...   \n",
      "3815       4584.0                         Comedy|Drama      Kerry Bishé  ...   \n",
      "3816      85222.0                          Documentary      John August  ...   \n",
      "\n",
      "     language      country  content_rating       budget  title_year  \\\n",
      "0     English          USA           PG-13  237000000.0      2009.0   \n",
      "1     English          USA           PG-13  300000000.0      2007.0   \n",
      "2     English           UK           PG-13  245000000.0      2015.0   \n",
      "3     English          USA           PG-13  250000000.0      2012.0   \n",
      "4     English          USA           PG-13  263700000.0      2012.0   \n",
      "...       ...          ...             ...          ...         ...   \n",
      "3812  English          USA           PG-13       7000.0      2004.0   \n",
      "3813  English  Philippines       Not Rated       7000.0      2005.0   \n",
      "3814  Spanish          USA               R       7000.0      1992.0   \n",
      "3815  English          USA       Not Rated       9000.0      2011.0   \n",
      "3816  English          USA              PG       1100.0      2004.0   \n",
      "\n",
      "     actor_2_facebook_likes imdb_score  aspect_ratio movie_facebook_likes  \\\n",
      "0                     936.0        7.9          1.78                33000   \n",
      "1                    5000.0        7.1          2.35                    0   \n",
      "2                     393.0        6.8          2.35                85000   \n",
      "3                   23000.0        8.5          2.35               164000   \n",
      "4                     632.0        6.6          2.35                24000   \n",
      "...                     ...        ...           ...                  ...   \n",
      "3812                   45.0        7.0          1.85                19000   \n",
      "3813                    0.0        6.3          2.35                   74   \n",
      "3814                   20.0        6.9          1.37                    0   \n",
      "3815                  205.0        6.4          2.35                  413   \n",
      "3816                   23.0        6.6          1.85                  456   \n",
      "\n",
      "     director_name_value_counts  \n",
      "0                             7  \n",
      "1                             7  \n",
      "2                             8  \n",
      "3                             8  \n",
      "4                             3  \n",
      "...                         ...  \n",
      "3812                          1  \n",
      "3813                          1  \n",
      "3814                         13  \n",
      "3815                          3  \n",
      "3816                          3  \n",
      "\n",
      "[3817 rows x 28 columns]\n"
     ]
    }
   ],
   "source": [
    "dataset = dataset.drop(columns = 'director_name')\n",
    "print(dataset)"
   ]
  },
  {
   "cell_type": "code",
   "execution_count": 57,
   "id": "2b197d7b",
   "metadata": {},
   "outputs": [
    {
     "data": {
      "text/plain": [
       "(array(['Joel David Moore', 'Orlando Bloom', 'Rory Kinnear', ...,\n",
       "        'Peter Marquardt', 'Caitlin FitzGerald', 'Brian Herzlinger'],\n",
       "       dtype=object),\n",
       " 2259)"
      ]
     },
     "execution_count": 57,
     "metadata": {},
     "output_type": "execute_result"
    }
   ],
   "source": [
    "dataset.actor_2_name.unique(), dataset.actor_2_name.nunique()"
   ]
  },
  {
   "cell_type": "code",
   "execution_count": 58,
   "id": "1ed77998",
   "metadata": {},
   "outputs": [],
   "source": [
    "actor_2_name_value_counts = dataset.actor_2_name.value_counts()"
   ]
  },
  {
   "cell_type": "code",
   "execution_count": 59,
   "id": "a5b3ca28",
   "metadata": {},
   "outputs": [],
   "source": [
    "actor_2_name_value_counts  = pd.DataFrame(actor_2_name_value_counts).reset_index().rename(columns = {'index': 'actor_2_name', 'actor_2_name':'actor_2_name_value_counts'})"
   ]
  },
  {
   "cell_type": "code",
   "execution_count": 60,
   "id": "37801cfc",
   "metadata": {},
   "outputs": [],
   "source": [
    "dataset = pd.merge(dataset, actor_2_name_value_counts,left_on = 'actor_2_name', right_on = 'actor_2_name', how = 'left')"
   ]
  },
  {
   "cell_type": "code",
   "execution_count": 61,
   "id": "df797baa",
   "metadata": {},
   "outputs": [],
   "source": [
    "dataset = dataset.drop(columns = 'actor_2_name')"
   ]
  },
  {
   "cell_type": "code",
   "execution_count": 62,
   "id": "695c7adf",
   "metadata": {},
   "outputs": [
    {
     "data": {
      "text/plain": [
       "(array(['Action|Adventure|Fantasy|Sci-Fi', 'Action|Adventure|Fantasy',\n",
       "        'Action|Adventure|Thriller', 'Action|Thriller',\n",
       "        'Action|Adventure|Sci-Fi', 'Action|Adventure|Romance',\n",
       "        'Adventure|Animation|Comedy|Family|Fantasy|Musical|Romance',\n",
       "        'Adventure|Family|Fantasy|Mystery', 'Action|Adventure',\n",
       "        'Action|Adventure|Western', 'Action|Adventure|Family|Fantasy',\n",
       "        'Action|Adventure|Comedy|Family|Fantasy|Sci-Fi',\n",
       "        'Adventure|Fantasy', 'Action|Adventure|Drama|History',\n",
       "        'Adventure|Family|Fantasy', 'Action|Adventure|Drama|Romance',\n",
       "        'Drama|Romance', 'Action|Adventure|Sci-Fi|Thriller',\n",
       "        'Action|Adventure|Fantasy|Romance',\n",
       "        'Action|Adventure|Fantasy|Sci-Fi|Thriller',\n",
       "        'Adventure|Animation|Comedy|Family|Fantasy',\n",
       "        'Adventure|Animation|Comedy|Family|Sport', 'Action|Crime|Thriller',\n",
       "        'Action|Adventure|Horror|Sci-Fi|Thriller',\n",
       "        'Adventure|Animation|Family|Sci-Fi',\n",
       "        'Action|Comedy|Crime|Thriller', 'Animation|Drama|Family|Fantasy',\n",
       "        'Action|Crime|Drama|Thriller', 'Adventure|Animation|Comedy|Family',\n",
       "        'Action|Adventure|Animation|Comedy|Family|Sci-Fi',\n",
       "        'Adventure|Drama|Family|Mystery', 'Action|Comedy|Sci-Fi|Western',\n",
       "        'Action|Adventure|Fantasy|Horror|Thriller',\n",
       "        'Action|Adventure|Comedy|Sci-Fi', 'Comedy|Family|Fantasy',\n",
       "        'Adventure|Animation|Comedy|Drama|Family|Fantasy',\n",
       "        'Adventure|Drama|Family|Fantasy', 'Action|Adventure|Drama|Fantasy',\n",
       "        'Action|Adventure|Family|Fantasy|Romance',\n",
       "        'Action|Adventure|Drama|Sci-Fi',\n",
       "        'Action|Adventure|Family|Mystery|Sci-Fi',\n",
       "        'Action|Adventure|Animation|Comedy|Drama|Family|Sci-Fi',\n",
       "        'Adventure|Animation|Comedy|Family|Sci-Fi',\n",
       "        'Adventure|Animation|Family|Fantasy', 'Action|Sci-Fi',\n",
       "        'Adventure|Drama|Sci-Fi', 'Drama|Fantasy|Romance',\n",
       "        'Adventure|Sci-Fi', 'Action|Adventure|Drama|Thriller',\n",
       "        'Action|Drama|History|Romance|War',\n",
       "        'Action|Adventure|Biography|Drama|History|Romance|War',\n",
       "        'Action|Drama', 'Drama|Horror|Sci-Fi',\n",
       "        'Adventure|Comedy|Family|Fantasy',\n",
       "        'Animation|Comedy|Family|Fantasy',\n",
       "        'Action|Adventure|Animation|Comedy|Family',\n",
       "        'Adventure|Animation|Comedy|Family|Fantasy|Musical',\n",
       "        'Mystery|Thriller', 'Adventure|Animation|Comedy|Drama|Family',\n",
       "        'Action|Adventure|Animation|Comedy|Family|Fantasy|Sci-Fi',\n",
       "        'Comedy|Fantasy|Horror', 'Drama|Fantasy|Horror|Thriller',\n",
       "        'Action|Drama|Thriller', 'Adventure',\n",
       "        'Action|Comedy|Fantasy|Sci-Fi',\n",
       "        'Action|Adventure|Comedy|Family|Fantasy|Mystery|Sci-Fi',\n",
       "        'Action|Adventure|Animation|Fantasy', 'Comedy|Crime',\n",
       "        'Action|Drama|History|War', 'Action|Adventure|Drama',\n",
       "        'Action|Adventure|Animation|Comedy|Family|Fantasy',\n",
       "        'Action|Drama|Mystery|Sci-Fi', 'Action|Adventure|Comedy|Thriller',\n",
       "        'Action|Adventure|Animation|Fantasy|Romance|Sci-Fi',\n",
       "        'Action|Adventure|Drama|History|War',\n",
       "        'Adventure|Drama|Fantasy|Romance',\n",
       "        'Animation|Comedy|Family|Musical',\n",
       "        'Adventure|Drama|Thriller|Western',\n",
       "        'Adventure|Animation|Comedy|Family|Western',\n",
       "        'Action|Mystery|Thriller', 'Adventure|Sci-Fi|Thriller',\n",
       "        'Adventure|Animation|Comedy|Family|Fantasy|Sci-Fi',\n",
       "        'Action|Crime|Mystery|Thriller', 'Action|Adventure|Family|Mystery',\n",
       "        'Adventure|Drama|Romance|War',\n",
       "        'Adventure|Animation|Family|Thriller',\n",
       "        'Action|Animation|Comedy|Family|Sci-Fi', 'Action|Comedy|Fantasy',\n",
       "        'Adventure|Animation|Comedy|Family|Musical',\n",
       "        'Action|Adventure|Crime|Mystery|Thriller',\n",
       "        'Action|Adventure|History', 'Action', 'Adventure|Drama|Fantasy',\n",
       "        'Action|Fantasy|Thriller', 'Action|Adventure|Comedy|Crime',\n",
       "        'Adventure|Mystery|Sci-Fi', 'Action|Drama|Sci-Fi|Thriller',\n",
       "        'Action|Crime|Sci-Fi|Thriller', 'Action|Family|Sport',\n",
       "        'Comedy|Drama|Romance', 'Action|Comedy|Romance',\n",
       "        'Action|Adventure|Mystery|Sci-Fi', 'Action|Drama|War',\n",
       "        'Adventure|Drama|Sci-Fi|Thriller',\n",
       "        'Action|Adventure|Comedy|Family|Fantasy', 'Crime|Thriller',\n",
       "        'Action|Comedy|Crime|Romance|Thriller', 'Biography|Drama',\n",
       "        'Action|Comedy|Crime|Sci-Fi|Thriller', 'Action|Drama|Fantasy|War',\n",
       "        'Animation|Comedy|Family|Music|Western',\n",
       "        'Action|Adventure|Mystery|Sci-Fi|Thriller',\n",
       "        'Action|Drama|Sci-Fi|Sport', 'Action|Crime|Romance|Thriller',\n",
       "        'Action|Adventure|Comedy', 'Biography|Drama|Sport',\n",
       "        'Action|Mystery|Sci-Fi|Thriller',\n",
       "        'Animation|Family|Fantasy|Musical|Romance',\n",
       "        'Action|Adventure|Romance|Sci-Fi|Thriller', 'Comedy|Romance',\n",
       "        'Action|Drama|Romance', 'Biography|Crime|Drama|History|Romance',\n",
       "        'Biography|Crime|Drama', 'Action|Comedy|Thriller',\n",
       "        'Action|Comedy|Crime', 'Action|Drama|Mystery|Thriller',\n",
       "        'Drama|Western', 'Animation|Drama|Family|Musical|Romance',\n",
       "        'Action|Adventure|Comedy|Family|Mystery',\n",
       "        'Action|Romance|Thriller', 'Action|Fantasy|Horror|Mystery',\n",
       "        'Adventure|Drama|Thriller', 'Biography|Comedy|Crime|Drama',\n",
       "        'Action|Sci-Fi|War', 'Drama|Sci-Fi',\n",
       "        'Action|Adventure|Animation|Family|Fantasy',\n",
       "        'Action|Crime|Fantasy|Romance|Thriller', 'Adventure|Comedy|Sci-Fi',\n",
       "        'Action|Crime|Sport|Thriller',\n",
       "        'Action|Adventure|Biography|Drama|History|Thriller',\n",
       "        'Action|Comedy|Sci-Fi', 'Action|Drama|Thriller|War',\n",
       "        'Drama|Mystery|Thriller', 'Action|Adventure|Fantasy|Thriller',\n",
       "        'Crime|Drama', 'Drama|History|Romance|War',\n",
       "        'Animation|Comedy|Family|Sport', 'Comedy|Sci-Fi|Thriller',\n",
       "        'Drama|History|War', 'Comedy',\n",
       "        'Adventure|Animation|Comedy|Family|Romance',\n",
       "        'Drama|Family|Fantasy|Romance', 'Drama|Fantasy|Thriller',\n",
       "        'Drama|Mystery|Romance|Sci-Fi|Thriller',\n",
       "        'Drama|History|War|Western', 'Action|Adventure|Animation|Family',\n",
       "        'Adventure|Comedy|Family|Mystery|Sci-Fi',\n",
       "        'Drama|Fantasy|Horror|Mystery|Thriller',\n",
       "        'Animation|Comedy|Family|Sci-Fi',\n",
       "        'Adventure|Comedy|Drama|Fantasy|Romance',\n",
       "        'Action|Adventure|Comedy|Crime|Thriller', 'Crime|Drama|Thriller',\n",
       "        'Adventure|Animation|Family|Fantasy|Musical|War', 'Action|Comedy',\n",
       "        'Crime|Drama|Mystery|Thriller',\n",
       "        'Action|Adventure|Animation|Family|Fantasy|Sci-Fi',\n",
       "        'Adventure|Animation|Comedy|Family|Fantasy|Music',\n",
       "        'Drama|History|Thriller|War', 'Action|Animation|Comedy|Sci-Fi',\n",
       "        'Comedy|Family|Fantasy|Horror|Mystery',\n",
       "        'Drama|Mystery|Sci-Fi|Thriller', 'Action|Horror|Sci-Fi|Thriller',\n",
       "        'Crime|Mystery|Thriller',\n",
       "        'Action|Adventure|Comedy|Crime|Mystery|Thriller',\n",
       "        'Comedy|Drama|Sci-Fi', 'Action|Family|Fantasy|Musical',\n",
       "        'Drama|History|Sport', 'Adventure|Drama|Romance',\n",
       "        'Animation|Comedy|Family|Music|Romance',\n",
       "        'Animation|Comedy|Family|Fantasy|Musical|Romance',\n",
       "        'Adventure|Comedy|Family', 'Action|Crime|Drama|Mystery|Thriller',\n",
       "        'Action|Adventure|Comedy|Fantasy',\n",
       "        'Adventure|Comedy|Drama|Family|Fantasy',\n",
       "        'Action|Comedy|Fantasy|Romance', 'Comedy|Romance|Sci-Fi',\n",
       "        'Adventure|Comedy|Mystery', 'Comedy|Drama|Fantasy|Romance',\n",
       "        'Action|Comedy|Family|Fantasy',\n",
       "        'Action|Adventure|Fantasy|Horror|Sci-Fi',\n",
       "        'Crime|Drama|History|Mystery|Thriller', 'Comedy|Drama',\n",
       "        'Adventure|Animation|Comedy|Drama|Family|Fantasy|Sci-Fi',\n",
       "        'Action|Drama|Romance|Sci-Fi|Thriller', 'Comedy|Crime|Sport',\n",
       "        'Comedy|Family|Fantasy|Romance',\n",
       "        'Adventure|Drama|History|Romance|War', 'Comedy|Family|Sci-Fi',\n",
       "        'Fantasy|Horror|Mystery|Thriller',\n",
       "        'Adventure|Animation|Comedy|Family|Fantasy|Sci-Fi|Sport',\n",
       "        'Adventure|Comedy|Crime|Family|Mystery', 'Drama|Sci-Fi|Thriller',\n",
       "        'Action|Crime|Mystery|Romance|Thriller',\n",
       "        'Action|Adventure|Comedy|Romance',\n",
       "        'Adventure|Animation|Family|Western', 'Comedy|Family|Romance',\n",
       "        'Action|Adventure|Family|Sci-Fi|Thriller',\n",
       "        'Animation|Family|Fantasy|Music',\n",
       "        'Action|Adventure|Family|Fantasy|Thriller', 'Comedy|Fantasy',\n",
       "        'Action|Adventure|Comedy|Fantasy|Thriller',\n",
       "        'Action|Sci-Fi|Thriller', 'Drama|History|Thriller',\n",
       "        'Adventure|Animation|Family', 'Drama|Musical|Romance',\n",
       "        'Documentary|Drama', 'Action|Adventure|Drama|History|Romance',\n",
       "        'Adventure|Animation|Drama|Family|Musical',\n",
       "        'Animation|Comedy|Family|Fantasy|Sci-Fi',\n",
       "        'Adventure|Animation|Drama|Family|Fantasy', 'Sci-Fi|Thriller',\n",
       "        'Animation|Comedy|Family', 'Action|Crime|Fantasy|Thriller',\n",
       "        'Comedy|Drama|Family|Music|Musical|Romance',\n",
       "        'Horror|Mystery|Thriller', 'Action|Adventure|Comedy|Family|Sci-Fi',\n",
       "        'Comedy|Family', 'Biography|Comedy|Drama|History',\n",
       "        'Drama|Music|Musical', 'Comedy|Crime|Music',\n",
       "        'Action|Comedy|Romance|Thriller',\n",
       "        'Animation|Comedy|Family|Fantasy|Mystery',\n",
       "        'Comedy|Crime|Drama|Romance', 'Action|Adventure|Romance|Thriller',\n",
       "        'Drama|History|Romance', 'Action|Drama|Fantasy|Romance',\n",
       "        'Action|Adventure|Animation|Family|Sci-Fi', 'Action|Drama|Sci-Fi',\n",
       "        'Animation|Comedy|Fantasy', 'Action|Fantasy',\n",
       "        'Action|Animation|Comedy|Family',\n",
       "        'Action|Adventure|Comedy|Romance|Thriller', 'Action|Comedy|Sport',\n",
       "        'Biography|Drama|History|War', 'Adventure|Animation|Comedy',\n",
       "        'Action|Drama|Sport', 'Adventure|Drama|Family',\n",
       "        'Drama|Mystery|Romance|Thriller',\n",
       "        'Adventure|Animation|Comedy|Family|Fantasy|Romance',\n",
       "        'Adventure|Drama|War', 'Action|Adventure|Crime|Thriller',\n",
       "        'Fantasy|Mystery|Romance|Sci-Fi|Thriller',\n",
       "        'Drama|Fantasy|Mystery|Thriller',\n",
       "        'Animation|Comedy|Family|Fantasy|Music',\n",
       "        'Drama|Horror|Romance|Thriller', 'Drama|War', 'Drama',\n",
       "        'Action|Drama|Fantasy|Horror|War',\n",
       "        'Adventure|Family|Fantasy|Romance',\n",
       "        'Adventure|Biography|Drama|History|War',\n",
       "        'Action|Adventure|Horror|Sci-Fi', 'Action|Fantasy|Horror',\n",
       "        'Comedy|Drama|Musical|Romance', 'Action|Sci-Fi|Sport',\n",
       "        'Action|Adventure|Animation|Comedy|Crime|Family|Fantasy',\n",
       "        'Adventure|Animation|Family|Fantasy|Musical',\n",
       "        'Action|Crime|Mystery|Sci-Fi|Thriller',\n",
       "        'Action|Comedy|Crime|Drama|Thriller',\n",
       "        'Adventure|Drama|History|Romance', 'Biography|Drama|Thriller',\n",
       "        'Action|Adventure|Fantasy|War', 'Comedy|Fantasy|Romance',\n",
       "        'Drama|Horror|Sci-Fi|Thriller', 'Adventure|Drama|History',\n",
       "        'Action|Adventure|Comedy|Romance|Thriller|Western',\n",
       "        'Biography|Drama|Sport|War', 'Comedy|Drama|Family|Musical',\n",
       "        'Action|Adventure|Fantasy|Horror|Sci-Fi|Thriller', 'Drama|Sport',\n",
       "        'Action|Fantasy|Sci-Fi|Thriller', 'Drama|Mystery|Romance',\n",
       "        'Adventure|Biography|Drama|History|Sport|Thriller',\n",
       "        'Crime|Drama|Fantasy', 'Adventure|Biography|Crime|Drama|Western',\n",
       "        'Action|War', 'Comedy|Romance|Sport',\n",
       "        'Crime|Drama|Mystery|Thriller|Western', 'Comedy|Sport',\n",
       "        'Comedy|Drama|Family', 'Crime|Drama|Fantasy|Mystery',\n",
       "        'Adventure|Animation|Biography|Drama|Family|Fantasy|Musical',\n",
       "        'Drama|Romance|Western', 'Documentary|Music', 'Drama|Thriller',\n",
       "        'Animation|Family|Fantasy', 'Action|Fantasy|Horror|Sci-Fi',\n",
       "        'Biography|Comedy|Drama', 'Action|Horror|Sci-Fi',\n",
       "        'Adventure|Comedy', 'Biography|Drama|History|Sport',\n",
       "        'Comedy|Crime|Romance|Thriller', 'Comedy|Crime|Romance',\n",
       "        'Horror|Mystery|Sci-Fi|Thriller', 'Biography|Drama|Music',\n",
       "        'Drama|Fantasy|Sport', 'Adventure|Comedy|Drama|Music',\n",
       "        'Action|Fantasy|Horror|Sci-Fi|Thriller',\n",
       "        'Adventure|Animation|Comedy|Drama|Family|Fantasy|Romance',\n",
       "        'Horror|Sci-Fi|Thriller', 'Drama|Fantasy|Mystery|Romance|Thriller',\n",
       "        'Action|Adventure|Drama|History|Romance|War',\n",
       "        'Drama|Fantasy|Mystery|Romance', 'Fantasy|Horror|Mystery|Romance',\n",
       "        'Adventure|Comedy|Family|Romance|Sci-Fi', 'Drama|Horror|Thriller',\n",
       "        'Action|Comedy|Mystery|Romance',\n",
       "        'Action|Adventure|Comedy|Romance|Sci-Fi',\n",
       "        'Action|Biography|Drama|History|Thriller|War',\n",
       "        'Adventure|Comedy|Family|Fantasy|Horror',\n",
       "        'Comedy|Family|Romance|Sci-Fi', 'Action|Adventure|Thriller|War',\n",
       "        'Comedy|Drama|Romance|Sport', 'Action|Comedy|Crime|Drama',\n",
       "        'Drama|Music|Romance|War', 'Action|Comedy|Drama|Family|Thriller',\n",
       "        'Action|Crime',\n",
       "        'Adventure|Animation|Drama|Family|History|Musical|Romance',\n",
       "        'Action|Adventure|Drama|Romance|Sci-Fi',\n",
       "        'Action|Adventure|Comedy|Family|Romance',\n",
       "        'Action|Adventure|Comedy|Western',\n",
       "        'Biography|Drama|History|Musical',\n",
       "        'Adventure|Drama|Horror|Thriller', 'Action|Drama|Sport|Thriller',\n",
       "        'Drama|Musical|Romance|Thriller', 'Comedy|Drama|Family|Fantasy',\n",
       "        'Adventure|Comedy|Crime|Family|Musical',\n",
       "        'Drama|Music|Musical|Romance', 'Drama|Mystery|Romance|War',\n",
       "        'Action|Adventure|Romance|Sci-Fi',\n",
       "        'Adventure|Animation|Drama|Family|Fantasy|Musical|Mystery|Romance',\n",
       "        'Action|Horror|Thriller', 'Drama|History|Horror',\n",
       "        'Drama|Romance|Sport', 'Comedy|Family|Musical|Romance',\n",
       "        'Romance|Sci-Fi|Thriller', 'Biography|Comedy|Drama|Romance',\n",
       "        'Mystery|Sci-Fi|Thriller', 'Drama|Fantasy|Horror',\n",
       "        'Adventure|Comedy|Drama|Fantasy|Musical',\n",
       "        'Action|Adventure|Family|Fantasy|Sci-Fi|Thriller',\n",
       "        'Adventure|Comedy|Family|Fantasy|Romance|Sport',\n",
       "        'Adventure|Horror|Mystery', 'Crime|Drama|Romance|Thriller',\n",
       "        'Comedy|Crime|Drama|Thriller', 'Drama|Fantasy',\n",
       "        'Adventure|Comedy|Drama', 'Action|Biography|Drama|History|War',\n",
       "        'Adventure|Comedy|Fantasy', 'Adventure|Comedy|Crime|Drama|Family',\n",
       "        'Action|Biography|Crime|Drama|Thriller', 'Comedy|Sci-Fi',\n",
       "        'Action|Adventure|Comedy|Crime|Music|Mystery',\n",
       "        'Action|Crime|Drama|Sci-Fi|Thriller',\n",
       "        'Action|Adventure|Comedy|Drama|War', 'Drama|Mystery|Sci-Fi',\n",
       "        'Crime|Drama|Music', 'Adventure|Crime|Drama|Western',\n",
       "        'Comedy|Drama|Thriller',\n",
       "        'Action|Comedy|Crime|Music|Romance|Thriller',\n",
       "        'Crime|Romance|Thriller', 'Action|Adventure|Drama|Sci-Fi|Thriller',\n",
       "        'Action|Drama|Fantasy|Thriller|Western',\n",
       "        'Action|Drama|Mystery|Thriller|War', 'Action|Comedy|Crime|Romance',\n",
       "        'Action|Adventure|Family|Fantasy|Sci-Fi',\n",
       "        'Adventure|Comedy|Family|Musical', 'Action|Horror',\n",
       "        'Action|Adventure|Horror|Thriller', 'Comedy|Drama|Music|Romance',\n",
       "        'Action|Crime|Drama|Romance|Thriller',\n",
       "        'Comedy|Family|Romance|Sport', 'Drama|Family|Fantasy',\n",
       "        'Drama|Fantasy|Musical|Romance',\n",
       "        'Adventure|Comedy|Family|Fantasy|Sci-Fi', 'Comedy|Musical',\n",
       "        'Biography|Drama|History', 'Action|Crime|Drama|Thriller|War',\n",
       "        'Comedy|Crime|Thriller', 'Biography|Drama|History|Thriller',\n",
       "        'Action|Adventure|Crime|Drama|Mystery|Thriller',\n",
       "        'Animation|Family|Fantasy|Musical', 'Adventure|Drama|Western',\n",
       "        'Biography|Drama|History|Romance', 'Drama|Horror|Mystery|Thriller',\n",
       "        'Action|Fantasy|Western', 'Drama|Music',\n",
       "        'Action|Drama|Family|Sport', 'Action|Biography|Drama|Thriller|War',\n",
       "        'Comedy|Drama|Sport', 'Horror|Mystery',\n",
       "        'Adventure|Comedy|Sci-Fi|Western', 'Fantasy|Horror|Romance',\n",
       "        'Biography|Drama|Romance', 'Action|Adventure|Drama|Romance|War',\n",
       "        'Adventure|Comedy|Crime|Romance',\n",
       "        'Comedy|Drama|Family|Fantasy|Romance', 'Horror',\n",
       "        'Action|Adventure|Drama|Romance|Thriller',\n",
       "        'Biography|Drama|Music|Musical', 'Drama|History', 'Comedy|Western',\n",
       "        'Action|Adventure|Crime|Fantasy|Mystery|Thriller',\n",
       "        'Adventure|Drama|Mystery', 'Biography|Crime|Drama|Music',\n",
       "        'Crime|Drama|Horror|Thriller', 'Horror|Thriller',\n",
       "        'Adventure|Animation|Comedy|Drama|Family|Fantasy|Musical',\n",
       "        'Action|Adventure|Comedy|Music|Thriller',\n",
       "        'Adventure|Animation|Comedy|Crime|Family',\n",
       "        'Comedy|Romance|Sci-Fi|Thriller', 'Comedy|Crime|Family|Romance',\n",
       "        'Crime|Horror|Thriller', 'Action|Horror|Mystery|Sci-Fi|Thriller',\n",
       "        'Comedy|Fantasy|Sci-Fi',\n",
       "        'Adventure|Animation|Comedy|Fantasy|Romance',\n",
       "        'Action|Adventure|Family|Thriller',\n",
       "        'Adventure|Comedy|Drama|Romance|Thriller|War',\n",
       "        'Action|Drama|Fantasy', 'Action|Adventure|Drama|Fantasy|War',\n",
       "        'Drama|Fantasy|Romance|Sci-Fi',\n",
       "        'Animation|Comedy|Family|Horror|Sci-Fi',\n",
       "        'Biography|Drama|Romance|Sport', 'Action|Biography|Drama',\n",
       "        'Adventure|Drama', 'Horror|Mystery|Sci-Fi',\n",
       "        'Action|Adventure|Drama|Thriller|Western',\n",
       "        'Adventure|Family|Fantasy|Sci-Fi', 'Action|Biography|Drama|Sport',\n",
       "        'Drama|Family',\n",
       "        'Action|Adventure|Crime|Drama|Family|Fantasy|Romance|Thriller',\n",
       "        'Biography|Comedy|Romance', 'Action|Biography|Drama|History',\n",
       "        'Biography|Drama|War', 'Drama|Romance|War',\n",
       "        'Adventure|Comedy|Family|Sci-Fi',\n",
       "        'Biography|Drama|Family|History|Sport',\n",
       "        'Biography|Comedy|Drama|History|Music', 'Fantasy|Horror',\n",
       "        'Comedy|Drama|Romance|Sci-Fi',\n",
       "        'Adventure|Animation|Comedy|Family|War',\n",
       "        'Action|Comedy|Sci-Fi|Thriller', 'Comedy|Horror',\n",
       "        'Drama|Thriller|War', 'Comedy|Music', 'Action|Western',\n",
       "        'Action|Adventure|Family|Sci-Fi',\n",
       "        'Adventure|Biography|Drama|Thriller', 'Drama|Romance|War|Western',\n",
       "        'Action|Adventure|Comedy|Drama|Thriller', 'Drama|Music|Romance',\n",
       "        'Action|Adventure|Crime|Drama|Thriller',\n",
       "        'Crime|Horror|Mystery|Thriller', 'Adventure|Comedy|Family|Sport',\n",
       "        'Comedy|Drama|Fantasy', 'Comedy|Family|Sport',\n",
       "        'Action|Adventure|Drama|Family', 'Drama|Family|Sport',\n",
       "        'Action|Thriller|Western', 'Action|Drama|Fantasy|Horror|Thriller',\n",
       "        'Animation|Comedy|Family|Fantasy|Musical',\n",
       "        'Action|Crime|Drama|Mystery|Sci-Fi|Thriller',\n",
       "        'Adventure|Comedy|Crime|Drama', 'Drama|Mystery',\n",
       "        'Comedy|Fantasy|Horror|Thriller',\n",
       "        'Crime|Drama|Mystery|Sci-Fi|Thriller', 'Comedy|Crime|Musical',\n",
       "        'Comedy|Drama|Family|Music|Romance', 'Comedy|Horror|Romance',\n",
       "        'Comedy|Family|Fantasy|Sport',\n",
       "        'Animation|Comedy|Family|Mystery|Sci-Fi',\n",
       "        'Animation|Drama|Family|Fantasy|Musical|Romance',\n",
       "        'Comedy|Horror|Musical|Sci-Fi', 'Crime|Drama|Sport',\n",
       "        'Action|Adventure|Animation|Drama|Mystery|Sci-Fi|Thriller',\n",
       "        'Action|Adventure|Crime|Drama|Romance', 'Action|Comedy|Horror',\n",
       "        'Adventure|Horror|Thriller', 'Adventure|Fantasy|Mystery',\n",
       "        'Biography|Crime|Drama|History|Western',\n",
       "        'Action|Biography|Crime|Drama', 'Biography|Drama|Music|Romance',\n",
       "        'Biography|Crime|Drama|History|Music',\n",
       "        'Adventure|Animation|Comedy|Drama|Family|Musical',\n",
       "        'Comedy|Drama|Music', 'Drama|Romance|Thriller',\n",
       "        'Action|Fantasy|Horror|Thriller', 'Adventure|Biography',\n",
       "        'Action|Comedy|Family', 'Action|Horror|Romance',\n",
       "        'Action|Comedy|Crime|Music',\n",
       "        'Action|Drama|Fantasy|Mystery|Sci-Fi|Thriller',\n",
       "        'Action|Crime|Drama|History|Western', 'Comedy|Crime|Drama',\n",
       "        'Comedy|Family|Fantasy|Music|Romance',\n",
       "        'Adventure|Comedy|Crime|Music',\n",
       "        'Action|Adventure|Comedy|Sci-Fi|Thriller',\n",
       "        'Action|Crime|Drama|Western',\n",
       "        'Action|Adventure|Comedy|Family|Romance|Sci-Fi',\n",
       "        'Action|Fantasy|Romance|Sci-Fi', 'Comedy|Crime|Mystery|Romance',\n",
       "        'Adventure|Family', 'Comedy|Drama|Family|Romance',\n",
       "        'Action|Drama|Music|Romance',\n",
       "        'Adventure|Comedy|Family|Fantasy|Horror|Mystery',\n",
       "        'Action|Biography|Drama|History|Romance|Western',\n",
       "        'Biography|Drama|Family',\n",
       "        'Action|Adventure|Comedy|Crime|Family|Romance|Thriller',\n",
       "        'Drama|Romance|Sci-Fi', 'Comedy|Fantasy|Horror|Romance',\n",
       "        'Comedy|Family|Music', 'Action|Comedy|Music',\n",
       "        'Adventure|Comedy|Crime', 'Biography|Comedy|Drama|Sport',\n",
       "        'Fantasy|Horror|Thriller', 'Comedy|Drama|Romance|Thriller',\n",
       "        'Adventure|Comedy|Family|Romance',\n",
       "        'Adventure|Family|Fantasy|Musical',\n",
       "        'Biography|Crime|Drama|History|Thriller', 'Crime|Drama|History',\n",
       "        'Biography|Drama|Thriller|War',\n",
       "        'Drama|Music|Mystery|Romance|Thriller',\n",
       "        'Action|Adventure|Fantasy|Horror', 'Crime|Drama|Mystery|Romance',\n",
       "        'Action|Drama|Western', 'Comedy|War',\n",
       "        'Adventure|Comedy|Family|Fantasy|Music|Sci-Fi',\n",
       "        'Adventure|Family|Fantasy|Music|Musical',\n",
       "        'Action|Adventure|Animation|Comedy|Fantasy',\n",
       "        'Adventure|Comedy|Horror|Sci-Fi', 'Horror|Sci-Fi',\n",
       "        'Biography|Comedy|Drama|Family|Sport',\n",
       "        'Action|Crime|Drama|Thriller|Western',\n",
       "        'Drama|Fantasy|Romance|Thriller', 'Comedy|Mystery',\n",
       "        'Comedy|Drama|Musical|Romance|War',\n",
       "        'Drama|History|Music|Romance|War', 'Comedy|History',\n",
       "        'Animation|Comedy|Fantasy|Musical', 'Action|Comedy|Documentary',\n",
       "        'Adventure|Comedy|Drama|Family|Romance',\n",
       "        'Adventure|Comedy|Drama|Family|Mystery',\n",
       "        'Drama|Family|Music|Romance', 'Fantasy|Romance',\n",
       "        'Adventure|Animation|Family|Musical',\n",
       "        'Animation|Comedy|Drama|Family|Musical',\n",
       "        'Biography|Crime|Drama|History',\n",
       "        'Adventure|Comedy|Fantasy|Music|Sci-Fi',\n",
       "        'Action|Adventure|Drama|Mystery',\n",
       "        'Comedy|Crime|Family|Mystery|Romance|Thriller',\n",
       "        'Action|Adventure|Drama|Romance|Western',\n",
       "        'Adventure|Crime|Mystery|Sci-Fi|Thriller',\n",
       "        'Adventure|Biography|Drama',\n",
       "        'Adventure|Drama|Horror|Mystery|Thriller', 'Crime|Fantasy|Horror',\n",
       "        'Animation|Family|Fantasy|Mystery', 'Action|Comedy|Crime|Fantasy',\n",
       "        'Comedy|Family|Music|Musical',\n",
       "        'Drama|Mystery|Romance|Thriller|War', 'Action|Crime|Drama|Sport',\n",
       "        'Drama|Fantasy|Horror|Mystery', 'Comedy|Drama|Music|War',\n",
       "        'Comedy|Musical|Romance', 'Comedy|Crime|Drama|Mystery|Romance',\n",
       "        'Biography|Comedy|Drama|History|Music|Musical',\n",
       "        'Animation|Drama|Mystery|Sci-Fi|Thriller',\n",
       "        'Adventure|Comedy|Drama|Romance', 'Adventure|Animation|Fantasy',\n",
       "        'Comedy|Drama|Mystery|Romance|Thriller|War',\n",
       "        'Biography|Comedy|Musical', 'Crime|Drama|Western',\n",
       "        'Action|Adventure|Animation|Family|Sci-Fi|Thriller',\n",
       "        'Comedy|Family|Fantasy|Sci-Fi',\n",
       "        'Action|Comedy|Crime|Fantasy|Horror|Mystery|Sci-Fi|Thriller',\n",
       "        'Crime|Drama|Mystery', 'Adventure|Comedy|Romance',\n",
       "        'Family|Fantasy|Music', 'Crime|Drama|Music|Thriller',\n",
       "        'Action|Drama|Fantasy|Mystery|Thriller',\n",
       "        'Biography|Drama|History|Music', 'Biography|Drama|Family|Sport',\n",
       "        'Adventure|Fantasy|Mystery|Thriller',\n",
       "        'Biography|Drama|Romance|War',\n",
       "        'Action|Horror|Romance|Sci-Fi|Thriller',\n",
       "        'Action|Drama|History|Romance|War|Western',\n",
       "        'Action|Animation|Sci-Fi|Thriller',\n",
       "        'Action|Animation|Comedy|Crime|Family',\n",
       "        'Drama|Family|Music|Musical', 'Drama|Family|Musical|Romance',\n",
       "        'Comedy|Drama|Family|Fantasy|Sci-Fi', 'Comedy|Music|Romance',\n",
       "        'Adventure|Comedy|Family|Fantasy|Musical',\n",
       "        'Adventure|Crime|Drama|Romance', 'Biography|Crime|Drama|Thriller',\n",
       "        'Comedy|Mystery|Sci-Fi|Thriller', 'Drama|Fantasy|War',\n",
       "        'Action|Comedy|Crime|Family', 'Action|Comedy|Mystery',\n",
       "        'Comedy|Crime|Mystery', 'Action|Crime|Sci-Fi',\n",
       "        'Comedy|Horror|Sci-Fi', 'Drama|Family|Romance',\n",
       "        'Adventure|Comedy|Family|Music|Romance', 'Comedy|Horror|Thriller',\n",
       "        'Comedy|Family|Music|Romance',\n",
       "        'Adventure|Fantasy|Horror|Mystery|Thriller',\n",
       "        'Crime|Drama|Musical|Romance', 'Family|Music|Romance',\n",
       "        'Biography|Drama|History|Thriller|War',\n",
       "        'Adventure|Crime|Drama|Mystery|Western',\n",
       "        'Comedy|Crime|Drama|Thriller|War', 'Fantasy|Horror|Mystery',\n",
       "        'Action|Comedy|Drama|War', 'Comedy|Drama|Fantasy|Music|Romance',\n",
       "        'Adventure|Mystery|Thriller', 'Comedy|Drama|War',\n",
       "        'Comedy|Mystery|Romance', 'Biography|Crime|Drama|War',\n",
       "        'Biography|Comedy|Drama|War', 'Comedy|Crime|Family|Sci-Fi',\n",
       "        'Adventure|Family|Sci-Fi', 'Adventure|Comedy|Romance|Sci-Fi',\n",
       "        'Action|Adventure|Comedy|Family',\n",
       "        'Biography|Comedy|Crime|Drama|Romance', 'Crime|Drama|Musical',\n",
       "        'Comedy|Drama|Family|Sport', 'Animation|Comedy|Crime|Drama|Family',\n",
       "        'Action|Adventure|Comedy|Fantasy|Mystery',\n",
       "        'Action|Adventure|Drama|Thriller|War', 'Crime|Drama|Music|Romance',\n",
       "        'Adventure|Animation|Comedy|Crime',\n",
       "        'Adventure|Comedy|Fantasy|Sci-Fi',\n",
       "        'Comedy|Drama|Family|Fantasy|Musical', 'Comedy|Crime|Family',\n",
       "        'Adventure|Drama|Thriller|War', 'Comedy|Drama|Horror|Sci-Fi',\n",
       "        'Crime|Drama|Romance', 'Drama|Fantasy|Music|Romance',\n",
       "        'Family|Sci-Fi', 'Drama|History|Romance|Western',\n",
       "        'Action|Comedy|War', 'Adventure|Comedy|Music|Sci-Fi',\n",
       "        'Drama|Family|Musical', 'Action|Comedy|Drama|Music',\n",
       "        'Adventure|Comedy|Drama|Fantasy', 'Fantasy|Horror|Sci-Fi',\n",
       "        'Comedy|Romance|Thriller', 'Biography|Crime|Drama|Romance',\n",
       "        'Adventure|Comedy|Drama|Romance|Sci-Fi',\n",
       "        'Drama|Music|Mystery|Romance', 'Action|Crime|Drama',\n",
       "        'Adventure|Biography|Drama|War', 'Action|Comedy|Drama',\n",
       "        'Action|Drama|Romance|Thriller',\n",
       "        'Action|Biography|Drama|History|Romance|War',\n",
       "        'Horror|Musical|Sci-Fi', 'Biography|Drama|Family|Musical|Romance',\n",
       "        'Comedy|Crime|Drama|Romance|Thriller', 'Drama|Horror',\n",
       "        'Animation|Comedy|Drama|Romance', 'Comedy|Crime|Musical|Romance',\n",
       "        'Comedy|Crime|Musical|Mystery', 'Action|Animation|Sci-Fi',\n",
       "        'Drama|Romance|Sci-Fi|Thriller', 'Animation|Biography|Drama|War',\n",
       "        'Crime|Horror', 'Adventure|Biography|Drama|History',\n",
       "        'Action|Crime|Horror|Sci-Fi|Thriller', 'Western',\n",
       "        'Drama|Mystery|War', 'Comedy|Drama|Musical',\n",
       "        'Mystery|Romance|Thriller', 'Adventure|Comedy|Drama|Family',\n",
       "        'Musical|Romance', 'Documentary|Drama|War',\n",
       "        'Biography|Crime|Drama|Western', 'Comedy|Family|Fantasy|Musical',\n",
       "        'Crime|Drama|Musical|Romance|Thriller',\n",
       "        'Fantasy|Horror|Romance|Thriller', 'Comedy|Drama|Music|Musical',\n",
       "        'Action|Sport', 'Action|Comedy|Drama|Thriller',\n",
       "        'Drama|Horror|Mystery|Sci-Fi|Thriller', 'Comedy|Documentary',\n",
       "        'Adventure|Horror', 'Documentary',\n",
       "        'Biography|Crime|Drama|Romance|Thriller',\n",
       "        'Comedy|Crime|Drama|Mystery|Thriller',\n",
       "        'Biography|Crime|Drama|Mystery|Thriller',\n",
       "        'Crime|Horror|Music|Thriller', 'Crime|Thriller|War',\n",
       "        'Comedy|Drama|Romance|War', 'Drama|Musical', 'Fantasy|Thriller',\n",
       "        'Crime|Drama|Fantasy|Romance', 'Comedy|Horror|Mystery',\n",
       "        'Adventure|War|Western',\n",
       "        'Biography|Comedy|Musical|Romance|Western',\n",
       "        'Adventure|Comedy|Musical|Romance',\n",
       "        'Action|Adventure|Comedy|Musical', 'Comedy|Drama|Fantasy|Horror',\n",
       "        'Crime|Documentary|Drama', 'Biography|Comedy|Documentary',\n",
       "        'Comedy|Documentary|Music', 'Crime|Drama|History|Romance',\n",
       "        'Comedy|Drama|Horror', 'Drama|Family|Western',\n",
       "        'Comedy|Crime|Drama|Sci-Fi', 'Comedy|Family|Musical|Romance|Short',\n",
       "        'Comedy|Documentary|War', 'Action|Comedy|Horror|Sci-Fi',\n",
       "        'Animation|Comedy|Drama',\n",
       "        'Animation|Biography|Documentary|Drama|History|War',\n",
       "        'Documentary|War', 'Documentary|History',\n",
       "        'Biography|Documentary|History',\n",
       "        'Action|Adventure|Comedy|Drama|Music|Sci-Fi',\n",
       "        'Crime|Drama|Film-Noir|Mystery|Thriller',\n",
       "        'Comedy|Fantasy|Musical|Sci-Fi',\n",
       "        'Biography|Crime|Documentary|History|Thriller',\n",
       "        'Adventure|Comedy|Horror', 'Adventure|Comedy|Sport',\n",
       "        'Action|Drama|Horror|Thriller', 'Comedy|Horror|Musical',\n",
       "        'Biography|Crime|Documentary|History', 'Crime|Documentary|War',\n",
       "        'Documentary|Sport', 'Adventure|Biography|Documentary|Drama',\n",
       "        'Thriller', 'Comedy|Fantasy|Thriller', 'Drama|Fantasy|Sci-Fi',\n",
       "        'Action|Adventure|Drama|War',\n",
       "        'Action|Adventure|Animation|Comedy|Fantasy|Sci-Fi',\n",
       "        'Documentary|Drama|Sport', 'Documentary|History|Music',\n",
       "        'Adventure|Family|Romance',\n",
       "        'Adventure|Biography|Drama|Horror|Thriller',\n",
       "        'Biography|Documentary|Sport',\n",
       "        'Action|Biography|Documentary|Sport',\n",
       "        'Comedy|Fantasy|Horror|Musical', 'Biography|Documentary',\n",
       "        'Action|Fantasy|Horror|Mystery|Thriller',\n",
       "        'Animation|Comedy|Drama|Fantasy|Sci-Fi', 'Sci-Fi',\n",
       "        'Adventure|Horror|Sci-Fi', 'Crime|Documentary',\n",
       "        'Comedy|Crime|Drama|Horror|Thriller', 'Comedy|Documentary|Drama',\n",
       "        'Comedy|Crime|Horror'], dtype=object),\n",
       " 758)"
      ]
     },
     "execution_count": 62,
     "metadata": {},
     "output_type": "execute_result"
    }
   ],
   "source": [
    "dataset.genres.unique(), dataset.genres.nunique()"
   ]
  },
  {
   "cell_type": "code",
   "execution_count": 63,
   "id": "eebbe592",
   "metadata": {},
   "outputs": [],
   "source": [
    "dataset['main_genre'] = dataset.genres.str.split('|').str[0]"
   ]
  },
  {
   "cell_type": "code",
   "execution_count": 64,
   "id": "5a8bc553",
   "metadata": {},
   "outputs": [
    {
     "name": "stdout",
     "output_type": "stream",
     "text": [
      "0            Action\n",
      "1            Action\n",
      "2            Action\n",
      "3            Action\n",
      "4            Action\n",
      "           ...     \n",
      "3812          Drama\n",
      "3813       Thriller\n",
      "3814         Action\n",
      "3815         Comedy\n",
      "3816    Documentary\n",
      "Name: main_genre, Length: 3817, dtype: object\n"
     ]
    }
   ],
   "source": [
    "\n",
    "print(dataset['main_genre'])"
   ]
  },
  {
   "cell_type": "code",
   "execution_count": 65,
   "id": "002d1714",
   "metadata": {},
   "outputs": [
    {
     "data": {
      "text/plain": [
       "(array(['Action', 'Adventure', 'Drama', 'Animation', 'Comedy', 'Mystery',\n",
       "        'Crime', 'Biography', 'Fantasy', 'Documentary', 'Sci-Fi', 'Horror',\n",
       "        'Romance', 'Family', 'Western', 'Musical', 'Thriller'],\n",
       "       dtype=object),\n",
       " 17)"
      ]
     },
     "execution_count": 65,
     "metadata": {},
     "output_type": "execute_result"
    }
   ],
   "source": [
    "dataset.main_genre.unique(), dataset.main_genre.nunique()"
   ]
  },
  {
   "cell_type": "code",
   "execution_count": 66,
   "id": "20eb2564",
   "metadata": {},
   "outputs": [],
   "source": [
    "from sklearn.preprocessing import LabelEncoder\n",
    "le = LabelEncoder()\n",
    "dataset['main_genre'] = le.fit_transform(dataset.main_genre)"
   ]
  },
  {
   "cell_type": "code",
   "execution_count": 67,
   "id": "c3bedb0f",
   "metadata": {},
   "outputs": [
    {
     "name": "stdout",
     "output_type": "stream",
     "text": [
      "0        0\n",
      "1        0\n",
      "2        0\n",
      "3        0\n",
      "4        0\n",
      "        ..\n",
      "3812     7\n",
      "3813    15\n",
      "3814     0\n",
      "3815     4\n",
      "3816     6\n",
      "Name: main_genre, Length: 3817, dtype: int32\n"
     ]
    }
   ],
   "source": [
    "print(dataset['main_genre'])"
   ]
  },
  {
   "cell_type": "code",
   "execution_count": 68,
   "id": "229f2b0c",
   "metadata": {},
   "outputs": [],
   "source": [
    "genres_value_counts = dataset.genres.value_counts()"
   ]
  },
  {
   "cell_type": "code",
   "execution_count": 69,
   "id": "dc35ce31",
   "metadata": {},
   "outputs": [
    {
     "name": "stdout",
     "output_type": "stream",
     "text": [
      "Comedy|Drama|Romance                          151\n",
      "Drama                                         148\n",
      "Comedy|Drama                                  145\n",
      "Comedy                                        144\n",
      "Comedy|Romance                                135\n",
      "                                             ... \n",
      "Crime|Drama|Mystery|Sci-Fi|Thriller             1\n",
      "Action|Comedy|Romance|Thriller                  1\n",
      "Adventure|Comedy|Crime|Drama                    1\n",
      "Action|Crime|Drama|Mystery|Sci-Fi|Thriller      1\n",
      "Comedy|Crime|Horror                             1\n",
      "Name: genres, Length: 758, dtype: int64\n"
     ]
    }
   ],
   "source": [
    "print(genres_value_counts)"
   ]
  },
  {
   "cell_type": "code",
   "execution_count": 70,
   "id": "4b54015a",
   "metadata": {},
   "outputs": [],
   "source": [
    "genres_value_counts  = pd.DataFrame(genres_value_counts).reset_index().rename(columns = {'index' : 'genres', 'genres' : 'genres_value_counts'})"
   ]
  },
  {
   "cell_type": "code",
   "execution_count": 71,
   "id": "491f9265",
   "metadata": {},
   "outputs": [
    {
     "name": "stdout",
     "output_type": "stream",
     "text": [
      "                                         genres  genres_value_counts\n",
      "0                          Comedy|Drama|Romance                  151\n",
      "1                                         Drama                  148\n",
      "2                                  Comedy|Drama                  145\n",
      "3                                        Comedy                  144\n",
      "4                                Comedy|Romance                  135\n",
      "..                                          ...                  ...\n",
      "753         Crime|Drama|Mystery|Sci-Fi|Thriller                    1\n",
      "754              Action|Comedy|Romance|Thriller                    1\n",
      "755                Adventure|Comedy|Crime|Drama                    1\n",
      "756  Action|Crime|Drama|Mystery|Sci-Fi|Thriller                    1\n",
      "757                         Comedy|Crime|Horror                    1\n",
      "\n",
      "[758 rows x 2 columns]\n"
     ]
    }
   ],
   "source": [
    "print(genres_value_counts)"
   ]
  },
  {
   "cell_type": "code",
   "execution_count": 72,
   "id": "0447dcdc",
   "metadata": {},
   "outputs": [],
   "source": [
    "dataset = pd.merge(dataset, genres_value_counts,left_on = 'genres', right_on = 'genres', how = 'left')"
   ]
  },
  {
   "cell_type": "code",
   "execution_count": 73,
   "id": "9a9fcf1f",
   "metadata": {},
   "outputs": [],
   "source": [
    "dataset = dataset.drop(columns = 'genres')"
   ]
  },
  {
   "cell_type": "code",
   "execution_count": 74,
   "id": "45db427b",
   "metadata": {},
   "outputs": [
    {
     "data": {
      "text/plain": [
       "(array(['CCH Pounder', 'Johnny Depp', 'Christoph Waltz', ...,\n",
       "        'Carlos Gallardo', 'Kerry Bishé', 'John August'], dtype=object),\n",
       " 1485)"
      ]
     },
     "execution_count": 74,
     "metadata": {},
     "output_type": "execute_result"
    }
   ],
   "source": [
    "dataset.actor_1_name.unique(), dataset.actor_1_name.nunique()"
   ]
  },
  {
   "cell_type": "code",
   "execution_count": 75,
   "id": "7b4a60dd",
   "metadata": {},
   "outputs": [],
   "source": [
    "actor_1_name_value_counts = dataset.actor_1_name.value_counts()"
   ]
  },
  {
   "cell_type": "code",
   "execution_count": 76,
   "id": "3ca8e6b3",
   "metadata": {},
   "outputs": [],
   "source": [
    "actor_1_name_value_counts = pd.DataFrame(actor_1_name_value_counts).reset_index().rename(columns = {'index' : 'actor_1_name', 'actor_1_name' : 'actor_1_name_value_counts'})"
   ]
  },
  {
   "cell_type": "code",
   "execution_count": 77,
   "id": "166dfcab",
   "metadata": {},
   "outputs": [],
   "source": [
    "dataset = pd.merge(dataset, actor_1_name_value_counts,left_on = 'actor_1_name', right_on = 'actor_1_name', how = 'left')"
   ]
  },
  {
   "cell_type": "code",
   "execution_count": 78,
   "id": "e9f8c83a",
   "metadata": {},
   "outputs": [],
   "source": [
    "dataset = dataset.drop(columns = 'actor_1_name')"
   ]
  },
  {
   "cell_type": "code",
   "execution_count": 79,
   "id": "73efa5eb",
   "metadata": {},
   "outputs": [
    {
     "data": {
      "text/plain": [
       "(array(['Avatar\\xa0', \"Pirates of the Caribbean: At World's End\\xa0\",\n",
       "        'Spectre\\xa0', ..., 'El Mariachi\\xa0', 'Newlyweds\\xa0',\n",
       "        'My Date with Drew\\xa0'], dtype=object),\n",
       " 3749)"
      ]
     },
     "execution_count": 79,
     "metadata": {},
     "output_type": "execute_result"
    }
   ],
   "source": [
    "dataset.movie_title.unique(), dataset.movie_title.nunique()"
   ]
  },
  {
   "cell_type": "code",
   "execution_count": 80,
   "id": "a5c21a5f",
   "metadata": {},
   "outputs": [],
   "source": [
    "dataset = dataset.drop(columns = 'movie_title')"
   ]
  },
  {
   "cell_type": "code",
   "execution_count": 81,
   "id": "6e087080",
   "metadata": {},
   "outputs": [
    {
     "data": {
      "text/plain": [
       "(array(['Wes Studi', 'Jack Davenport', 'Stephanie Sigman', ...,\n",
       "        'Consuelo Gómez', 'Daniella Pineda', 'Jon Gunn'], dtype=object),\n",
       " 2661)"
      ]
     },
     "execution_count": 81,
     "metadata": {},
     "output_type": "execute_result"
    }
   ],
   "source": [
    "dataset.actor_3_name.unique(), dataset.actor_3_name.nunique()"
   ]
  },
  {
   "cell_type": "code",
   "execution_count": 82,
   "id": "3dbdc1f7",
   "metadata": {},
   "outputs": [],
   "source": [
    "actor_3_name_value_counts = dataset.actor_3_name.value_counts()"
   ]
  },
  {
   "cell_type": "code",
   "execution_count": 83,
   "id": "68b6fc00",
   "metadata": {},
   "outputs": [],
   "source": [
    "actor_3_name_value_counts = pd.DataFrame(actor_3_name_value_counts).reset_index().rename(columns = {'index' : 'actor_3_name', 'actor_3_name' : 'actor_3_name_value_counts'})"
   ]
  },
  {
   "cell_type": "code",
   "execution_count": 84,
   "id": "5049e09b",
   "metadata": {},
   "outputs": [],
   "source": [
    "dataset= pd.merge(dataset, actor_3_name_value_counts,left_on = 'actor_3_name', right_on = 'actor_3_name', how = 'left')"
   ]
  },
  {
   "cell_type": "code",
   "execution_count": 85,
   "id": "4fee9b94",
   "metadata": {},
   "outputs": [],
   "source": [
    "dataset = dataset.drop(columns = 'actor_3_name')"
   ]
  },
  {
   "cell_type": "code",
   "execution_count": 86,
   "id": "c75868fa",
   "metadata": {},
   "outputs": [
    {
     "data": {
      "text/plain": [
       "(array(['avatar|future|marine|native|paraplegic',\n",
       "        'goddess|marriage ceremony|marriage proposal|pirate|singapore',\n",
       "        'bomb|espionage|sequel|spy|terrorist', ...,\n",
       "        'assassin|death|guitar|gun|mariachi',\n",
       "        'written and directed by cast member',\n",
       "        'actress name in title|crush|date|four word title|video camera'],\n",
       "       dtype=object),\n",
       " 3750)"
      ]
     },
     "execution_count": 86,
     "metadata": {},
     "output_type": "execute_result"
    }
   ],
   "source": [
    "dataset.plot_keywords.unique(), dataset.plot_keywords.nunique()"
   ]
  },
  {
   "cell_type": "code",
   "execution_count": 87,
   "id": "b07d527d",
   "metadata": {},
   "outputs": [],
   "source": [
    "dataset['main_plot_keyword'] = dataset.plot_keywords.str.split('|').str[0]"
   ]
  },
  {
   "cell_type": "code",
   "execution_count": 88,
   "id": "e127de77",
   "metadata": {},
   "outputs": [],
   "source": [
    "dataset = dataset.drop(columns = 'plot_keywords')"
   ]
  },
  {
   "cell_type": "code",
   "execution_count": 89,
   "id": "a0c046ad",
   "metadata": {},
   "outputs": [
    {
     "data": {
      "text/plain": [
       "(array(['avatar', 'goddess', 'bomb', ..., 'jihad',\n",
       "        'written and directed by cast member', 'actress name in title'],\n",
       "       dtype=object),\n",
       " 1688)"
      ]
     },
     "execution_count": 89,
     "metadata": {},
     "output_type": "execute_result"
    }
   ],
   "source": [
    "dataset.main_plot_keyword.unique(), dataset.main_plot_keyword.nunique()"
   ]
  },
  {
   "cell_type": "code",
   "execution_count": 90,
   "id": "5a19dad2",
   "metadata": {},
   "outputs": [],
   "source": [
    "main_plot_keyword_value_counts = dataset.main_plot_keyword.value_counts()"
   ]
  },
  {
   "cell_type": "code",
   "execution_count": 91,
   "id": "f942dcaa",
   "metadata": {},
   "outputs": [],
   "source": [
    "main_plot_keyword_value_counts = pd.DataFrame(main_plot_keyword_value_counts).reset_index().rename(columns = {'index' : 'main_plot_keyword', 'main_plot_keyword' : 'main_plot_keyword_value_counts'})"
   ]
  },
  {
   "cell_type": "code",
   "execution_count": 92,
   "id": "94d3e2b6",
   "metadata": {},
   "outputs": [],
   "source": [
    "dataset = pd.merge(dataset, main_plot_keyword_value_counts, left_on = 'main_plot_keyword', right_on = 'main_plot_keyword', how = 'left')"
   ]
  },
  {
   "cell_type": "code",
   "execution_count": 93,
   "id": "58fa7f7a",
   "metadata": {},
   "outputs": [],
   "source": [
    "dataset = dataset.drop(columns = 'main_plot_keyword')"
   ]
  },
  {
   "cell_type": "code",
   "execution_count": 94,
   "id": "ae8fc59c",
   "metadata": {},
   "outputs": [
    {
     "data": {
      "text/plain": [
       "(array(['http://www.imdb.com/title/tt0499549/?ref_=fn_tt_tt_1',\n",
       "        'http://www.imdb.com/title/tt0449088/?ref_=fn_tt_tt_1',\n",
       "        'http://www.imdb.com/title/tt2379713/?ref_=fn_tt_tt_1', ...,\n",
       "        'http://www.imdb.com/title/tt0104815/?ref_=fn_tt_tt_1',\n",
       "        'http://www.imdb.com/title/tt1880418/?ref_=fn_tt_tt_1',\n",
       "        'http://www.imdb.com/title/tt0378407/?ref_=fn_tt_tt_1'],\n",
       "       dtype=object),\n",
       " 3750)"
      ]
     },
     "execution_count": 94,
     "metadata": {},
     "output_type": "execute_result"
    }
   ],
   "source": [
    "dataset.movie_imdb_link.unique(), dataset.movie_imdb_link.nunique()"
   ]
  },
  {
   "cell_type": "code",
   "execution_count": 95,
   "id": "6de2cdeb",
   "metadata": {},
   "outputs": [],
   "source": [
    "dataset = dataset.drop(columns = 'movie_imdb_link')"
   ]
  },
  {
   "cell_type": "code",
   "execution_count": 96,
   "id": "c121359b",
   "metadata": {},
   "outputs": [
    {
     "data": {
      "text/plain": [
       "(array(['English', 'Mandarin', 'Aboriginal', 'Spanish', 'French',\n",
       "        'Filipino', 'Maya', 'Kazakh', 'Telugu', 'Cantonese', 'Japanese',\n",
       "        'Aramaic', 'Italian', 'Dutch', 'Dari', 'German', 'Mongolian',\n",
       "        'Thai', 'Bosnian', 'Korean', 'Hungarian', 'Hindi', 'Icelandic',\n",
       "        'Danish', 'Portuguese', 'Norwegian', 'Czech', 'Russian', 'None',\n",
       "        'Zulu', 'Hebrew', 'Dzongkha', 'Arabic', 'Vietnamese', 'Indonesian',\n",
       "        'Romanian', 'Persian', 'Swedish'], dtype=object),\n",
       " 38)"
      ]
     },
     "execution_count": 96,
     "metadata": {},
     "output_type": "execute_result"
    }
   ],
   "source": [
    "dataset.language.unique(), dataset.language.nunique()"
   ]
  },
  {
   "cell_type": "code",
   "execution_count": 97,
   "id": "b83fad4d",
   "metadata": {},
   "outputs": [],
   "source": [
    "from sklearn.preprocessing import LabelEncoder\n",
    "le1 = LabelEncoder()\n",
    "dataset['language'] = le1.fit_transform(dataset.language)"
   ]
  },
  {
   "cell_type": "code",
   "execution_count": 98,
   "id": "4c121700",
   "metadata": {},
   "outputs": [
    {
     "data": {
      "text/plain": [
       "(array(['USA', 'UK', 'New Zealand', 'Canada', 'Australia', 'Germany',\n",
       "        'China', 'New Line', 'France', 'Japan', 'Spain', 'Hong Kong',\n",
       "        'Czech Republic', 'Peru', 'South Korea', 'India', 'Aruba',\n",
       "        'Denmark', 'Ireland', 'South Africa', 'Italy', 'Romania', 'Chile',\n",
       "        'Netherlands', 'Hungary', 'Russia', 'Belgium', 'Greece', 'Taiwan',\n",
       "        'Official site', 'Thailand', 'Iran', 'West Germany', 'Georgia',\n",
       "        'Mexico', 'Iceland', 'Brazil', 'Finland', 'Norway', 'Argentina',\n",
       "        'Colombia', 'Poland', 'Israel', 'Indonesia', 'Afghanistan',\n",
       "        'Sweden', 'Philippines'], dtype=object),\n",
       " 47)"
      ]
     },
     "execution_count": 98,
     "metadata": {},
     "output_type": "execute_result"
    }
   ],
   "source": [
    "dataset.country.unique(), dataset.country.nunique()"
   ]
  },
  {
   "cell_type": "code",
   "execution_count": 99,
   "id": "e3936db9",
   "metadata": {},
   "outputs": [],
   "source": [
    "from sklearn.preprocessing import LabelEncoder\n",
    "le2 = LabelEncoder()\n",
    "dataset['country'] = le2.fit_transform(dataset.country)"
   ]
  },
  {
   "cell_type": "code",
   "execution_count": 100,
   "id": "a224d6ef",
   "metadata": {},
   "outputs": [
    {
     "data": {
      "text/plain": [
       "(array(['PG-13', 'PG', 'G', 'R', 'Approved', 'NC-17', 'Not Rated', 'X',\n",
       "        'Unrated', 'M', 'GP', 'Passed'], dtype=object),\n",
       " 12)"
      ]
     },
     "execution_count": 100,
     "metadata": {},
     "output_type": "execute_result"
    }
   ],
   "source": [
    "dataset.content_rating.unique(),dataset.content_rating.nunique()"
   ]
  },
  {
   "cell_type": "code",
   "execution_count": 101,
   "id": "7a10cda7",
   "metadata": {},
   "outputs": [],
   "source": [
    "from sklearn.preprocessing import LabelEncoder\n",
    "le3 = LabelEncoder()\n",
    "dataset['content_rating'] = le3.fit_transform(dataset.content_rating)"
   ]
  },
  {
   "cell_type": "code",
   "execution_count": 102,
   "id": "b625aa95",
   "metadata": {},
   "outputs": [
    {
     "data": {
      "text/html": [
       "<div>\n",
       "<style scoped>\n",
       "    .dataframe tbody tr th:only-of-type {\n",
       "        vertical-align: middle;\n",
       "    }\n",
       "\n",
       "    .dataframe tbody tr th {\n",
       "        vertical-align: top;\n",
       "    }\n",
       "\n",
       "    .dataframe thead th {\n",
       "        text-align: right;\n",
       "    }\n",
       "</style>\n",
       "<table border=\"1\" class=\"dataframe\">\n",
       "  <thead>\n",
       "    <tr style=\"text-align: right;\">\n",
       "      <th></th>\n",
       "      <th>0</th>\n",
       "      <th>1</th>\n",
       "      <th>2</th>\n",
       "      <th>3</th>\n",
       "      <th>4</th>\n",
       "    </tr>\n",
       "  </thead>\n",
       "  <tbody>\n",
       "    <tr>\n",
       "      <th>color</th>\n",
       "      <td>1.000000e+00</td>\n",
       "      <td>1.000000e+00</td>\n",
       "      <td>1.000000e+00</td>\n",
       "      <td>1.000000e+00</td>\n",
       "      <td>1.000000e+00</td>\n",
       "    </tr>\n",
       "    <tr>\n",
       "      <th>num_critic_for_reviews</th>\n",
       "      <td>7.230000e+02</td>\n",
       "      <td>3.020000e+02</td>\n",
       "      <td>6.020000e+02</td>\n",
       "      <td>8.130000e+02</td>\n",
       "      <td>4.620000e+02</td>\n",
       "    </tr>\n",
       "    <tr>\n",
       "      <th>duration</th>\n",
       "      <td>1.780000e+02</td>\n",
       "      <td>1.690000e+02</td>\n",
       "      <td>1.480000e+02</td>\n",
       "      <td>1.640000e+02</td>\n",
       "      <td>1.320000e+02</td>\n",
       "    </tr>\n",
       "    <tr>\n",
       "      <th>director_facebook_likes</th>\n",
       "      <td>0.000000e+00</td>\n",
       "      <td>5.630000e+02</td>\n",
       "      <td>0.000000e+00</td>\n",
       "      <td>2.200000e+04</td>\n",
       "      <td>4.750000e+02</td>\n",
       "    </tr>\n",
       "    <tr>\n",
       "      <th>actor_3_facebook_likes</th>\n",
       "      <td>8.550000e+02</td>\n",
       "      <td>1.000000e+03</td>\n",
       "      <td>1.610000e+02</td>\n",
       "      <td>2.300000e+04</td>\n",
       "      <td>5.300000e+02</td>\n",
       "    </tr>\n",
       "    <tr>\n",
       "      <th>actor_1_facebook_likes</th>\n",
       "      <td>1.000000e+03</td>\n",
       "      <td>4.000000e+04</td>\n",
       "      <td>1.100000e+04</td>\n",
       "      <td>2.700000e+04</td>\n",
       "      <td>6.400000e+02</td>\n",
       "    </tr>\n",
       "    <tr>\n",
       "      <th>gross</th>\n",
       "      <td>7.605058e+08</td>\n",
       "      <td>3.094042e+08</td>\n",
       "      <td>2.000742e+08</td>\n",
       "      <td>4.481306e+08</td>\n",
       "      <td>7.305868e+07</td>\n",
       "    </tr>\n",
       "    <tr>\n",
       "      <th>num_voted_users</th>\n",
       "      <td>8.862040e+05</td>\n",
       "      <td>4.712200e+05</td>\n",
       "      <td>2.758680e+05</td>\n",
       "      <td>1.144337e+06</td>\n",
       "      <td>2.122040e+05</td>\n",
       "    </tr>\n",
       "    <tr>\n",
       "      <th>cast_total_facebook_likes</th>\n",
       "      <td>4.834000e+03</td>\n",
       "      <td>4.835000e+04</td>\n",
       "      <td>1.170000e+04</td>\n",
       "      <td>1.067590e+05</td>\n",
       "      <td>1.873000e+03</td>\n",
       "    </tr>\n",
       "    <tr>\n",
       "      <th>facenumber_in_poster</th>\n",
       "      <td>0.000000e+00</td>\n",
       "      <td>0.000000e+00</td>\n",
       "      <td>1.000000e+00</td>\n",
       "      <td>0.000000e+00</td>\n",
       "      <td>1.000000e+00</td>\n",
       "    </tr>\n",
       "    <tr>\n",
       "      <th>num_user_for_reviews</th>\n",
       "      <td>3.054000e+03</td>\n",
       "      <td>1.238000e+03</td>\n",
       "      <td>9.940000e+02</td>\n",
       "      <td>2.701000e+03</td>\n",
       "      <td>7.380000e+02</td>\n",
       "    </tr>\n",
       "    <tr>\n",
       "      <th>language</th>\n",
       "      <td>1.000000e+01</td>\n",
       "      <td>1.000000e+01</td>\n",
       "      <td>1.000000e+01</td>\n",
       "      <td>1.000000e+01</td>\n",
       "      <td>1.000000e+01</td>\n",
       "    </tr>\n",
       "    <tr>\n",
       "      <th>country</th>\n",
       "      <td>4.500000e+01</td>\n",
       "      <td>4.500000e+01</td>\n",
       "      <td>4.400000e+01</td>\n",
       "      <td>4.500000e+01</td>\n",
       "      <td>4.500000e+01</td>\n",
       "    </tr>\n",
       "    <tr>\n",
       "      <th>content_rating</th>\n",
       "      <td>7.000000e+00</td>\n",
       "      <td>7.000000e+00</td>\n",
       "      <td>7.000000e+00</td>\n",
       "      <td>7.000000e+00</td>\n",
       "      <td>7.000000e+00</td>\n",
       "    </tr>\n",
       "    <tr>\n",
       "      <th>budget</th>\n",
       "      <td>2.370000e+08</td>\n",
       "      <td>3.000000e+08</td>\n",
       "      <td>2.450000e+08</td>\n",
       "      <td>2.500000e+08</td>\n",
       "      <td>2.637000e+08</td>\n",
       "    </tr>\n",
       "    <tr>\n",
       "      <th>title_year</th>\n",
       "      <td>2.009000e+03</td>\n",
       "      <td>2.007000e+03</td>\n",
       "      <td>2.015000e+03</td>\n",
       "      <td>2.012000e+03</td>\n",
       "      <td>2.012000e+03</td>\n",
       "    </tr>\n",
       "    <tr>\n",
       "      <th>actor_2_facebook_likes</th>\n",
       "      <td>9.360000e+02</td>\n",
       "      <td>5.000000e+03</td>\n",
       "      <td>3.930000e+02</td>\n",
       "      <td>2.300000e+04</td>\n",
       "      <td>6.320000e+02</td>\n",
       "    </tr>\n",
       "    <tr>\n",
       "      <th>imdb_score</th>\n",
       "      <td>7.900000e+00</td>\n",
       "      <td>7.100000e+00</td>\n",
       "      <td>6.800000e+00</td>\n",
       "      <td>8.500000e+00</td>\n",
       "      <td>6.600000e+00</td>\n",
       "    </tr>\n",
       "    <tr>\n",
       "      <th>aspect_ratio</th>\n",
       "      <td>1.780000e+00</td>\n",
       "      <td>2.350000e+00</td>\n",
       "      <td>2.350000e+00</td>\n",
       "      <td>2.350000e+00</td>\n",
       "      <td>2.350000e+00</td>\n",
       "    </tr>\n",
       "    <tr>\n",
       "      <th>movie_facebook_likes</th>\n",
       "      <td>3.300000e+04</td>\n",
       "      <td>0.000000e+00</td>\n",
       "      <td>8.500000e+04</td>\n",
       "      <td>1.640000e+05</td>\n",
       "      <td>2.400000e+04</td>\n",
       "    </tr>\n",
       "    <tr>\n",
       "      <th>director_name_value_counts</th>\n",
       "      <td>7.000000e+00</td>\n",
       "      <td>7.000000e+00</td>\n",
       "      <td>8.000000e+00</td>\n",
       "      <td>8.000000e+00</td>\n",
       "      <td>3.000000e+00</td>\n",
       "    </tr>\n",
       "    <tr>\n",
       "      <th>actor_2_name_value_counts</th>\n",
       "      <td>3.000000e+00</td>\n",
       "      <td>7.000000e+00</td>\n",
       "      <td>2.000000e+00</td>\n",
       "      <td>5.000000e+00</td>\n",
       "      <td>3.000000e+00</td>\n",
       "    </tr>\n",
       "    <tr>\n",
       "      <th>main_genre</th>\n",
       "      <td>0.000000e+00</td>\n",
       "      <td>0.000000e+00</td>\n",
       "      <td>0.000000e+00</td>\n",
       "      <td>0.000000e+00</td>\n",
       "      <td>0.000000e+00</td>\n",
       "    </tr>\n",
       "    <tr>\n",
       "      <th>genres_value_counts</th>\n",
       "      <td>1.200000e+01</td>\n",
       "      <td>2.500000e+01</td>\n",
       "      <td>4.500000e+01</td>\n",
       "      <td>2.200000e+01</td>\n",
       "      <td>4.600000e+01</td>\n",
       "    </tr>\n",
       "    <tr>\n",
       "      <th>actor_1_name_value_counts</th>\n",
       "      <td>4.000000e+00</td>\n",
       "      <td>3.800000e+01</td>\n",
       "      <td>4.000000e+00</td>\n",
       "      <td>9.000000e+00</td>\n",
       "      <td>2.000000e+00</td>\n",
       "    </tr>\n",
       "    <tr>\n",
       "      <th>actor_3_name_value_counts</th>\n",
       "      <td>3.000000e+00</td>\n",
       "      <td>4.000000e+00</td>\n",
       "      <td>1.000000e+00</td>\n",
       "      <td>2.000000e+00</td>\n",
       "      <td>1.000000e+00</td>\n",
       "    </tr>\n",
       "    <tr>\n",
       "      <th>main_plot_keyword_value_counts</th>\n",
       "      <td>2.000000e+00</td>\n",
       "      <td>1.000000e+00</td>\n",
       "      <td>7.000000e+00</td>\n",
       "      <td>2.000000e+00</td>\n",
       "      <td>6.900000e+01</td>\n",
       "    </tr>\n",
       "  </tbody>\n",
       "</table>\n",
       "</div>"
      ],
      "text/plain": [
       "                                           0             1             2  \\\n",
       "color                           1.000000e+00  1.000000e+00  1.000000e+00   \n",
       "num_critic_for_reviews          7.230000e+02  3.020000e+02  6.020000e+02   \n",
       "duration                        1.780000e+02  1.690000e+02  1.480000e+02   \n",
       "director_facebook_likes         0.000000e+00  5.630000e+02  0.000000e+00   \n",
       "actor_3_facebook_likes          8.550000e+02  1.000000e+03  1.610000e+02   \n",
       "actor_1_facebook_likes          1.000000e+03  4.000000e+04  1.100000e+04   \n",
       "gross                           7.605058e+08  3.094042e+08  2.000742e+08   \n",
       "num_voted_users                 8.862040e+05  4.712200e+05  2.758680e+05   \n",
       "cast_total_facebook_likes       4.834000e+03  4.835000e+04  1.170000e+04   \n",
       "facenumber_in_poster            0.000000e+00  0.000000e+00  1.000000e+00   \n",
       "num_user_for_reviews            3.054000e+03  1.238000e+03  9.940000e+02   \n",
       "language                        1.000000e+01  1.000000e+01  1.000000e+01   \n",
       "country                         4.500000e+01  4.500000e+01  4.400000e+01   \n",
       "content_rating                  7.000000e+00  7.000000e+00  7.000000e+00   \n",
       "budget                          2.370000e+08  3.000000e+08  2.450000e+08   \n",
       "title_year                      2.009000e+03  2.007000e+03  2.015000e+03   \n",
       "actor_2_facebook_likes          9.360000e+02  5.000000e+03  3.930000e+02   \n",
       "imdb_score                      7.900000e+00  7.100000e+00  6.800000e+00   \n",
       "aspect_ratio                    1.780000e+00  2.350000e+00  2.350000e+00   \n",
       "movie_facebook_likes            3.300000e+04  0.000000e+00  8.500000e+04   \n",
       "director_name_value_counts      7.000000e+00  7.000000e+00  8.000000e+00   \n",
       "actor_2_name_value_counts       3.000000e+00  7.000000e+00  2.000000e+00   \n",
       "main_genre                      0.000000e+00  0.000000e+00  0.000000e+00   \n",
       "genres_value_counts             1.200000e+01  2.500000e+01  4.500000e+01   \n",
       "actor_1_name_value_counts       4.000000e+00  3.800000e+01  4.000000e+00   \n",
       "actor_3_name_value_counts       3.000000e+00  4.000000e+00  1.000000e+00   \n",
       "main_plot_keyword_value_counts  2.000000e+00  1.000000e+00  7.000000e+00   \n",
       "\n",
       "                                           3             4  \n",
       "color                           1.000000e+00  1.000000e+00  \n",
       "num_critic_for_reviews          8.130000e+02  4.620000e+02  \n",
       "duration                        1.640000e+02  1.320000e+02  \n",
       "director_facebook_likes         2.200000e+04  4.750000e+02  \n",
       "actor_3_facebook_likes          2.300000e+04  5.300000e+02  \n",
       "actor_1_facebook_likes          2.700000e+04  6.400000e+02  \n",
       "gross                           4.481306e+08  7.305868e+07  \n",
       "num_voted_users                 1.144337e+06  2.122040e+05  \n",
       "cast_total_facebook_likes       1.067590e+05  1.873000e+03  \n",
       "facenumber_in_poster            0.000000e+00  1.000000e+00  \n",
       "num_user_for_reviews            2.701000e+03  7.380000e+02  \n",
       "language                        1.000000e+01  1.000000e+01  \n",
       "country                         4.500000e+01  4.500000e+01  \n",
       "content_rating                  7.000000e+00  7.000000e+00  \n",
       "budget                          2.500000e+08  2.637000e+08  \n",
       "title_year                      2.012000e+03  2.012000e+03  \n",
       "actor_2_facebook_likes          2.300000e+04  6.320000e+02  \n",
       "imdb_score                      8.500000e+00  6.600000e+00  \n",
       "aspect_ratio                    2.350000e+00  2.350000e+00  \n",
       "movie_facebook_likes            1.640000e+05  2.400000e+04  \n",
       "director_name_value_counts      8.000000e+00  3.000000e+00  \n",
       "actor_2_name_value_counts       5.000000e+00  3.000000e+00  \n",
       "main_genre                      0.000000e+00  0.000000e+00  \n",
       "genres_value_counts             2.200000e+01  4.600000e+01  \n",
       "actor_1_name_value_counts       9.000000e+00  2.000000e+00  \n",
       "actor_3_name_value_counts       2.000000e+00  1.000000e+00  \n",
       "main_plot_keyword_value_counts  2.000000e+00  6.900000e+01  "
      ]
     },
     "execution_count": 102,
     "metadata": {},
     "output_type": "execute_result"
    }
   ],
   "source": [
    "dataset.head().T"
   ]
  },
  {
   "cell_type": "code",
   "execution_count": 103,
   "id": "0f2f74b9",
   "metadata": {},
   "outputs": [
    {
     "data": {
      "application/vnd.jupyter.widget-view+json": {
       "model_id": "ceeb5822737e471bb5f8b72ba29e4c88",
       "version_major": 2,
       "version_minor": 0
      },
      "text/plain": [
       "Summarize dataset:   0%|          | 0/5 [00:00<?, ?it/s]"
      ]
     },
     "metadata": {},
     "output_type": "display_data"
    },
    {
     "ename": "IndexError",
     "evalue": "only integers, slices (`:`), ellipsis (`...`), numpy.newaxis (`None`) and integer or boolean arrays are valid indices",
     "output_type": "error",
     "traceback": [
      "\u001b[1;31m---------------------------------------------------------------------------\u001b[0m",
      "\u001b[1;31mIndexError\u001b[0m                                Traceback (most recent call last)",
      "File \u001b[1;32mE:\\anaconda3\\envs\\pythoncourse\\lib\\site-packages\\IPython\\core\\formatters.py:343\u001b[0m, in \u001b[0;36mBaseFormatter.__call__\u001b[1;34m(self, obj)\u001b[0m\n\u001b[0;32m    341\u001b[0m     method \u001b[38;5;241m=\u001b[39m get_real_method(obj, \u001b[38;5;28mself\u001b[39m\u001b[38;5;241m.\u001b[39mprint_method)\n\u001b[0;32m    342\u001b[0m     \u001b[38;5;28;01mif\u001b[39;00m method \u001b[38;5;129;01mis\u001b[39;00m \u001b[38;5;129;01mnot\u001b[39;00m \u001b[38;5;28;01mNone\u001b[39;00m:\n\u001b[1;32m--> 343\u001b[0m         \u001b[38;5;28;01mreturn\u001b[39;00m \u001b[43mmethod\u001b[49m\u001b[43m(\u001b[49m\u001b[43m)\u001b[49m\n\u001b[0;32m    344\u001b[0m     \u001b[38;5;28;01mreturn\u001b[39;00m \u001b[38;5;28;01mNone\u001b[39;00m\n\u001b[0;32m    345\u001b[0m \u001b[38;5;28;01melse\u001b[39;00m:\n",
      "File \u001b[1;32mE:\\anaconda3\\envs\\pythoncourse\\lib\\site-packages\\pandas_profiling\\profile_report.py:418\u001b[0m, in \u001b[0;36mProfileReport._repr_html_\u001b[1;34m(self)\u001b[0m\n\u001b[0;32m    416\u001b[0m \u001b[38;5;28;01mdef\u001b[39;00m \u001b[38;5;21m_repr_html_\u001b[39m(\u001b[38;5;28mself\u001b[39m) \u001b[38;5;241m-\u001b[39m\u001b[38;5;241m>\u001b[39m \u001b[38;5;28;01mNone\u001b[39;00m:\n\u001b[0;32m    417\u001b[0m     \u001b[38;5;124;03m\"\"\"The ipython notebook widgets user interface gets called by the jupyter notebook.\"\"\"\u001b[39;00m\n\u001b[1;32m--> 418\u001b[0m     \u001b[38;5;28;43mself\u001b[39;49m\u001b[38;5;241;43m.\u001b[39;49m\u001b[43mto_notebook_iframe\u001b[49m\u001b[43m(\u001b[49m\u001b[43m)\u001b[49m\n",
      "File \u001b[1;32mE:\\anaconda3\\envs\\pythoncourse\\lib\\site-packages\\pandas_profiling\\profile_report.py:398\u001b[0m, in \u001b[0;36mProfileReport.to_notebook_iframe\u001b[1;34m(self)\u001b[0m\n\u001b[0;32m    396\u001b[0m \u001b[38;5;28;01mwith\u001b[39;00m warnings\u001b[38;5;241m.\u001b[39mcatch_warnings():\n\u001b[0;32m    397\u001b[0m     warnings\u001b[38;5;241m.\u001b[39msimplefilter(\u001b[38;5;124m\"\u001b[39m\u001b[38;5;124mignore\u001b[39m\u001b[38;5;124m\"\u001b[39m)\n\u001b[1;32m--> 398\u001b[0m     display(\u001b[43mget_notebook_iframe\u001b[49m\u001b[43m(\u001b[49m\u001b[38;5;28;43mself\u001b[39;49m\u001b[38;5;241;43m.\u001b[39;49m\u001b[43mconfig\u001b[49m\u001b[43m,\u001b[49m\u001b[43m \u001b[49m\u001b[38;5;28;43mself\u001b[39;49m\u001b[43m)\u001b[49m)\n",
      "File \u001b[1;32mE:\\anaconda3\\envs\\pythoncourse\\lib\\site-packages\\pandas_profiling\\report\\presentation\\flavours\\widget\\notebook.py:75\u001b[0m, in \u001b[0;36mget_notebook_iframe\u001b[1;34m(config, profile)\u001b[0m\n\u001b[0;32m     73\u001b[0m     output \u001b[38;5;241m=\u001b[39m get_notebook_iframe_src(config, profile)\n\u001b[0;32m     74\u001b[0m \u001b[38;5;28;01melif\u001b[39;00m attribute \u001b[38;5;241m==\u001b[39m IframeAttribute\u001b[38;5;241m.\u001b[39msrcdoc:\n\u001b[1;32m---> 75\u001b[0m     output \u001b[38;5;241m=\u001b[39m \u001b[43mget_notebook_iframe_srcdoc\u001b[49m\u001b[43m(\u001b[49m\u001b[43mconfig\u001b[49m\u001b[43m,\u001b[49m\u001b[43m \u001b[49m\u001b[43mprofile\u001b[49m\u001b[43m)\u001b[49m\n\u001b[0;32m     76\u001b[0m \u001b[38;5;28;01melse\u001b[39;00m:\n\u001b[0;32m     77\u001b[0m     \u001b[38;5;28;01mraise\u001b[39;00m \u001b[38;5;167;01mValueError\u001b[39;00m(\n\u001b[0;32m     78\u001b[0m         \u001b[38;5;124mf\u001b[39m\u001b[38;5;124m'\u001b[39m\u001b[38;5;124mIframe Attribute can be \u001b[39m\u001b[38;5;124m\"\u001b[39m\u001b[38;5;124msrc\u001b[39m\u001b[38;5;124m\"\u001b[39m\u001b[38;5;124m or \u001b[39m\u001b[38;5;124m\"\u001b[39m\u001b[38;5;124msrcdoc\u001b[39m\u001b[38;5;124m\"\u001b[39m\u001b[38;5;124m (current: \u001b[39m\u001b[38;5;132;01m{\u001b[39;00mattribute\u001b[38;5;132;01m}\u001b[39;00m\u001b[38;5;124m).\u001b[39m\u001b[38;5;124m'\u001b[39m\n\u001b[0;32m     79\u001b[0m     )\n",
      "File \u001b[1;32mE:\\anaconda3\\envs\\pythoncourse\\lib\\site-packages\\pandas_profiling\\report\\presentation\\flavours\\widget\\notebook.py:29\u001b[0m, in \u001b[0;36mget_notebook_iframe_srcdoc\u001b[1;34m(config, profile)\u001b[0m\n\u001b[0;32m     27\u001b[0m width \u001b[38;5;241m=\u001b[39m config\u001b[38;5;241m.\u001b[39mnotebook\u001b[38;5;241m.\u001b[39miframe\u001b[38;5;241m.\u001b[39mwidth\n\u001b[0;32m     28\u001b[0m height \u001b[38;5;241m=\u001b[39m config\u001b[38;5;241m.\u001b[39mnotebook\u001b[38;5;241m.\u001b[39miframe\u001b[38;5;241m.\u001b[39mheight\n\u001b[1;32m---> 29\u001b[0m src \u001b[38;5;241m=\u001b[39m html\u001b[38;5;241m.\u001b[39mescape(\u001b[43mprofile\u001b[49m\u001b[38;5;241;43m.\u001b[39;49m\u001b[43mto_html\u001b[49m\u001b[43m(\u001b[49m\u001b[43m)\u001b[49m)\n\u001b[0;32m     31\u001b[0m iframe \u001b[38;5;241m=\u001b[39m \u001b[38;5;124mf\u001b[39m\u001b[38;5;124m'\u001b[39m\u001b[38;5;124m<iframe width=\u001b[39m\u001b[38;5;124m\"\u001b[39m\u001b[38;5;132;01m{\u001b[39;00mwidth\u001b[38;5;132;01m}\u001b[39;00m\u001b[38;5;124m\"\u001b[39m\u001b[38;5;124m height=\u001b[39m\u001b[38;5;124m\"\u001b[39m\u001b[38;5;132;01m{\u001b[39;00mheight\u001b[38;5;132;01m}\u001b[39;00m\u001b[38;5;124m\"\u001b[39m\u001b[38;5;124m srcdoc=\u001b[39m\u001b[38;5;124m\"\u001b[39m\u001b[38;5;132;01m{\u001b[39;00msrc\u001b[38;5;132;01m}\u001b[39;00m\u001b[38;5;124m\"\u001b[39m\u001b[38;5;124m frameborder=\u001b[39m\u001b[38;5;124m\"\u001b[39m\u001b[38;5;124m0\u001b[39m\u001b[38;5;124m\"\u001b[39m\u001b[38;5;124m allowfullscreen></iframe>\u001b[39m\u001b[38;5;124m'\u001b[39m\n\u001b[0;32m     33\u001b[0m \u001b[38;5;28;01mreturn\u001b[39;00m HTML(iframe)\n",
      "File \u001b[1;32mE:\\anaconda3\\envs\\pythoncourse\\lib\\site-packages\\pandas_profiling\\profile_report.py:368\u001b[0m, in \u001b[0;36mProfileReport.to_html\u001b[1;34m(self)\u001b[0m\n\u001b[0;32m    360\u001b[0m \u001b[38;5;28;01mdef\u001b[39;00m \u001b[38;5;21mto_html\u001b[39m(\u001b[38;5;28mself\u001b[39m) \u001b[38;5;241m-\u001b[39m\u001b[38;5;241m>\u001b[39m \u001b[38;5;28mstr\u001b[39m:\n\u001b[0;32m    361\u001b[0m     \u001b[38;5;124;03m\"\"\"Generate and return complete template as lengthy string\u001b[39;00m\n\u001b[0;32m    362\u001b[0m \u001b[38;5;124;03m        for using with frameworks.\u001b[39;00m\n\u001b[0;32m    363\u001b[0m \n\u001b[1;32m   (...)\u001b[0m\n\u001b[0;32m    366\u001b[0m \n\u001b[0;32m    367\u001b[0m \u001b[38;5;124;03m    \"\"\"\u001b[39;00m\n\u001b[1;32m--> 368\u001b[0m     \u001b[38;5;28;01mreturn\u001b[39;00m \u001b[38;5;28;43mself\u001b[39;49m\u001b[38;5;241;43m.\u001b[39;49m\u001b[43mhtml\u001b[49m\n",
      "File \u001b[1;32mE:\\anaconda3\\envs\\pythoncourse\\lib\\site-packages\\pandas_profiling\\profile_report.py:185\u001b[0m, in \u001b[0;36mProfileReport.html\u001b[1;34m(self)\u001b[0m\n\u001b[0;32m    182\u001b[0m \u001b[38;5;129m@property\u001b[39m\n\u001b[0;32m    183\u001b[0m \u001b[38;5;28;01mdef\u001b[39;00m \u001b[38;5;21mhtml\u001b[39m(\u001b[38;5;28mself\u001b[39m) \u001b[38;5;241m-\u001b[39m\u001b[38;5;241m>\u001b[39m \u001b[38;5;28mstr\u001b[39m:\n\u001b[0;32m    184\u001b[0m     \u001b[38;5;28;01mif\u001b[39;00m \u001b[38;5;28mself\u001b[39m\u001b[38;5;241m.\u001b[39m_html \u001b[38;5;129;01mis\u001b[39;00m \u001b[38;5;28;01mNone\u001b[39;00m:\n\u001b[1;32m--> 185\u001b[0m         \u001b[38;5;28mself\u001b[39m\u001b[38;5;241m.\u001b[39m_html \u001b[38;5;241m=\u001b[39m \u001b[38;5;28;43mself\u001b[39;49m\u001b[38;5;241;43m.\u001b[39;49m\u001b[43m_render_html\u001b[49m\u001b[43m(\u001b[49m\u001b[43m)\u001b[49m\n\u001b[0;32m    186\u001b[0m     \u001b[38;5;28;01mreturn\u001b[39;00m \u001b[38;5;28mself\u001b[39m\u001b[38;5;241m.\u001b[39m_html\n",
      "File \u001b[1;32mE:\\anaconda3\\envs\\pythoncourse\\lib\\site-packages\\pandas_profiling\\profile_report.py:287\u001b[0m, in \u001b[0;36mProfileReport._render_html\u001b[1;34m(self)\u001b[0m\n\u001b[0;32m    284\u001b[0m \u001b[38;5;28;01mdef\u001b[39;00m \u001b[38;5;21m_render_html\u001b[39m(\u001b[38;5;28mself\u001b[39m) \u001b[38;5;241m-\u001b[39m\u001b[38;5;241m>\u001b[39m \u001b[38;5;28mstr\u001b[39m:\n\u001b[0;32m    285\u001b[0m     \u001b[38;5;28;01mfrom\u001b[39;00m \u001b[38;5;21;01mpandas_profiling\u001b[39;00m\u001b[38;5;21;01m.\u001b[39;00m\u001b[38;5;21;01mreport\u001b[39;00m\u001b[38;5;21;01m.\u001b[39;00m\u001b[38;5;21;01mpresentation\u001b[39;00m\u001b[38;5;21;01m.\u001b[39;00m\u001b[38;5;21;01mflavours\u001b[39;00m \u001b[38;5;28;01mimport\u001b[39;00m HTMLReport\n\u001b[1;32m--> 287\u001b[0m     report \u001b[38;5;241m=\u001b[39m \u001b[38;5;28;43mself\u001b[39;49m\u001b[38;5;241;43m.\u001b[39;49m\u001b[43mreport\u001b[49m\n\u001b[0;32m    289\u001b[0m     \u001b[38;5;28;01mwith\u001b[39;00m tqdm(\n\u001b[0;32m    290\u001b[0m         total\u001b[38;5;241m=\u001b[39m\u001b[38;5;241m1\u001b[39m, desc\u001b[38;5;241m=\u001b[39m\u001b[38;5;124m\"\u001b[39m\u001b[38;5;124mRender HTML\u001b[39m\u001b[38;5;124m\"\u001b[39m, disable\u001b[38;5;241m=\u001b[39m\u001b[38;5;129;01mnot\u001b[39;00m \u001b[38;5;28mself\u001b[39m\u001b[38;5;241m.\u001b[39mconfig\u001b[38;5;241m.\u001b[39mprogress_bar\n\u001b[0;32m    291\u001b[0m     ) \u001b[38;5;28;01mas\u001b[39;00m pbar:\n\u001b[0;32m    292\u001b[0m         html \u001b[38;5;241m=\u001b[39m HTMLReport(copy\u001b[38;5;241m.\u001b[39mdeepcopy(report))\u001b[38;5;241m.\u001b[39mrender(\n\u001b[0;32m    293\u001b[0m             nav\u001b[38;5;241m=\u001b[39m\u001b[38;5;28mself\u001b[39m\u001b[38;5;241m.\u001b[39mconfig\u001b[38;5;241m.\u001b[39mhtml\u001b[38;5;241m.\u001b[39mnavbar_show,\n\u001b[0;32m    294\u001b[0m             offline\u001b[38;5;241m=\u001b[39m\u001b[38;5;28mself\u001b[39m\u001b[38;5;241m.\u001b[39mconfig\u001b[38;5;241m.\u001b[39mhtml\u001b[38;5;241m.\u001b[39muse_local_assets,\n\u001b[1;32m   (...)\u001b[0m\n\u001b[0;32m    302\u001b[0m             version\u001b[38;5;241m=\u001b[39m\u001b[38;5;28mself\u001b[39m\u001b[38;5;241m.\u001b[39mdescription_set[\u001b[38;5;124m\"\u001b[39m\u001b[38;5;124mpackage\u001b[39m\u001b[38;5;124m\"\u001b[39m][\u001b[38;5;124m\"\u001b[39m\u001b[38;5;124mpandas_profiling_version\u001b[39m\u001b[38;5;124m\"\u001b[39m],\n\u001b[0;32m    303\u001b[0m         )\n",
      "File \u001b[1;32mE:\\anaconda3\\envs\\pythoncourse\\lib\\site-packages\\pandas_profiling\\profile_report.py:179\u001b[0m, in \u001b[0;36mProfileReport.report\u001b[1;34m(self)\u001b[0m\n\u001b[0;32m    176\u001b[0m \u001b[38;5;129m@property\u001b[39m\n\u001b[0;32m    177\u001b[0m \u001b[38;5;28;01mdef\u001b[39;00m \u001b[38;5;21mreport\u001b[39m(\u001b[38;5;28mself\u001b[39m) \u001b[38;5;241m-\u001b[39m\u001b[38;5;241m>\u001b[39m Root:\n\u001b[0;32m    178\u001b[0m     \u001b[38;5;28;01mif\u001b[39;00m \u001b[38;5;28mself\u001b[39m\u001b[38;5;241m.\u001b[39m_report \u001b[38;5;129;01mis\u001b[39;00m \u001b[38;5;28;01mNone\u001b[39;00m:\n\u001b[1;32m--> 179\u001b[0m         \u001b[38;5;28mself\u001b[39m\u001b[38;5;241m.\u001b[39m_report \u001b[38;5;241m=\u001b[39m get_report_structure(\u001b[38;5;28mself\u001b[39m\u001b[38;5;241m.\u001b[39mconfig, \u001b[38;5;28;43mself\u001b[39;49m\u001b[38;5;241;43m.\u001b[39;49m\u001b[43mdescription_set\u001b[49m)\n\u001b[0;32m    180\u001b[0m     \u001b[38;5;28;01mreturn\u001b[39;00m \u001b[38;5;28mself\u001b[39m\u001b[38;5;241m.\u001b[39m_report\n",
      "File \u001b[1;32mE:\\anaconda3\\envs\\pythoncourse\\lib\\site-packages\\pandas_profiling\\profile_report.py:161\u001b[0m, in \u001b[0;36mProfileReport.description_set\u001b[1;34m(self)\u001b[0m\n\u001b[0;32m    158\u001b[0m \u001b[38;5;129m@property\u001b[39m\n\u001b[0;32m    159\u001b[0m \u001b[38;5;28;01mdef\u001b[39;00m \u001b[38;5;21mdescription_set\u001b[39m(\u001b[38;5;28mself\u001b[39m) \u001b[38;5;241m-\u001b[39m\u001b[38;5;241m>\u001b[39m Dict[\u001b[38;5;28mstr\u001b[39m, Any]:\n\u001b[0;32m    160\u001b[0m     \u001b[38;5;28;01mif\u001b[39;00m \u001b[38;5;28mself\u001b[39m\u001b[38;5;241m.\u001b[39m_description_set \u001b[38;5;129;01mis\u001b[39;00m \u001b[38;5;28;01mNone\u001b[39;00m:\n\u001b[1;32m--> 161\u001b[0m         \u001b[38;5;28mself\u001b[39m\u001b[38;5;241m.\u001b[39m_description_set \u001b[38;5;241m=\u001b[39m \u001b[43mdescribe_df\u001b[49m\u001b[43m(\u001b[49m\n\u001b[0;32m    162\u001b[0m \u001b[43m            \u001b[49m\u001b[38;5;28;43mself\u001b[39;49m\u001b[38;5;241;43m.\u001b[39;49m\u001b[43mconfig\u001b[49m\u001b[43m,\u001b[49m\n\u001b[0;32m    163\u001b[0m \u001b[43m            \u001b[49m\u001b[38;5;28;43mself\u001b[39;49m\u001b[38;5;241;43m.\u001b[39;49m\u001b[43mdf\u001b[49m\u001b[43m,\u001b[49m\n\u001b[0;32m    164\u001b[0m \u001b[43m            \u001b[49m\u001b[38;5;28;43mself\u001b[39;49m\u001b[38;5;241;43m.\u001b[39;49m\u001b[43msummarizer\u001b[49m\u001b[43m,\u001b[49m\n\u001b[0;32m    165\u001b[0m \u001b[43m            \u001b[49m\u001b[38;5;28;43mself\u001b[39;49m\u001b[38;5;241;43m.\u001b[39;49m\u001b[43mtypeset\u001b[49m\u001b[43m,\u001b[49m\n\u001b[0;32m    166\u001b[0m \u001b[43m            \u001b[49m\u001b[38;5;28;43mself\u001b[39;49m\u001b[38;5;241;43m.\u001b[39;49m\u001b[43m_sample\u001b[49m\u001b[43m,\u001b[49m\n\u001b[0;32m    167\u001b[0m \u001b[43m        \u001b[49m\u001b[43m)\u001b[49m\n\u001b[0;32m    168\u001b[0m     \u001b[38;5;28;01mreturn\u001b[39;00m \u001b[38;5;28mself\u001b[39m\u001b[38;5;241m.\u001b[39m_description_set\n",
      "File \u001b[1;32mE:\\anaconda3\\envs\\pythoncourse\\lib\\site-packages\\pandas_profiling\\model\\describe.py:71\u001b[0m, in \u001b[0;36mdescribe\u001b[1;34m(config, df, summarizer, typeset, sample)\u001b[0m\n\u001b[0;32m     69\u001b[0m \u001b[38;5;66;03m# Variable-specific\u001b[39;00m\n\u001b[0;32m     70\u001b[0m pbar\u001b[38;5;241m.\u001b[39mtotal \u001b[38;5;241m+\u001b[39m\u001b[38;5;241m=\u001b[39m \u001b[38;5;28mlen\u001b[39m(df\u001b[38;5;241m.\u001b[39mcolumns)\n\u001b[1;32m---> 71\u001b[0m series_description \u001b[38;5;241m=\u001b[39m \u001b[43mget_series_descriptions\u001b[49m\u001b[43m(\u001b[49m\n\u001b[0;32m     72\u001b[0m \u001b[43m    \u001b[49m\u001b[43mconfig\u001b[49m\u001b[43m,\u001b[49m\u001b[43m \u001b[49m\u001b[43mdf\u001b[49m\u001b[43m,\u001b[49m\u001b[43m \u001b[49m\u001b[43msummarizer\u001b[49m\u001b[43m,\u001b[49m\u001b[43m \u001b[49m\u001b[43mtypeset\u001b[49m\u001b[43m,\u001b[49m\u001b[43m \u001b[49m\u001b[43mpbar\u001b[49m\n\u001b[0;32m     73\u001b[0m \u001b[43m\u001b[49m\u001b[43m)\u001b[49m\n\u001b[0;32m     75\u001b[0m pbar\u001b[38;5;241m.\u001b[39mset_postfix_str(\u001b[38;5;124m\"\u001b[39m\u001b[38;5;124mGet variable types\u001b[39m\u001b[38;5;124m\"\u001b[39m)\n\u001b[0;32m     76\u001b[0m pbar\u001b[38;5;241m.\u001b[39mtotal \u001b[38;5;241m+\u001b[39m\u001b[38;5;241m=\u001b[39m \u001b[38;5;241m1\u001b[39m\n",
      "File \u001b[1;32mE:\\anaconda3\\envs\\pythoncourse\\lib\\site-packages\\multimethod\\__init__.py:312\u001b[0m, in \u001b[0;36mmultimethod.__call__\u001b[1;34m(self, *args, **kwargs)\u001b[0m\n\u001b[0;32m    310\u001b[0m func \u001b[38;5;241m=\u001b[39m \u001b[38;5;28mself\u001b[39m[\u001b[38;5;28mtuple\u001b[39m(func(arg) \u001b[38;5;28;01mfor\u001b[39;00m func, arg \u001b[38;5;129;01min\u001b[39;00m \u001b[38;5;28mzip\u001b[39m(\u001b[38;5;28mself\u001b[39m\u001b[38;5;241m.\u001b[39mtype_checkers, args))]\n\u001b[0;32m    311\u001b[0m \u001b[38;5;28;01mtry\u001b[39;00m:\n\u001b[1;32m--> 312\u001b[0m     \u001b[38;5;28;01mreturn\u001b[39;00m func(\u001b[38;5;241m*\u001b[39margs, \u001b[38;5;241m*\u001b[39m\u001b[38;5;241m*\u001b[39mkwargs)\n\u001b[0;32m    313\u001b[0m \u001b[38;5;28;01mexcept\u001b[39;00m \u001b[38;5;167;01mTypeError\u001b[39;00m \u001b[38;5;28;01mas\u001b[39;00m ex:\n\u001b[0;32m    314\u001b[0m     \u001b[38;5;28;01mraise\u001b[39;00m DispatchError(\u001b[38;5;124mf\u001b[39m\u001b[38;5;124m\"\u001b[39m\u001b[38;5;124mFunction \u001b[39m\u001b[38;5;132;01m{\u001b[39;00mfunc\u001b[38;5;241m.\u001b[39m\u001b[38;5;18m__code__\u001b[39m\u001b[38;5;132;01m}\u001b[39;00m\u001b[38;5;124m\"\u001b[39m) \u001b[38;5;28;01mfrom\u001b[39;00m \u001b[38;5;21;01mex\u001b[39;00m\n",
      "File \u001b[1;32mE:\\anaconda3\\envs\\pythoncourse\\lib\\site-packages\\pandas_profiling\\model\\pandas\\summary_pandas.py:92\u001b[0m, in \u001b[0;36mpandas_get_series_descriptions\u001b[1;34m(config, df, summarizer, typeset, pbar)\u001b[0m\n\u001b[0;32m     89\u001b[0m \u001b[38;5;28;01melse\u001b[39;00m:\n\u001b[0;32m     90\u001b[0m     \u001b[38;5;66;03m# TODO: use `Pool` for Linux-based systems\u001b[39;00m\n\u001b[0;32m     91\u001b[0m     \u001b[38;5;28;01mwith\u001b[39;00m multiprocessing\u001b[38;5;241m.\u001b[39mpool\u001b[38;5;241m.\u001b[39mThreadPool(pool_size) \u001b[38;5;28;01mas\u001b[39;00m executor:\n\u001b[1;32m---> 92\u001b[0m         \u001b[38;5;28;01mfor\u001b[39;00m i, (column, description) \u001b[38;5;129;01min\u001b[39;00m \u001b[38;5;28menumerate\u001b[39m(\n\u001b[0;32m     93\u001b[0m             executor\u001b[38;5;241m.\u001b[39mimap_unordered(multiprocess_1d, args)\n\u001b[0;32m     94\u001b[0m         ):\n\u001b[0;32m     95\u001b[0m             pbar\u001b[38;5;241m.\u001b[39mset_postfix_str(\u001b[38;5;124mf\u001b[39m\u001b[38;5;124m\"\u001b[39m\u001b[38;5;124mDescribe variable:\u001b[39m\u001b[38;5;132;01m{\u001b[39;00mcolumn\u001b[38;5;132;01m}\u001b[39;00m\u001b[38;5;124m\"\u001b[39m)\n\u001b[0;32m     96\u001b[0m             series_description[column] \u001b[38;5;241m=\u001b[39m description\n",
      "File \u001b[1;32mE:\\anaconda3\\envs\\pythoncourse\\lib\\multiprocessing\\pool.py:870\u001b[0m, in \u001b[0;36mIMapIterator.next\u001b[1;34m(self, timeout)\u001b[0m\n\u001b[0;32m    868\u001b[0m \u001b[38;5;28;01mif\u001b[39;00m success:\n\u001b[0;32m    869\u001b[0m     \u001b[38;5;28;01mreturn\u001b[39;00m value\n\u001b[1;32m--> 870\u001b[0m \u001b[38;5;28;01mraise\u001b[39;00m value\n",
      "File \u001b[1;32mE:\\anaconda3\\envs\\pythoncourse\\lib\\multiprocessing\\pool.py:125\u001b[0m, in \u001b[0;36mworker\u001b[1;34m(inqueue, outqueue, initializer, initargs, maxtasks, wrap_exception)\u001b[0m\n\u001b[0;32m    123\u001b[0m job, i, func, args, kwds \u001b[38;5;241m=\u001b[39m task\n\u001b[0;32m    124\u001b[0m \u001b[38;5;28;01mtry\u001b[39;00m:\n\u001b[1;32m--> 125\u001b[0m     result \u001b[38;5;241m=\u001b[39m (\u001b[38;5;28;01mTrue\u001b[39;00m, func(\u001b[38;5;241m*\u001b[39margs, \u001b[38;5;241m*\u001b[39m\u001b[38;5;241m*\u001b[39mkwds))\n\u001b[0;32m    126\u001b[0m \u001b[38;5;28;01mexcept\u001b[39;00m \u001b[38;5;167;01mException\u001b[39;00m \u001b[38;5;28;01mas\u001b[39;00m e:\n\u001b[0;32m    127\u001b[0m     \u001b[38;5;28;01mif\u001b[39;00m wrap_exception \u001b[38;5;129;01mand\u001b[39;00m func \u001b[38;5;129;01mis\u001b[39;00m \u001b[38;5;129;01mnot\u001b[39;00m _helper_reraises_exception:\n",
      "File \u001b[1;32mE:\\anaconda3\\envs\\pythoncourse\\lib\\site-packages\\pandas_profiling\\model\\pandas\\summary_pandas.py:72\u001b[0m, in \u001b[0;36mpandas_get_series_descriptions.<locals>.multiprocess_1d\u001b[1;34m(args)\u001b[0m\n\u001b[0;32m     62\u001b[0m \u001b[38;5;124;03m\"\"\"Wrapper to process series in parallel.\u001b[39;00m\n\u001b[0;32m     63\u001b[0m \n\u001b[0;32m     64\u001b[0m \u001b[38;5;124;03mArgs:\u001b[39;00m\n\u001b[1;32m   (...)\u001b[0m\n\u001b[0;32m     69\u001b[0m \u001b[38;5;124;03m    A tuple with column and the series description.\u001b[39;00m\n\u001b[0;32m     70\u001b[0m \u001b[38;5;124;03m\"\"\"\u001b[39;00m\n\u001b[0;32m     71\u001b[0m column, series \u001b[38;5;241m=\u001b[39m args\n\u001b[1;32m---> 72\u001b[0m \u001b[38;5;28;01mreturn\u001b[39;00m column, \u001b[43mdescribe_1d\u001b[49m\u001b[43m(\u001b[49m\u001b[43mconfig\u001b[49m\u001b[43m,\u001b[49m\u001b[43m \u001b[49m\u001b[43mseries\u001b[49m\u001b[43m,\u001b[49m\u001b[43m \u001b[49m\u001b[43msummarizer\u001b[49m\u001b[43m,\u001b[49m\u001b[43m \u001b[49m\u001b[43mtypeset\u001b[49m\u001b[43m)\u001b[49m\n",
      "File \u001b[1;32mE:\\anaconda3\\envs\\pythoncourse\\lib\\site-packages\\multimethod\\__init__.py:312\u001b[0m, in \u001b[0;36mmultimethod.__call__\u001b[1;34m(self, *args, **kwargs)\u001b[0m\n\u001b[0;32m    310\u001b[0m func \u001b[38;5;241m=\u001b[39m \u001b[38;5;28mself\u001b[39m[\u001b[38;5;28mtuple\u001b[39m(func(arg) \u001b[38;5;28;01mfor\u001b[39;00m func, arg \u001b[38;5;129;01min\u001b[39;00m \u001b[38;5;28mzip\u001b[39m(\u001b[38;5;28mself\u001b[39m\u001b[38;5;241m.\u001b[39mtype_checkers, args))]\n\u001b[0;32m    311\u001b[0m \u001b[38;5;28;01mtry\u001b[39;00m:\n\u001b[1;32m--> 312\u001b[0m     \u001b[38;5;28;01mreturn\u001b[39;00m func(\u001b[38;5;241m*\u001b[39margs, \u001b[38;5;241m*\u001b[39m\u001b[38;5;241m*\u001b[39mkwargs)\n\u001b[0;32m    313\u001b[0m \u001b[38;5;28;01mexcept\u001b[39;00m \u001b[38;5;167;01mTypeError\u001b[39;00m \u001b[38;5;28;01mas\u001b[39;00m ex:\n\u001b[0;32m    314\u001b[0m     \u001b[38;5;28;01mraise\u001b[39;00m DispatchError(\u001b[38;5;124mf\u001b[39m\u001b[38;5;124m\"\u001b[39m\u001b[38;5;124mFunction \u001b[39m\u001b[38;5;132;01m{\u001b[39;00mfunc\u001b[38;5;241m.\u001b[39m\u001b[38;5;18m__code__\u001b[39m\u001b[38;5;132;01m}\u001b[39;00m\u001b[38;5;124m\"\u001b[39m) \u001b[38;5;28;01mfrom\u001b[39;00m \u001b[38;5;21;01mex\u001b[39;00m\n",
      "File \u001b[1;32mE:\\anaconda3\\envs\\pythoncourse\\lib\\site-packages\\pandas_profiling\\model\\pandas\\summary_pandas.py:50\u001b[0m, in \u001b[0;36mpandas_describe_1d\u001b[1;34m(config, series, summarizer, typeset)\u001b[0m\n\u001b[0;32m     45\u001b[0m \u001b[38;5;28;01melse\u001b[39;00m:\n\u001b[0;32m     46\u001b[0m     \u001b[38;5;66;03m# Detect variable types from pandas dataframe (df.dtypes).\u001b[39;00m\n\u001b[0;32m     47\u001b[0m     \u001b[38;5;66;03m# [new dtypes, changed using `astype` function are now considered]\u001b[39;00m\n\u001b[0;32m     48\u001b[0m     vtype \u001b[38;5;241m=\u001b[39m typeset\u001b[38;5;241m.\u001b[39mdetect_type(series)\n\u001b[1;32m---> 50\u001b[0m \u001b[38;5;28;01mreturn\u001b[39;00m \u001b[43msummarizer\u001b[49m\u001b[38;5;241;43m.\u001b[39;49m\u001b[43msummarize\u001b[49m\u001b[43m(\u001b[49m\u001b[43mconfig\u001b[49m\u001b[43m,\u001b[49m\u001b[43m \u001b[49m\u001b[43mseries\u001b[49m\u001b[43m,\u001b[49m\u001b[43m \u001b[49m\u001b[43mdtype\u001b[49m\u001b[38;5;241;43m=\u001b[39;49m\u001b[43mvtype\u001b[49m\u001b[43m)\u001b[49m\n",
      "File \u001b[1;32mE:\\anaconda3\\envs\\pythoncourse\\lib\\site-packages\\pandas_profiling\\model\\summarizer.py:37\u001b[0m, in \u001b[0;36mBaseSummarizer.summarize\u001b[1;34m(self, config, series, dtype)\u001b[0m\n\u001b[0;32m     29\u001b[0m \u001b[38;5;28;01mdef\u001b[39;00m \u001b[38;5;21msummarize\u001b[39m(\n\u001b[0;32m     30\u001b[0m     \u001b[38;5;28mself\u001b[39m, config: Settings, series: pd\u001b[38;5;241m.\u001b[39mSeries, dtype: Type[VisionsBaseType]\n\u001b[0;32m     31\u001b[0m ) \u001b[38;5;241m-\u001b[39m\u001b[38;5;241m>\u001b[39m \u001b[38;5;28mdict\u001b[39m:\n\u001b[0;32m     32\u001b[0m     \u001b[38;5;124;03m\"\"\"\u001b[39;00m\n\u001b[0;32m     33\u001b[0m \n\u001b[0;32m     34\u001b[0m \u001b[38;5;124;03m    Returns:\u001b[39;00m\n\u001b[0;32m     35\u001b[0m \u001b[38;5;124;03m        object:\u001b[39;00m\n\u001b[0;32m     36\u001b[0m \u001b[38;5;124;03m    \"\"\"\u001b[39;00m\n\u001b[1;32m---> 37\u001b[0m     _, _, summary \u001b[38;5;241m=\u001b[39m \u001b[38;5;28;43mself\u001b[39;49m\u001b[38;5;241;43m.\u001b[39;49m\u001b[43mhandle\u001b[49m\u001b[43m(\u001b[49m\u001b[38;5;28;43mstr\u001b[39;49m\u001b[43m(\u001b[49m\u001b[43mdtype\u001b[49m\u001b[43m)\u001b[49m\u001b[43m,\u001b[49m\u001b[43m \u001b[49m\u001b[43mconfig\u001b[49m\u001b[43m,\u001b[49m\u001b[43m \u001b[49m\u001b[43mseries\u001b[49m\u001b[43m,\u001b[49m\u001b[43m \u001b[49m\u001b[43m{\u001b[49m\u001b[38;5;124;43m\"\u001b[39;49m\u001b[38;5;124;43mtype\u001b[39;49m\u001b[38;5;124;43m\"\u001b[39;49m\u001b[43m:\u001b[49m\u001b[43m \u001b[49m\u001b[38;5;28;43mstr\u001b[39;49m\u001b[43m(\u001b[49m\u001b[43mdtype\u001b[49m\u001b[43m)\u001b[49m\u001b[43m}\u001b[49m\u001b[43m)\u001b[49m\n\u001b[0;32m     38\u001b[0m     \u001b[38;5;28;01mreturn\u001b[39;00m summary\n",
      "File \u001b[1;32mE:\\anaconda3\\envs\\pythoncourse\\lib\\site-packages\\pandas_profiling\\model\\handler.py:62\u001b[0m, in \u001b[0;36mHandler.handle\u001b[1;34m(self, dtype, *args, **kwargs)\u001b[0m\n\u001b[0;32m     60\u001b[0m funcs \u001b[38;5;241m=\u001b[39m \u001b[38;5;28mself\u001b[39m\u001b[38;5;241m.\u001b[39mmapping\u001b[38;5;241m.\u001b[39mget(dtype, [])\n\u001b[0;32m     61\u001b[0m op \u001b[38;5;241m=\u001b[39m compose(funcs)\n\u001b[1;32m---> 62\u001b[0m \u001b[38;5;28;01mreturn\u001b[39;00m \u001b[43mop\u001b[49m\u001b[43m(\u001b[49m\u001b[38;5;241;43m*\u001b[39;49m\u001b[43margs\u001b[49m\u001b[43m)\u001b[49m\n",
      "File \u001b[1;32mE:\\anaconda3\\envs\\pythoncourse\\lib\\site-packages\\pandas_profiling\\model\\handler.py:21\u001b[0m, in \u001b[0;36mcompose.<locals>.func.<locals>.func2\u001b[1;34m(*x)\u001b[0m\n\u001b[0;32m     19\u001b[0m     \u001b[38;5;28;01mreturn\u001b[39;00m f(\u001b[38;5;241m*\u001b[39mx)\n\u001b[0;32m     20\u001b[0m \u001b[38;5;28;01melse\u001b[39;00m:\n\u001b[1;32m---> 21\u001b[0m     \u001b[38;5;28;01mreturn\u001b[39;00m \u001b[43mf\u001b[49m\u001b[43m(\u001b[49m\u001b[38;5;241;43m*\u001b[39;49m\u001b[43mres\u001b[49m\u001b[43m)\u001b[49m\n",
      "File \u001b[1;32mE:\\anaconda3\\envs\\pythoncourse\\lib\\site-packages\\pandas_profiling\\model\\handler.py:21\u001b[0m, in \u001b[0;36mcompose.<locals>.func.<locals>.func2\u001b[1;34m(*x)\u001b[0m\n\u001b[0;32m     19\u001b[0m     \u001b[38;5;28;01mreturn\u001b[39;00m f(\u001b[38;5;241m*\u001b[39mx)\n\u001b[0;32m     20\u001b[0m \u001b[38;5;28;01melse\u001b[39;00m:\n\u001b[1;32m---> 21\u001b[0m     \u001b[38;5;28;01mreturn\u001b[39;00m \u001b[43mf\u001b[49m\u001b[43m(\u001b[49m\u001b[38;5;241;43m*\u001b[39;49m\u001b[43mres\u001b[49m\u001b[43m)\u001b[49m\n",
      "File \u001b[1;32mE:\\anaconda3\\envs\\pythoncourse\\lib\\site-packages\\pandas_profiling\\model\\handler.py:21\u001b[0m, in \u001b[0;36mcompose.<locals>.func.<locals>.func2\u001b[1;34m(*x)\u001b[0m\n\u001b[0;32m     19\u001b[0m     \u001b[38;5;28;01mreturn\u001b[39;00m f(\u001b[38;5;241m*\u001b[39mx)\n\u001b[0;32m     20\u001b[0m \u001b[38;5;28;01melse\u001b[39;00m:\n\u001b[1;32m---> 21\u001b[0m     \u001b[38;5;28;01mreturn\u001b[39;00m \u001b[43mf\u001b[49m\u001b[43m(\u001b[49m\u001b[38;5;241;43m*\u001b[39;49m\u001b[43mres\u001b[49m\u001b[43m)\u001b[49m\n",
      "File \u001b[1;32mE:\\anaconda3\\envs\\pythoncourse\\lib\\site-packages\\pandas_profiling\\model\\handler.py:17\u001b[0m, in \u001b[0;36mcompose.<locals>.func.<locals>.func2\u001b[1;34m(*x)\u001b[0m\n\u001b[0;32m     16\u001b[0m \u001b[38;5;28;01mdef\u001b[39;00m \u001b[38;5;21mfunc2\u001b[39m(\u001b[38;5;241m*\u001b[39mx) \u001b[38;5;241m-\u001b[39m\u001b[38;5;241m>\u001b[39m Any:\n\u001b[1;32m---> 17\u001b[0m     res \u001b[38;5;241m=\u001b[39m \u001b[43mg\u001b[49m\u001b[43m(\u001b[49m\u001b[38;5;241;43m*\u001b[39;49m\u001b[43mx\u001b[49m\u001b[43m)\u001b[49m\n\u001b[0;32m     18\u001b[0m     \u001b[38;5;28;01mif\u001b[39;00m \u001b[38;5;28mtype\u001b[39m(res) \u001b[38;5;241m==\u001b[39m \u001b[38;5;28mbool\u001b[39m:\n\u001b[0;32m     19\u001b[0m         \u001b[38;5;28;01mreturn\u001b[39;00m f(\u001b[38;5;241m*\u001b[39mx)\n",
      "File \u001b[1;32mE:\\anaconda3\\envs\\pythoncourse\\lib\\site-packages\\multimethod\\__init__.py:312\u001b[0m, in \u001b[0;36mmultimethod.__call__\u001b[1;34m(self, *args, **kwargs)\u001b[0m\n\u001b[0;32m    310\u001b[0m func \u001b[38;5;241m=\u001b[39m \u001b[38;5;28mself\u001b[39m[\u001b[38;5;28mtuple\u001b[39m(func(arg) \u001b[38;5;28;01mfor\u001b[39;00m func, arg \u001b[38;5;129;01min\u001b[39;00m \u001b[38;5;28mzip\u001b[39m(\u001b[38;5;28mself\u001b[39m\u001b[38;5;241m.\u001b[39mtype_checkers, args))]\n\u001b[0;32m    311\u001b[0m \u001b[38;5;28;01mtry\u001b[39;00m:\n\u001b[1;32m--> 312\u001b[0m     \u001b[38;5;28;01mreturn\u001b[39;00m func(\u001b[38;5;241m*\u001b[39margs, \u001b[38;5;241m*\u001b[39m\u001b[38;5;241m*\u001b[39mkwargs)\n\u001b[0;32m    313\u001b[0m \u001b[38;5;28;01mexcept\u001b[39;00m \u001b[38;5;167;01mTypeError\u001b[39;00m \u001b[38;5;28;01mas\u001b[39;00m ex:\n\u001b[0;32m    314\u001b[0m     \u001b[38;5;28;01mraise\u001b[39;00m DispatchError(\u001b[38;5;124mf\u001b[39m\u001b[38;5;124m\"\u001b[39m\u001b[38;5;124mFunction \u001b[39m\u001b[38;5;132;01m{\u001b[39;00mfunc\u001b[38;5;241m.\u001b[39m\u001b[38;5;18m__code__\u001b[39m\u001b[38;5;132;01m}\u001b[39;00m\u001b[38;5;124m\"\u001b[39m) \u001b[38;5;28;01mfrom\u001b[39;00m \u001b[38;5;21;01mex\u001b[39;00m\n",
      "File \u001b[1;32mE:\\anaconda3\\envs\\pythoncourse\\lib\\site-packages\\pandas_profiling\\model\\summary_algorithms.py:65\u001b[0m, in \u001b[0;36mseries_hashable.<locals>.inner\u001b[1;34m(config, series, summary)\u001b[0m\n\u001b[0;32m     63\u001b[0m \u001b[38;5;28;01mif\u001b[39;00m \u001b[38;5;129;01mnot\u001b[39;00m summary[\u001b[38;5;124m\"\u001b[39m\u001b[38;5;124mhashable\u001b[39m\u001b[38;5;124m\"\u001b[39m]:\n\u001b[0;32m     64\u001b[0m     \u001b[38;5;28;01mreturn\u001b[39;00m config, series, summary\n\u001b[1;32m---> 65\u001b[0m \u001b[38;5;28;01mreturn\u001b[39;00m \u001b[43mfn\u001b[49m\u001b[43m(\u001b[49m\u001b[43mconfig\u001b[49m\u001b[43m,\u001b[49m\u001b[43m \u001b[49m\u001b[43mseries\u001b[49m\u001b[43m,\u001b[49m\u001b[43m \u001b[49m\u001b[43msummary\u001b[49m\u001b[43m)\u001b[49m\n",
      "File \u001b[1;32mE:\\anaconda3\\envs\\pythoncourse\\lib\\site-packages\\pandas_profiling\\model\\summary_algorithms.py:82\u001b[0m, in \u001b[0;36mseries_handle_nulls.<locals>.inner\u001b[1;34m(config, series, summary)\u001b[0m\n\u001b[0;32m     79\u001b[0m \u001b[38;5;28;01mif\u001b[39;00m series\u001b[38;5;241m.\u001b[39mhasnans:\n\u001b[0;32m     80\u001b[0m     series \u001b[38;5;241m=\u001b[39m series\u001b[38;5;241m.\u001b[39mdropna()\n\u001b[1;32m---> 82\u001b[0m \u001b[38;5;28;01mreturn\u001b[39;00m \u001b[43mfn\u001b[49m\u001b[43m(\u001b[49m\u001b[43mconfig\u001b[49m\u001b[43m,\u001b[49m\u001b[43m \u001b[49m\u001b[43mseries\u001b[49m\u001b[43m,\u001b[49m\u001b[43m \u001b[49m\u001b[43msummary\u001b[49m\u001b[43m)\u001b[49m\n",
      "File \u001b[1;32mE:\\anaconda3\\envs\\pythoncourse\\lib\\site-packages\\pandas_profiling\\model\\pandas\\describe_categorical_pandas.py:205\u001b[0m, in \u001b[0;36mpandas_describe_categorical_1d\u001b[1;34m(config, series, summary)\u001b[0m\n\u001b[0;32m    202\u001b[0m     summary[\u001b[38;5;124m\"\u001b[39m\u001b[38;5;124mchi_squared\u001b[39m\u001b[38;5;124m\"\u001b[39m] \u001b[38;5;241m=\u001b[39m chi_square(histogram\u001b[38;5;241m=\u001b[39mvalue_counts\u001b[38;5;241m.\u001b[39mvalues)\n\u001b[0;32m    204\u001b[0m \u001b[38;5;28;01mif\u001b[39;00m config\u001b[38;5;241m.\u001b[39mvars\u001b[38;5;241m.\u001b[39mcat\u001b[38;5;241m.\u001b[39mlength:\n\u001b[1;32m--> 205\u001b[0m     summary\u001b[38;5;241m.\u001b[39mupdate(\u001b[43mlength_summary_vc\u001b[49m\u001b[43m(\u001b[49m\u001b[43mvalue_counts\u001b[49m\u001b[43m)\u001b[49m)\n\u001b[0;32m    206\u001b[0m     summary\u001b[38;5;241m.\u001b[39mupdate(\n\u001b[0;32m    207\u001b[0m         histogram_compute(\n\u001b[0;32m    208\u001b[0m             config,\n\u001b[1;32m   (...)\u001b[0m\n\u001b[0;32m    213\u001b[0m         )\n\u001b[0;32m    214\u001b[0m     )\n\u001b[0;32m    216\u001b[0m \u001b[38;5;28;01mif\u001b[39;00m config\u001b[38;5;241m.\u001b[39mvars\u001b[38;5;241m.\u001b[39mcat\u001b[38;5;241m.\u001b[39mcharacters:\n",
      "File \u001b[1;32mE:\\anaconda3\\envs\\pythoncourse\\lib\\site-packages\\pandas_profiling\\model\\pandas\\describe_categorical_pandas.py:162\u001b[0m, in \u001b[0;36mlength_summary_vc\u001b[1;34m(vc)\u001b[0m\n\u001b[0;32m    156\u001b[0m length_counts \u001b[38;5;241m=\u001b[39m length_counts\u001b[38;5;241m.\u001b[39mgroupby(level\u001b[38;5;241m=\u001b[39m\u001b[38;5;241m0\u001b[39m, sort\u001b[38;5;241m=\u001b[39m\u001b[38;5;28;01mFalse\u001b[39;00m)\u001b[38;5;241m.\u001b[39msum()\n\u001b[0;32m    157\u001b[0m length_counts \u001b[38;5;241m=\u001b[39m length_counts\u001b[38;5;241m.\u001b[39msort_values(ascending\u001b[38;5;241m=\u001b[39m\u001b[38;5;28;01mFalse\u001b[39;00m)\n\u001b[0;32m    159\u001b[0m summary \u001b[38;5;241m=\u001b[39m {\n\u001b[0;32m    160\u001b[0m     \u001b[38;5;124m\"\u001b[39m\u001b[38;5;124mmax_length\u001b[39m\u001b[38;5;124m\"\u001b[39m: np\u001b[38;5;241m.\u001b[39mmax(length_counts\u001b[38;5;241m.\u001b[39mindex),\n\u001b[0;32m    161\u001b[0m     \u001b[38;5;124m\"\u001b[39m\u001b[38;5;124mmean_length\u001b[39m\u001b[38;5;124m\"\u001b[39m: np\u001b[38;5;241m.\u001b[39maverage(length_counts\u001b[38;5;241m.\u001b[39mindex, weights\u001b[38;5;241m=\u001b[39mlength_counts\u001b[38;5;241m.\u001b[39mvalues),\n\u001b[1;32m--> 162\u001b[0m     \u001b[38;5;124m\"\u001b[39m\u001b[38;5;124mmedian_length\u001b[39m\u001b[38;5;124m\"\u001b[39m: \u001b[43mweighted_median\u001b[49m\u001b[43m(\u001b[49m\n\u001b[0;32m    163\u001b[0m \u001b[43m        \u001b[49m\u001b[43mlength_counts\u001b[49m\u001b[38;5;241;43m.\u001b[39;49m\u001b[43mindex\u001b[49m\u001b[38;5;241;43m.\u001b[39;49m\u001b[43mvalues\u001b[49m\u001b[43m,\u001b[49m\u001b[43m \u001b[49m\u001b[43mweights\u001b[49m\u001b[38;5;241;43m=\u001b[39;49m\u001b[43mlength_counts\u001b[49m\u001b[38;5;241;43m.\u001b[39;49m\u001b[43mvalues\u001b[49m\n\u001b[0;32m    164\u001b[0m \u001b[43m    \u001b[49m\u001b[43m)\u001b[49m,\n\u001b[0;32m    165\u001b[0m     \u001b[38;5;124m\"\u001b[39m\u001b[38;5;124mmin_length\u001b[39m\u001b[38;5;124m\"\u001b[39m: np\u001b[38;5;241m.\u001b[39mmin(length_counts\u001b[38;5;241m.\u001b[39mindex),\n\u001b[0;32m    166\u001b[0m     \u001b[38;5;124m\"\u001b[39m\u001b[38;5;124mlength_histogram\u001b[39m\u001b[38;5;124m\"\u001b[39m: length_counts,\n\u001b[0;32m    167\u001b[0m }\n\u001b[0;32m    169\u001b[0m \u001b[38;5;28;01mreturn\u001b[39;00m summary\n",
      "File \u001b[1;32mE:\\anaconda3\\envs\\pythoncourse\\lib\\site-packages\\pandas_profiling\\model\\pandas\\utils_pandas.py:13\u001b[0m, in \u001b[0;36mweighted_median\u001b[1;34m(data, weights)\u001b[0m\n\u001b[0;32m     11\u001b[0m midpoint \u001b[38;5;241m=\u001b[39m \u001b[38;5;241m0.5\u001b[39m \u001b[38;5;241m*\u001b[39m \u001b[38;5;28msum\u001b[39m(s_weights)\n\u001b[0;32m     12\u001b[0m \u001b[38;5;28;01mif\u001b[39;00m \u001b[38;5;28many\u001b[39m(weights \u001b[38;5;241m>\u001b[39m midpoint):\n\u001b[1;32m---> 13\u001b[0m     w_median \u001b[38;5;241m=\u001b[39m (\u001b[43mdata\u001b[49m\u001b[43m[\u001b[49m\u001b[43mweights\u001b[49m\u001b[43m \u001b[49m\u001b[38;5;241;43m==\u001b[39;49m\u001b[43m \u001b[49m\u001b[43mnp\u001b[49m\u001b[38;5;241;43m.\u001b[39;49m\u001b[43mmax\u001b[49m\u001b[43m(\u001b[49m\u001b[43mweights\u001b[49m\u001b[43m)\u001b[49m\u001b[43m]\u001b[49m)[\u001b[38;5;241m0\u001b[39m]\n\u001b[0;32m     14\u001b[0m \u001b[38;5;28;01melse\u001b[39;00m:\n\u001b[0;32m     15\u001b[0m     cs_weights \u001b[38;5;241m=\u001b[39m np\u001b[38;5;241m.\u001b[39mcumsum(s_weights)\n",
      "\u001b[1;31mIndexError\u001b[0m: only integers, slices (`:`), ellipsis (`...`), numpy.newaxis (`None`) and integer or boolean arrays are valid indices"
     ]
    },
    {
     "data": {
      "text/plain": []
     },
     "execution_count": 103,
     "metadata": {},
     "output_type": "execute_result"
    }
   ],
   "source": [
    "dataset.profile_report()"
   ]
  },
  {
   "cell_type": "markdown",
   "id": "5c3d4277",
   "metadata": {},
   "source": [
    "As we look in to the profile report we are now having warnings of about the skewness and the zeros. This will be wiped off after doing a scaling operation after dealing with spiltting the dataset. All the unwanted variables will also be removed during the Feature elimination"
   ]
  },
  {
   "cell_type": "markdown",
   "id": "25a34aba",
   "metadata": {},
   "source": [
    "# Regression Model Building"
   ]
  },
  {
   "cell_type": "code",
   "execution_count": 104,
   "id": "08016ae8",
   "metadata": {},
   "outputs": [],
   "source": [
    "datasetR = dataset.copy() #lets keep our original dataset for reference. Here datasetR is for Regression model\n",
    "datasetC = dataset.copy() #Here datasetC is for classification model"
   ]
  },
  {
   "cell_type": "code",
   "execution_count": 105,
   "id": "6bcb312a",
   "metadata": {},
   "outputs": [],
   "source": [
    "from sklearn.model_selection import train_test_split\n",
    "y = datasetR.pop('imdb_score')\n",
    "X = datasetR\n",
    "X_train, X_test, y_train, y_test = train_test_split(X, y, train_size = 0.8, test_size = 0.2, random_state = 42)"
   ]
  },
  {
   "cell_type": "code",
   "execution_count": 106,
   "id": "c237cce0",
   "metadata": {},
   "outputs": [
    {
     "data": {
      "text/plain": [
       "((3817, 26), (3053, 26), (3053,), (764, 26), (764,))"
      ]
     },
     "execution_count": 106,
     "metadata": {},
     "output_type": "execute_result"
    }
   ],
   "source": [
    "datasetR.shape, X_train.shape, y_train.shape, X_test.shape, y_test.shape"
   ]
  },
  {
   "cell_type": "code",
   "execution_count": 107,
   "id": "3a049507",
   "metadata": {},
   "outputs": [],
   "source": [
    "from sklearn.preprocessing import MinMaxScaler\n",
    "scaler = MinMaxScaler()\n",
    "X_train = pd.DataFrame(scaler.fit_transform(X_train.values), columns=X_train.columns, index=X_train.index)"
   ]
  },
  {
   "cell_type": "code",
   "execution_count": 108,
   "id": "0958c69f",
   "metadata": {},
   "outputs": [],
   "source": [
    "X_test = pd.DataFrame(scaler.transform(X_test.values), columns = X_train.columns, index = X_test.index)"
   ]
  },
  {
   "cell_type": "code",
   "execution_count": 109,
   "id": "bf920d86",
   "metadata": {},
   "outputs": [
    {
     "data": {
      "text/plain": [
       "(3053, 26)"
      ]
     },
     "execution_count": 109,
     "metadata": {},
     "output_type": "execute_result"
    }
   ],
   "source": [
    "X_train.shape"
   ]
  },
  {
   "cell_type": "code",
   "execution_count": 110,
   "id": "eea6b7c0",
   "metadata": {},
   "outputs": [],
   "source": [
    "#removing variables with high colinearity\n",
    "def correlation(dataset, threshold):\n",
    "    col_corr = set() # Set of all the names of deleted columns\n",
    "    corr_matrix = dataset.corr()\n",
    "    for i in range(len(corr_matrix.columns)):\n",
    "        for j in range(i):\n",
    "            if (corr_matrix.iloc[i, j] >= threshold) and (corr_matrix.columns[j] not in col_corr):\n",
    "                colname = corr_matrix.columns[i] # getting the name of column\n",
    "                col_corr.add(colname)\n",
    "                if colname in dataset.columns:\n",
    "                    del dataset[colname] # deleting the column from the dataset\n",
    "correlation(X_train,0.90)"
   ]
  },
  {
   "cell_type": "code",
   "execution_count": 111,
   "id": "c57d0021",
   "metadata": {},
   "outputs": [
    {
     "data": {
      "text/plain": [
       "(3053, 25)"
      ]
     },
     "execution_count": 111,
     "metadata": {},
     "output_type": "execute_result"
    }
   ],
   "source": [
    "X_train.shape"
   ]
  },
  {
   "cell_type": "code",
   "execution_count": 112,
   "id": "d0a35251",
   "metadata": {},
   "outputs": [],
   "source": [
    "#importing the required libraries\n",
    "from sklearn.feature_selection import RFE\n",
    "from sklearn.linear_model import LinearRegression"
   ]
  },
  {
   "cell_type": "code",
   "execution_count": 113,
   "id": "95efa65c",
   "metadata": {},
   "outputs": [],
   "source": [
    "# Running RFE with the output number of the variable equal to 15\n",
    "lm = LinearRegression()\n",
    "lm.fit(X_train, y_train)\n",
    "\n",
    "rfe = RFE(estimator = lm, n_features_to_select = 15)            # running RFE\n",
    "rfe = rfe.fit(X_train, y_train)"
   ]
  },
  {
   "cell_type": "code",
   "execution_count": 114,
   "id": "31eb4871",
   "metadata": {},
   "outputs": [
    {
     "data": {
      "text/plain": [
       "[('color', True, 1),\n",
       " ('num_critic_for_reviews', True, 1),\n",
       " ('duration', True, 1),\n",
       " ('director_facebook_likes', False, 11),\n",
       " ('actor_3_facebook_likes', True, 1),\n",
       " ('actor_1_facebook_likes', True, 1),\n",
       " ('gross', True, 1),\n",
       " ('num_voted_users', True, 1),\n",
       " ('facenumber_in_poster', True, 1),\n",
       " ('num_user_for_reviews', True, 1),\n",
       " ('language', True, 1),\n",
       " ('country', False, 2),\n",
       " ('content_rating', False, 10),\n",
       " ('budget', True, 1),\n",
       " ('title_year', True, 1),\n",
       " ('actor_2_facebook_likes', True, 1),\n",
       " ('aspect_ratio', False, 3),\n",
       " ('movie_facebook_likes', True, 1),\n",
       " ('director_name_value_counts', False, 7),\n",
       " ('actor_2_name_value_counts', False, 9),\n",
       " ('main_genre', True, 1),\n",
       " ('genres_value_counts', False, 4),\n",
       " ('actor_1_name_value_counts', False, 5),\n",
       " ('actor_3_name_value_counts', False, 6),\n",
       " ('main_plot_keyword_value_counts', False, 8)]"
      ]
     },
     "execution_count": 114,
     "metadata": {},
     "output_type": "execute_result"
    }
   ],
   "source": [
    "list(zip(X_train.columns,rfe.support_,rfe.ranking_))"
   ]
  },
  {
   "cell_type": "code",
   "execution_count": 115,
   "id": "1c239bb0",
   "metadata": {},
   "outputs": [
    {
     "data": {
      "text/plain": [
       "Index(['color', 'num_critic_for_reviews', 'duration', 'actor_3_facebook_likes',\n",
       "       'actor_1_facebook_likes', 'gross', 'num_voted_users',\n",
       "       'facenumber_in_poster', 'num_user_for_reviews', 'language', 'budget',\n",
       "       'title_year', 'actor_2_facebook_likes', 'movie_facebook_likes',\n",
       "       'main_genre'],\n",
       "      dtype='object')"
      ]
     },
     "execution_count": 115,
     "metadata": {},
     "output_type": "execute_result"
    }
   ],
   "source": [
    "col_rfe = X_train.columns[rfe.support_]\n",
    "col_rfe"
   ]
  },
  {
   "cell_type": "code",
   "execution_count": 116,
   "id": "146497f6",
   "metadata": {},
   "outputs": [
    {
     "data": {
      "text/plain": [
       "Index(['director_facebook_likes', 'country', 'content_rating', 'aspect_ratio',\n",
       "       'director_name_value_counts', 'actor_2_name_value_counts',\n",
       "       'genres_value_counts', 'actor_1_name_value_counts',\n",
       "       'actor_3_name_value_counts', 'main_plot_keyword_value_counts'],\n",
       "      dtype='object')"
      ]
     },
     "execution_count": 116,
     "metadata": {},
     "output_type": "execute_result"
    }
   ],
   "source": [
    "X_train.columns[~rfe.support_]"
   ]
  },
  {
   "cell_type": "code",
   "execution_count": 117,
   "id": "005d7937",
   "metadata": {},
   "outputs": [],
   "source": [
    "#Creating a X_train dataframe with rfe varianles\n",
    "X_train_rfe = X_train[col_rfe]"
   ]
  },
  {
   "cell_type": "code",
   "execution_count": 118,
   "id": "86b665df",
   "metadata": {},
   "outputs": [],
   "source": [
    "#!pip install statsmodels"
   ]
  },
  {
   "cell_type": "code",
   "execution_count": 119,
   "id": "8f8c0788",
   "metadata": {},
   "outputs": [],
   "source": [
    "# Adding a constant variable for using the stats model\n",
    "import statsmodels.api as sm\n",
    "X_train_rfe_constant = sm.add_constant(X_train_rfe)"
   ]
  },
  {
   "cell_type": "code",
   "execution_count": 120,
   "id": "7b29f343",
   "metadata": {},
   "outputs": [],
   "source": [
    "lm = sm.OLS(y_train,X_train_rfe_constant).fit()   # Running the linear model"
   ]
  },
  {
   "cell_type": "code",
   "execution_count": 121,
   "id": "b421d4ed",
   "metadata": {},
   "outputs": [
    {
     "name": "stdout",
     "output_type": "stream",
     "text": [
      "                            OLS Regression Results                            \n",
      "==============================================================================\n",
      "Dep. Variable:             imdb_score   R-squared:                       0.377\n",
      "Model:                            OLS   Adj. R-squared:                  0.374\n",
      "Method:                 Least Squares   F-statistic:                     122.4\n",
      "Date:                Sat, 16 Apr 2022   Prob (F-statistic):          7.83e-298\n",
      "Time:                        23:03:10   Log-Likelihood:                -3793.9\n",
      "No. Observations:                3053   AIC:                             7620.\n",
      "Df Residuals:                    3037   BIC:                             7716.\n",
      "Df Model:                          15                                         \n",
      "Covariance Type:            nonrobust                                         \n",
      "==========================================================================================\n",
      "                             coef    std err          t      P>|t|      [0.025      0.975]\n",
      "------------------------------------------------------------------------------------------\n",
      "const                      6.8264      0.180     37.892      0.000       6.473       7.180\n",
      "color                     -0.3608      0.086     -4.220      0.000      -0.528      -0.193\n",
      "num_critic_for_reviews     2.0974      0.178     11.753      0.000       1.747       2.447\n",
      "duration                   2.9343      0.220     13.312      0.000       2.502       3.367\n",
      "actor_3_facebook_likes    -1.0232      0.245     -4.172      0.000      -1.504      -0.542\n",
      "actor_1_facebook_likes     0.9896      0.688      1.438      0.150      -0.359       2.339\n",
      "gross                     -1.0088      0.200     -5.049      0.000      -1.401      -0.617\n",
      "num_voted_users            6.4188      0.323     19.902      0.000       5.786       7.051\n",
      "facenumber_in_poster      -1.1126      0.313     -3.556      0.000      -1.726      -0.499\n",
      "num_user_for_reviews      -3.4556      0.332    -10.414      0.000      -4.106      -2.805\n",
      "language                   1.5674      0.203      7.703      0.000       1.168       1.966\n",
      "budget                    -1.1040      0.611     -1.806      0.071      -2.302       0.094\n",
      "title_year                -2.0488      0.177    -11.547      0.000      -2.397      -1.701\n",
      "actor_2_facebook_likes     0.3081      0.152      2.026      0.043       0.010       0.606\n",
      "movie_facebook_likes      -0.3907      0.228     -1.713      0.087      -0.838       0.056\n",
      "main_genre                 0.4281      0.085      5.052      0.000       0.262       0.594\n",
      "==============================================================================\n",
      "Omnibus:                      471.393   Durbin-Watson:                   1.926\n",
      "Prob(Omnibus):                  0.000   Jarque-Bera (JB):              994.415\n",
      "Skew:                          -0.916   Prob(JB):                    1.16e-216\n",
      "Kurtosis:                       5.113   Cond. No.                         78.1\n",
      "==============================================================================\n",
      "\n",
      "Notes:\n",
      "[1] Standard Errors assume that the covariance matrix of the errors is correctly specified.\n"
     ]
    }
   ],
   "source": [
    "#Let's see the summary of our linear model\n",
    "print(lm.summary())"
   ]
  },
  {
   "cell_type": "code",
   "execution_count": 122,
   "id": "f74c76e9",
   "metadata": {},
   "outputs": [],
   "source": [
    "X_test_rfe = X_test[col_rfe]\n",
    "X_test_rfe_constant = sm.add_constant(X_test_rfe)"
   ]
  },
  {
   "cell_type": "code",
   "execution_count": 123,
   "id": "5d03c20d",
   "metadata": {},
   "outputs": [],
   "source": [
    "y_pred_linear = lm.predict(X_test_rfe_constant)"
   ]
  },
  {
   "cell_type": "code",
   "execution_count": 124,
   "id": "833c375e",
   "metadata": {},
   "outputs": [
    {
     "data": {
      "text/plain": [
       "array([ 7.01444312,  6.00876198,  6.62347135,  6.59482027,  6.18268366,\n",
       "        6.79254053,  6.71765315,  6.25384279,  6.08470355,  7.20717633,\n",
       "        5.71014709,  6.06612977,  5.9959564 ,  6.64196818,  6.08914272,\n",
       "        7.42534011,  6.98659027,  6.18680856,  6.7656102 ,  5.84074487,\n",
       "        5.88570792,  6.27443048,  6.38443962,  6.45300389,  5.94810376,\n",
       "        6.55519627,  6.83348579,  6.78324774,  7.49528209,  6.7076033 ,\n",
       "        6.41911769,  6.91743602,  6.19909485,  8.5792837 ,  5.99658715,\n",
       "        6.1153123 ,  6.07696256,  8.68334707,  6.58889215,  6.4787575 ,\n",
       "        6.39522147,  7.5316076 ,  5.82752705,  6.28471002,  6.73123554,\n",
       "        5.72430876,  6.07725613,  6.02306239,  5.93702133,  5.46658224,\n",
       "        6.4272058 ,  6.07471918,  5.74102048,  6.38838576,  7.40419389,\n",
       "        6.40289355,  5.98113985,  7.70453531,  8.19492268,  6.7685695 ,\n",
       "        7.04712224,  6.80422735,  9.94078061,  7.01846469,  8.20775291,\n",
       "        6.33402399,  6.35680065,  5.54112474,  6.49460001,  6.95320643,\n",
       "        6.1077915 ,  6.77861348,  5.89979206,  6.11757466,  6.56769757,\n",
       "        6.07898786,  6.09894807,  6.34864654,  6.28462213,  6.06344886,\n",
       "        6.67896183,  6.26708125,  5.6900226 ,  6.09804496,  7.17687135,\n",
       "        6.80343483,  9.2936546 ,  6.25060878,  5.97708893,  5.98551069,\n",
       "        6.53302944,  6.86141968,  6.4195812 ,  6.83240642,  6.71601208,\n",
       "        7.3574184 ,  6.26536451,  7.26739823,  6.33981875,  6.69735576,\n",
       "        5.85849456,  6.65665419,  6.36601689,  6.22925778,  6.26067074,\n",
       "        6.06169243,  7.19567132,  6.35786519,  7.6193287 ,  6.43435955,\n",
       "        6.79051612,  6.86136887,  6.32813145,  5.74222925,  6.68259266,\n",
       "        6.61671119,  5.74009576,  7.00903988,  7.74325908,  6.11405286,\n",
       "        7.60989869,  6.19226116,  5.81163381,  6.52134254,  6.20032616,\n",
       "        6.59550285,  7.52259346,  5.99911076,  5.98384559,  5.84605346,\n",
       "        6.54537472,  5.86255861,  6.06715117,  6.38005338,  6.47530756,\n",
       "        6.11636882,  5.71504247,  6.53060277,  7.23602877,  7.9957383 ,\n",
       "        6.08008597,  6.57033402,  7.6836214 ,  6.20019198,  6.03092416,\n",
       "        6.24876309,  6.23726326,  6.57265252,  6.17005615,  6.20210799,\n",
       "        6.77262489,  6.19147131,  6.76991856,  5.92795216,  6.06377103,\n",
       "        6.61585331,  7.06441291,  6.19610145,  6.46782712,  6.37241704,\n",
       "        5.63586991,  7.25474476,  6.96829038,  6.78625748,  6.46503481,\n",
       "        6.23551168,  5.92419713,  6.24987751,  7.67712297,  6.24988283,\n",
       "        5.84008071,  7.94358893,  6.29906698,  7.1589256 ,  6.29195319,\n",
       "        6.75674225,  6.40587035,  6.48889574,  7.14505097,  6.86725381,\n",
       "        6.18502399,  5.51875208,  5.96539252,  6.04442617,  6.29465585,\n",
       "        6.04802445,  5.99975866,  8.00829088,  7.12744368,  6.2979498 ,\n",
       "        6.5537354 ,  6.80870917,  5.91064586,  6.43525308,  6.77667533,\n",
       "        7.57716341,  6.21157027,  6.6172308 ,  6.42923658,  6.05737647,\n",
       "        6.81780002,  6.67406536,  6.43954199,  6.09379252,  7.56872381,\n",
       "        6.64216546,  6.2982413 ,  6.22231666,  5.9404799 ,  6.72407447,\n",
       "        5.88988139,  6.66384966,  6.20501767,  6.10281328,  5.4427566 ,\n",
       "        6.26981833,  6.13922053,  6.4088028 ,  7.26330704,  6.48447318,\n",
       "        6.33907907,  6.0144283 ,  6.26902963,  5.93925155,  6.2237208 ,\n",
       "        6.19056256,  6.22034983,  7.11237893,  6.30074649,  7.92732917,\n",
       "        6.41444925,  6.62002941,  6.07222206,  6.01523054,  6.54264732,\n",
       "        6.37123441,  6.49492952,  6.13655517,  7.36435425,  7.04562505,\n",
       "        8.97696393,  6.51025593,  6.04980787,  6.40145846,  6.37170652,\n",
       "        6.15351051,  5.78637192,  6.54410199,  6.05597997,  5.99549414,\n",
       "        5.59407126,  5.99662106,  6.74887423,  5.54502022,  6.09649921,\n",
       "        6.55840164,  6.49347791,  7.27922689,  5.77079801,  6.58741183,\n",
       "        6.22805196,  6.30303214,  6.10993779,  5.94756547,  5.54521954,\n",
       "        6.42095279,  6.02265969,  6.27956521,  5.92152949,  6.73473049,\n",
       "        5.68540873,  6.50954598,  6.08873957,  6.21163015,  6.15199405,\n",
       "        6.71236178,  5.78244426,  6.06810501,  6.30729665,  6.49903286,\n",
       "        7.06540656,  5.94969899,  7.31455884,  5.87292106,  8.23923134,\n",
       "        5.87083642,  5.9582297 ,  6.18313475,  6.14879359,  5.98514567,\n",
       "        6.27524655,  6.32182334,  6.5007595 ,  6.17042473,  6.79076453,\n",
       "        5.9049523 ,  6.65665343,  6.36022798,  6.46280353,  6.01718958,\n",
       "        6.28119645,  6.50855401,  6.27367248,  5.66700574,  6.33183109,\n",
       "        6.71268603,  7.283805  ,  6.22250404,  6.07339987,  6.04154328,\n",
       "        6.45677419,  5.72348801,  4.22900969,  8.05556047,  5.96250053,\n",
       "        6.53225024,  6.00109631,  7.3317144 ,  7.51401592,  5.8766708 ,\n",
       "        6.20029658,  6.01078157,  6.80142277,  5.67930959,  7.92583261,\n",
       "        6.00090556,  5.77468913,  7.46833602,  6.73391619,  9.2914372 ,\n",
       "        6.20960017,  6.70260262,  6.24221717,  5.85058944,  6.73499364,\n",
       "        5.81114328,  7.04249081,  6.32907046,  6.274517  ,  5.9889109 ,\n",
       "        5.81824617,  6.58427659,  6.49183953,  5.73546766,  7.19559454,\n",
       "        6.15443868,  6.74877786,  6.07017485,  5.79045305,  6.6413898 ,\n",
       "        8.189022  ,  6.00257543,  6.21917704,  5.95772676,  6.61659413,\n",
       "        7.51270485,  6.86250378,  6.17017735,  5.90496364,  6.29030756,\n",
       "        6.6783423 ,  6.48925282,  6.19443718,  6.33952312,  7.26164821,\n",
       "        6.04380702,  6.70863009,  5.90751674,  7.08487218,  6.71024076,\n",
       "        6.05406687,  5.88335329,  6.94040368,  6.10684993,  7.1927546 ,\n",
       "        6.8115464 ,  5.79862251,  5.79539035,  6.39321974,  6.00895891,\n",
       "        6.44311272,  6.45231899,  6.16807742,  6.09958337,  6.44488228,\n",
       "        7.09042015,  6.26943513,  6.49391649,  6.34107833,  6.39115242,\n",
       "        5.90563051,  6.09634274,  8.08887053,  6.10393951,  5.78627411,\n",
       "        5.92374689,  5.95016789,  5.93949908,  6.4731637 ,  8.44826466,\n",
       "        5.69480182,  6.70363477,  6.51495503,  5.9131167 ,  6.02365892,\n",
       "        5.84912726,  6.58788384,  5.72245227,  6.51354025,  5.68987254,\n",
       "        6.83523894,  6.88002629,  5.86464737,  6.69985233,  6.42712472,\n",
       "        5.97948586,  5.40940077,  6.31156297,  6.70203347,  6.10923648,\n",
       "        5.94567711,  6.07116563,  6.42268337,  5.87284826,  6.8955506 ,\n",
       "        6.04955246,  7.03701716,  6.7690469 ,  6.44846456,  5.99409098,\n",
       "        5.80772334,  5.77383824,  6.03193041,  6.74495677,  5.90484667,\n",
       "        6.18197985,  6.50649506,  7.17897095,  5.94794234,  6.4853657 ,\n",
       "        6.44635244,  8.19680847,  6.19357436,  5.88707597,  5.64585352,\n",
       "        5.73957016,  6.22880603,  6.10619147,  6.09469429,  6.16984236,\n",
       "        5.81690114,  7.09740376,  6.42341305,  6.59595603,  5.69960076,\n",
       "        7.11748518,  6.4197954 ,  5.94468312,  7.05993391,  5.64469199,\n",
       "        7.93414685,  6.74227466,  6.66238308,  6.33628148,  8.22561696,\n",
       "        6.55469714,  6.11493135,  6.45024932,  6.8683111 ,  6.25164502,\n",
       "        5.96494442,  5.91709433,  6.15006431,  6.44365713,  6.69988272,\n",
       "        7.03681332,  6.19511232,  5.95061831,  6.58506859,  7.15126841,\n",
       "        5.64406475,  6.80011852,  6.01136667,  6.7403674 ,  5.91120206,\n",
       "        6.05884373,  7.45721939,  6.93198441,  7.0756329 ,  5.69769759,\n",
       "        5.99499986,  9.55237278,  7.9656805 ,  5.80282446,  6.30162648,\n",
       "        6.43039813,  6.43370286,  7.39078449,  6.45644908,  6.333051  ,\n",
       "        6.52462051,  6.01074205,  6.24477531,  6.27505464,  7.13651959,\n",
       "        5.96909354,  6.65019128,  6.51673145,  6.67802657,  6.58498844,\n",
       "        5.92427786,  6.90438109,  6.49576497,  6.11994619,  6.48438139,\n",
       "        6.70550927,  6.43469491,  6.9102127 ,  6.44028909,  5.65193172,\n",
       "        6.18621801,  6.34749497,  7.69975682,  6.22261447,  5.57816294,\n",
       "        6.52217687,  7.94948028,  5.90849229,  5.78995822,  6.74749624,\n",
       "        6.54538231,  6.11233055,  6.15366431,  5.79742699,  6.4363126 ,\n",
       "        5.80522   ,  5.83391965,  6.43933752,  5.90171803,  6.97508594,\n",
       "        6.47511162,  6.68378361,  6.54166793,  5.85523074,  6.94170412,\n",
       "        6.33052491,  6.35867934,  6.31764243,  5.84858533,  6.14953201,\n",
       "        6.45431843,  6.04380702,  7.25187546,  6.30412615,  5.90575258,\n",
       "        6.45172087,  6.70991796,  6.00366095,  5.93902873,  7.10822888,\n",
       "        7.04484267,  6.1062322 ,  6.42566104,  6.20377184,  5.97716923,\n",
       "        9.09688977,  6.44708562,  6.36378089,  6.30788124,  6.34851919,\n",
       "        5.91320037,  6.05094146,  6.08843189,  6.33761116,  6.68647361,\n",
       "        7.28558696,  5.88369267,  5.81831716,  6.47864656,  5.96179678,\n",
       "        6.04710435,  6.00632327,  6.15608871,  5.94370644,  5.95142098,\n",
       "        6.26129077,  6.16084717,  6.54911051,  6.65401811,  6.30455519,\n",
       "        6.33869199,  5.9761729 ,  6.8219931 ,  6.49647624,  6.22451929,\n",
       "        5.85095411,  6.41152492,  6.82971444,  6.09316424,  6.3513206 ,\n",
       "        7.3537442 ,  8.02587966,  6.58400564,  5.83724702,  5.71308104,\n",
       "        6.41542072,  7.88027143,  6.76854681,  6.41583918,  7.72456905,\n",
       "        6.02692742,  6.42987289,  6.88589573,  6.03705629,  6.01266741,\n",
       "        5.81847581,  5.88521781,  6.47843902,  6.40094048,  6.9386258 ,\n",
       "        6.50918185,  7.37670489,  6.04022072,  6.7027812 ,  7.97129474,\n",
       "        5.667032  ,  6.30134597,  6.27425087,  6.44121654,  5.78910508,\n",
       "        6.37522398,  6.13802408,  6.01403536,  6.07923569, 10.42232896,\n",
       "        5.81701064,  6.6929865 ,  5.66144859,  7.64836821,  6.06970885,\n",
       "        7.66482855,  7.15021818,  5.73907937,  6.91044773,  7.00816465,\n",
       "        7.42268247,  5.93625303,  6.38337433,  6.46869506,  6.58372315,\n",
       "        6.20568159,  6.26154761,  6.65780666,  6.57827224,  6.38444268,\n",
       "        5.69379041,  5.60641813,  6.81442859,  5.93377003,  7.58862828,\n",
       "        6.39220674,  6.02521452,  5.83845626,  5.95926353, 10.66469837,\n",
       "        6.02908676,  5.70371781,  5.95369812,  7.67037693,  6.59646858,\n",
       "        9.86699488,  5.91806275,  6.07221182,  6.08406952,  6.1050526 ,\n",
       "        5.74238741,  5.93811455,  5.9171457 ,  7.32447183,  6.15333266,\n",
       "        7.10672317,  5.93598167,  5.99253314,  5.86523774,  6.64058503,\n",
       "        6.3136585 ,  6.08549748,  6.13823511,  5.70000006,  5.73122672,\n",
       "        5.8690804 ,  6.89286465,  5.89062604,  6.04140067,  6.167561  ,\n",
       "        6.59797452,  6.18420537,  6.22729618,  6.36669937,  6.15675684,\n",
       "        6.87611213,  6.05312108,  6.72227043,  6.37326009,  6.02299821,\n",
       "        6.11843381,  5.99468849,  6.27757411,  6.15790642,  6.75300204,\n",
       "        6.85807015,  6.11895302,  8.25581907,  5.6595498 ,  6.14232042,\n",
       "        6.5770143 ,  6.33368037,  6.76689137,  7.00661649,  5.98409742,\n",
       "        6.11064449,  5.86027521,  6.04245422,  5.87572863,  6.10881253,\n",
       "        6.28651308,  7.58377321,  6.08103034,  6.82925452,  6.86310695,\n",
       "        6.83888807,  6.12001288,  6.65993953,  7.6752316 ,  6.43508087,\n",
       "        7.47535674,  7.03011855,  6.57779147,  6.37566343,  6.73568608,\n",
       "        6.59515775,  7.66768608,  6.24842859,  6.46554374,  7.23298334,\n",
       "        6.14017329,  6.31792255,  6.01220764,  6.76173518,  5.64701079,\n",
       "        6.56848577,  5.97890944,  6.06093829,  6.10379742,  5.80686702,\n",
       "        6.28243399,  7.04786523,  5.73648904,  6.05909793,  7.04155029,\n",
       "        6.14810088,  6.092187  ,  6.41011302,  6.12397594])"
      ]
     },
     "execution_count": 124,
     "metadata": {},
     "output_type": "execute_result"
    }
   ],
   "source": [
    "y_pred_linear.values"
   ]
  },
  {
   "cell_type": "code",
   "execution_count": 125,
   "id": "2a7b2083",
   "metadata": {},
   "outputs": [
    {
     "data": {
      "text/plain": [
       "(4.229009694035651, 10.664698367074877)"
      ]
     },
     "execution_count": 125,
     "metadata": {},
     "output_type": "execute_result"
    }
   ],
   "source": [
    "y_pred_linear.min(), y_pred_linear.max()"
   ]
  },
  {
   "cell_type": "code",
   "execution_count": 126,
   "id": "32f4736e",
   "metadata": {},
   "outputs": [],
   "source": [
    "from sklearn.metrics import mean_squared_error"
   ]
  },
  {
   "cell_type": "code",
   "execution_count": 127,
   "id": "68f1d565",
   "metadata": {},
   "outputs": [
    {
     "data": {
      "text/plain": [
       "0.7064048678599878"
      ]
     },
     "execution_count": 127,
     "metadata": {},
     "output_type": "execute_result"
    }
   ],
   "source": [
    "mean_squared_error(y_pred_linear, y_test)"
   ]
  },
  {
   "cell_type": "markdown",
   "id": "7801decd",
   "metadata": {},
   "source": [
    "After looking in to the stats, We observe that the r2 score is low of about 0.37 aafter having all consistent variables and the regression line is not fitting the data correctly. So we have to go for much advanced curved model such as support vector machine and ensemble algorithms to make our model to fit the data correctly."
   ]
  },
  {
   "cell_type": "markdown",
   "id": "293383b8",
   "metadata": {},
   "source": [
    "# Support Vector Machines with Linear, Polynomial, RBF Kernels"
   ]
  },
  {
   "cell_type": "code",
   "execution_count": 128,
   "id": "85623255",
   "metadata": {},
   "outputs": [],
   "source": [
    "from sklearn.svm import SVR\n",
    "svr_rbf = SVR(kernel='rbf', gamma=0.1)\n",
    "svr_lin = SVR(kernel='linear', gamma='auto')\n",
    "svr_poly = SVR(kernel='poly', gamma='auto', degree=3)"
   ]
  },
  {
   "cell_type": "code",
   "execution_count": 129,
   "id": "dd5d437e",
   "metadata": {},
   "outputs": [],
   "source": [
    "svr_rbf.fit(X_train_rfe, y_train)\n",
    "y_pred_svm_rbf = svr_rbf.predict(X_test_rfe)"
   ]
  },
  {
   "cell_type": "code",
   "execution_count": 130,
   "id": "ae933fde",
   "metadata": {},
   "outputs": [
    {
     "data": {
      "text/plain": [
       "array([7.13693576, 6.08113513, 6.77808165, 6.59318336, 6.26117227,\n",
       "       6.76335536, 6.94767209, 6.3861124 , 6.1395267 , 7.06277244,\n",
       "       5.96135133, 6.21115658, 6.42724741, 6.75124309, 6.21902249,\n",
       "       7.76001253, 7.11317133, 6.26515929, 6.80258488, 6.05281246,\n",
       "       6.10723795, 6.25076868, 6.65536616, 6.5606972 , 6.09113033,\n",
       "       6.69135271, 6.80187125, 6.86217694, 7.49892584, 6.89491778,\n",
       "       6.74152486, 7.05190519, 6.45804696, 8.30881778, 6.11161271,\n",
       "       6.24325829, 6.21618488, 8.05413198, 6.47557152, 6.56259474,\n",
       "       6.45950159, 7.33496651, 6.00391353, 7.13339919, 6.85608267,\n",
       "       5.9068141 , 6.24892883, 6.08417666, 6.13227679, 5.73604416,\n",
       "       6.56252083, 6.33413872, 5.83216684, 6.63872997, 7.30683801,\n",
       "       6.52196493, 6.11905187, 7.54156147, 8.441141  , 6.80261269,\n",
       "       7.07092282, 6.78956984, 9.09365559, 7.00108708, 8.21972302,\n",
       "       6.40869278, 7.23921413, 5.81769794, 6.59008364, 7.14253524,\n",
       "       6.30329565, 7.20499307, 6.16348681, 6.27976562, 6.57121336,\n",
       "       6.28424963, 6.32279469, 6.44937533, 6.47258632, 6.22265266,\n",
       "       6.82906996, 6.29666384, 5.82510803, 6.28262025, 7.01506714,\n",
       "       7.19284676, 8.93486362, 6.30633494, 6.14639514, 6.25963859,\n",
       "       6.54307126, 6.84924592, 6.41804702, 6.76130583, 6.82113819,\n",
       "       7.44165915, 6.35810801, 7.26880745, 6.4869866 , 6.88681264,\n",
       "       5.87366716, 6.65960136, 6.47891934, 6.31504331, 6.3066754 ,\n",
       "       6.13506366, 7.09993901, 6.53675109, 7.58248009, 6.42160614,\n",
       "       6.78990162, 6.93072243, 6.60932993, 5.9103457 , 6.83062692,\n",
       "       6.57711549, 5.91283778, 7.07138714, 7.74251159, 6.22161514,\n",
       "       7.65437436, 6.29988163, 5.9602958 , 6.66683713, 6.29969895,\n",
       "       6.73830337, 7.92851465, 6.27801031, 6.19448194, 6.31086516,\n",
       "       6.58691878, 6.09726171, 6.24987731, 7.07046708, 6.56944831,\n",
       "       6.34721377, 5.94517616, 6.74094491, 7.1094273 , 8.04569318,\n",
       "       6.33946892, 6.66152754, 7.41686082, 6.25864936, 6.1539585 ,\n",
       "       6.53168879, 6.44693389, 6.67279085, 6.63734875, 6.31334322,\n",
       "       6.72250858, 6.3118216 , 6.6830422 , 6.17721837, 6.11194276,\n",
       "       6.85783505, 6.96638058, 6.44235163, 6.44888472, 6.51959539,\n",
       "       5.81506029, 7.20161976, 7.19025965, 6.74409098, 6.71256295,\n",
       "       6.44660866, 6.07972891, 6.35158696, 7.70104196, 6.24606284,\n",
       "       6.13656875, 7.70207737, 6.444551  , 7.18939901, 6.47803328,\n",
       "       7.02984768, 7.00153754, 6.57672629, 7.32990101, 6.99490573,\n",
       "       6.50546905, 5.69068346, 6.15169517, 6.21041299, 6.4303461 ,\n",
       "       6.2774236 , 6.22627123, 8.00424464, 7.23921248, 6.65713132,\n",
       "       6.87498733, 6.92989509, 6.04660391, 6.65899749, 6.89243528,\n",
       "       7.33369668, 6.38372231, 6.69954053, 6.53939361, 6.32786392,\n",
       "       7.18316446, 6.78162997, 6.69172698, 6.22541458, 7.45626133,\n",
       "       6.70770829, 6.3687587 , 6.33568729, 6.15583662, 6.77014524,\n",
       "       6.0888132 , 6.72390634, 6.40429153, 6.26936909, 5.73557915,\n",
       "       6.37992829, 6.24755853, 6.52973811, 7.3732887 , 6.48288807,\n",
       "       6.69545961, 6.20842591, 6.39586229, 6.04644887, 6.40701926,\n",
       "       6.48969868, 6.46231906, 6.99697267, 6.38299915, 7.54983764,\n",
       "       6.59781057, 6.7736318 , 6.26184647, 6.29699378, 6.59135012,\n",
       "       6.93877846, 6.7421288 , 6.32072529, 7.21433679, 7.04269318,\n",
       "       8.73841154, 6.63661344, 6.33011692, 6.54979263, 6.42308222,\n",
       "       6.80056075, 5.94741234, 6.5595302 , 6.13728185, 6.53792683,\n",
       "       5.83896457, 6.18865037, 6.86025015, 5.78940457, 6.11119475,\n",
       "       6.77348793, 6.76914296, 7.19029276, 5.99286435, 6.5243984 ,\n",
       "       6.22915514, 6.38321786, 6.28607624, 6.0511558 , 5.87160794,\n",
       "       6.60270667, 6.3090483 , 6.47257676, 6.11402379, 6.88730917,\n",
       "       5.84811727, 6.61989531, 6.22438976, 6.35244885, 6.14968261,\n",
       "       6.72080457, 5.9581535 , 6.17516959, 6.34108343, 7.01604885,\n",
       "       7.32161491, 6.05830679, 7.08692253, 6.12926892, 7.76367733,\n",
       "       6.02143756, 6.2338998 , 6.32635082, 6.53076377, 6.10534672,\n",
       "       6.45304647, 6.34699421, 6.55661815, 6.21071558, 6.82628031,\n",
       "       6.10510795, 6.63296653, 6.51674328, 6.56094942, 6.19887382,\n",
       "       6.46568365, 6.65825527, 6.38654207, 5.85250478, 6.49003326,\n",
       "       6.80622085, 7.09630891, 6.266852  , 6.2383163 , 6.3579086 ,\n",
       "       6.49856367, 5.88552745, 5.63807313, 7.88425141, 6.10119671,\n",
       "       6.62073271, 6.2910287 , 7.35293235, 7.59559265, 6.0493053 ,\n",
       "       6.20170285, 6.14134301, 6.76506013, 6.03607549, 7.99478666,\n",
       "       6.21401653, 6.04010422, 7.44632838, 7.39883684, 8.81818344,\n",
       "       6.89122679, 7.12683039, 6.40787067, 6.17432834, 6.89967992,\n",
       "       6.07914334, 7.16927148, 6.30476645, 6.38270212, 6.21852176,\n",
       "       5.97282009, 7.03873329, 6.51375359, 5.947716  , 7.3377513 ,\n",
       "       6.37404935, 6.86418214, 6.28827307, 5.99796137, 6.53113215,\n",
       "       8.15509899, 6.21381889, 6.3661853 , 6.27167109, 6.71078349,\n",
       "       7.48977334, 7.07765887, 6.48419818, 6.15975559, 6.78786846,\n",
       "       6.70295906, 6.60474074, 6.31728326, 6.51585202, 7.16310953,\n",
       "       6.21003583, 6.84794891, 6.13843786, 7.09849623, 6.54991828,\n",
       "       6.27344733, 6.02373657, 6.99097801, 6.37162706, 7.2358919 ,\n",
       "       7.19972422, 6.00771726, 6.01097171, 6.55324834, 6.19031081,\n",
       "       6.6148951 , 6.50307659, 6.30045979, 6.2815652 , 6.46764972,\n",
       "       6.95777078, 6.40710975, 6.46260358, 6.35229705, 6.35383017,\n",
       "       6.12113152, 6.33707838, 8.07437347, 6.16951436, 5.90570986,\n",
       "       6.17130166, 6.1594313 , 6.13227689, 6.62629479, 8.37531294,\n",
       "       5.84692747, 6.76949013, 6.84976534, 6.09128399, 6.65683298,\n",
       "       6.27841043, 6.66227026, 5.91714669, 6.73802314, 5.93505142,\n",
       "       6.67687246, 7.04737197, 6.07754193, 6.76242788, 6.62122185,\n",
       "       6.15724067, 7.03645098, 6.43171164, 6.84909543, 6.26769522,\n",
       "       6.44821782, 6.22762498, 6.44228698, 6.02498329, 7.00608826,\n",
       "       6.21073457, 7.05826469, 7.22163182, 6.48714367, 6.04875897,\n",
       "       6.00067253, 5.95633735, 6.4357929 , 6.88108545, 6.06827971,\n",
       "       6.38211379, 6.52940006, 7.08690904, 6.2761522 , 6.474862  ,\n",
       "       6.53917492, 7.76307669, 6.29447052, 6.03162788, 6.0509349 ,\n",
       "       5.90204052, 6.30407008, 6.28093524, 6.30035587, 6.4351059 ,\n",
       "       5.93437683, 7.14483655, 6.48416786, 6.74803578, 5.87358811,\n",
       "       7.1962986 , 6.55482701, 6.10725566, 7.42303541, 5.843972  ,\n",
       "       7.81690407, 6.92105002, 6.67360878, 6.35043914, 7.97382938,\n",
       "       6.52348714, 6.25608072, 6.48499023, 6.86678643, 6.42179223,\n",
       "       6.12632971, 6.11701341, 6.30514228, 6.61252537, 6.76244616,\n",
       "       7.01136751, 6.46618483, 6.10841812, 6.8473938 , 7.12305082,\n",
       "       6.0697041 , 6.84381419, 6.20850712, 6.89313987, 6.32605975,\n",
       "       6.25206323, 7.40398657, 7.1469514 , 7.04618335, 5.92007904,\n",
       "       6.1525773 , 8.85657427, 5.81456025, 5.99682833, 6.45207444,\n",
       "       6.58517873, 6.87731171, 7.19488783, 6.64189906, 6.4943558 ,\n",
       "       6.75732033, 6.30621775, 6.42760309, 6.3304681 , 7.18366702,\n",
       "       6.21163   , 6.84294995, 6.64644973, 6.73245875, 6.72867153,\n",
       "       6.1367442 , 6.9234181 , 6.65772911, 6.30364297, 6.62151946,\n",
       "       6.73349419, 6.6723672 , 7.16720283, 6.50890441, 6.80388987,\n",
       "       6.44070064, 6.4731591 , 7.49474901, 6.40782583, 5.74979037,\n",
       "       6.43755776, 7.96575173, 5.94623016, 5.9977321 , 6.75210728,\n",
       "       6.58692342, 6.31398371, 6.54628352, 6.03772887, 6.57068514,\n",
       "       6.0858244 , 5.96401394, 6.4897282 , 6.06959289, 6.88464637,\n",
       "       6.60239462, 6.90760622, 6.70452864, 6.06329516, 7.0696709 ,\n",
       "       6.52252616, 6.47167238, 6.3157022 , 6.01479864, 6.21985965,\n",
       "       6.58835935, 6.21003583, 7.09068946, 6.66953881, 6.18255458,\n",
       "       6.65040555, 6.73779174, 6.28249674, 6.16711735, 7.04742572,\n",
       "       6.98649641, 6.18131287, 6.60386769, 6.43009634, 6.07623163,\n",
       "       8.71655661, 6.47723357, 6.36017083, 6.63697496, 6.49100744,\n",
       "       6.14231433, 6.27292661, 6.19911893, 6.39848332, 6.83138101,\n",
       "       7.34733876, 6.06775096, 6.06808723, 6.65394358, 6.02758887,\n",
       "       6.24410299, 5.83027597, 6.24479973, 6.04086759, 6.15744914,\n",
       "       6.44860299, 6.42427071, 6.63993933, 6.74174758, 6.47365444,\n",
       "       6.72944898, 6.10831023, 6.90590538, 6.68038255, 6.37325209,\n",
       "       6.11603326, 6.43114998, 6.70939139, 6.26647393, 6.52917317,\n",
       "       7.19013702, 7.78258158, 6.80526108, 6.08053568, 5.90082441,\n",
       "       6.54934634, 7.84262072, 6.76494865, 6.6122349 , 7.46980144,\n",
       "       6.26745859, 6.59557219, 6.94761166, 6.27203024, 6.25092203,\n",
       "       6.04276981, 6.08606122, 6.85368205, 6.45053267, 6.84697145,\n",
       "       6.60637083, 7.67063478, 6.38992584, 6.87872251, 7.63675191,\n",
       "       5.81750928, 6.39729871, 6.46771057, 6.54159298, 6.04245775,\n",
       "       6.56955316, 6.28943596, 6.20938885, 6.31875453, 9.32302064,\n",
       "       5.93314922, 6.64586911, 5.80806114, 7.7303426 , 6.33264913,\n",
       "       7.49308037, 7.11615044, 6.12696364, 6.8629544 , 7.09631916,\n",
       "       7.14568356, 6.13600067, 6.53437839, 6.47621294, 6.67843074,\n",
       "       6.23000343, 6.54123021, 6.72942941, 6.92062076, 6.55187211,\n",
       "       5.91675872, 5.89189732, 6.81687795, 6.23151121, 7.5878262 ,\n",
       "       6.3949337 , 6.2238142 , 5.93283066, 6.11283641, 9.26818655,\n",
       "       6.62374443, 5.90713495, 6.1917037 , 7.427921  , 6.71271747,\n",
       "       9.17897032, 6.18536493, 6.27385361, 6.29067996, 6.23494782,\n",
       "       5.95103834, 6.14935691, 6.04755667, 7.28729415, 6.25358658,\n",
       "       6.94771934, 6.05268822, 6.20954177, 6.81535812, 6.728886  ,\n",
       "       6.36101573, 6.18759008, 6.26659108, 5.94387984, 5.93218617,\n",
       "       6.08133629, 6.82690013, 6.10996787, 6.20792686, 6.44905255,\n",
       "       6.77089605, 6.25284327, 6.24066759, 6.46249672, 6.62555344,\n",
       "       6.90314991, 6.25616038, 6.93915404, 6.4678139 , 6.16304355,\n",
       "       6.3627619 , 6.15288284, 6.43607866, 6.29959222, 6.80938656,\n",
       "       6.96697128, 6.26132142, 7.95726525, 5.88927525, 6.32346027,\n",
       "       6.57032008, 6.41479589, 6.92518897, 7.05170393, 6.06853077,\n",
       "       6.43094609, 6.08897994, 6.25398295, 6.09995325, 6.21325705,\n",
       "       6.31322795, 7.60703485, 6.25065889, 6.88215178, 6.81472112,\n",
       "       6.81899309, 6.23692551, 6.82937088, 7.46534849, 6.47235419,\n",
       "       7.37510395, 7.07006474, 6.61800403, 6.54731129, 6.8325027 ,\n",
       "       6.74527076, 7.91539102, 6.38686923, 6.68558209, 7.16035352,\n",
       "       6.19066998, 6.36812579, 6.10625937, 6.88634092, 5.86236157,\n",
       "       6.74492303, 6.18345316, 6.19151216, 6.23660546, 5.892935  ,\n",
       "       6.4744178 , 7.2002577 , 5.91410092, 6.21793135, 7.15854444,\n",
       "       6.27395635, 6.30172902, 6.49407944, 6.32600592])"
      ]
     },
     "execution_count": 130,
     "metadata": {},
     "output_type": "execute_result"
    }
   ],
   "source": [
    "y_pred_svm_rbf"
   ]
  },
  {
   "cell_type": "code",
   "execution_count": 131,
   "id": "82b0b38b",
   "metadata": {},
   "outputs": [
    {
     "data": {
      "text/plain": [
       "(5.638073133700937, 9.323020641193724)"
      ]
     },
     "execution_count": 131,
     "metadata": {},
     "output_type": "execute_result"
    }
   ],
   "source": [
    "y_pred_svm_rbf.min(), y_pred_svm_rbf.max()"
   ]
  },
  {
   "cell_type": "code",
   "execution_count": 132,
   "id": "51798a29",
   "metadata": {},
   "outputs": [
    {
     "data": {
      "text/plain": [
       "0.6805348154672601"
      ]
     },
     "execution_count": 132,
     "metadata": {},
     "output_type": "execute_result"
    }
   ],
   "source": [
    "mean_squared_error(y_pred_svm_rbf, y_test)"
   ]
  },
  {
   "cell_type": "code",
   "execution_count": 133,
   "id": "14d61be1",
   "metadata": {},
   "outputs": [],
   "source": [
    "svr_lin.fit(X_train_rfe, y_train)\n",
    "y_pred_svm_lin = svr_lin.predict(X_test_rfe)"
   ]
  },
  {
   "cell_type": "code",
   "execution_count": 134,
   "id": "d558428b",
   "metadata": {},
   "outputs": [
    {
     "data": {
      "text/plain": [
       "array([ 7.11401749,  6.09276738,  6.70978745,  6.7337191 ,  6.25692982,\n",
       "        6.74986021,  6.86916927,  6.37517902,  6.14794497,  7.09123478,\n",
       "        5.91615225,  6.21214895,  6.14830437,  6.73500284,  6.16736974,\n",
       "        7.56499823,  7.08385144,  6.17406871,  6.8030164 ,  6.05297964,\n",
       "        6.10196107,  6.32954645,  6.47383747,  6.4960798 ,  5.95305706,\n",
       "        6.60999148,  6.76289307,  6.88317723,  7.54564818,  6.77038785,\n",
       "        6.60762756,  6.98954211,  6.32336002,  9.10714338,  6.14946329,\n",
       "        6.21252451,  6.25001553,  8.52519687,  6.56094938,  6.58836383,\n",
       "        6.47658496,  7.52383615,  5.99058172,  6.70376977,  6.73697422,\n",
       "        5.88490146,  6.25742825,  6.12669785,  6.10123985,  5.71135067,\n",
       "        6.56563863,  6.25751625,  5.86175162,  6.51170631,  7.37984686,\n",
       "        6.55032049,  6.11414923,  7.78763768,  8.38621795,  6.77983114,\n",
       "        7.08828201,  6.79686203,  9.62420348,  7.01356677,  8.26420167,\n",
       "        6.4434541 ,  6.73167273,  5.75127526,  6.57171384,  7.0492827 ,\n",
       "        6.30606904,  6.91578289,  6.12727433,  6.25211282,  6.61088239,\n",
       "        6.26099298,  6.29287217,  6.36834398,  6.42977288,  6.23869443,\n",
       "        6.77748353,  6.33245844,  5.83990338,  6.23547911,  7.07693503,\n",
       "        7.05327795,  9.30006144,  6.31257264,  6.11266548,  6.1723712 ,\n",
       "        6.56165753,  6.82182275,  6.45091796,  6.76349254,  6.78957739,\n",
       "        7.41296224,  6.38186096,  7.35884563,  6.44627487,  6.83922173,\n",
       "        5.94204646,  6.69449664,  6.49597775,  6.34252246,  6.23404784,\n",
       "        6.14679007,  7.26834611,  6.48610766,  7.70565682,  6.51499408,\n",
       "        6.60868924,  6.79419718,  6.46205235,  5.90958649,  6.73026705,\n",
       "        6.69452393,  5.89935246,  7.02115955,  7.74783132,  6.275675  ,\n",
       "        7.76437445,  6.31738671,  5.97557479,  6.662234  ,  6.33090279,\n",
       "        6.74069745,  7.70706671,  6.14478259,  6.15557477,  6.10971618,\n",
       "        6.58089575,  6.07326969,  6.2533457 ,  6.7184585 ,  6.56054861,\n",
       "        6.29704522,  5.91486705,  6.66454048,  7.16061969,  8.04717967,\n",
       "        6.26217826,  6.6681487 ,  7.42307485,  6.32804205,  6.16346768,\n",
       "        6.40934351,  6.4050287 ,  6.67855402,  6.41189533,  6.32870525,\n",
       "        6.69847944,  6.29062091,  6.71814072,  6.11785506,  6.14908759,\n",
       "        6.78332364,  7.14726038,  6.34162888,  6.46882707,  6.47790686,\n",
       "        5.82906741,  7.13682868,  7.09859935,  6.81307643,  6.62091585,\n",
       "        6.37887166,  6.02858529,  6.24491282,  7.61469187,  6.27112433,\n",
       "        6.05291227,  7.751631  ,  6.40753902,  7.21756287,  6.46932019,\n",
       "        6.92505354,  6.65294332,  6.6224312 ,  7.28251082,  6.97783888,\n",
       "        6.32337624,  5.63637694,  6.16246819,  6.2462247 ,  6.43908212,\n",
       "        6.2386327 ,  6.21111466,  8.01193887,  7.04558981,  6.3709234 ,\n",
       "        6.50978225,  6.93384276,  6.07016808,  6.49816526,  6.86387553,\n",
       "        7.41875553,  6.33458055,  6.67462464,  6.51879117,  6.22350967,\n",
       "        6.9873303 ,  6.81752321,  6.47547213,  6.26037269,  7.44241296,\n",
       "        6.65307643,  6.34867774,  6.36300775,  6.11394352,  6.69919876,\n",
       "        6.05695855,  6.70201518,  6.21438017,  6.28035881,  5.70523261,\n",
       "        6.36985802,  6.21387324,  6.47068159,  7.33984491,  6.55027836,\n",
       "        6.41228312,  6.21892351,  6.38694284,  6.08157137,  6.40593901,\n",
       "        6.32063686,  6.39703153,  7.18996136,  6.3757408 ,  7.78575183,\n",
       "        6.42677594,  6.68175986,  6.23389161,  6.22672902,  6.65419375,\n",
       "        6.5709553 ,  6.58868188,  6.32612039,  7.30424093,  6.95998611,\n",
       "        8.96672546,  6.6851152 ,  6.23184388,  6.53286468,  6.38951721,\n",
       "        6.46064591,  5.96091876,  6.55904594,  6.15715799,  6.27215777,\n",
       "        5.79925836,  6.15904847,  6.90913789,  5.76501157,  6.12391389,\n",
       "        6.65611903,  6.61619179,  7.15902812,  5.99179489,  6.48013498,\n",
       "        6.27295252,  6.37163391,  6.28236139,  6.01750146,  5.79405139,\n",
       "        6.58005937,  6.16731989,  6.44286023,  6.10765802,  6.8263504 ,\n",
       "        5.84190535,  6.6485713 ,  6.25846568,  6.34023303,  6.1282801 ,\n",
       "        6.75373288,  5.93332345,  6.2174049 ,  6.37740053,  6.67345216,\n",
       "        7.08790789,  6.01118021,  7.24043398,  6.04360524,  7.99100007,\n",
       "        6.07772389,  6.18313241,  6.34621648,  6.28724226,  6.03072176,\n",
       "        6.44708087,  6.37825556,  6.55118579,  6.25855876,  6.9130236 ,\n",
       "        6.11026429,  6.64968342,  6.52482062,  6.57720418,  6.17697843,\n",
       "        6.43118641,  6.65030692,  6.41331322,  5.84973512,  6.50489685,\n",
       "        6.92092613,  7.25031586,  6.28582297,  6.2107987 ,  6.25769468,\n",
       "        6.48696985,  5.88109949,  1.55779249,  7.91379845,  6.11380549,\n",
       "        6.5966364 ,  6.21935349,  7.44573573,  7.64659858,  6.04092883,\n",
       "        6.19155926,  6.18687601,  6.7782218 ,  5.80918699,  7.93330422,\n",
       "        6.16527935,  6.02350663,  7.4243393 ,  7.10451569,  9.27037293,\n",
       "        6.54103192,  6.81400102,  6.37650255,  6.10205076,  6.81062225,\n",
       "        5.98765336,  7.08511693,  6.4066636 ,  6.38150104,  6.19649391,\n",
       "        6.00342257,  6.84725899,  6.50784774,  5.86983909,  7.31465428,\n",
       "        6.34257052,  6.90135143,  6.22310468,  6.00094504,  6.58364613,\n",
       "        8.26348334,  6.1603273 ,  6.3311318 ,  6.12867141,  6.70563132,\n",
       "        7.57407986,  6.93874091,  6.19359043,  6.11720509,  6.54068659,\n",
       "        6.70687058,  6.51972091,  6.35201397,  6.41669394,  7.2794787 ,\n",
       "        6.20504373,  6.88119724,  6.10991888,  7.18004702,  6.67054444,\n",
       "        6.22341053,  6.03252523,  7.05859151,  6.31265117,  7.14391339,\n",
       "        6.83774545,  5.99649221,  5.98344185,  6.45735569,  6.16784829,\n",
       "        6.53552734,  6.51703421,  6.29445996,  6.25749568,  6.47458511,\n",
       "        7.01898815,  6.36859006,  6.51219947,  6.37064838,  6.39290779,\n",
       "        6.10944166,  6.28348213,  8.16196122,  6.1316594 ,  5.9145386 ,\n",
       "        6.10026473,  6.13010418,  6.11778634,  6.62011335,  8.43283267,\n",
       "        5.86951664,  6.7241716 ,  6.50220934,  6.09319393,  6.39842211,\n",
       "        5.99056005,  6.67324538,  5.94047967,  6.68270981,  5.87069381,\n",
       "        6.71144594,  6.84379451,  5.96356297,  6.66104742,  6.52311167,\n",
       "        6.15858074,  6.2316598 ,  6.431548  ,  6.67863546,  6.27026741,\n",
       "        6.20743935,  6.21592427,  6.43401727,  6.05344366,  6.95621529,\n",
       "        6.18783679,  7.02852102,  6.90403308,  6.52362864,  6.09537905,\n",
       "        5.98791326,  5.85250235,  6.23212619,  6.75946381,  6.01347438,\n",
       "        6.29054291,  6.54323684,  7.09841178,  6.15559263,  6.4896401 ,\n",
       "        6.44809718,  7.90665559,  6.30542466,  6.0370571 ,  5.81260165,\n",
       "        5.93454413,  6.29100115,  6.22738741,  6.23278953,  6.36957143,\n",
       "        5.96236458,  7.20047735,  6.54832944,  6.70761176,  5.90863371,\n",
       "        7.25166842,  6.55207812,  6.09846923,  7.18535399,  5.75421506,\n",
       "        7.88874631,  6.76839659,  6.6468345 ,  6.39954814,  8.03392427,\n",
       "        6.60800522,  6.24216628,  6.47306465,  6.91729533,  6.39726166,\n",
       "        6.14921236,  6.11539987,  6.33007247,  6.62888223,  6.66107255,\n",
       "        7.25361444,  6.39805905,  6.11127068,  6.69377963,  7.33287536,\n",
       "        5.85288071,  6.83611518,  6.21676398,  6.77019606,  6.09411996,\n",
       "        6.20330967,  7.42112985,  6.49653398,  7.08279812,  5.88699129,\n",
       "        6.15546337,  9.55057149,  7.38782592,  5.97679269,  6.44433011,\n",
       "        6.56876289,  6.51246552,  7.26428171,  6.5508126 ,  6.52054734,\n",
       "        6.71245382,  6.18059381,  6.4114302 ,  6.31675051,  7.20903069,\n",
       "        6.12339634,  6.74333662,  6.65865955,  6.72918168,  6.70423185,\n",
       "        6.10530043,  6.89558706,  6.64060467,  6.31293714,  6.57343235,\n",
       "        6.76572889,  6.55727353,  6.97841038,  6.57648935,  6.19990538,\n",
       "        6.36850495,  6.44839201,  7.62832612,  6.3787371 ,  5.7190496 ,\n",
       "        6.47316151,  7.9735769 ,  6.00036012,  5.9989821 ,  6.75961793,\n",
       "        6.58090203,  6.21261528,  6.36516559,  5.99907946,  6.56790574,\n",
       "        5.83134249,  5.90774515,  6.41499822,  6.06942257,  6.91974138,\n",
       "        6.56751513,  6.82262865,  6.71183498,  6.05202453,  7.10168499,\n",
       "        6.46274185,  6.40531525,  6.32279044,  6.01874914,  6.22269302,\n",
       "        6.6256897 ,  6.20504373,  7.22366766,  6.52177254,  6.05157383,\n",
       "        6.61294007,  6.74195743,  6.22044972,  6.09131023,  7.09882252,\n",
       "        7.03956139,  6.2092467 ,  6.55850101,  6.31347521,  6.15237704,\n",
       "        8.99170666,  6.53266771,  6.39864611,  6.47686681,  6.49020578,\n",
       "        6.054962  ,  6.20914326,  6.21736141,  6.39145469,  6.74114251,\n",
       "        7.27134395,  6.08706954,  6.02590155,  6.59986072,  6.0544997 ,\n",
       "        6.22488975,  6.02376342,  6.30558253,  6.09807722,  6.11642343,\n",
       "        6.3856578 ,  6.29032408,  6.60870178,  6.71710933,  6.44816344,\n",
       "        6.5299052 ,  6.17336606,  6.85913244,  6.59991795,  6.37608644,\n",
       "        6.0736028 ,  6.46691643,  6.70981455,  6.28075012,  6.50384131,\n",
       "        7.16993791,  7.97710437,  6.77105879,  6.05576201,  5.89802497,\n",
       "        6.53876598,  7.93974605,  6.75554859,  6.5574799 ,  7.51638236,\n",
       "        6.17735201,  6.50122277,  6.98757029,  6.21974468,  6.23254868,\n",
       "        6.01774528,  6.05974286,  6.67711135,  6.43815164,  6.90026152,\n",
       "        6.60529331,  7.51491018,  6.28004293,  6.89126267,  7.73860541,\n",
       "        5.78791676,  6.36765971,  6.41850354,  6.54533046,  6.00048124,\n",
       "        6.50774262,  6.31926503,  6.03839661,  6.23417609, 10.1011548 ,\n",
       "        5.90497917,  6.72694197,  5.78220295,  7.7057908 ,  6.23247667,\n",
       "        7.5918954 ,  7.14371803,  5.97818049,  6.87801639,  6.98223823,\n",
       "        7.2394073 ,  6.13972598,  6.46607702,  6.49840932,  6.70015525,\n",
       "        6.2685581 ,  6.44240191,  6.76218428,  6.73102609,  6.53339506,\n",
       "        5.86657907,  5.85712727,  6.88702416,  6.10247286,  7.70827295,\n",
       "        6.45382478,  6.18855188,  6.07606587,  6.13560435, 10.30294978,\n",
       "        6.29470882,  5.90209596,  6.08350478,  7.63230932,  6.70484857,\n",
       "        9.63022515,  6.12094957,  6.26643233,  6.17443898,  6.25767367,\n",
       "        5.92892976,  6.09096015,  6.09902402,  7.50726711,  6.29600218,\n",
       "        7.00097664,  6.10817496,  6.18429471,  6.32463378,  6.69796716,\n",
       "        6.37851002,  6.228443  ,  6.23730692,  5.88474541,  5.8715791 ,\n",
       "        6.07540186,  6.88833374,  6.09635401,  6.23430995,  6.29937116,\n",
       "        6.78890802,  6.28430197,  6.28020282,  6.45549883,  6.41738944,\n",
       "        6.92699572,  6.22823908,  6.83821192,  6.4514254 ,  6.13960316,\n",
       "        6.23556794,  6.19202188,  6.43249585,  6.32030143,  6.81229528,\n",
       "        6.96880225,  6.28301938,  8.14355023,  5.79597718,  6.33117492,\n",
       "        6.62034586,  6.42710153,  6.96948342,  7.07781127,  6.04152942,\n",
       "        6.26586202,  6.07725802,  6.2032203 ,  6.06966073,  6.19350306,\n",
       "        6.29402848,  7.61477042,  6.242309  ,  6.81958526,  6.75626767,\n",
       "        6.85281891,  6.25224449,  6.75426994,  7.54826203,  6.47396891,\n",
       "        7.39998354,  7.14044824,  6.59217082,  6.53042313,  6.72911   ,\n",
       "        6.65924605,  7.80057532,  6.37843533,  6.64038683,  7.11642684,\n",
       "        6.21088791,  6.39348945,  6.19086852,  6.7037558 ,  5.87377457,\n",
       "        6.72567083,  6.1590903 ,  6.1803822 ,  6.20109319,  5.93689428,\n",
       "        6.45243167,  7.11940902,  5.91837451,  6.14163465,  7.07281293,\n",
       "        6.26996673,  6.2670119 ,  6.56209388,  6.29773825])"
      ]
     },
     "execution_count": 134,
     "metadata": {},
     "output_type": "execute_result"
    }
   ],
   "source": [
    "y_pred_svm_lin"
   ]
  },
  {
   "cell_type": "code",
   "execution_count": 135,
   "id": "2f499622",
   "metadata": {},
   "outputs": [
    {
     "data": {
      "text/plain": [
       "(1.5577924884974248, 10.302949784866557)"
      ]
     },
     "execution_count": 135,
     "metadata": {},
     "output_type": "execute_result"
    }
   ],
   "source": [
    "y_pred_svm_lin.min(), y_pred_svm_lin.max()"
   ]
  },
  {
   "cell_type": "code",
   "execution_count": 136,
   "id": "0340b942",
   "metadata": {},
   "outputs": [
    {
     "data": {
      "text/plain": [
       "0.7271537216165603"
      ]
     },
     "execution_count": 136,
     "metadata": {},
     "output_type": "execute_result"
    }
   ],
   "source": [
    "mean_squared_error(y_pred_svm_lin, y_test)"
   ]
  },
  {
   "cell_type": "code",
   "execution_count": 137,
   "id": "1007def2",
   "metadata": {},
   "outputs": [],
   "source": [
    "svr_poly.fit(X_train_rfe, y_train)\n",
    "y_pred_svm_poly = svr_poly.predict(X_test_rfe)"
   ]
  },
  {
   "cell_type": "code",
   "execution_count": 138,
   "id": "ee94f050",
   "metadata": {},
   "outputs": [
    {
     "data": {
      "text/plain": [
       "array([6.61140938, 6.4773833 , 6.60235998, 6.47483699, 6.50607532,\n",
       "       6.60888589, 6.54067679, 6.55462297, 6.50361111, 6.71114908,\n",
       "       6.44720982, 6.46609567, 6.6202836 , 6.56078055, 6.50746971,\n",
       "       6.65675886, 6.62424123, 6.55035983, 6.57087123, 6.43808301,\n",
       "       6.44301156, 6.48597198, 6.60012308, 6.56967288, 6.56703604,\n",
       "       6.61469425, 6.6848414 , 6.54047188, 6.58472056, 6.68127796,\n",
       "       6.5839137 , 6.66098041, 6.52518901, 8.16658531, 6.44891575,\n",
       "       6.51520736, 6.45188039, 6.63662668, 6.52741146, 6.51701052,\n",
       "       6.51515787, 6.59074107, 6.4461414 , 6.70797561, 6.75929133,\n",
       "       6.43662025, 6.45851885, 6.45722518, 6.46173362, 6.40723848,\n",
       "       6.50765741, 6.49233972, 6.43583407, 6.59306773, 6.66039819,\n",
       "       6.49373131, 6.46272099, 6.54611998, 6.73143562, 6.60380581,\n",
       "       6.58396067, 6.60639259, 6.89961194, 6.61521628, 6.62120071,\n",
       "       6.50347357, 6.91203588, 6.43747247, 6.56143136, 6.61542901,\n",
       "       6.46658378, 6.91841274, 6.45483992, 6.48678091, 6.52129949,\n",
       "       6.47196879, 6.47514814, 6.57215749, 6.50089048, 6.45813863,\n",
       "       6.58092705, 6.49483549, 6.42835099, 6.49165519, 6.66972935,\n",
       "       6.71733406, 7.17025512, 6.50843619, 6.48166342, 6.49273584,\n",
       "       6.53716509, 6.65076272, 6.52422599, 6.64034195, 6.56437368,\n",
       "       6.68168709, 6.52442105, 6.55150612, 6.54293598, 6.54813601,\n",
       "       6.43650872, 6.53860887, 6.49681573, 6.48930853, 6.55736119,\n",
       "       6.47788413, 6.53795568, 6.51022953, 6.57724566, 6.51106278,\n",
       "       6.96322715, 6.58114286, 6.53093372, 6.43522012, 6.68807853,\n",
       "       6.59848912, 6.43996896, 6.7080719 , 6.79992874, 6.45919441,\n",
       "       6.52769697, 6.4741364 , 6.43882624, 6.52049083, 6.46737883,\n",
       "       6.52564504, 7.3708516 , 6.56221383, 6.47521854, 6.53812925,\n",
       "       6.55993173, 6.44910584, 6.46023058, 6.68997193, 6.54332413,\n",
       "       6.49751953, 6.4423544 , 6.56918497, 6.68840405, 7.09410022,\n",
       "       6.50706729, 6.54757056, 6.89518526, 6.45992974, 6.45978537,\n",
       "       6.54713251, 6.507497  , 6.53451804, 6.59153623, 6.48050357,\n",
       "       6.6547528 , 6.51298985, 6.59572682, 6.47345543, 6.46999745,\n",
       "       6.58033697, 6.52339697, 6.53548366, 6.52565792, 6.51910773,\n",
       "       6.40463213, 6.84974828, 6.69816261, 6.54255037, 6.56151556,\n",
       "       6.5322558 , 6.48452385, 6.63045686, 6.95751304, 6.49979779,\n",
       "       6.4684945 , 6.92809207, 6.51222366, 6.59530453, 6.48274285,\n",
       "       6.56529024, 6.74916681, 6.48548179, 6.5333694 , 6.55347486,\n",
       "       6.53139967, 6.42726539, 6.44575499, 6.45168241, 6.48507345,\n",
       "       6.48484577, 6.45924618, 6.89473276, 6.87506469, 6.69780432,\n",
       "       7.12750786, 6.53924964, 6.46894935, 6.64834347, 6.60046736,\n",
       "       6.77533193, 6.50802426, 6.55115286, 6.51793926, 6.52152224,\n",
       "       6.57053193, 6.51377702, 6.69471087, 6.44830363, 6.82095427,\n",
       "       6.60204418, 6.53112744, 6.47539461, 6.46671728, 6.67302109,\n",
       "       6.46941738, 6.57955075, 6.73743017, 6.45737172, 6.40717812,\n",
       "       6.50849979, 6.51583976, 6.56325076, 6.65534209, 6.51350055,\n",
       "       6.7329805 , 6.4617569 , 6.50210081, 6.44406716, 6.48531452,\n",
       "       6.5762248 , 6.52147391, 6.49832667, 6.51361335, 6.62726708,\n",
       "       6.65572628, 6.64879893, 6.47578595, 6.48396515, 6.49728315,\n",
       "       6.73579791, 6.53969074, 6.46910021, 6.6334369 , 6.57458299,\n",
       "       6.93274162, 6.48839481, 6.49859526, 6.51741741, 6.57047342,\n",
       "       6.66991717, 6.42589131, 6.58482186, 6.47507302, 6.58904868,\n",
       "       6.4312165 , 6.46560401, 6.53411455, 6.41625362, 6.49898603,\n",
       "       6.59634909, 6.62413757, 6.60133441, 6.43012028, 6.62666299,\n",
       "       6.49222682, 6.52069961, 6.47793696, 6.48540784, 6.43261378,\n",
       "       6.51366177, 6.52202053, 6.50562669, 6.45207554, 6.61164994,\n",
       "       6.42729464, 6.50457611, 6.46024027, 6.49176597, 6.51632913,\n",
       "       6.55087479, 6.44813431, 6.45032299, 6.50187507, 6.80076279,\n",
       "       6.87634887, 6.54149277, 6.56654102, 6.49922595, 6.81765429,\n",
       "       6.43350848, 6.47079293, 6.45738678, 6.64159816, 6.49653612,\n",
       "       6.48316535, 6.51485563, 6.55649696, 6.46651017, 6.53133901,\n",
       "       6.44291087, 6.58508653, 6.49306071, 6.50833272, 6.46468196,\n",
       "       6.5105289 , 6.52560349, 6.48831232, 6.41973611, 6.48907607,\n",
       "       6.4833734 , 6.55126893, 6.50265964, 6.4873327 , 6.50341307,\n",
       "       6.54268064, 6.44825606, 6.69899119, 7.19326526, 6.45043327,\n",
       "       6.54043174, 6.47966446, 6.55251639, 6.68783624, 6.4520874 ,\n",
       "       6.51943195, 6.44791874, 6.59888158, 6.52957345, 7.17466497,\n",
       "       6.47511593, 6.43878752, 6.70796214, 6.71939391, 6.54101406,\n",
       "       6.74206373, 6.58270544, 6.50743291, 6.4748673 , 6.53946011,\n",
       "       6.48374925, 6.67804885, 6.47548768, 6.4948679 , 6.46422548,\n",
       "       6.43192978, 6.63481179, 6.54115732, 6.45473474, 6.6471917 ,\n",
       "       6.48568339, 6.51563145, 6.50720363, 6.43336808, 6.55213708,\n",
       "       6.78595127, 6.48349529, 6.52858489, 6.52088933, 6.53618183,\n",
       "       6.62477419, 6.73533217, 6.7771133 , 6.46064001, 6.58150744,\n",
       "       6.56906698, 6.61000338, 6.47151223, 6.57770343, 6.57665069,\n",
       "       6.46053901, 6.54569595, 6.45718065, 6.53817053, 6.53452957,\n",
       "       6.52359962, 6.44612782, 6.53148736, 6.50917586, 6.74129643,\n",
       "       7.01041277, 6.43688403, 6.45055405, 6.59319941, 6.4709448 ,\n",
       "       6.57333895, 6.51769335, 6.50137462, 6.47930536, 6.54232817,\n",
       "       6.62222391, 6.52478352, 6.5203145 , 6.53539776, 6.52912713,\n",
       "       6.45544558, 6.4876149 , 7.42205897, 6.51488648, 6.44683813,\n",
       "       6.46654809, 6.46050823, 6.45435371, 6.50504387, 7.23126811,\n",
       "       6.41636927, 6.6266532 , 7.08208362, 6.45352358, 6.56027118,\n",
       "       6.65702786, 6.5193385 , 6.42461386, 6.58155507, 6.45448496,\n",
       "       6.66969438, 6.81177083, 6.50367976, 6.6579036 , 6.60000145,\n",
       "       6.45811412, 6.64473597, 6.4997191 , 6.80214815, 6.46792924,\n",
       "       6.54521788, 6.48916237, 6.56487227, 6.4420426 , 6.59101712,\n",
       "       6.4827025 , 6.67449279, 6.87228828, 6.56052763, 6.44643139,\n",
       "       6.44266101, 6.4979394 , 6.57257276, 6.56306207, 6.50087838,\n",
       "       6.55412328, 6.54266775, 6.7077751 , 6.50037484, 6.54637998,\n",
       "       6.59278775, 6.89331567, 6.48003925, 6.45306262, 6.55288138,\n",
       "       6.42600653, 6.50494859, 6.51903958, 6.50927313, 6.53677107,\n",
       "       6.43045809, 6.54205959, 6.48516378, 6.5515697 , 6.42164519,\n",
       "       6.55060572, 6.50011953, 6.46222315, 6.78896573, 6.46366487,\n",
       "       6.80597861, 6.70539595, 6.61887027, 6.50782312, 7.22421578,\n",
       "       6.52503229, 6.49334498, 6.58191662, 6.56174157, 6.50021563,\n",
       "       6.43945167, 6.44324456, 6.46259701, 6.51528249, 6.65790529,\n",
       "       6.48561531, 6.49007427, 6.45170311, 6.55205168, 6.52416267,\n",
       "       6.51209962, 6.58121858, 6.45468684, 6.73470408, 6.56690332,\n",
       "       6.49044529, 6.75238763, 6.60157164, 6.63346653, 6.44448961,\n",
       "       6.46639957, 6.78742627, 8.02926093, 6.45066804, 6.49185502,\n",
       "       6.54592342, 6.80528076, 6.68363706, 6.56140391, 6.47782122,\n",
       "       6.54504991, 6.50950708, 6.48404464, 6.52169349, 6.61855975,\n",
       "       6.50166948, 6.62909471, 6.5025395 , 6.57201635, 6.57870564,\n",
       "       6.45829297, 6.66173614, 6.52537251, 6.46706483, 6.53840152,\n",
       "       6.52186698, 6.57993872, 6.85336349, 6.474182  , 6.72031764,\n",
       "       6.5126278 , 6.51994974, 6.55943878, 6.4969262 , 6.42852678,\n",
       "       6.62393092, 7.02346679, 6.4448027 , 6.43492065, 6.60389975,\n",
       "       6.55993212, 6.5160796 , 6.58169975, 6.45502748, 6.50734893,\n",
       "       6.65825121, 6.47843026, 6.58735952, 6.45046905, 6.64038744,\n",
       "       6.6099303 , 6.53201787, 6.51998712, 6.44087678, 6.59500903,\n",
       "       6.52211898, 6.56775118, 6.51131922, 6.4402548 , 6.50689542,\n",
       "       6.50065321, 6.46053901, 6.70844154, 6.57670993, 6.50894183,\n",
       "       6.51890316, 6.59798697, 6.48116188, 6.49661981, 6.58626636,\n",
       "       6.60643184, 6.47023062, 6.53373675, 6.53471356, 6.42746627,\n",
       "       6.7350848 , 6.50308195, 6.51700794, 6.56928501, 6.50048428,\n",
       "       6.48274271, 6.49850006, 6.47227722, 6.52770435, 6.70572085,\n",
       "       6.81469073, 6.43044788, 6.44948677, 6.54168895, 6.4548511 ,\n",
       "       6.46504698, 6.40074372, 6.45729785, 6.43424565, 6.46251409,\n",
       "       6.53342956, 6.54260501, 6.61901931, 6.58708034, 6.5114947 ,\n",
       "       6.61190812, 6.43928138, 6.65743492, 6.57621984, 6.4877845 ,\n",
       "       6.46337922, 6.52303443, 6.61484163, 6.4607993 , 6.51614675,\n",
       "       6.81491269, 6.69438315, 6.55727138, 6.44491354, 6.43595276,\n",
       "       6.50046975, 7.40816936, 6.59863983, 6.53279165, 6.84753447,\n",
       "       6.5436147 , 6.56286798, 6.55119205, 6.47803206, 6.46783362,\n",
       "       6.4552895 , 6.45950572, 6.63396344, 6.56937254, 6.61157888,\n",
       "       6.58654699, 7.06694922, 6.49791729, 6.51447255, 6.79776348,\n",
       "       6.43578924, 6.52201485, 6.50697431, 6.57143269, 6.44606515,\n",
       "       6.52932363, 6.45361645, 6.59169471, 6.56507897, 6.69385462,\n",
       "       6.4565731 , 6.51909729, 6.44426563, 6.78931684, 6.52205392,\n",
       "       6.94350474, 6.63244014, 6.50076352, 6.63535184, 6.77624123,\n",
       "       6.82550369, 6.44894817, 6.52677123, 6.52822872, 6.51175292,\n",
       "       6.48308806, 6.53028152, 6.52534876, 6.63003158, 6.50325199,\n",
       "       6.4593927 , 6.4275962 , 6.62452748, 6.50652951, 6.56101003,\n",
       "       6.49186321, 6.47945548, 6.45344667, 6.4545689 , 7.79804019,\n",
       "       6.61991761, 6.42261287, 6.49554589, 6.57175743, 6.55299554,\n",
       "       6.92924763, 6.48853023, 6.4655736 , 6.52832766, 6.46067752,\n",
       "       6.43804257, 6.47589584, 6.43495153, 6.56053722, 6.4640192 ,\n",
       "       6.6807539 , 6.43528203, 6.46164626, 6.69923133, 6.54347069,\n",
       "       6.52810691, 6.45431385, 6.47975106, 6.4514629 , 6.44845905,\n",
       "       6.44267713, 6.58011779, 6.44802703, 6.44985307, 6.52708058,\n",
       "       6.50368982, 6.47173961, 6.48566964, 6.5430928 , 6.62204717,\n",
       "       6.58441958, 6.4728628 , 6.59180815, 6.53514623, 6.48322943,\n",
       "       6.5835415 , 6.45080327, 6.48879159, 6.46017866, 6.58296057,\n",
       "       6.5618972 , 6.45071101, 7.5862532 , 6.48677788, 6.47032774,\n",
       "       6.58822206, 6.50368554, 6.53767388, 6.57956053, 6.47915762,\n",
       "       6.52447003, 6.44362154, 6.49736236, 6.45364351, 6.49547872,\n",
       "       6.54359335, 6.658892  , 6.47330154, 6.55445612, 6.65910487,\n",
       "       6.5466105 , 6.47760572, 6.60787603, 6.77175771, 6.52714487,\n",
       "       6.75853794, 6.62504099, 6.58806928, 6.49793115, 6.64695094,\n",
       "       6.60674893, 7.28246348, 6.49795369, 6.53594601, 6.83939456,\n",
       "       6.49223699, 6.51183845, 6.43419481, 6.82100518, 6.42311616,\n",
       "       6.54464137, 6.46364298, 6.47710913, 6.50402414, 6.41926248,\n",
       "       6.49162677, 6.79420747, 6.42993129, 6.51054093, 6.65892136,\n",
       "       6.47670914, 6.48054862, 6.47698626, 6.47897685])"
      ]
     },
     "execution_count": 138,
     "metadata": {},
     "output_type": "execute_result"
    }
   ],
   "source": [
    "y_pred_svm_poly"
   ]
  },
  {
   "cell_type": "code",
   "execution_count": 139,
   "id": "b06ba43a",
   "metadata": {},
   "outputs": [
    {
     "data": {
      "text/plain": [
       "(6.40074371770222, 8.166585313922411)"
      ]
     },
     "execution_count": 139,
     "metadata": {},
     "output_type": "execute_result"
    }
   ],
   "source": [
    "y_pred_svm_poly.min(), y_pred_svm_poly.max()"
   ]
  },
  {
   "cell_type": "code",
   "execution_count": 140,
   "id": "0ccffc50",
   "metadata": {},
   "outputs": [
    {
     "data": {
      "text/plain": [
       "0.9394577327410445"
      ]
     },
     "execution_count": 140,
     "metadata": {},
     "output_type": "execute_result"
    }
   ],
   "source": [
    "mean_squared_error(y_pred_svm_poly, y_test)"
   ]
  },
  {
   "cell_type": "markdown",
   "id": "88ad9d33",
   "metadata": {},
   "source": [
    "# Ensemble Models"
   ]
  },
  {
   "cell_type": "code",
   "execution_count": 141,
   "id": "c5e01223",
   "metadata": {},
   "outputs": [
    {
     "data": {
      "text/plain": [
       "GradientBoostingRegressor(learning_rate=0.03, max_depth=4, n_estimators=200)"
      ]
     },
     "execution_count": 141,
     "metadata": {},
     "output_type": "execute_result"
    }
   ],
   "source": [
    "from sklearn import ensemble\n",
    "n_trees=200\n",
    "gradientboost = ensemble.GradientBoostingRegressor(loss='squared_error',learning_rate=0.03,n_estimators=n_trees,max_depth=4)\n",
    "gradientboost.fit(X_train_rfe,y_train)"
   ]
  },
  {
   "cell_type": "code",
   "execution_count": 142,
   "id": "ddc3e21e",
   "metadata": {},
   "outputs": [
    {
     "name": "stdout",
     "output_type": "stream",
     "text": [
      "MSE:0.444\n"
     ]
    }
   ],
   "source": [
    "y_pred_gb=gradientboost.predict(X_test_rfe)\n",
    "error=gradientboost.loss_(y_test,y_pred_gb) ##Loss function== Mean square error\n",
    "print(\"MSE:%.3f\" % error)"
   ]
  },
  {
   "cell_type": "code",
   "execution_count": 143,
   "id": "7d65e4ba",
   "metadata": {},
   "outputs": [
    {
     "data": {
      "text/plain": [
       "0.44445510186029585"
      ]
     },
     "execution_count": 143,
     "metadata": {},
     "output_type": "execute_result"
    }
   ],
   "source": [
    "mean_squared_error(y_pred_gb, y_test)"
   ]
  },
  {
   "cell_type": "code",
   "execution_count": 144,
   "id": "003a5087",
   "metadata": {},
   "outputs": [
    {
     "data": {
      "text/plain": [
       "(4.249968514984295, 8.620023088931493)"
      ]
     },
     "execution_count": 144,
     "metadata": {},
     "output_type": "execute_result"
    }
   ],
   "source": [
    "y_pred_gb.min(), y_pred_gb.max()"
   ]
  },
  {
   "cell_type": "code",
   "execution_count": 145,
   "id": "cde48dcd",
   "metadata": {},
   "outputs": [],
   "source": [
    "from sklearn.model_selection import GridSearchCV\n",
    "# Create the parameter grid based on the results of random search \n",
    "param_grid = {\n",
    "    'loss' : ['squared_error'],\n",
    "    'max_depth' : [3, 4, 5],\n",
    "    'learning_rate' : [0.01, 0.001],\n",
    "    'n_estimators': [100, 200, 500]\n",
    "}\n",
    "# Create a based model\n",
    "gb = ensemble.GradientBoostingRegressor()\n",
    "# Instantiate the grid search model\n",
    "grid_search_gb = GridSearchCV(estimator = gb, param_grid = param_grid, \n",
    "                          cv = 3, n_jobs = -1, verbose = 2)"
   ]
  },
  {
   "cell_type": "code",
   "execution_count": 146,
   "id": "3500d7ea",
   "metadata": {},
   "outputs": [
    {
     "name": "stdout",
     "output_type": "stream",
     "text": [
      "Fitting 3 folds for each of 18 candidates, totalling 54 fits\n"
     ]
    },
    {
     "data": {
      "text/plain": [
       "{'learning_rate': 0.01,\n",
       " 'loss': 'squared_error',\n",
       " 'max_depth': 5,\n",
       " 'n_estimators': 500}"
      ]
     },
     "execution_count": 146,
     "metadata": {},
     "output_type": "execute_result"
    }
   ],
   "source": [
    "grid_search_gb.fit(X_train_rfe, y_train)\n",
    "grid_search_gb.best_params_"
   ]
  },
  {
   "cell_type": "code",
   "execution_count": 147,
   "id": "4ba93422",
   "metadata": {},
   "outputs": [],
   "source": [
    "grid_search_gb_pred = grid_search_gb.predict(X_test_rfe)"
   ]
  },
  {
   "cell_type": "code",
   "execution_count": 148,
   "id": "a8d710a6",
   "metadata": {},
   "outputs": [
    {
     "data": {
      "text/plain": [
       "0.4300480596747298"
      ]
     },
     "execution_count": 148,
     "metadata": {},
     "output_type": "execute_result"
    }
   ],
   "source": [
    "mean_squared_error(y_test.values, grid_search_gb_pred)"
   ]
  },
  {
   "cell_type": "code",
   "execution_count": 149,
   "id": "71202b82",
   "metadata": {},
   "outputs": [],
   "source": [
    "from sklearn.ensemble import RandomForestRegressor\n",
    "rf_regressor = RandomForestRegressor(n_estimators = 500)\n",
    "rf_regressor.fit(X_train_rfe, y_train)\n",
    "rf_pred = rf_regressor.predict(X_test_rfe)"
   ]
  },
  {
   "cell_type": "code",
   "execution_count": 150,
   "id": "9bf348f6",
   "metadata": {},
   "outputs": [
    {
     "data": {
      "text/plain": [
       "0.45778186261780085"
      ]
     },
     "execution_count": 150,
     "metadata": {},
     "output_type": "execute_result"
    }
   ],
   "source": [
    "mean_squared_error(rf_pred, y_test)"
   ]
  },
  {
   "cell_type": "code",
   "execution_count": 151,
   "id": "7d94e061",
   "metadata": {},
   "outputs": [],
   "source": [
    "from sklearn.model_selection import GridSearchCV\n",
    "# Create the parameter grid based on the results of random search \n",
    "param_grid = {\n",
    "    'bootstrap': [True],\n",
    "    'max_depth': [90, 100],\n",
    "    'max_features': [2, 3],\n",
    "    'min_samples_leaf': [3, 4],\n",
    "    'min_samples_split': [8, 10],\n",
    "    'n_estimators': [100, 500, 1000]\n",
    "}\n",
    "# Create a based model\n",
    "rf = RandomForestRegressor()\n",
    "# Instantiate the grid search model\n",
    "grid_search_rf = GridSearchCV(estimator = rf, param_grid = param_grid, \n",
    "                          cv = 3, n_jobs = -1, verbose = 2)"
   ]
  },
  {
   "cell_type": "code",
   "execution_count": 152,
   "id": "371ec014",
   "metadata": {},
   "outputs": [
    {
     "name": "stdout",
     "output_type": "stream",
     "text": [
      "Fitting 3 folds for each of 48 candidates, totalling 144 fits\n"
     ]
    },
    {
     "data": {
      "text/plain": [
       "{'bootstrap': True,\n",
       " 'max_depth': 100,\n",
       " 'max_features': 3,\n",
       " 'min_samples_leaf': 3,\n",
       " 'min_samples_split': 8,\n",
       " 'n_estimators': 1000}"
      ]
     },
     "execution_count": 152,
     "metadata": {},
     "output_type": "execute_result"
    }
   ],
   "source": [
    "grid_search_rf.fit(X_train_rfe, y_train)\n",
    "grid_search_rf.best_params_"
   ]
  },
  {
   "cell_type": "code",
   "execution_count": 153,
   "id": "a7a5065a",
   "metadata": {},
   "outputs": [],
   "source": [
    "y_grid_pred_rf = grid_search_rf.predict(X_test_rfe)"
   ]
  },
  {
   "cell_type": "code",
   "execution_count": 154,
   "id": "e766eacb",
   "metadata": {},
   "outputs": [
    {
     "data": {
      "text/plain": [
       "0.4539898425483872"
      ]
     },
     "execution_count": 154,
     "metadata": {},
     "output_type": "execute_result"
    }
   ],
   "source": [
    "mean_squared_error(y_grid_pred_rf, y_test.values)"
   ]
  },
  {
   "cell_type": "code",
   "execution_count": 155,
   "id": "18aea4be",
   "metadata": {},
   "outputs": [],
   "source": [
    "#!pip install xgboost"
   ]
  },
  {
   "cell_type": "code",
   "execution_count": 156,
   "id": "7a2c7dec",
   "metadata": {},
   "outputs": [
    {
     "data": {
      "text/plain": [
       "XGBRegressor(base_score=0.5, booster='gbtree', callbacks=None,\n",
       "             colsample_bylevel=1, colsample_bynode=1, colsample_bytree=1,\n",
       "             early_stopping_rounds=None, enable_categorical=False,\n",
       "             eval_metric=None, gamma=0, gpu_id=-1, grow_policy='depthwise',\n",
       "             importance_type=None, interaction_constraints='',\n",
       "             learning_rate=0.300000012, max_bin=256, max_cat_to_onehot=4,\n",
       "             max_delta_step=0, max_depth=6, max_leaves=0, min_child_weight=1,\n",
       "             missing=nan, monotone_constraints='()', n_estimators=500, n_jobs=0,\n",
       "             num_parallel_tree=1, predictor='auto', random_state=0, reg_alpha=0,\n",
       "             reg_lambda=1, ...)"
      ]
     },
     "execution_count": 156,
     "metadata": {},
     "output_type": "execute_result"
    }
   ],
   "source": [
    "import xgboost as xgb\n",
    "xg_model = xgb.XGBRegressor(n_estimators = 500)\n",
    "xg_model.fit(X_train_rfe, y_train)"
   ]
  },
  {
   "cell_type": "code",
   "execution_count": 157,
   "id": "f966c38f",
   "metadata": {},
   "outputs": [],
   "source": [
    "results = xg_model.predict(X_test_rfe)"
   ]
  },
  {
   "cell_type": "code",
   "execution_count": 158,
   "id": "bb60977a",
   "metadata": {},
   "outputs": [
    {
     "data": {
      "text/plain": [
       "0.45398546886512176"
      ]
     },
     "execution_count": 158,
     "metadata": {},
     "output_type": "execute_result"
    }
   ],
   "source": [
    "mean_squared_error(results, y_test.values)"
   ]
  },
  {
   "cell_type": "code",
   "execution_count": 159,
   "id": "00da0538",
   "metadata": {},
   "outputs": [
    {
     "data": {
      "text/plain": [
       "0.9999956887094769"
      ]
     },
     "execution_count": 159,
     "metadata": {},
     "output_type": "execute_result"
    }
   ],
   "source": [
    "xg_model.score(X_train_rfe, y_train)"
   ]
  },
  {
   "cell_type": "code",
   "execution_count": 160,
   "id": "017a4b72",
   "metadata": {},
   "outputs": [
    {
     "data": {
      "text/plain": [
       "0.5619153998760782"
      ]
     },
     "execution_count": 160,
     "metadata": {},
     "output_type": "execute_result"
    }
   ],
   "source": [
    "from sklearn.metrics import r2_score\n",
    "r2_score(y_test, results)"
   ]
  },
  {
   "cell_type": "code",
   "execution_count": 161,
   "id": "a6e68b45",
   "metadata": {},
   "outputs": [],
   "source": [
    "from sklearn.model_selection import GridSearchCV\n",
    "# Create the parameter grid based on the results of random search \n",
    "param_grid = {\n",
    "    'max_depth': [3, 4],\n",
    "    'learning_rate' : [0.1, 0.01, 0.05],\n",
    "    'n_estimators' : [100, 500, 1000]\n",
    "}\n",
    "# Create a based model\n",
    "model_xgb= xgb.XGBRegressor()\n",
    "# Instantiate the grid search model\n",
    "grid_search_xgb = GridSearchCV(estimator = model_xgb, param_grid = param_grid, \n",
    "                          cv = 3, n_jobs = -1, verbose = 2)"
   ]
  },
  {
   "cell_type": "code",
   "execution_count": 162,
   "id": "b8c4177b",
   "metadata": {},
   "outputs": [
    {
     "name": "stdout",
     "output_type": "stream",
     "text": [
      "Fitting 3 folds for each of 18 candidates, totalling 54 fits\n"
     ]
    },
    {
     "data": {
      "text/plain": [
       "{'learning_rate': 0.05, 'max_depth': 4, 'n_estimators': 500}"
      ]
     },
     "execution_count": 162,
     "metadata": {},
     "output_type": "execute_result"
    }
   ],
   "source": [
    "grid_search_xgb.fit(X_train_rfe, y_train)\n",
    "grid_search_xgb.best_params_"
   ]
  },
  {
   "cell_type": "code",
   "execution_count": 163,
   "id": "825943c5",
   "metadata": {},
   "outputs": [],
   "source": [
    "y_pred_xgb = grid_search_xgb.predict(X_test_rfe)"
   ]
  },
  {
   "cell_type": "code",
   "execution_count": 164,
   "id": "58644f96",
   "metadata": {},
   "outputs": [
    {
     "data": {
      "text/plain": [
       "0.40457361436421724"
      ]
     },
     "execution_count": 164,
     "metadata": {},
     "output_type": "execute_result"
    }
   ],
   "source": [
    "mean_squared_error(y_test.values, y_pred_xgb)"
   ]
  },
  {
   "cell_type": "markdown",
   "id": "f3f13e29",
   "metadata": {},
   "source": [
    "# Interpreting Results of Regression Model"
   ]
  },
  {
   "cell_type": "code",
   "execution_count": 165,
   "id": "49963c69",
   "metadata": {},
   "outputs": [
    {
     "data": {
      "image/png": "[encoded data removed]",
      "text/plain": [
       "<Figure size 864x360 with 1 Axes>"
      ]
     },
     "metadata": {
      "needs_background": "light"
     },
     "output_type": "display_data"
    }
   ],
   "source": [
    "%matplotlib inline\n",
    "feature_importance = grid_search_xgb.best_estimator_.feature_importances_\n",
    "sorted_importance = np.argsort(feature_importance)\n",
    "pos = np.arange(len(sorted_importance))\n",
    "plt.figure(figsize=(12,5))\n",
    "plt.barh(pos, feature_importance[sorted_importance],align='center')\n",
    "plt.yticks(pos, X_train_rfe.columns[sorted_importance],fontsize=15)\n",
    "plt.title('Feature Importance ',fontsize=18)\n",
    "plt.show()"
   ]
  },
  {
   "cell_type": "markdown",
   "id": "5033b912",
   "metadata": {},
   "source": [
    "# Building a Classification Model"
   ]
  },
  {
   "cell_type": "code",
   "execution_count": 166,
   "id": "956e4049",
   "metadata": {},
   "outputs": [],
   "source": [
    "y_train_classification = y_train.copy()"
   ]
  },
  {
   "cell_type": "code",
   "execution_count": 167,
   "id": "7baf9104",
   "metadata": {},
   "outputs": [],
   "source": [
    "y_train_classification = pd.cut(y_train_classification, bins=[1, 3, 6, float('Inf')], labels=['Flop Movie', 'Average Movie', 'Hit Movie'])"
   ]
  },
  {
   "cell_type": "code",
   "execution_count": 168,
   "id": "d8070431",
   "metadata": {},
   "outputs": [],
   "source": [
    "y_test_classification = y_test.copy()"
   ]
  },
  {
   "cell_type": "code",
   "execution_count": 169,
   "id": "db514d10",
   "metadata": {},
   "outputs": [],
   "source": [
    "y_test_classification = pd.cut(y_test_classification, bins=[1, 3, 6, float('Inf')], labels=['Flop Movie', 'Average Movie', 'Hit Movie'])"
   ]
  },
  {
   "cell_type": "code",
   "execution_count": 170,
   "id": "2000e509",
   "metadata": {},
   "outputs": [],
   "source": [
    "X_train_rfe_classification = X_train_rfe.copy()\n",
    "X_test_rfe_classification = X_test_rfe.copy()"
   ]
  },
  {
   "cell_type": "markdown",
   "id": "2abf9d62",
   "metadata": {},
   "source": [
    "# Logistic Regression"
   ]
  },
  {
   "cell_type": "markdown",
   "id": "42b3f748",
   "metadata": {},
   "source": [
    "Logistic Regresion is a linear algorithm does basically a binary classification. In order to use the Logistic Regression for Multiclass Classification we need to use the parameter solver as 'saga'. There are also other parameters for solver to do multiclass classification, I used saga as it also does L2 regularisation."
   ]
  },
  {
   "cell_type": "code",
   "execution_count": 171,
   "id": "2114b290",
   "metadata": {},
   "outputs": [
    {
     "data": {
      "text/plain": [
       "LogisticRegression(random_state=0, solver='saga')"
      ]
     },
     "execution_count": 171,
     "metadata": {},
     "output_type": "execute_result"
    }
   ],
   "source": [
    "from sklearn.linear_model import LogisticRegression\n",
    "logit_model = LogisticRegression(solver = 'saga', random_state = 0)\n",
    "logit_model.fit(X_train_rfe_classification, y_train_classification)"
   ]
  },
  {
   "cell_type": "code",
   "execution_count": 172,
   "id": "754d2642",
   "metadata": {},
   "outputs": [],
   "source": [
    "y_logit_pred = logit_model.predict(X_test_rfe_classification)"
   ]
  },
  {
   "cell_type": "code",
   "execution_count": 173,
   "id": "1cd6b80b",
   "metadata": {},
   "outputs": [
    {
     "data": {
      "text/plain": [
       "array(['Hit Movie', 'Hit Movie', 'Hit Movie', 'Hit Movie', 'Hit Movie',\n",
       "       'Hit Movie', 'Hit Movie', 'Hit Movie', 'Hit Movie', 'Hit Movie',\n",
       "       'Average Movie', 'Hit Movie', 'Hit Movie', 'Hit Movie',\n",
       "       'Hit Movie', 'Hit Movie', 'Hit Movie', 'Hit Movie', 'Hit Movie',\n",
       "       'Average Movie', 'Average Movie', 'Hit Movie', 'Hit Movie',\n",
       "       'Hit Movie', 'Hit Movie', 'Hit Movie', 'Hit Movie', 'Hit Movie',\n",
       "       'Hit Movie', 'Hit Movie', 'Hit Movie', 'Hit Movie', 'Hit Movie',\n",
       "       'Hit Movie', 'Hit Movie', 'Hit Movie', 'Hit Movie', 'Hit Movie',\n",
       "       'Hit Movie', 'Hit Movie', 'Hit Movie', 'Hit Movie',\n",
       "       'Average Movie', 'Hit Movie', 'Hit Movie', 'Average Movie',\n",
       "       'Hit Movie', 'Hit Movie', 'Average Movie', 'Average Movie',\n",
       "       'Hit Movie', 'Hit Movie', 'Average Movie', 'Hit Movie',\n",
       "       'Hit Movie', 'Hit Movie', 'Hit Movie', 'Hit Movie', 'Hit Movie',\n",
       "       'Hit Movie', 'Hit Movie', 'Hit Movie', 'Hit Movie', 'Hit Movie',\n",
       "       'Hit Movie', 'Hit Movie', 'Hit Movie', 'Average Movie',\n",
       "       'Hit Movie', 'Hit Movie', 'Hit Movie', 'Hit Movie', 'Hit Movie',\n",
       "       'Hit Movie', 'Hit Movie', 'Hit Movie', 'Hit Movie', 'Hit Movie',\n",
       "       'Hit Movie', 'Hit Movie', 'Hit Movie', 'Hit Movie',\n",
       "       'Average Movie', 'Hit Movie', 'Hit Movie', 'Hit Movie',\n",
       "       'Hit Movie', 'Hit Movie', 'Hit Movie', 'Hit Movie', 'Hit Movie',\n",
       "       'Hit Movie', 'Hit Movie', 'Hit Movie', 'Hit Movie', 'Hit Movie',\n",
       "       'Hit Movie', 'Hit Movie', 'Hit Movie', 'Hit Movie',\n",
       "       'Average Movie', 'Hit Movie', 'Hit Movie', 'Hit Movie',\n",
       "       'Hit Movie', 'Hit Movie', 'Hit Movie', 'Hit Movie', 'Hit Movie',\n",
       "       'Hit Movie', 'Hit Movie', 'Hit Movie', 'Hit Movie',\n",
       "       'Average Movie', 'Hit Movie', 'Hit Movie', 'Average Movie',\n",
       "       'Hit Movie', 'Hit Movie', 'Hit Movie', 'Hit Movie', 'Hit Movie',\n",
       "       'Average Movie', 'Hit Movie', 'Hit Movie', 'Hit Movie',\n",
       "       'Hit Movie', 'Hit Movie', 'Hit Movie', 'Hit Movie', 'Hit Movie',\n",
       "       'Average Movie', 'Hit Movie', 'Hit Movie', 'Hit Movie',\n",
       "       'Hit Movie', 'Average Movie', 'Hit Movie', 'Hit Movie',\n",
       "       'Hit Movie', 'Hit Movie', 'Hit Movie', 'Hit Movie', 'Hit Movie',\n",
       "       'Hit Movie', 'Hit Movie', 'Hit Movie', 'Hit Movie', 'Hit Movie',\n",
       "       'Hit Movie', 'Hit Movie', 'Hit Movie', 'Hit Movie', 'Hit Movie',\n",
       "       'Hit Movie', 'Hit Movie', 'Hit Movie', 'Hit Movie', 'Hit Movie',\n",
       "       'Hit Movie', 'Average Movie', 'Hit Movie', 'Hit Movie',\n",
       "       'Hit Movie', 'Hit Movie', 'Hit Movie', 'Hit Movie', 'Hit Movie',\n",
       "       'Hit Movie', 'Hit Movie', 'Average Movie', 'Hit Movie',\n",
       "       'Hit Movie', 'Hit Movie', 'Hit Movie', 'Hit Movie', 'Hit Movie',\n",
       "       'Hit Movie', 'Hit Movie', 'Hit Movie', 'Hit Movie',\n",
       "       'Average Movie', 'Average Movie', 'Hit Movie', 'Hit Movie',\n",
       "       'Hit Movie', 'Hit Movie', 'Hit Movie', 'Hit Movie', 'Hit Movie',\n",
       "       'Hit Movie', 'Hit Movie', 'Average Movie', 'Hit Movie',\n",
       "       'Hit Movie', 'Hit Movie', 'Hit Movie', 'Hit Movie', 'Hit Movie',\n",
       "       'Hit Movie', 'Hit Movie', 'Hit Movie', 'Hit Movie', 'Hit Movie',\n",
       "       'Hit Movie', 'Hit Movie', 'Hit Movie', 'Hit Movie', 'Hit Movie',\n",
       "       'Hit Movie', 'Average Movie', 'Hit Movie', 'Hit Movie',\n",
       "       'Hit Movie', 'Average Movie', 'Hit Movie', 'Hit Movie',\n",
       "       'Hit Movie', 'Hit Movie', 'Hit Movie', 'Hit Movie', 'Hit Movie',\n",
       "       'Hit Movie', 'Average Movie', 'Hit Movie', 'Hit Movie',\n",
       "       'Hit Movie', 'Hit Movie', 'Hit Movie', 'Hit Movie', 'Hit Movie',\n",
       "       'Hit Movie', 'Hit Movie', 'Hit Movie', 'Hit Movie', 'Hit Movie',\n",
       "       'Hit Movie', 'Hit Movie', 'Hit Movie', 'Hit Movie', 'Hit Movie',\n",
       "       'Hit Movie', 'Hit Movie', 'Hit Movie', 'Hit Movie', 'Hit Movie',\n",
       "       'Average Movie', 'Hit Movie', 'Hit Movie', 'Hit Movie',\n",
       "       'Average Movie', 'Hit Movie', 'Hit Movie', 'Average Movie',\n",
       "       'Hit Movie', 'Hit Movie', 'Hit Movie', 'Hit Movie',\n",
       "       'Average Movie', 'Hit Movie', 'Hit Movie', 'Hit Movie',\n",
       "       'Hit Movie', 'Hit Movie', 'Average Movie', 'Hit Movie',\n",
       "       'Hit Movie', 'Hit Movie', 'Average Movie', 'Hit Movie',\n",
       "       'Average Movie', 'Hit Movie', 'Hit Movie', 'Hit Movie',\n",
       "       'Hit Movie', 'Hit Movie', 'Average Movie', 'Hit Movie',\n",
       "       'Hit Movie', 'Hit Movie', 'Hit Movie', 'Hit Movie', 'Hit Movie',\n",
       "       'Hit Movie', 'Hit Movie', 'Average Movie', 'Hit Movie',\n",
       "       'Hit Movie', 'Hit Movie', 'Hit Movie', 'Hit Movie', 'Hit Movie',\n",
       "       'Hit Movie', 'Hit Movie', 'Hit Movie', 'Average Movie',\n",
       "       'Hit Movie', 'Hit Movie', 'Hit Movie', 'Hit Movie', 'Hit Movie',\n",
       "       'Hit Movie', 'Hit Movie', 'Average Movie', 'Hit Movie',\n",
       "       'Hit Movie', 'Hit Movie', 'Hit Movie', 'Hit Movie', 'Hit Movie',\n",
       "       'Hit Movie', 'Average Movie', 'Average Movie', 'Hit Movie',\n",
       "       'Average Movie', 'Hit Movie', 'Hit Movie', 'Hit Movie',\n",
       "       'Hit Movie', 'Average Movie', 'Hit Movie', 'Hit Movie',\n",
       "       'Hit Movie', 'Average Movie', 'Hit Movie', 'Hit Movie',\n",
       "       'Average Movie', 'Hit Movie', 'Hit Movie', 'Hit Movie',\n",
       "       'Hit Movie', 'Hit Movie', 'Hit Movie', 'Hit Movie', 'Hit Movie',\n",
       "       'Average Movie', 'Hit Movie', 'Hit Movie', 'Hit Movie',\n",
       "       'Hit Movie', 'Average Movie', 'Hit Movie', 'Hit Movie',\n",
       "       'Average Movie', 'Hit Movie', 'Hit Movie', 'Hit Movie',\n",
       "       'Hit Movie', 'Average Movie', 'Hit Movie', 'Hit Movie',\n",
       "       'Hit Movie', 'Hit Movie', 'Hit Movie', 'Hit Movie', 'Hit Movie',\n",
       "       'Hit Movie', 'Hit Movie', 'Average Movie', 'Hit Movie',\n",
       "       'Hit Movie', 'Hit Movie', 'Hit Movie', 'Hit Movie', 'Hit Movie',\n",
       "       'Hit Movie', 'Hit Movie', 'Average Movie', 'Hit Movie',\n",
       "       'Hit Movie', 'Hit Movie', 'Average Movie', 'Hit Movie',\n",
       "       'Hit Movie', 'Hit Movie', 'Hit Movie', 'Average Movie',\n",
       "       'Average Movie', 'Hit Movie', 'Hit Movie', 'Hit Movie',\n",
       "       'Hit Movie', 'Hit Movie', 'Hit Movie', 'Hit Movie', 'Hit Movie',\n",
       "       'Hit Movie', 'Hit Movie', 'Hit Movie', 'Hit Movie',\n",
       "       'Average Movie', 'Hit Movie', 'Hit Movie', 'Hit Movie',\n",
       "       'Average Movie', 'Hit Movie', 'Hit Movie', 'Average Movie',\n",
       "       'Hit Movie', 'Hit Movie', 'Average Movie', 'Hit Movie',\n",
       "       'Hit Movie', 'Average Movie', 'Hit Movie', 'Hit Movie',\n",
       "       'Hit Movie', 'Average Movie', 'Hit Movie', 'Average Movie',\n",
       "       'Hit Movie', 'Hit Movie', 'Hit Movie', 'Hit Movie', 'Hit Movie',\n",
       "       'Hit Movie', 'Hit Movie', 'Hit Movie', 'Hit Movie', 'Hit Movie',\n",
       "       'Hit Movie', 'Hit Movie', 'Hit Movie', 'Average Movie',\n",
       "       'Hit Movie', 'Hit Movie', 'Hit Movie', 'Hit Movie', 'Hit Movie',\n",
       "       'Hit Movie', 'Average Movie', 'Average Movie', 'Hit Movie',\n",
       "       'Hit Movie', 'Hit Movie', 'Hit Movie', 'Hit Movie', 'Hit Movie',\n",
       "       'Hit Movie', 'Hit Movie', 'Hit Movie', 'Hit Movie', 'Hit Movie',\n",
       "       'Average Movie', 'Average Movie', 'Average Movie', 'Hit Movie',\n",
       "       'Hit Movie', 'Hit Movie', 'Hit Movie', 'Average Movie',\n",
       "       'Hit Movie', 'Hit Movie', 'Hit Movie', 'Average Movie',\n",
       "       'Hit Movie', 'Hit Movie', 'Hit Movie', 'Hit Movie',\n",
       "       'Average Movie', 'Hit Movie', 'Hit Movie', 'Hit Movie',\n",
       "       'Hit Movie', 'Hit Movie', 'Hit Movie', 'Hit Movie', 'Hit Movie',\n",
       "       'Hit Movie', 'Hit Movie', 'Hit Movie', 'Average Movie',\n",
       "       'Hit Movie', 'Hit Movie', 'Hit Movie', 'Hit Movie', 'Hit Movie',\n",
       "       'Average Movie', 'Hit Movie', 'Hit Movie', 'Average Movie',\n",
       "       'Hit Movie', 'Hit Movie', 'Hit Movie', 'Hit Movie', 'Hit Movie',\n",
       "       'Hit Movie', 'Hit Movie', 'Hit Movie', 'Average Movie',\n",
       "       'Hit Movie', 'Hit Movie', 'Hit Movie', 'Average Movie',\n",
       "       'Hit Movie', 'Hit Movie', 'Hit Movie', 'Hit Movie', 'Hit Movie',\n",
       "       'Hit Movie', 'Hit Movie', 'Hit Movie', 'Hit Movie', 'Hit Movie',\n",
       "       'Hit Movie', 'Hit Movie', 'Hit Movie', 'Hit Movie', 'Hit Movie',\n",
       "       'Hit Movie', 'Hit Movie', 'Hit Movie', 'Hit Movie', 'Hit Movie',\n",
       "       'Hit Movie', 'Hit Movie', 'Hit Movie', 'Hit Movie', 'Hit Movie',\n",
       "       'Hit Movie', 'Hit Movie', 'Hit Movie', 'Hit Movie', 'Hit Movie',\n",
       "       'Average Movie', 'Hit Movie', 'Hit Movie', 'Average Movie',\n",
       "       'Average Movie', 'Hit Movie', 'Hit Movie', 'Hit Movie',\n",
       "       'Hit Movie', 'Average Movie', 'Hit Movie', 'Hit Movie',\n",
       "       'Average Movie', 'Hit Movie', 'Average Movie', 'Hit Movie',\n",
       "       'Hit Movie', 'Hit Movie', 'Hit Movie', 'Average Movie',\n",
       "       'Hit Movie', 'Hit Movie', 'Hit Movie', 'Hit Movie',\n",
       "       'Average Movie', 'Hit Movie', 'Hit Movie', 'Hit Movie',\n",
       "       'Hit Movie', 'Hit Movie', 'Hit Movie', 'Hit Movie', 'Hit Movie',\n",
       "       'Hit Movie', 'Hit Movie', 'Hit Movie', 'Hit Movie', 'Hit Movie',\n",
       "       'Hit Movie', 'Hit Movie', 'Hit Movie', 'Hit Movie', 'Hit Movie',\n",
       "       'Hit Movie', 'Hit Movie', 'Hit Movie', 'Hit Movie', 'Hit Movie',\n",
       "       'Hit Movie', 'Hit Movie', 'Hit Movie', 'Hit Movie',\n",
       "       'Average Movie', 'Average Movie', 'Hit Movie', 'Average Movie',\n",
       "       'Hit Movie', 'Average Movie', 'Hit Movie', 'Average Movie',\n",
       "       'Hit Movie', 'Hit Movie', 'Hit Movie', 'Hit Movie', 'Hit Movie',\n",
       "       'Hit Movie', 'Hit Movie', 'Hit Movie', 'Hit Movie', 'Hit Movie',\n",
       "       'Hit Movie', 'Hit Movie', 'Hit Movie', 'Hit Movie', 'Hit Movie',\n",
       "       'Hit Movie', 'Hit Movie', 'Hit Movie', 'Hit Movie',\n",
       "       'Average Movie', 'Average Movie', 'Hit Movie', 'Hit Movie',\n",
       "       'Hit Movie', 'Hit Movie', 'Hit Movie', 'Hit Movie', 'Hit Movie',\n",
       "       'Hit Movie', 'Hit Movie', 'Hit Movie', 'Average Movie',\n",
       "       'Hit Movie', 'Hit Movie', 'Hit Movie', 'Hit Movie', 'Hit Movie',\n",
       "       'Hit Movie', 'Hit Movie', 'Hit Movie', 'Hit Movie',\n",
       "       'Average Movie', 'Hit Movie', 'Hit Movie', 'Hit Movie',\n",
       "       'Average Movie', 'Hit Movie', 'Hit Movie', 'Hit Movie',\n",
       "       'Hit Movie', 'Hit Movie', 'Average Movie', 'Hit Movie',\n",
       "       'Average Movie', 'Hit Movie', 'Hit Movie', 'Hit Movie',\n",
       "       'Hit Movie', 'Hit Movie', 'Hit Movie', 'Hit Movie', 'Hit Movie',\n",
       "       'Average Movie', 'Hit Movie', 'Hit Movie', 'Hit Movie',\n",
       "       'Hit Movie', 'Hit Movie', 'Hit Movie', 'Hit Movie', 'Hit Movie',\n",
       "       'Average Movie', 'Average Movie', 'Hit Movie', 'Hit Movie',\n",
       "       'Hit Movie', 'Hit Movie', 'Hit Movie', 'Average Movie',\n",
       "       'Hit Movie', 'Hit Movie', 'Hit Movie', 'Average Movie',\n",
       "       'Hit Movie', 'Hit Movie', 'Hit Movie', 'Hit Movie', 'Hit Movie',\n",
       "       'Hit Movie', 'Hit Movie', 'Hit Movie', 'Average Movie',\n",
       "       'Hit Movie', 'Average Movie', 'Hit Movie', 'Hit Movie',\n",
       "       'Hit Movie', 'Average Movie', 'Hit Movie', 'Hit Movie',\n",
       "       'Hit Movie', 'Hit Movie', 'Hit Movie', 'Hit Movie',\n",
       "       'Average Movie', 'Average Movie', 'Average Movie', 'Hit Movie',\n",
       "       'Average Movie', 'Hit Movie', 'Hit Movie', 'Hit Movie',\n",
       "       'Hit Movie', 'Hit Movie', 'Hit Movie', 'Hit Movie', 'Hit Movie',\n",
       "       'Hit Movie', 'Hit Movie', 'Hit Movie', 'Hit Movie', 'Hit Movie',\n",
       "       'Hit Movie', 'Hit Movie', 'Hit Movie', 'Hit Movie', 'Hit Movie',\n",
       "       'Hit Movie', 'Hit Movie', 'Average Movie', 'Hit Movie',\n",
       "       'Hit Movie', 'Hit Movie', 'Hit Movie', 'Hit Movie', 'Hit Movie',\n",
       "       'Hit Movie', 'Average Movie', 'Hit Movie', 'Average Movie',\n",
       "       'Hit Movie', 'Hit Movie', 'Hit Movie', 'Hit Movie', 'Hit Movie',\n",
       "       'Hit Movie', 'Hit Movie', 'Hit Movie', 'Hit Movie', 'Hit Movie',\n",
       "       'Hit Movie', 'Hit Movie', 'Hit Movie', 'Hit Movie', 'Hit Movie',\n",
       "       'Hit Movie', 'Hit Movie', 'Hit Movie', 'Hit Movie', 'Hit Movie',\n",
       "       'Hit Movie', 'Hit Movie', 'Hit Movie', 'Hit Movie', 'Hit Movie',\n",
       "       'Average Movie', 'Hit Movie', 'Hit Movie', 'Hit Movie',\n",
       "       'Hit Movie', 'Average Movie', 'Hit Movie', 'Hit Movie',\n",
       "       'Average Movie', 'Hit Movie', 'Hit Movie', 'Hit Movie',\n",
       "       'Hit Movie', 'Hit Movie', 'Hit Movie'], dtype=object)"
      ]
     },
     "execution_count": 173,
     "metadata": {},
     "output_type": "execute_result"
    }
   ],
   "source": [
    "y_logit_pred"
   ]
  },
  {
   "cell_type": "code",
   "execution_count": 174,
   "id": "11ad8cce",
   "metadata": {},
   "outputs": [
    {
     "name": "stdout",
     "output_type": "stream",
     "text": [
      "Misclassified samples: 193\n",
      "Accuracy: 0.75\n",
      "Precision: 0.46\n",
      "Recall: 0.41\n",
      "F1 score: 0.42\n"
     ]
    },
    {
     "name": "stderr",
     "output_type": "stream",
     "text": [
      "E:\\anaconda3\\envs\\pythoncourse\\lib\\site-packages\\sklearn\\metrics\\_classification.py:1318: UndefinedMetricWarning: Precision is ill-defined and being set to 0.0 in labels with no predicted samples. Use `zero_division` parameter to control this behavior.\n",
      "  _warn_prf(average, modifier, msg_start, len(result))\n"
     ]
    }
   ],
   "source": [
    "from sklearn import metrics\n",
    "count_misclassified = (y_test_classification != y_logit_pred).sum()\n",
    "print('Misclassified samples: {}'.format(count_misclassified))\n",
    "accuracy = metrics.accuracy_score(y_test_classification, y_logit_pred)\n",
    "print('Accuracy: {:.2f}'.format(accuracy))\n",
    "precision = metrics.precision_score(y_test_classification, y_logit_pred, average= 'macro')\n",
    "print('Precision: {:.2f}'.format(precision))\n",
    "recall = metrics.recall_score(y_test_classification, y_logit_pred, average= 'macro')\n",
    "print('Recall: {:.2f}'.format(recall))\n",
    "f1_score = metrics.f1_score(y_test_classification, y_logit_pred, average = 'macro')\n",
    "print('F1 score: {:.2f}'.format(f1_score))"
   ]
  },
  {
   "cell_type": "markdown",
   "id": "fb16643b",
   "metadata": {},
   "source": [
    "Support Vector Classifier with Linear, Polynomial, RBF"
   ]
  },
  {
   "cell_type": "code",
   "execution_count": 175,
   "id": "2a917ddd",
   "metadata": {},
   "outputs": [],
   "source": [
    "from sklearn.svm import SVC\n",
    "svc_linear_model = SVC(kernel='linear', C=100, gamma= 'scale', decision_function_shape='ovo', random_state = 42)"
   ]
  },
  {
   "cell_type": "code",
   "execution_count": 176,
   "id": "948cddd7",
   "metadata": {},
   "outputs": [],
   "source": [
    "svc_linear_model.fit(X_train_rfe_classification, y_train_classification)\n",
    "y_svc_linear_pred = svc_linear_model.predict(X_test_rfe_classification)"
   ]
  },
  {
   "cell_type": "code",
   "execution_count": 177,
   "id": "6eecb379",
   "metadata": {},
   "outputs": [
    {
     "data": {
      "text/plain": [
       "array(['Hit Movie', 'Hit Movie', 'Hit Movie', 'Hit Movie', 'Hit Movie',\n",
       "       'Hit Movie', 'Hit Movie', 'Hit Movie', 'Hit Movie', 'Hit Movie',\n",
       "       'Average Movie', 'Hit Movie', 'Hit Movie', 'Hit Movie',\n",
       "       'Hit Movie', 'Hit Movie', 'Hit Movie', 'Hit Movie', 'Hit Movie',\n",
       "       'Average Movie', 'Average Movie', 'Hit Movie', 'Hit Movie',\n",
       "       'Hit Movie', 'Average Movie', 'Hit Movie', 'Hit Movie',\n",
       "       'Hit Movie', 'Hit Movie', 'Hit Movie', 'Hit Movie', 'Hit Movie',\n",
       "       'Hit Movie', 'Hit Movie', 'Average Movie', 'Hit Movie',\n",
       "       'Hit Movie', 'Hit Movie', 'Hit Movie', 'Hit Movie', 'Hit Movie',\n",
       "       'Hit Movie', 'Average Movie', 'Hit Movie', 'Hit Movie',\n",
       "       'Average Movie', 'Hit Movie', 'Hit Movie', 'Average Movie',\n",
       "       'Average Movie', 'Hit Movie', 'Hit Movie', 'Average Movie',\n",
       "       'Hit Movie', 'Hit Movie', 'Hit Movie', 'Hit Movie', 'Hit Movie',\n",
       "       'Hit Movie', 'Hit Movie', 'Hit Movie', 'Hit Movie', 'Hit Movie',\n",
       "       'Hit Movie', 'Hit Movie', 'Hit Movie', 'Hit Movie',\n",
       "       'Average Movie', 'Hit Movie', 'Hit Movie', 'Hit Movie',\n",
       "       'Hit Movie', 'Average Movie', 'Hit Movie', 'Hit Movie',\n",
       "       'Hit Movie', 'Hit Movie', 'Hit Movie', 'Hit Movie', 'Hit Movie',\n",
       "       'Hit Movie', 'Hit Movie', 'Average Movie', 'Hit Movie',\n",
       "       'Hit Movie', 'Hit Movie', 'Hit Movie', 'Hit Movie', 'Hit Movie',\n",
       "       'Hit Movie', 'Hit Movie', 'Hit Movie', 'Hit Movie', 'Hit Movie',\n",
       "       'Hit Movie', 'Hit Movie', 'Hit Movie', 'Hit Movie', 'Hit Movie',\n",
       "       'Hit Movie', 'Average Movie', 'Hit Movie', 'Hit Movie',\n",
       "       'Hit Movie', 'Hit Movie', 'Hit Movie', 'Hit Movie', 'Hit Movie',\n",
       "       'Hit Movie', 'Hit Movie', 'Hit Movie', 'Hit Movie', 'Hit Movie',\n",
       "       'Average Movie', 'Hit Movie', 'Hit Movie', 'Average Movie',\n",
       "       'Hit Movie', 'Hit Movie', 'Hit Movie', 'Hit Movie', 'Hit Movie',\n",
       "       'Average Movie', 'Hit Movie', 'Hit Movie', 'Hit Movie',\n",
       "       'Hit Movie', 'Hit Movie', 'Average Movie', 'Average Movie',\n",
       "       'Hit Movie', 'Average Movie', 'Hit Movie', 'Hit Movie',\n",
       "       'Hit Movie', 'Hit Movie', 'Average Movie', 'Hit Movie',\n",
       "       'Hit Movie', 'Hit Movie', 'Hit Movie', 'Hit Movie', 'Hit Movie',\n",
       "       'Hit Movie', 'Hit Movie', 'Hit Movie', 'Hit Movie', 'Hit Movie',\n",
       "       'Average Movie', 'Hit Movie', 'Hit Movie', 'Hit Movie',\n",
       "       'Hit Movie', 'Hit Movie', 'Hit Movie', 'Hit Movie', 'Hit Movie',\n",
       "       'Hit Movie', 'Hit Movie', 'Hit Movie', 'Average Movie',\n",
       "       'Hit Movie', 'Hit Movie', 'Hit Movie', 'Hit Movie', 'Hit Movie',\n",
       "       'Average Movie', 'Hit Movie', 'Hit Movie', 'Hit Movie',\n",
       "       'Average Movie', 'Hit Movie', 'Hit Movie', 'Hit Movie',\n",
       "       'Hit Movie', 'Hit Movie', 'Hit Movie', 'Hit Movie', 'Hit Movie',\n",
       "       'Hit Movie', 'Hit Movie', 'Average Movie', 'Average Movie',\n",
       "       'Average Movie', 'Hit Movie', 'Average Movie', 'Hit Movie',\n",
       "       'Hit Movie', 'Hit Movie', 'Hit Movie', 'Hit Movie', 'Hit Movie',\n",
       "       'Hit Movie', 'Hit Movie', 'Hit Movie', 'Hit Movie', 'Hit Movie',\n",
       "       'Hit Movie', 'Hit Movie', 'Average Movie', 'Hit Movie',\n",
       "       'Hit Movie', 'Hit Movie', 'Hit Movie', 'Hit Movie', 'Hit Movie',\n",
       "       'Hit Movie', 'Hit Movie', 'Average Movie', 'Hit Movie',\n",
       "       'Average Movie', 'Hit Movie', 'Hit Movie', 'Hit Movie',\n",
       "       'Average Movie', 'Hit Movie', 'Hit Movie', 'Hit Movie',\n",
       "       'Hit Movie', 'Hit Movie', 'Hit Movie', 'Average Movie',\n",
       "       'Hit Movie', 'Average Movie', 'Hit Movie', 'Hit Movie',\n",
       "       'Hit Movie', 'Hit Movie', 'Hit Movie', 'Hit Movie', 'Hit Movie',\n",
       "       'Hit Movie', 'Hit Movie', 'Hit Movie', 'Hit Movie', 'Hit Movie',\n",
       "       'Hit Movie', 'Hit Movie', 'Hit Movie', 'Hit Movie', 'Hit Movie',\n",
       "       'Hit Movie', 'Average Movie', 'Hit Movie', 'Hit Movie',\n",
       "       'Average Movie', 'Average Movie', 'Hit Movie', 'Hit Movie',\n",
       "       'Average Movie', 'Average Movie', 'Hit Movie', 'Hit Movie',\n",
       "       'Average Movie', 'Hit Movie', 'Hit Movie', 'Hit Movie',\n",
       "       'Hit Movie', 'Average Movie', 'Hit Movie', 'Hit Movie',\n",
       "       'Hit Movie', 'Hit Movie', 'Average Movie', 'Average Movie',\n",
       "       'Hit Movie', 'Average Movie', 'Hit Movie', 'Average Movie',\n",
       "       'Hit Movie', 'Average Movie', 'Hit Movie', 'Hit Movie',\n",
       "       'Hit Movie', 'Hit Movie', 'Hit Movie', 'Average Movie',\n",
       "       'Hit Movie', 'Hit Movie', 'Hit Movie', 'Hit Movie',\n",
       "       'Average Movie', 'Hit Movie', 'Average Movie', 'Hit Movie',\n",
       "       'Average Movie', 'Average Movie', 'Hit Movie', 'Hit Movie',\n",
       "       'Hit Movie', 'Hit Movie', 'Hit Movie', 'Hit Movie', 'Hit Movie',\n",
       "       'Hit Movie', 'Average Movie', 'Hit Movie', 'Hit Movie',\n",
       "       'Hit Movie', 'Hit Movie', 'Hit Movie', 'Hit Movie', 'Hit Movie',\n",
       "       'Average Movie', 'Hit Movie', 'Hit Movie', 'Hit Movie',\n",
       "       'Hit Movie', 'Hit Movie', 'Hit Movie', 'Hit Movie',\n",
       "       'Average Movie', 'Average Movie', 'Hit Movie', 'Hit Movie',\n",
       "       'Hit Movie', 'Average Movie', 'Hit Movie', 'Hit Movie',\n",
       "       'Average Movie', 'Hit Movie', 'Average Movie', 'Hit Movie',\n",
       "       'Average Movie', 'Hit Movie', 'Hit Movie', 'Average Movie',\n",
       "       'Hit Movie', 'Hit Movie', 'Hit Movie', 'Hit Movie', 'Hit Movie',\n",
       "       'Hit Movie', 'Average Movie', 'Hit Movie', 'Average Movie',\n",
       "       'Hit Movie', 'Hit Movie', 'Hit Movie', 'Average Movie',\n",
       "       'Average Movie', 'Hit Movie', 'Hit Movie', 'Average Movie',\n",
       "       'Hit Movie', 'Hit Movie', 'Hit Movie', 'Average Movie',\n",
       "       'Average Movie', 'Hit Movie', 'Hit Movie', 'Average Movie',\n",
       "       'Hit Movie', 'Average Movie', 'Hit Movie', 'Hit Movie',\n",
       "       'Hit Movie', 'Hit Movie', 'Average Movie', 'Hit Movie',\n",
       "       'Hit Movie', 'Hit Movie', 'Hit Movie', 'Hit Movie', 'Hit Movie',\n",
       "       'Hit Movie', 'Hit Movie', 'Average Movie', 'Hit Movie',\n",
       "       'Hit Movie', 'Hit Movie', 'Average Movie', 'Hit Movie',\n",
       "       'Hit Movie', 'Hit Movie', 'Hit Movie', 'Average Movie',\n",
       "       'Average Movie', 'Hit Movie', 'Hit Movie', 'Hit Movie',\n",
       "       'Hit Movie', 'Hit Movie', 'Hit Movie', 'Hit Movie', 'Hit Movie',\n",
       "       'Hit Movie', 'Hit Movie', 'Hit Movie', 'Hit Movie',\n",
       "       'Average Movie', 'Hit Movie', 'Hit Movie', 'Hit Movie',\n",
       "       'Average Movie', 'Average Movie', 'Average Movie', 'Average Movie',\n",
       "       'Hit Movie', 'Hit Movie', 'Average Movie', 'Hit Movie',\n",
       "       'Hit Movie', 'Average Movie', 'Hit Movie', 'Average Movie',\n",
       "       'Hit Movie', 'Average Movie', 'Hit Movie', 'Average Movie',\n",
       "       'Hit Movie', 'Hit Movie', 'Average Movie', 'Hit Movie',\n",
       "       'Hit Movie', 'Average Movie', 'Average Movie', 'Hit Movie',\n",
       "       'Hit Movie', 'Hit Movie', 'Average Movie', 'Hit Movie',\n",
       "       'Hit Movie', 'Average Movie', 'Hit Movie', 'Hit Movie',\n",
       "       'Hit Movie', 'Hit Movie', 'Hit Movie', 'Hit Movie',\n",
       "       'Average Movie', 'Average Movie', 'Average Movie', 'Hit Movie',\n",
       "       'Average Movie', 'Hit Movie', 'Hit Movie', 'Hit Movie',\n",
       "       'Average Movie', 'Hit Movie', 'Hit Movie', 'Hit Movie',\n",
       "       'Hit Movie', 'Average Movie', 'Average Movie', 'Average Movie',\n",
       "       'Hit Movie', 'Hit Movie', 'Hit Movie', 'Hit Movie',\n",
       "       'Average Movie', 'Hit Movie', 'Hit Movie', 'Hit Movie',\n",
       "       'Average Movie', 'Hit Movie', 'Hit Movie', 'Average Movie',\n",
       "       'Hit Movie', 'Average Movie', 'Hit Movie', 'Hit Movie',\n",
       "       'Hit Movie', 'Hit Movie', 'Hit Movie', 'Hit Movie', 'Hit Movie',\n",
       "       'Hit Movie', 'Hit Movie', 'Hit Movie', 'Hit Movie',\n",
       "       'Average Movie', 'Hit Movie', 'Hit Movie', 'Hit Movie',\n",
       "       'Hit Movie', 'Hit Movie', 'Average Movie', 'Hit Movie',\n",
       "       'Hit Movie', 'Average Movie', 'Hit Movie', 'Hit Movie',\n",
       "       'Hit Movie', 'Average Movie', 'Hit Movie', 'Hit Movie',\n",
       "       'Hit Movie', 'Hit Movie', 'Average Movie', 'Average Movie',\n",
       "       'Hit Movie', 'Hit Movie', 'Average Movie', 'Hit Movie',\n",
       "       'Hit Movie', 'Hit Movie', 'Hit Movie', 'Hit Movie', 'Hit Movie',\n",
       "       'Hit Movie', 'Average Movie', 'Hit Movie', 'Hit Movie',\n",
       "       'Hit Movie', 'Hit Movie', 'Hit Movie', 'Hit Movie', 'Hit Movie',\n",
       "       'Hit Movie', 'Average Movie', 'Hit Movie', 'Hit Movie',\n",
       "       'Hit Movie', 'Hit Movie', 'Hit Movie', 'Hit Movie', 'Hit Movie',\n",
       "       'Hit Movie', 'Average Movie', 'Hit Movie', 'Hit Movie',\n",
       "       'Hit Movie', 'Hit Movie', 'Average Movie', 'Hit Movie',\n",
       "       'Hit Movie', 'Average Movie', 'Average Movie', 'Hit Movie',\n",
       "       'Hit Movie', 'Hit Movie', 'Hit Movie', 'Average Movie',\n",
       "       'Hit Movie', 'Average Movie', 'Average Movie', 'Hit Movie',\n",
       "       'Average Movie', 'Hit Movie', 'Hit Movie', 'Hit Movie',\n",
       "       'Hit Movie', 'Average Movie', 'Hit Movie', 'Hit Movie',\n",
       "       'Hit Movie', 'Hit Movie', 'Average Movie', 'Hit Movie',\n",
       "       'Hit Movie', 'Hit Movie', 'Hit Movie', 'Hit Movie',\n",
       "       'Average Movie', 'Hit Movie', 'Hit Movie', 'Average Movie',\n",
       "       'Average Movie', 'Hit Movie', 'Hit Movie', 'Hit Movie',\n",
       "       'Hit Movie', 'Hit Movie', 'Hit Movie', 'Hit Movie', 'Hit Movie',\n",
       "       'Hit Movie', 'Hit Movie', 'Hit Movie', 'Average Movie',\n",
       "       'Average Movie', 'Average Movie', 'Hit Movie', 'Hit Movie',\n",
       "       'Hit Movie', 'Average Movie', 'Average Movie', 'Hit Movie',\n",
       "       'Hit Movie', 'Hit Movie', 'Average Movie', 'Hit Movie',\n",
       "       'Average Movie', 'Average Movie', 'Hit Movie', 'Hit Movie',\n",
       "       'Hit Movie', 'Hit Movie', 'Hit Movie', 'Hit Movie',\n",
       "       'Average Movie', 'Hit Movie', 'Hit Movie', 'Hit Movie',\n",
       "       'Average Movie', 'Hit Movie', 'Hit Movie', 'Hit Movie',\n",
       "       'Hit Movie', 'Hit Movie', 'Hit Movie', 'Hit Movie',\n",
       "       'Average Movie', 'Average Movie', 'Hit Movie', 'Hit Movie',\n",
       "       'Hit Movie', 'Hit Movie', 'Hit Movie', 'Hit Movie', 'Hit Movie',\n",
       "       'Hit Movie', 'Average Movie', 'Hit Movie', 'Average Movie',\n",
       "       'Average Movie', 'Hit Movie', 'Hit Movie', 'Hit Movie',\n",
       "       'Hit Movie', 'Hit Movie', 'Average Movie', 'Hit Movie',\n",
       "       'Hit Movie', 'Average Movie', 'Hit Movie', 'Hit Movie',\n",
       "       'Hit Movie', 'Average Movie', 'Hit Movie', 'Hit Movie',\n",
       "       'Average Movie', 'Average Movie', 'Hit Movie', 'Average Movie',\n",
       "       'Hit Movie', 'Average Movie', 'Hit Movie', 'Average Movie',\n",
       "       'Hit Movie', 'Hit Movie', 'Average Movie', 'Hit Movie',\n",
       "       'Hit Movie', 'Hit Movie', 'Average Movie', 'Hit Movie',\n",
       "       'Hit Movie', 'Hit Movie', 'Hit Movie', 'Hit Movie', 'Hit Movie',\n",
       "       'Hit Movie', 'Hit Movie', 'Average Movie', 'Average Movie',\n",
       "       'Hit Movie', 'Average Movie', 'Hit Movie', 'Hit Movie',\n",
       "       'Hit Movie', 'Hit Movie', 'Average Movie', 'Hit Movie',\n",
       "       'Average Movie', 'Average Movie', 'Average Movie', 'Hit Movie',\n",
       "       'Hit Movie', 'Hit Movie', 'Average Movie', 'Hit Movie',\n",
       "       'Hit Movie', 'Hit Movie', 'Average Movie', 'Average Movie',\n",
       "       'Average Movie', 'Hit Movie', 'Hit Movie', 'Hit Movie',\n",
       "       'Average Movie', 'Average Movie', 'Average Movie', 'Hit Movie',\n",
       "       'Hit Movie', 'Hit Movie', 'Hit Movie', 'Average Movie',\n",
       "       'Average Movie', 'Average Movie', 'Hit Movie', 'Average Movie',\n",
       "       'Hit Movie', 'Hit Movie', 'Hit Movie', 'Hit Movie', 'Hit Movie',\n",
       "       'Hit Movie', 'Hit Movie', 'Hit Movie', 'Hit Movie', 'Hit Movie',\n",
       "       'Hit Movie', 'Hit Movie', 'Hit Movie', 'Average Movie',\n",
       "       'Hit Movie', 'Hit Movie', 'Hit Movie', 'Hit Movie', 'Hit Movie',\n",
       "       'Hit Movie', 'Average Movie', 'Hit Movie', 'Hit Movie',\n",
       "       'Hit Movie', 'Hit Movie', 'Hit Movie', 'Average Movie',\n",
       "       'Hit Movie', 'Average Movie', 'Hit Movie', 'Average Movie',\n",
       "       'Hit Movie', 'Hit Movie', 'Hit Movie', 'Hit Movie', 'Hit Movie',\n",
       "       'Hit Movie', 'Hit Movie', 'Hit Movie', 'Hit Movie', 'Hit Movie',\n",
       "       'Hit Movie', 'Hit Movie', 'Hit Movie', 'Hit Movie', 'Hit Movie',\n",
       "       'Hit Movie', 'Hit Movie', 'Hit Movie', 'Hit Movie', 'Hit Movie',\n",
       "       'Hit Movie', 'Hit Movie', 'Hit Movie', 'Hit Movie', 'Hit Movie',\n",
       "       'Average Movie', 'Hit Movie', 'Average Movie', 'Hit Movie',\n",
       "       'Hit Movie', 'Average Movie', 'Hit Movie', 'Hit Movie',\n",
       "       'Average Movie', 'Hit Movie', 'Hit Movie', 'Hit Movie',\n",
       "       'Hit Movie', 'Hit Movie', 'Hit Movie'], dtype=object)"
      ]
     },
     "execution_count": 177,
     "metadata": {},
     "output_type": "execute_result"
    }
   ],
   "source": [
    "y_svc_linear_pred"
   ]
  },
  {
   "cell_type": "code",
   "execution_count": 178,
   "id": "27d881df",
   "metadata": {},
   "outputs": [
    {
     "name": "stdout",
     "output_type": "stream",
     "text": [
      "Misclassified samples: 181\n",
      "Accuracy: 0.76\n",
      "Precision: 0.47\n",
      "Recall: 0.45\n",
      "F1 score: 0.46\n"
     ]
    },
    {
     "name": "stderr",
     "output_type": "stream",
     "text": [
      "E:\\anaconda3\\envs\\pythoncourse\\lib\\site-packages\\sklearn\\metrics\\_classification.py:1318: UndefinedMetricWarning: Precision is ill-defined and being set to 0.0 in labels with no predicted samples. Use `zero_division` parameter to control this behavior.\n",
      "  _warn_prf(average, modifier, msg_start, len(result))\n"
     ]
    }
   ],
   "source": [
    "from sklearn import metrics\n",
    "count_misclassified = (y_test_classification != y_svc_linear_pred).sum()\n",
    "print('Misclassified samples: {}'.format(count_misclassified))\n",
    "accuracy = metrics.accuracy_score(y_test_classification, y_svc_linear_pred)\n",
    "print('Accuracy: {:.2f}'.format(accuracy))\n",
    "precision = metrics.precision_score(y_test_classification, y_svc_linear_pred, average= 'macro')\n",
    "print('Precision: {:.2f}'.format(precision))\n",
    "recall = metrics.recall_score(y_test_classification, y_svc_linear_pred, average= 'macro')\n",
    "print('Recall: {:.2f}'.format(recall))\n",
    "f1_score = metrics.f1_score(y_test_classification, y_svc_linear_pred, average = 'macro')\n",
    "print('F1 score: {:.2f}'.format(f1_score))"
   ]
  },
  {
   "cell_type": "code",
   "execution_count": 179,
   "id": "7ef72782",
   "metadata": {},
   "outputs": [],
   "source": [
    "from sklearn.svm import SVC\n",
    "svc_poly_model = SVC(kernel='poly', C=100, gamma= 'scale', degree = 3, decision_function_shape='ovo', random_state = 42)"
   ]
  },
  {
   "cell_type": "code",
   "execution_count": 180,
   "id": "6d1972d2",
   "metadata": {},
   "outputs": [],
   "source": [
    "svc_poly_model.fit(X_train_rfe_classification, y_train_classification)\n",
    "y_svc_poly_pred = svc_poly_model.predict(X_test_rfe_classification)"
   ]
  },
  {
   "cell_type": "code",
   "execution_count": 181,
   "id": "6e605d04",
   "metadata": {},
   "outputs": [
    {
     "data": {
      "text/plain": [
       "array(['Hit Movie', 'Hit Movie', 'Hit Movie', 'Average Movie',\n",
       "       'Hit Movie', 'Hit Movie', 'Hit Movie', 'Average Movie',\n",
       "       'Hit Movie', 'Hit Movie', 'Average Movie', 'Hit Movie',\n",
       "       'Average Movie', 'Hit Movie', 'Hit Movie', 'Hit Movie',\n",
       "       'Hit Movie', 'Hit Movie', 'Hit Movie', 'Hit Movie', 'Hit Movie',\n",
       "       'Hit Movie', 'Hit Movie', 'Hit Movie', 'Average Movie',\n",
       "       'Hit Movie', 'Hit Movie', 'Hit Movie', 'Hit Movie', 'Hit Movie',\n",
       "       'Hit Movie', 'Hit Movie', 'Hit Movie', 'Hit Movie',\n",
       "       'Average Movie', 'Average Movie', 'Hit Movie', 'Hit Movie',\n",
       "       'Hit Movie', 'Hit Movie', 'Hit Movie', 'Hit Movie', 'Hit Movie',\n",
       "       'Hit Movie', 'Average Movie', 'Average Movie', 'Hit Movie',\n",
       "       'Average Movie', 'Hit Movie', 'Average Movie', 'Hit Movie',\n",
       "       'Hit Movie', 'Average Movie', 'Average Movie', 'Hit Movie',\n",
       "       'Hit Movie', 'Hit Movie', 'Hit Movie', 'Hit Movie', 'Hit Movie',\n",
       "       'Hit Movie', 'Hit Movie', 'Hit Movie', 'Hit Movie', 'Hit Movie',\n",
       "       'Hit Movie', 'Hit Movie', 'Average Movie', 'Hit Movie',\n",
       "       'Hit Movie', 'Hit Movie', 'Hit Movie', 'Hit Movie', 'Hit Movie',\n",
       "       'Hit Movie', 'Hit Movie', 'Hit Movie', 'Average Movie',\n",
       "       'Hit Movie', 'Average Movie', 'Hit Movie', 'Hit Movie',\n",
       "       'Average Movie', 'Hit Movie', 'Hit Movie', 'Hit Movie',\n",
       "       'Hit Movie', 'Hit Movie', 'Average Movie', 'Hit Movie',\n",
       "       'Hit Movie', 'Hit Movie', 'Hit Movie', 'Hit Movie', 'Hit Movie',\n",
       "       'Hit Movie', 'Average Movie', 'Hit Movie', 'Hit Movie',\n",
       "       'Hit Movie', 'Average Movie', 'Hit Movie', 'Hit Movie',\n",
       "       'Hit Movie', 'Hit Movie', 'Hit Movie', 'Hit Movie', 'Hit Movie',\n",
       "       'Hit Movie', 'Hit Movie', 'Hit Movie', 'Hit Movie', 'Hit Movie',\n",
       "       'Average Movie', 'Hit Movie', 'Average Movie', 'Average Movie',\n",
       "       'Hit Movie', 'Hit Movie', 'Average Movie', 'Hit Movie',\n",
       "       'Average Movie', 'Average Movie', 'Hit Movie', 'Hit Movie',\n",
       "       'Hit Movie', 'Hit Movie', 'Average Movie', 'Average Movie',\n",
       "       'Average Movie', 'Hit Movie', 'Hit Movie', 'Hit Movie',\n",
       "       'Hit Movie', 'Hit Movie', 'Average Movie', 'Average Movie',\n",
       "       'Hit Movie', 'Hit Movie', 'Hit Movie', 'Average Movie',\n",
       "       'Hit Movie', 'Hit Movie', 'Average Movie', 'Hit Movie',\n",
       "       'Hit Movie', 'Hit Movie', 'Hit Movie', 'Average Movie',\n",
       "       'Average Movie', 'Hit Movie', 'Hit Movie', 'Hit Movie',\n",
       "       'Average Movie', 'Average Movie', 'Hit Movie', 'Hit Movie',\n",
       "       'Average Movie', 'Hit Movie', 'Hit Movie', 'Hit Movie',\n",
       "       'Hit Movie', 'Hit Movie', 'Hit Movie', 'Hit Movie', 'Hit Movie',\n",
       "       'Average Movie', 'Hit Movie', 'Hit Movie', 'Hit Movie',\n",
       "       'Average Movie', 'Hit Movie', 'Hit Movie', 'Hit Movie',\n",
       "       'Hit Movie', 'Hit Movie', 'Hit Movie', 'Hit Movie', 'Hit Movie',\n",
       "       'Hit Movie', 'Hit Movie', 'Average Movie', 'Hit Movie',\n",
       "       'Average Movie', 'Hit Movie', 'Average Movie', 'Hit Movie',\n",
       "       'Hit Movie', 'Hit Movie', 'Hit Movie', 'Hit Movie', 'Hit Movie',\n",
       "       'Average Movie', 'Average Movie', 'Hit Movie', 'Hit Movie',\n",
       "       'Average Movie', 'Hit Movie', 'Hit Movie', 'Average Movie',\n",
       "       'Hit Movie', 'Hit Movie', 'Hit Movie', 'Hit Movie', 'Hit Movie',\n",
       "       'Hit Movie', 'Hit Movie', 'Average Movie', 'Average Movie',\n",
       "       'Hit Movie', 'Hit Movie', 'Hit Movie', 'Hit Movie', 'Hit Movie',\n",
       "       'Average Movie', 'Hit Movie', 'Hit Movie', 'Hit Movie',\n",
       "       'Hit Movie', 'Hit Movie', 'Hit Movie', 'Average Movie',\n",
       "       'Hit Movie', 'Hit Movie', 'Hit Movie', 'Hit Movie', 'Hit Movie',\n",
       "       'Hit Movie', 'Hit Movie', 'Hit Movie', 'Hit Movie', 'Hit Movie',\n",
       "       'Hit Movie', 'Average Movie', 'Hit Movie', 'Hit Movie',\n",
       "       'Hit Movie', 'Hit Movie', 'Hit Movie', 'Hit Movie', 'Hit Movie',\n",
       "       'Hit Movie', 'Hit Movie', 'Hit Movie', 'Hit Movie',\n",
       "       'Average Movie', 'Hit Movie', 'Hit Movie', 'Hit Movie',\n",
       "       'Average Movie', 'Hit Movie', 'Hit Movie', 'Hit Movie',\n",
       "       'Average Movie', 'Hit Movie', 'Hit Movie', 'Hit Movie',\n",
       "       'Hit Movie', 'Hit Movie', 'Hit Movie', 'Hit Movie', 'Hit Movie',\n",
       "       'Hit Movie', 'Average Movie', 'Average Movie', 'Hit Movie',\n",
       "       'Average Movie', 'Hit Movie', 'Hit Movie', 'Hit Movie',\n",
       "       'Average Movie', 'Hit Movie', 'Average Movie', 'Hit Movie',\n",
       "       'Average Movie', 'Hit Movie', 'Hit Movie', 'Average Movie',\n",
       "       'Hit Movie', 'Hit Movie', 'Hit Movie', 'Average Movie',\n",
       "       'Hit Movie', 'Average Movie', 'Hit Movie', 'Average Movie',\n",
       "       'Average Movie', 'Hit Movie', 'Average Movie', 'Average Movie',\n",
       "       'Hit Movie', 'Hit Movie', 'Hit Movie', 'Hit Movie', 'Hit Movie',\n",
       "       'Hit Movie', 'Hit Movie', 'Hit Movie', 'Hit Movie', 'Hit Movie',\n",
       "       'Hit Movie', 'Hit Movie', 'Hit Movie', 'Hit Movie',\n",
       "       'Average Movie', 'Hit Movie', 'Hit Movie', 'Hit Movie',\n",
       "       'Hit Movie', 'Hit Movie', 'Hit Movie', 'Hit Movie', 'Hit Movie',\n",
       "       'Hit Movie', 'Hit Movie', 'Hit Movie', 'Hit Movie', 'Hit Movie',\n",
       "       'Hit Movie', 'Average Movie', 'Hit Movie', 'Average Movie',\n",
       "       'Hit Movie', 'Hit Movie', 'Hit Movie', 'Average Movie',\n",
       "       'Hit Movie', 'Hit Movie', 'Hit Movie', 'Hit Movie', 'Hit Movie',\n",
       "       'Hit Movie', 'Hit Movie', 'Average Movie', 'Hit Movie',\n",
       "       'Average Movie', 'Hit Movie', 'Hit Movie', 'Hit Movie',\n",
       "       'Hit Movie', 'Average Movie', 'Hit Movie', 'Hit Movie',\n",
       "       'Average Movie', 'Hit Movie', 'Hit Movie', 'Hit Movie',\n",
       "       'Average Movie', 'Average Movie', 'Hit Movie', 'Hit Movie',\n",
       "       'Average Movie', 'Hit Movie', 'Average Movie', 'Hit Movie',\n",
       "       'Hit Movie', 'Hit Movie', 'Hit Movie', 'Hit Movie', 'Hit Movie',\n",
       "       'Hit Movie', 'Hit Movie', 'Average Movie', 'Hit Movie',\n",
       "       'Hit Movie', 'Hit Movie', 'Hit Movie', 'Hit Movie', 'Hit Movie',\n",
       "       'Hit Movie', 'Average Movie', 'Hit Movie', 'Hit Movie',\n",
       "       'Average Movie', 'Hit Movie', 'Hit Movie', 'Hit Movie',\n",
       "       'Average Movie', 'Hit Movie', 'Hit Movie', 'Hit Movie',\n",
       "       'Hit Movie', 'Hit Movie', 'Hit Movie', 'Hit Movie', 'Hit Movie',\n",
       "       'Hit Movie', 'Hit Movie', 'Hit Movie', 'Hit Movie',\n",
       "       'Average Movie', 'Hit Movie', 'Hit Movie', 'Average Movie',\n",
       "       'Average Movie', 'Average Movie', 'Average Movie', 'Hit Movie',\n",
       "       'Hit Movie', 'Hit Movie', 'Average Movie', 'Hit Movie',\n",
       "       'Hit Movie', 'Hit Movie', 'Hit Movie', 'Average Movie',\n",
       "       'Hit Movie', 'Average Movie', 'Hit Movie', 'Average Movie',\n",
       "       'Hit Movie', 'Hit Movie', 'Average Movie', 'Hit Movie',\n",
       "       'Hit Movie', 'Average Movie', 'Hit Movie', 'Hit Movie',\n",
       "       'Hit Movie', 'Hit Movie', 'Average Movie', 'Average Movie',\n",
       "       'Hit Movie', 'Average Movie', 'Hit Movie', 'Hit Movie',\n",
       "       'Hit Movie', 'Hit Movie', 'Hit Movie', 'Average Movie',\n",
       "       'Hit Movie', 'Average Movie', 'Average Movie', 'Hit Movie',\n",
       "       'Average Movie', 'Hit Movie', 'Hit Movie', 'Hit Movie',\n",
       "       'Average Movie', 'Hit Movie', 'Hit Movie', 'Hit Movie',\n",
       "       'Hit Movie', 'Average Movie', 'Average Movie', 'Average Movie',\n",
       "       'Hit Movie', 'Average Movie', 'Hit Movie', 'Average Movie',\n",
       "       'Hit Movie', 'Hit Movie', 'Hit Movie', 'Hit Movie',\n",
       "       'Average Movie', 'Hit Movie', 'Hit Movie', 'Average Movie',\n",
       "       'Hit Movie', 'Average Movie', 'Hit Movie', 'Hit Movie',\n",
       "       'Hit Movie', 'Hit Movie', 'Hit Movie', 'Hit Movie', 'Hit Movie',\n",
       "       'Hit Movie', 'Hit Movie', 'Hit Movie', 'Hit Movie', 'Hit Movie',\n",
       "       'Hit Movie', 'Hit Movie', 'Hit Movie', 'Hit Movie', 'Hit Movie',\n",
       "       'Hit Movie', 'Hit Movie', 'Hit Movie', 'Average Movie',\n",
       "       'Hit Movie', 'Hit Movie', 'Hit Movie', 'Hit Movie', 'Hit Movie',\n",
       "       'Hit Movie', 'Hit Movie', 'Hit Movie', 'Average Movie',\n",
       "       'Average Movie', 'Hit Movie', 'Average Movie', 'Average Movie',\n",
       "       'Hit Movie', 'Hit Movie', 'Hit Movie', 'Hit Movie', 'Hit Movie',\n",
       "       'Hit Movie', 'Hit Movie', 'Average Movie', 'Hit Movie',\n",
       "       'Hit Movie', 'Hit Movie', 'Hit Movie', 'Hit Movie', 'Hit Movie',\n",
       "       'Hit Movie', 'Average Movie', 'Hit Movie', 'Hit Movie',\n",
       "       'Hit Movie', 'Hit Movie', 'Hit Movie', 'Hit Movie', 'Hit Movie',\n",
       "       'Hit Movie', 'Hit Movie', 'Hit Movie', 'Hit Movie', 'Hit Movie',\n",
       "       'Hit Movie', 'Hit Movie', 'Average Movie', 'Hit Movie',\n",
       "       'Hit Movie', 'Average Movie', 'Average Movie', 'Hit Movie',\n",
       "       'Hit Movie', 'Hit Movie', 'Average Movie', 'Average Movie',\n",
       "       'Hit Movie', 'Average Movie', 'Average Movie', 'Hit Movie',\n",
       "       'Average Movie', 'Hit Movie', 'Hit Movie', 'Hit Movie',\n",
       "       'Hit Movie', 'Hit Movie', 'Hit Movie', 'Average Movie',\n",
       "       'Hit Movie', 'Hit Movie', 'Hit Movie', 'Hit Movie', 'Hit Movie',\n",
       "       'Hit Movie', 'Hit Movie', 'Hit Movie', 'Average Movie',\n",
       "       'Hit Movie', 'Hit Movie', 'Hit Movie', 'Hit Movie', 'Hit Movie',\n",
       "       'Hit Movie', 'Hit Movie', 'Hit Movie', 'Hit Movie',\n",
       "       'Average Movie', 'Hit Movie', 'Hit Movie', 'Hit Movie',\n",
       "       'Hit Movie', 'Hit Movie', 'Average Movie', 'Average Movie',\n",
       "       'Average Movie', 'Hit Movie', 'Hit Movie', 'Hit Movie',\n",
       "       'Hit Movie', 'Average Movie', 'Hit Movie', 'Hit Movie',\n",
       "       'Hit Movie', 'Average Movie', 'Average Movie', 'Hit Movie',\n",
       "       'Average Movie', 'Hit Movie', 'Average Movie', 'Average Movie',\n",
       "       'Hit Movie', 'Hit Movie', 'Hit Movie', 'Average Movie',\n",
       "       'Hit Movie', 'Hit Movie', 'Hit Movie', 'Average Movie',\n",
       "       'Hit Movie', 'Hit Movie', 'Hit Movie', 'Hit Movie', 'Hit Movie',\n",
       "       'Hit Movie', 'Hit Movie', 'Average Movie', 'Average Movie',\n",
       "       'Hit Movie', 'Hit Movie', 'Hit Movie', 'Hit Movie', 'Hit Movie',\n",
       "       'Average Movie', 'Hit Movie', 'Hit Movie', 'Hit Movie',\n",
       "       'Hit Movie', 'Hit Movie', 'Average Movie', 'Hit Movie',\n",
       "       'Hit Movie', 'Hit Movie', 'Hit Movie', 'Hit Movie', 'Hit Movie',\n",
       "       'Hit Movie', 'Hit Movie', 'Average Movie', 'Hit Movie',\n",
       "       'Hit Movie', 'Hit Movie', 'Average Movie', 'Hit Movie',\n",
       "       'Hit Movie', 'Average Movie', 'Average Movie', 'Hit Movie',\n",
       "       'Average Movie', 'Hit Movie', 'Average Movie', 'Hit Movie',\n",
       "       'Average Movie', 'Hit Movie', 'Hit Movie', 'Average Movie',\n",
       "       'Hit Movie', 'Hit Movie', 'Hit Movie', 'Hit Movie', 'Hit Movie',\n",
       "       'Hit Movie', 'Hit Movie', 'Hit Movie', 'Hit Movie', 'Hit Movie',\n",
       "       'Hit Movie', 'Hit Movie', 'Average Movie', 'Average Movie',\n",
       "       'Hit Movie', 'Average Movie', 'Hit Movie', 'Hit Movie',\n",
       "       'Hit Movie', 'Average Movie', 'Average Movie', 'Hit Movie',\n",
       "       'Average Movie', 'Average Movie', 'Average Movie', 'Hit Movie',\n",
       "       'Hit Movie', 'Hit Movie', 'Average Movie', 'Hit Movie',\n",
       "       'Hit Movie', 'Hit Movie', 'Average Movie', 'Average Movie',\n",
       "       'Average Movie', 'Hit Movie', 'Average Movie', 'Hit Movie',\n",
       "       'Average Movie', 'Hit Movie', 'Average Movie', 'Hit Movie',\n",
       "       'Hit Movie', 'Average Movie', 'Hit Movie', 'Average Movie',\n",
       "       'Average Movie', 'Hit Movie', 'Hit Movie', 'Hit Movie',\n",
       "       'Hit Movie', 'Hit Movie', 'Hit Movie', 'Hit Movie', 'Hit Movie',\n",
       "       'Hit Movie', 'Average Movie', 'Hit Movie', 'Hit Movie',\n",
       "       'Hit Movie', 'Hit Movie', 'Hit Movie', 'Hit Movie',\n",
       "       'Average Movie', 'Hit Movie', 'Hit Movie', 'Hit Movie',\n",
       "       'Hit Movie', 'Hit Movie', 'Hit Movie', 'Average Movie',\n",
       "       'Hit Movie', 'Hit Movie', 'Hit Movie', 'Hit Movie', 'Hit Movie',\n",
       "       'Average Movie', 'Hit Movie', 'Average Movie', 'Hit Movie',\n",
       "       'Average Movie', 'Hit Movie', 'Hit Movie', 'Hit Movie',\n",
       "       'Hit Movie', 'Hit Movie', 'Hit Movie', 'Hit Movie', 'Hit Movie',\n",
       "       'Hit Movie', 'Hit Movie', 'Hit Movie', 'Hit Movie', 'Hit Movie',\n",
       "       'Hit Movie', 'Hit Movie', 'Hit Movie', 'Hit Movie', 'Hit Movie',\n",
       "       'Hit Movie', 'Hit Movie', 'Hit Movie', 'Average Movie',\n",
       "       'Hit Movie', 'Average Movie', 'Hit Movie', 'Average Movie',\n",
       "       'Hit Movie', 'Hit Movie', 'Average Movie', 'Hit Movie',\n",
       "       'Average Movie', 'Hit Movie', 'Hit Movie', 'Average Movie',\n",
       "       'Hit Movie', 'Hit Movie', 'Average Movie', 'Hit Movie',\n",
       "       'Hit Movie', 'Hit Movie'], dtype=object)"
      ]
     },
     "execution_count": 181,
     "metadata": {},
     "output_type": "execute_result"
    }
   ],
   "source": [
    "y_svc_poly_pred"
   ]
  },
  {
   "cell_type": "code",
   "execution_count": 182,
   "id": "ea493c5f",
   "metadata": {},
   "outputs": [
    {
     "name": "stdout",
     "output_type": "stream",
     "text": [
      "Misclassified samples: 143\n",
      "Accuracy: 0.81\n",
      "Precision: 0.52\n",
      "Recall: 0.50\n",
      "F1 score: 0.51\n"
     ]
    },
    {
     "name": "stderr",
     "output_type": "stream",
     "text": [
      "E:\\anaconda3\\envs\\pythoncourse\\lib\\site-packages\\sklearn\\metrics\\_classification.py:1318: UndefinedMetricWarning: Precision is ill-defined and being set to 0.0 in labels with no predicted samples. Use `zero_division` parameter to control this behavior.\n",
      "  _warn_prf(average, modifier, msg_start, len(result))\n"
     ]
    }
   ],
   "source": [
    "from sklearn import metrics\n",
    "count_misclassified = (y_test_classification != y_svc_poly_pred).sum()\n",
    "print('Misclassified samples: {}'.format(count_misclassified))\n",
    "accuracy = metrics.accuracy_score(y_test_classification, y_svc_poly_pred)\n",
    "print('Accuracy: {:.2f}'.format(accuracy))\n",
    "precision = metrics.precision_score(y_test_classification, y_svc_poly_pred, average= 'macro')\n",
    "print('Precision: {:.2f}'.format(precision))\n",
    "recall = metrics.recall_score(y_test_classification, y_svc_poly_pred, average= 'macro')\n",
    "print('Recall: {:.2f}'.format(recall))\n",
    "f1_score = metrics.f1_score(y_test_classification, y_svc_poly_pred, average = 'macro')\n",
    "print('F1 score: {:.2f}'.format(f1_score))"
   ]
  },
  {
   "cell_type": "code",
   "execution_count": 183,
   "id": "e86782df",
   "metadata": {},
   "outputs": [],
   "source": [
    "from sklearn.svm import SVC\n",
    "svc_rbf_model = SVC(kernel='rbf', C=100, gamma= 'scale', decision_function_shape='ovo', random_state = 42)"
   ]
  },
  {
   "cell_type": "code",
   "execution_count": 184,
   "id": "2a380115",
   "metadata": {},
   "outputs": [],
   "source": [
    "svc_rbf_model.fit(X_train_rfe_classification, y_train_classification)\n",
    "y_svc_rbf_pred = svc_rbf_model.predict(X_test_rfe_classification)"
   ]
  },
  {
   "cell_type": "code",
   "execution_count": 185,
   "id": "2154e212",
   "metadata": {},
   "outputs": [
    {
     "data": {
      "text/plain": [
       "array(['Hit Movie', 'Hit Movie', 'Hit Movie', 'Average Movie',\n",
       "       'Hit Movie', 'Hit Movie', 'Hit Movie', 'Average Movie',\n",
       "       'Hit Movie', 'Hit Movie', 'Average Movie', 'Hit Movie',\n",
       "       'Average Movie', 'Hit Movie', 'Hit Movie', 'Hit Movie',\n",
       "       'Hit Movie', 'Hit Movie', 'Hit Movie', 'Hit Movie', 'Hit Movie',\n",
       "       'Hit Movie', 'Hit Movie', 'Hit Movie', 'Average Movie',\n",
       "       'Hit Movie', 'Hit Movie', 'Hit Movie', 'Hit Movie', 'Hit Movie',\n",
       "       'Hit Movie', 'Hit Movie', 'Hit Movie', 'Hit Movie',\n",
       "       'Average Movie', 'Average Movie', 'Hit Movie', 'Hit Movie',\n",
       "       'Hit Movie', 'Hit Movie', 'Hit Movie', 'Hit Movie',\n",
       "       'Average Movie', 'Hit Movie', 'Average Movie', 'Average Movie',\n",
       "       'Hit Movie', 'Average Movie', 'Hit Movie', 'Average Movie',\n",
       "       'Hit Movie', 'Hit Movie', 'Average Movie', 'Average Movie',\n",
       "       'Hit Movie', 'Hit Movie', 'Hit Movie', 'Hit Movie', 'Hit Movie',\n",
       "       'Hit Movie', 'Hit Movie', 'Hit Movie', 'Hit Movie', 'Hit Movie',\n",
       "       'Hit Movie', 'Hit Movie', 'Hit Movie', 'Average Movie',\n",
       "       'Hit Movie', 'Hit Movie', 'Hit Movie', 'Hit Movie',\n",
       "       'Average Movie', 'Hit Movie', 'Hit Movie', 'Hit Movie',\n",
       "       'Hit Movie', 'Average Movie', 'Hit Movie', 'Average Movie',\n",
       "       'Hit Movie', 'Hit Movie', 'Average Movie', 'Hit Movie',\n",
       "       'Hit Movie', 'Hit Movie', 'Hit Movie', 'Hit Movie',\n",
       "       'Average Movie', 'Hit Movie', 'Hit Movie', 'Hit Movie',\n",
       "       'Hit Movie', 'Hit Movie', 'Hit Movie', 'Hit Movie',\n",
       "       'Average Movie', 'Hit Movie', 'Hit Movie', 'Hit Movie',\n",
       "       'Average Movie', 'Hit Movie', 'Hit Movie', 'Hit Movie',\n",
       "       'Hit Movie', 'Hit Movie', 'Hit Movie', 'Hit Movie', 'Hit Movie',\n",
       "       'Hit Movie', 'Hit Movie', 'Hit Movie', 'Hit Movie',\n",
       "       'Average Movie', 'Hit Movie', 'Average Movie', 'Average Movie',\n",
       "       'Hit Movie', 'Hit Movie', 'Average Movie', 'Hit Movie',\n",
       "       'Average Movie', 'Average Movie', 'Hit Movie', 'Hit Movie',\n",
       "       'Hit Movie', 'Hit Movie', 'Average Movie', 'Average Movie',\n",
       "       'Average Movie', 'Hit Movie', 'Hit Movie', 'Hit Movie',\n",
       "       'Hit Movie', 'Hit Movie', 'Average Movie', 'Average Movie',\n",
       "       'Hit Movie', 'Hit Movie', 'Hit Movie', 'Average Movie',\n",
       "       'Hit Movie', 'Hit Movie', 'Average Movie', 'Hit Movie',\n",
       "       'Hit Movie', 'Hit Movie', 'Hit Movie', 'Average Movie',\n",
       "       'Average Movie', 'Hit Movie', 'Hit Movie', 'Hit Movie',\n",
       "       'Average Movie', 'Average Movie', 'Hit Movie', 'Hit Movie',\n",
       "       'Average Movie', 'Hit Movie', 'Hit Movie', 'Hit Movie',\n",
       "       'Hit Movie', 'Hit Movie', 'Hit Movie', 'Hit Movie', 'Hit Movie',\n",
       "       'Average Movie', 'Hit Movie', 'Hit Movie', 'Hit Movie',\n",
       "       'Average Movie', 'Hit Movie', 'Hit Movie', 'Hit Movie',\n",
       "       'Hit Movie', 'Hit Movie', 'Hit Movie', 'Hit Movie', 'Hit Movie',\n",
       "       'Hit Movie', 'Hit Movie', 'Average Movie', 'Hit Movie',\n",
       "       'Average Movie', 'Hit Movie', 'Average Movie', 'Hit Movie',\n",
       "       'Hit Movie', 'Hit Movie', 'Hit Movie', 'Hit Movie', 'Hit Movie',\n",
       "       'Average Movie', 'Average Movie', 'Hit Movie', 'Hit Movie',\n",
       "       'Average Movie', 'Hit Movie', 'Hit Movie', 'Average Movie',\n",
       "       'Hit Movie', 'Hit Movie', 'Hit Movie', 'Hit Movie', 'Hit Movie',\n",
       "       'Hit Movie', 'Hit Movie', 'Average Movie', 'Average Movie',\n",
       "       'Hit Movie', 'Hit Movie', 'Hit Movie', 'Hit Movie', 'Hit Movie',\n",
       "       'Average Movie', 'Hit Movie', 'Hit Movie', 'Hit Movie',\n",
       "       'Hit Movie', 'Hit Movie', 'Hit Movie', 'Average Movie',\n",
       "       'Hit Movie', 'Hit Movie', 'Hit Movie', 'Hit Movie', 'Hit Movie',\n",
       "       'Hit Movie', 'Hit Movie', 'Hit Movie', 'Hit Movie', 'Hit Movie',\n",
       "       'Hit Movie', 'Average Movie', 'Hit Movie', 'Hit Movie',\n",
       "       'Hit Movie', 'Hit Movie', 'Hit Movie', 'Hit Movie', 'Hit Movie',\n",
       "       'Hit Movie', 'Hit Movie', 'Hit Movie', 'Hit Movie',\n",
       "       'Average Movie', 'Hit Movie', 'Hit Movie', 'Hit Movie',\n",
       "       'Average Movie', 'Hit Movie', 'Hit Movie', 'Hit Movie',\n",
       "       'Average Movie', 'Average Movie', 'Hit Movie', 'Hit Movie',\n",
       "       'Hit Movie', 'Hit Movie', 'Hit Movie', 'Hit Movie', 'Hit Movie',\n",
       "       'Hit Movie', 'Average Movie', 'Average Movie', 'Hit Movie',\n",
       "       'Average Movie', 'Hit Movie', 'Hit Movie', 'Hit Movie',\n",
       "       'Average Movie', 'Hit Movie', 'Average Movie', 'Hit Movie',\n",
       "       'Average Movie', 'Hit Movie', 'Average Movie', 'Average Movie',\n",
       "       'Hit Movie', 'Hit Movie', 'Hit Movie', 'Average Movie',\n",
       "       'Hit Movie', 'Average Movie', 'Hit Movie', 'Average Movie',\n",
       "       'Average Movie', 'Hit Movie', 'Average Movie', 'Average Movie',\n",
       "       'Hit Movie', 'Hit Movie', 'Hit Movie', 'Hit Movie', 'Hit Movie',\n",
       "       'Hit Movie', 'Hit Movie', 'Hit Movie', 'Hit Movie', 'Hit Movie',\n",
       "       'Hit Movie', 'Hit Movie', 'Hit Movie', 'Hit Movie',\n",
       "       'Average Movie', 'Hit Movie', 'Hit Movie', 'Hit Movie',\n",
       "       'Hit Movie', 'Hit Movie', 'Hit Movie', 'Hit Movie', 'Hit Movie',\n",
       "       'Hit Movie', 'Hit Movie', 'Hit Movie', 'Hit Movie', 'Hit Movie',\n",
       "       'Hit Movie', 'Average Movie', 'Hit Movie', 'Average Movie',\n",
       "       'Hit Movie', 'Hit Movie', 'Hit Movie', 'Average Movie',\n",
       "       'Hit Movie', 'Hit Movie', 'Hit Movie', 'Hit Movie', 'Hit Movie',\n",
       "       'Hit Movie', 'Hit Movie', 'Average Movie', 'Hit Movie',\n",
       "       'Average Movie', 'Hit Movie', 'Hit Movie', 'Hit Movie',\n",
       "       'Average Movie', 'Average Movie', 'Hit Movie', 'Hit Movie',\n",
       "       'Average Movie', 'Hit Movie', 'Hit Movie', 'Hit Movie',\n",
       "       'Average Movie', 'Average Movie', 'Hit Movie', 'Hit Movie',\n",
       "       'Average Movie', 'Hit Movie', 'Average Movie', 'Hit Movie',\n",
       "       'Hit Movie', 'Hit Movie', 'Hit Movie', 'Hit Movie', 'Hit Movie',\n",
       "       'Hit Movie', 'Hit Movie', 'Average Movie', 'Hit Movie',\n",
       "       'Hit Movie', 'Hit Movie', 'Hit Movie', 'Hit Movie', 'Hit Movie',\n",
       "       'Hit Movie', 'Average Movie', 'Hit Movie', 'Hit Movie',\n",
       "       'Average Movie', 'Hit Movie', 'Hit Movie', 'Hit Movie',\n",
       "       'Average Movie', 'Hit Movie', 'Hit Movie', 'Hit Movie',\n",
       "       'Hit Movie', 'Hit Movie', 'Hit Movie', 'Hit Movie', 'Hit Movie',\n",
       "       'Hit Movie', 'Hit Movie', 'Hit Movie', 'Hit Movie',\n",
       "       'Average Movie', 'Hit Movie', 'Hit Movie', 'Average Movie',\n",
       "       'Average Movie', 'Average Movie', 'Average Movie', 'Hit Movie',\n",
       "       'Hit Movie', 'Hit Movie', 'Average Movie', 'Hit Movie',\n",
       "       'Hit Movie', 'Hit Movie', 'Hit Movie', 'Average Movie',\n",
       "       'Hit Movie', 'Average Movie', 'Hit Movie', 'Average Movie',\n",
       "       'Hit Movie', 'Hit Movie', 'Average Movie', 'Hit Movie',\n",
       "       'Hit Movie', 'Average Movie', 'Hit Movie', 'Hit Movie',\n",
       "       'Hit Movie', 'Hit Movie', 'Average Movie', 'Average Movie',\n",
       "       'Hit Movie', 'Average Movie', 'Hit Movie', 'Hit Movie',\n",
       "       'Hit Movie', 'Hit Movie', 'Hit Movie', 'Average Movie',\n",
       "       'Hit Movie', 'Average Movie', 'Average Movie', 'Hit Movie',\n",
       "       'Average Movie', 'Hit Movie', 'Hit Movie', 'Hit Movie',\n",
       "       'Average Movie', 'Hit Movie', 'Hit Movie', 'Hit Movie',\n",
       "       'Hit Movie', 'Average Movie', 'Average Movie', 'Average Movie',\n",
       "       'Hit Movie', 'Average Movie', 'Hit Movie', 'Average Movie',\n",
       "       'Hit Movie', 'Hit Movie', 'Hit Movie', 'Hit Movie',\n",
       "       'Average Movie', 'Hit Movie', 'Hit Movie', 'Average Movie',\n",
       "       'Hit Movie', 'Average Movie', 'Hit Movie', 'Hit Movie',\n",
       "       'Hit Movie', 'Hit Movie', 'Hit Movie', 'Hit Movie', 'Hit Movie',\n",
       "       'Hit Movie', 'Hit Movie', 'Hit Movie', 'Hit Movie', 'Hit Movie',\n",
       "       'Hit Movie', 'Hit Movie', 'Hit Movie', 'Hit Movie', 'Hit Movie',\n",
       "       'Hit Movie', 'Hit Movie', 'Hit Movie', 'Average Movie',\n",
       "       'Hit Movie', 'Hit Movie', 'Hit Movie', 'Hit Movie', 'Hit Movie',\n",
       "       'Hit Movie', 'Hit Movie', 'Hit Movie', 'Average Movie',\n",
       "       'Average Movie', 'Hit Movie', 'Hit Movie', 'Average Movie',\n",
       "       'Hit Movie', 'Hit Movie', 'Hit Movie', 'Hit Movie', 'Hit Movie',\n",
       "       'Hit Movie', 'Hit Movie', 'Average Movie', 'Hit Movie',\n",
       "       'Hit Movie', 'Hit Movie', 'Hit Movie', 'Hit Movie', 'Hit Movie',\n",
       "       'Hit Movie', 'Average Movie', 'Hit Movie', 'Hit Movie',\n",
       "       'Hit Movie', 'Hit Movie', 'Hit Movie', 'Hit Movie', 'Hit Movie',\n",
       "       'Hit Movie', 'Hit Movie', 'Average Movie', 'Hit Movie',\n",
       "       'Hit Movie', 'Hit Movie', 'Hit Movie', 'Average Movie',\n",
       "       'Hit Movie', 'Hit Movie', 'Average Movie', 'Average Movie',\n",
       "       'Hit Movie', 'Hit Movie', 'Hit Movie', 'Average Movie',\n",
       "       'Average Movie', 'Hit Movie', 'Hit Movie', 'Average Movie',\n",
       "       'Hit Movie', 'Average Movie', 'Hit Movie', 'Average Movie',\n",
       "       'Hit Movie', 'Hit Movie', 'Hit Movie', 'Hit Movie', 'Hit Movie',\n",
       "       'Hit Movie', 'Hit Movie', 'Hit Movie', 'Hit Movie', 'Hit Movie',\n",
       "       'Hit Movie', 'Hit Movie', 'Hit Movie', 'Average Movie',\n",
       "       'Hit Movie', 'Hit Movie', 'Hit Movie', 'Hit Movie', 'Hit Movie',\n",
       "       'Hit Movie', 'Hit Movie', 'Hit Movie', 'Hit Movie',\n",
       "       'Average Movie', 'Hit Movie', 'Hit Movie', 'Hit Movie',\n",
       "       'Hit Movie', 'Hit Movie', 'Average Movie', 'Average Movie',\n",
       "       'Average Movie', 'Hit Movie', 'Hit Movie', 'Hit Movie',\n",
       "       'Hit Movie', 'Average Movie', 'Hit Movie', 'Hit Movie',\n",
       "       'Hit Movie', 'Average Movie', 'Average Movie', 'Hit Movie',\n",
       "       'Average Movie', 'Hit Movie', 'Hit Movie', 'Average Movie',\n",
       "       'Hit Movie', 'Hit Movie', 'Hit Movie', 'Average Movie',\n",
       "       'Hit Movie', 'Hit Movie', 'Hit Movie', 'Average Movie',\n",
       "       'Hit Movie', 'Hit Movie', 'Hit Movie', 'Hit Movie', 'Hit Movie',\n",
       "       'Hit Movie', 'Hit Movie', 'Average Movie', 'Average Movie',\n",
       "       'Hit Movie', 'Hit Movie', 'Hit Movie', 'Hit Movie', 'Hit Movie',\n",
       "       'Average Movie', 'Hit Movie', 'Hit Movie', 'Hit Movie',\n",
       "       'Hit Movie', 'Average Movie', 'Average Movie', 'Hit Movie',\n",
       "       'Hit Movie', 'Hit Movie', 'Hit Movie', 'Hit Movie', 'Hit Movie',\n",
       "       'Hit Movie', 'Hit Movie', 'Average Movie', 'Hit Movie',\n",
       "       'Hit Movie', 'Average Movie', 'Average Movie', 'Hit Movie',\n",
       "       'Hit Movie', 'Average Movie', 'Average Movie', 'Hit Movie',\n",
       "       'Average Movie', 'Hit Movie', 'Average Movie', 'Hit Movie',\n",
       "       'Average Movie', 'Hit Movie', 'Hit Movie', 'Average Movie',\n",
       "       'Hit Movie', 'Hit Movie', 'Hit Movie', 'Hit Movie', 'Hit Movie',\n",
       "       'Hit Movie', 'Hit Movie', 'Hit Movie', 'Hit Movie', 'Hit Movie',\n",
       "       'Hit Movie', 'Hit Movie', 'Average Movie', 'Average Movie',\n",
       "       'Hit Movie', 'Average Movie', 'Hit Movie', 'Hit Movie',\n",
       "       'Hit Movie', 'Average Movie', 'Average Movie', 'Hit Movie',\n",
       "       'Average Movie', 'Average Movie', 'Average Movie', 'Hit Movie',\n",
       "       'Hit Movie', 'Hit Movie', 'Average Movie', 'Hit Movie',\n",
       "       'Hit Movie', 'Hit Movie', 'Average Movie', 'Average Movie',\n",
       "       'Average Movie', 'Hit Movie', 'Average Movie', 'Hit Movie',\n",
       "       'Average Movie', 'Hit Movie', 'Average Movie', 'Hit Movie',\n",
       "       'Hit Movie', 'Average Movie', 'Hit Movie', 'Average Movie',\n",
       "       'Average Movie', 'Hit Movie', 'Hit Movie', 'Hit Movie',\n",
       "       'Hit Movie', 'Hit Movie', 'Hit Movie', 'Hit Movie', 'Hit Movie',\n",
       "       'Hit Movie', 'Average Movie', 'Hit Movie', 'Hit Movie',\n",
       "       'Hit Movie', 'Hit Movie', 'Hit Movie', 'Hit Movie',\n",
       "       'Average Movie', 'Hit Movie', 'Hit Movie', 'Hit Movie',\n",
       "       'Hit Movie', 'Hit Movie', 'Hit Movie', 'Average Movie',\n",
       "       'Hit Movie', 'Hit Movie', 'Hit Movie', 'Hit Movie', 'Hit Movie',\n",
       "       'Average Movie', 'Hit Movie', 'Average Movie', 'Hit Movie',\n",
       "       'Average Movie', 'Hit Movie', 'Hit Movie', 'Hit Movie',\n",
       "       'Hit Movie', 'Hit Movie', 'Hit Movie', 'Hit Movie', 'Hit Movie',\n",
       "       'Hit Movie', 'Hit Movie', 'Hit Movie', 'Hit Movie', 'Hit Movie',\n",
       "       'Hit Movie', 'Hit Movie', 'Hit Movie', 'Hit Movie', 'Hit Movie',\n",
       "       'Hit Movie', 'Hit Movie', 'Hit Movie', 'Average Movie',\n",
       "       'Hit Movie', 'Average Movie', 'Hit Movie', 'Average Movie',\n",
       "       'Hit Movie', 'Hit Movie', 'Average Movie', 'Hit Movie',\n",
       "       'Average Movie', 'Hit Movie', 'Hit Movie', 'Average Movie',\n",
       "       'Hit Movie', 'Hit Movie', 'Average Movie', 'Hit Movie',\n",
       "       'Hit Movie', 'Hit Movie'], dtype=object)"
      ]
     },
     "execution_count": 185,
     "metadata": {},
     "output_type": "execute_result"
    }
   ],
   "source": [
    "y_svc_rbf_pred"
   ]
  },
  {
   "cell_type": "code",
   "execution_count": 186,
   "id": "a0adf845",
   "metadata": {},
   "outputs": [
    {
     "name": "stdout",
     "output_type": "stream",
     "text": [
      "Misclassified samples: 146\n",
      "Accuracy: 0.81\n",
      "Precision: 0.51\n",
      "Recall: 0.50\n",
      "F1 score: 0.50\n"
     ]
    },
    {
     "name": "stderr",
     "output_type": "stream",
     "text": [
      "E:\\anaconda3\\envs\\pythoncourse\\lib\\site-packages\\sklearn\\metrics\\_classification.py:1318: UndefinedMetricWarning: Precision is ill-defined and being set to 0.0 in labels with no predicted samples. Use `zero_division` parameter to control this behavior.\n",
      "  _warn_prf(average, modifier, msg_start, len(result))\n"
     ]
    }
   ],
   "source": [
    "from sklearn import metrics\n",
    "count_misclassified = (y_test_classification != y_svc_rbf_pred).sum()\n",
    "print('Misclassified samples: {}'.format(count_misclassified))\n",
    "accuracy = metrics.accuracy_score(y_test_classification, y_svc_rbf_pred)\n",
    "print('Accuracy: {:.2f}'.format(accuracy))\n",
    "precision = metrics.precision_score(y_test_classification, y_svc_rbf_pred, average= 'macro')\n",
    "print('Precision: {:.2f}'.format(precision))\n",
    "recall = metrics.recall_score(y_test_classification, y_svc_rbf_pred, average= 'macro')\n",
    "print('Recall: {:.2f}'.format(recall))\n",
    "f1_score = metrics.f1_score(y_test_classification, y_svc_rbf_pred, average = 'macro')\n",
    "print('F1 score: {:.2f}'.format(f1_score))"
   ]
  },
  {
   "cell_type": "markdown",
   "id": "f5cb9e08",
   "metadata": {},
   "source": [
    "# Ensemble Models"
   ]
  },
  {
   "cell_type": "code",
   "execution_count": 187,
   "id": "d1b0768b",
   "metadata": {},
   "outputs": [],
   "source": [
    "from sklearn.ensemble import RandomForestClassifier\n",
    "from sklearn.model_selection import GridSearchCV\n",
    "# Create the parameter grid based on the results of random search \n",
    "param_grid = {\n",
    "    'bootstrap': [True],\n",
    "    'max_depth': [90, 100],\n",
    "    'max_features': [2, 3],\n",
    "    'min_samples_leaf': [3, 4],\n",
    "    'min_samples_split': [8, 10],\n",
    "    'n_estimators': [100, 500, 1000],\n",
    "    'random_state' :[0]\n",
    "}\n",
    "# Create a based model\n",
    "rf_model_classification = RandomForestClassifier()\n",
    "# Instantiate the grid search model\n",
    "grid_search_rf_model_classificaiton = GridSearchCV(estimator = rf_model_classification, param_grid = param_grid, \n",
    "                          cv = 3, n_jobs = -1, verbose = 2)"
   ]
  },
  {
   "cell_type": "code",
   "execution_count": 188,
   "id": "dcd92e12",
   "metadata": {},
   "outputs": [
    {
     "name": "stdout",
     "output_type": "stream",
     "text": [
      "Fitting 3 folds for each of 48 candidates, totalling 144 fits\n"
     ]
    },
    {
     "data": {
      "text/plain": [
       "GridSearchCV(cv=3, estimator=RandomForestClassifier(), n_jobs=-1,\n",
       "             param_grid={'bootstrap': [True], 'max_depth': [90, 100],\n",
       "                         'max_features': [2, 3], 'min_samples_leaf': [3, 4],\n",
       "                         'min_samples_split': [8, 10],\n",
       "                         'n_estimators': [100, 500, 1000],\n",
       "                         'random_state': [0]},\n",
       "             verbose=2)"
      ]
     },
     "execution_count": 188,
     "metadata": {},
     "output_type": "execute_result"
    }
   ],
   "source": [
    "grid_search_rf_model_classificaiton.fit(X_train_rfe_classification, y_train_classification)"
   ]
  },
  {
   "cell_type": "code",
   "execution_count": 189,
   "id": "7ddd4835",
   "metadata": {},
   "outputs": [],
   "source": [
    "y_rf_classification_pred = grid_search_rf_model_classificaiton.predict(X_test_rfe_classification)"
   ]
  },
  {
   "cell_type": "code",
   "execution_count": 190,
   "id": "764c75ba",
   "metadata": {},
   "outputs": [
    {
     "data": {
      "text/plain": [
       "array(['Hit Movie', 'Hit Movie', 'Hit Movie', 'Average Movie',\n",
       "       'Hit Movie', 'Hit Movie', 'Average Movie', 'Average Movie',\n",
       "       'Hit Movie', 'Hit Movie', 'Average Movie', 'Hit Movie',\n",
       "       'Hit Movie', 'Hit Movie', 'Average Movie', 'Hit Movie',\n",
       "       'Hit Movie', 'Hit Movie', 'Hit Movie', 'Average Movie',\n",
       "       'Average Movie', 'Hit Movie', 'Hit Movie', 'Hit Movie',\n",
       "       'Hit Movie', 'Hit Movie', 'Hit Movie', 'Hit Movie', 'Hit Movie',\n",
       "       'Hit Movie', 'Hit Movie', 'Hit Movie', 'Average Movie',\n",
       "       'Hit Movie', 'Average Movie', 'Average Movie', 'Average Movie',\n",
       "       'Hit Movie', 'Hit Movie', 'Hit Movie', 'Hit Movie', 'Hit Movie',\n",
       "       'Hit Movie', 'Hit Movie', 'Hit Movie', 'Average Movie',\n",
       "       'Hit Movie', 'Hit Movie', 'Average Movie', 'Average Movie',\n",
       "       'Hit Movie', 'Hit Movie', 'Average Movie', 'Hit Movie',\n",
       "       'Hit Movie', 'Hit Movie', 'Hit Movie', 'Hit Movie', 'Hit Movie',\n",
       "       'Hit Movie', 'Hit Movie', 'Hit Movie', 'Hit Movie', 'Hit Movie',\n",
       "       'Hit Movie', 'Hit Movie', 'Hit Movie', 'Average Movie',\n",
       "       'Hit Movie', 'Hit Movie', 'Hit Movie', 'Hit Movie', 'Hit Movie',\n",
       "       'Hit Movie', 'Hit Movie', 'Hit Movie', 'Hit Movie', 'Hit Movie',\n",
       "       'Hit Movie', 'Average Movie', 'Hit Movie', 'Hit Movie',\n",
       "       'Average Movie', 'Hit Movie', 'Hit Movie', 'Hit Movie',\n",
       "       'Hit Movie', 'Hit Movie', 'Average Movie', 'Hit Movie',\n",
       "       'Hit Movie', 'Hit Movie', 'Hit Movie', 'Hit Movie', 'Hit Movie',\n",
       "       'Hit Movie', 'Hit Movie', 'Hit Movie', 'Hit Movie', 'Hit Movie',\n",
       "       'Average Movie', 'Hit Movie', 'Hit Movie', 'Hit Movie',\n",
       "       'Hit Movie', 'Hit Movie', 'Hit Movie', 'Hit Movie', 'Hit Movie',\n",
       "       'Hit Movie', 'Hit Movie', 'Hit Movie', 'Hit Movie',\n",
       "       'Average Movie', 'Hit Movie', 'Hit Movie', 'Average Movie',\n",
       "       'Hit Movie', 'Hit Movie', 'Hit Movie', 'Hit Movie', 'Hit Movie',\n",
       "       'Average Movie', 'Hit Movie', 'Hit Movie', 'Hit Movie',\n",
       "       'Hit Movie', 'Hit Movie', 'Average Movie', 'Average Movie',\n",
       "       'Hit Movie', 'Hit Movie', 'Hit Movie', 'Hit Movie', 'Hit Movie',\n",
       "       'Hit Movie', 'Average Movie', 'Hit Movie', 'Hit Movie',\n",
       "       'Hit Movie', 'Hit Movie', 'Hit Movie', 'Hit Movie',\n",
       "       'Average Movie', 'Average Movie', 'Hit Movie', 'Hit Movie',\n",
       "       'Hit Movie', 'Hit Movie', 'Average Movie', 'Hit Movie',\n",
       "       'Average Movie', 'Hit Movie', 'Average Movie', 'Average Movie',\n",
       "       'Hit Movie', 'Hit Movie', 'Hit Movie', 'Hit Movie', 'Hit Movie',\n",
       "       'Average Movie', 'Hit Movie', 'Hit Movie', 'Hit Movie',\n",
       "       'Hit Movie', 'Hit Movie', 'Average Movie', 'Hit Movie',\n",
       "       'Hit Movie', 'Average Movie', 'Average Movie', 'Hit Movie',\n",
       "       'Hit Movie', 'Hit Movie', 'Average Movie', 'Hit Movie',\n",
       "       'Hit Movie', 'Hit Movie', 'Hit Movie', 'Hit Movie',\n",
       "       'Average Movie', 'Average Movie', 'Hit Movie', 'Average Movie',\n",
       "       'Hit Movie', 'Average Movie', 'Hit Movie', 'Hit Movie',\n",
       "       'Hit Movie', 'Average Movie', 'Hit Movie', 'Hit Movie',\n",
       "       'Average Movie', 'Hit Movie', 'Hit Movie', 'Hit Movie',\n",
       "       'Hit Movie', 'Hit Movie', 'Hit Movie', 'Average Movie',\n",
       "       'Hit Movie', 'Hit Movie', 'Hit Movie', 'Hit Movie', 'Hit Movie',\n",
       "       'Hit Movie', 'Hit Movie', 'Hit Movie', 'Average Movie',\n",
       "       'Hit Movie', 'Hit Movie', 'Hit Movie', 'Hit Movie', 'Hit Movie',\n",
       "       'Average Movie', 'Hit Movie', 'Hit Movie', 'Hit Movie',\n",
       "       'Hit Movie', 'Hit Movie', 'Hit Movie', 'Average Movie',\n",
       "       'Hit Movie', 'Hit Movie', 'Hit Movie', 'Hit Movie', 'Hit Movie',\n",
       "       'Hit Movie', 'Hit Movie', 'Hit Movie', 'Hit Movie', 'Hit Movie',\n",
       "       'Hit Movie', 'Hit Movie', 'Hit Movie', 'Hit Movie', 'Hit Movie',\n",
       "       'Hit Movie', 'Hit Movie', 'Hit Movie', 'Hit Movie', 'Hit Movie',\n",
       "       'Hit Movie', 'Hit Movie', 'Hit Movie', 'Hit Movie', 'Hit Movie',\n",
       "       'Hit Movie', 'Hit Movie', 'Hit Movie', 'Hit Movie',\n",
       "       'Average Movie', 'Hit Movie', 'Average Movie', 'Average Movie',\n",
       "       'Hit Movie', 'Hit Movie', 'Hit Movie', 'Average Movie',\n",
       "       'Hit Movie', 'Hit Movie', 'Hit Movie', 'Hit Movie',\n",
       "       'Average Movie', 'Hit Movie', 'Hit Movie', 'Average Movie',\n",
       "       'Hit Movie', 'Hit Movie', 'Hit Movie', 'Average Movie',\n",
       "       'Hit Movie', 'Hit Movie', 'Hit Movie', 'Average Movie',\n",
       "       'Hit Movie', 'Average Movie', 'Average Movie', 'Hit Movie',\n",
       "       'Hit Movie', 'Hit Movie', 'Average Movie', 'Hit Movie',\n",
       "       'Hit Movie', 'Hit Movie', 'Average Movie', 'Average Movie',\n",
       "       'Hit Movie', 'Hit Movie', 'Hit Movie', 'Average Movie',\n",
       "       'Hit Movie', 'Hit Movie', 'Hit Movie', 'Hit Movie', 'Hit Movie',\n",
       "       'Hit Movie', 'Hit Movie', 'Hit Movie', 'Average Movie',\n",
       "       'Hit Movie', 'Hit Movie', 'Hit Movie', 'Hit Movie', 'Hit Movie',\n",
       "       'Hit Movie', 'Hit Movie', 'Hit Movie', 'Hit Movie', 'Hit Movie',\n",
       "       'Hit Movie', 'Hit Movie', 'Hit Movie', 'Hit Movie', 'Hit Movie',\n",
       "       'Hit Movie', 'Hit Movie', 'Hit Movie', 'Hit Movie',\n",
       "       'Average Movie', 'Hit Movie', 'Average Movie', 'Hit Movie',\n",
       "       'Hit Movie', 'Hit Movie', 'Average Movie', 'Hit Movie',\n",
       "       'Hit Movie', 'Hit Movie', 'Hit Movie', 'Hit Movie', 'Hit Movie',\n",
       "       'Hit Movie', 'Hit Movie', 'Hit Movie', 'Hit Movie', 'Hit Movie',\n",
       "       'Hit Movie', 'Hit Movie', 'Hit Movie', 'Hit Movie', 'Hit Movie',\n",
       "       'Hit Movie', 'Average Movie', 'Hit Movie', 'Hit Movie',\n",
       "       'Hit Movie', 'Average Movie', 'Average Movie', 'Hit Movie',\n",
       "       'Hit Movie', 'Average Movie', 'Hit Movie', 'Average Movie',\n",
       "       'Hit Movie', 'Hit Movie', 'Hit Movie', 'Hit Movie',\n",
       "       'Average Movie', 'Hit Movie', 'Hit Movie', 'Hit Movie',\n",
       "       'Average Movie', 'Hit Movie', 'Hit Movie', 'Hit Movie',\n",
       "       'Hit Movie', 'Average Movie', 'Hit Movie', 'Hit Movie',\n",
       "       'Average Movie', 'Average Movie', 'Hit Movie', 'Average Movie',\n",
       "       'Hit Movie', 'Hit Movie', 'Hit Movie', 'Average Movie',\n",
       "       'Hit Movie', 'Hit Movie', 'Hit Movie', 'Hit Movie', 'Hit Movie',\n",
       "       'Hit Movie', 'Hit Movie', 'Hit Movie', 'Hit Movie', 'Hit Movie',\n",
       "       'Hit Movie', 'Hit Movie', 'Hit Movie', 'Hit Movie', 'Hit Movie',\n",
       "       'Hit Movie', 'Average Movie', 'Average Movie', 'Average Movie',\n",
       "       'Hit Movie', 'Hit Movie', 'Hit Movie', 'Average Movie',\n",
       "       'Hit Movie', 'Hit Movie', 'Hit Movie', 'Hit Movie', 'Hit Movie',\n",
       "       'Hit Movie', 'Hit Movie', 'Hit Movie', 'Average Movie',\n",
       "       'Hit Movie', 'Hit Movie', 'Average Movie', 'Hit Movie',\n",
       "       'Hit Movie', 'Average Movie', 'Hit Movie', 'Hit Movie',\n",
       "       'Hit Movie', 'Hit Movie', 'Hit Movie', 'Hit Movie', 'Hit Movie',\n",
       "       'Average Movie', 'Hit Movie', 'Hit Movie', 'Hit Movie',\n",
       "       'Hit Movie', 'Hit Movie', 'Hit Movie', 'Hit Movie', 'Hit Movie',\n",
       "       'Hit Movie', 'Hit Movie', 'Average Movie', 'Hit Movie',\n",
       "       'Hit Movie', 'Hit Movie', 'Hit Movie', 'Hit Movie', 'Hit Movie',\n",
       "       'Hit Movie', 'Hit Movie', 'Average Movie', 'Average Movie',\n",
       "       'Average Movie', 'Hit Movie', 'Average Movie', 'Hit Movie',\n",
       "       'Average Movie', 'Average Movie', 'Hit Movie', 'Hit Movie',\n",
       "       'Hit Movie', 'Hit Movie', 'Hit Movie', 'Hit Movie',\n",
       "       'Average Movie', 'Hit Movie', 'Average Movie', 'Hit Movie',\n",
       "       'Hit Movie', 'Hit Movie', 'Hit Movie', 'Hit Movie', 'Hit Movie',\n",
       "       'Hit Movie', 'Hit Movie', 'Hit Movie', 'Hit Movie',\n",
       "       'Average Movie', 'Average Movie', 'Hit Movie', 'Average Movie',\n",
       "       'Hit Movie', 'Hit Movie', 'Hit Movie', 'Hit Movie', 'Hit Movie',\n",
       "       'Hit Movie', 'Hit Movie', 'Hit Movie', 'Hit Movie', 'Hit Movie',\n",
       "       'Hit Movie', 'Average Movie', 'Hit Movie', 'Hit Movie',\n",
       "       'Hit Movie', 'Average Movie', 'Average Movie', 'Hit Movie',\n",
       "       'Average Movie', 'Average Movie', 'Hit Movie', 'Hit Movie',\n",
       "       'Hit Movie', 'Hit Movie', 'Hit Movie', 'Hit Movie', 'Hit Movie',\n",
       "       'Average Movie', 'Hit Movie', 'Hit Movie', 'Hit Movie',\n",
       "       'Hit Movie', 'Hit Movie', 'Hit Movie', 'Hit Movie', 'Hit Movie',\n",
       "       'Average Movie', 'Hit Movie', 'Hit Movie', 'Hit Movie',\n",
       "       'Hit Movie', 'Hit Movie', 'Hit Movie', 'Hit Movie', 'Hit Movie',\n",
       "       'Hit Movie', 'Hit Movie', 'Hit Movie', 'Hit Movie', 'Hit Movie',\n",
       "       'Average Movie', 'Hit Movie', 'Hit Movie', 'Hit Movie',\n",
       "       'Average Movie', 'Hit Movie', 'Hit Movie', 'Hit Movie',\n",
       "       'Hit Movie', 'Average Movie', 'Hit Movie', 'Hit Movie',\n",
       "       'Average Movie', 'Hit Movie', 'Average Movie', 'Hit Movie',\n",
       "       'Hit Movie', 'Hit Movie', 'Hit Movie', 'Average Movie',\n",
       "       'Hit Movie', 'Hit Movie', 'Hit Movie', 'Hit Movie', 'Hit Movie',\n",
       "       'Average Movie', 'Hit Movie', 'Hit Movie', 'Hit Movie',\n",
       "       'Hit Movie', 'Average Movie', 'Hit Movie', 'Hit Movie',\n",
       "       'Hit Movie', 'Hit Movie', 'Hit Movie', 'Hit Movie', 'Hit Movie',\n",
       "       'Hit Movie', 'Hit Movie', 'Hit Movie', 'Hit Movie', 'Hit Movie',\n",
       "       'Hit Movie', 'Hit Movie', 'Hit Movie', 'Average Movie',\n",
       "       'Average Movie', 'Hit Movie', 'Hit Movie', 'Hit Movie',\n",
       "       'Hit Movie', 'Hit Movie', 'Average Movie', 'Hit Movie',\n",
       "       'Hit Movie', 'Average Movie', 'Average Movie', 'Hit Movie',\n",
       "       'Hit Movie', 'Average Movie', 'Hit Movie', 'Hit Movie',\n",
       "       'Average Movie', 'Hit Movie', 'Hit Movie', 'Hit Movie',\n",
       "       'Hit Movie', 'Hit Movie', 'Hit Movie', 'Hit Movie',\n",
       "       'Average Movie', 'Hit Movie', 'Hit Movie', 'Hit Movie',\n",
       "       'Hit Movie', 'Hit Movie', 'Hit Movie', 'Average Movie',\n",
       "       'Average Movie', 'Average Movie', 'Hit Movie', 'Hit Movie',\n",
       "       'Hit Movie', 'Hit Movie', 'Hit Movie', 'Average Movie',\n",
       "       'Hit Movie', 'Hit Movie', 'Average Movie', 'Hit Movie',\n",
       "       'Hit Movie', 'Average Movie', 'Hit Movie', 'Hit Movie',\n",
       "       'Hit Movie', 'Average Movie', 'Hit Movie', 'Hit Movie',\n",
       "       'Hit Movie', 'Hit Movie', 'Average Movie', 'Hit Movie',\n",
       "       'Hit Movie', 'Hit Movie', 'Average Movie', 'Hit Movie',\n",
       "       'Hit Movie', 'Hit Movie', 'Average Movie', 'Hit Movie',\n",
       "       'Hit Movie', 'Hit Movie', 'Average Movie', 'Hit Movie',\n",
       "       'Hit Movie', 'Hit Movie', 'Hit Movie', 'Average Movie',\n",
       "       'Hit Movie', 'Hit Movie', 'Hit Movie', 'Hit Movie', 'Hit Movie',\n",
       "       'Hit Movie', 'Hit Movie', 'Hit Movie', 'Hit Movie', 'Hit Movie',\n",
       "       'Hit Movie', 'Hit Movie', 'Hit Movie', 'Average Movie',\n",
       "       'Hit Movie', 'Average Movie', 'Hit Movie', 'Hit Movie',\n",
       "       'Hit Movie', 'Average Movie', 'Average Movie', 'Hit Movie',\n",
       "       'Hit Movie', 'Average Movie', 'Average Movie', 'Hit Movie',\n",
       "       'Hit Movie', 'Hit Movie', 'Average Movie', 'Hit Movie',\n",
       "       'Hit Movie', 'Hit Movie', 'Average Movie', 'Average Movie',\n",
       "       'Average Movie', 'Hit Movie', 'Hit Movie', 'Hit Movie',\n",
       "       'Average Movie', 'Average Movie', 'Hit Movie', 'Hit Movie',\n",
       "       'Hit Movie', 'Average Movie', 'Hit Movie', 'Average Movie',\n",
       "       'Average Movie', 'Hit Movie', 'Hit Movie', 'Hit Movie',\n",
       "       'Hit Movie', 'Hit Movie', 'Hit Movie', 'Hit Movie',\n",
       "       'Average Movie', 'Hit Movie', 'Hit Movie', 'Hit Movie',\n",
       "       'Average Movie', 'Hit Movie', 'Hit Movie', 'Average Movie',\n",
       "       'Hit Movie', 'Average Movie', 'Hit Movie', 'Hit Movie',\n",
       "       'Hit Movie', 'Hit Movie', 'Hit Movie', 'Hit Movie',\n",
       "       'Average Movie', 'Hit Movie', 'Hit Movie', 'Hit Movie',\n",
       "       'Hit Movie', 'Hit Movie', 'Average Movie', 'Hit Movie',\n",
       "       'Hit Movie', 'Hit Movie', 'Average Movie', 'Average Movie',\n",
       "       'Average Movie', 'Hit Movie', 'Hit Movie', 'Hit Movie',\n",
       "       'Hit Movie', 'Hit Movie', 'Hit Movie', 'Hit Movie', 'Hit Movie',\n",
       "       'Hit Movie', 'Hit Movie', 'Hit Movie', 'Hit Movie', 'Hit Movie',\n",
       "       'Hit Movie', 'Hit Movie', 'Hit Movie', 'Hit Movie', 'Hit Movie',\n",
       "       'Hit Movie', 'Average Movie', 'Hit Movie', 'Average Movie',\n",
       "       'Hit Movie', 'Hit Movie', 'Hit Movie', 'Average Movie',\n",
       "       'Average Movie', 'Hit Movie', 'Average Movie', 'Hit Movie',\n",
       "       'Hit Movie', 'Average Movie', 'Hit Movie', 'Hit Movie',\n",
       "       'Average Movie', 'Hit Movie', 'Hit Movie', 'Hit Movie'],\n",
       "      dtype=object)"
      ]
     },
     "execution_count": 190,
     "metadata": {},
     "output_type": "execute_result"
    }
   ],
   "source": [
    "y_rf_classification_pred"
   ]
  },
  {
   "cell_type": "code",
   "execution_count": 191,
   "id": "72114fbf",
   "metadata": {},
   "outputs": [
    {
     "name": "stdout",
     "output_type": "stream",
     "text": [
      "Misclassified samples: 130\n",
      "Accuracy: 0.83\n",
      "Precision: 0.54\n",
      "Recall: 0.50\n",
      "F1 score: 0.51\n"
     ]
    },
    {
     "name": "stderr",
     "output_type": "stream",
     "text": [
      "E:\\anaconda3\\envs\\pythoncourse\\lib\\site-packages\\sklearn\\metrics\\_classification.py:1318: UndefinedMetricWarning: Precision is ill-defined and being set to 0.0 in labels with no predicted samples. Use `zero_division` parameter to control this behavior.\n",
      "  _warn_prf(average, modifier, msg_start, len(result))\n"
     ]
    }
   ],
   "source": [
    "from sklearn import metrics\n",
    "count_misclassified = (y_test_classification != y_rf_classification_pred).sum()\n",
    "print('Misclassified samples: {}'.format(count_misclassified))\n",
    "accuracy = metrics.accuracy_score(y_test_classification, y_rf_classification_pred)\n",
    "print('Accuracy: {:.2f}'.format(accuracy))\n",
    "precision = metrics.precision_score(y_test_classification, y_rf_classification_pred, average= 'macro')\n",
    "print('Precision: {:.2f}'.format(precision))\n",
    "recall = metrics.recall_score(y_test_classification, y_rf_classification_pred, average= 'macro')\n",
    "print('Recall: {:.2f}'.format(recall))\n",
    "f1_score = metrics.f1_score(y_test_classification, y_rf_classification_pred, average = 'macro')\n",
    "print('F1 score: {:.2f}'.format(f1_score))"
   ]
  },
  {
   "cell_type": "code",
   "execution_count": 192,
   "id": "c907a57a",
   "metadata": {},
   "outputs": [],
   "source": [
    "from sklearn.ensemble import GradientBoostingClassifier\n",
    "from sklearn.model_selection import GridSearchCV\n",
    "# Create the parameter grid based on the results of random search \n",
    "param_grid = {\n",
    "    'max_depth': [10, 50, 90],\n",
    "    'max_features': [3],\n",
    "    'min_samples_leaf': [3],\n",
    "    'min_samples_split': [8, 10],\n",
    "    'n_estimators': [100, 500],\n",
    "    'learning_rate' : [0.1, 0.2],\n",
    "    'random_state' : [0]\n",
    "}\n",
    "# Create a based model\n",
    "gbc_model_classification = GradientBoostingClassifier()\n",
    "# Instantiate the grid search model\n",
    "grid_search_gbc_model_classificaiton = GridSearchCV(estimator = gbc_model_classification, param_grid = param_grid, \n",
    "                          cv = 3, n_jobs = -1, verbose = 2)"
   ]
  },
  {
   "cell_type": "code",
   "execution_count": 193,
   "id": "4d37bbc8",
   "metadata": {},
   "outputs": [
    {
     "name": "stdout",
     "output_type": "stream",
     "text": [
      "Fitting 3 folds for each of 24 candidates, totalling 72 fits\n"
     ]
    },
    {
     "data": {
      "text/plain": [
       "GridSearchCV(cv=3, estimator=GradientBoostingClassifier(), n_jobs=-1,\n",
       "             param_grid={'learning_rate': [0.1, 0.2], 'max_depth': [10, 50, 90],\n",
       "                         'max_features': [3], 'min_samples_leaf': [3],\n",
       "                         'min_samples_split': [8, 10],\n",
       "                         'n_estimators': [100, 500], 'random_state': [0]},\n",
       "             verbose=2)"
      ]
     },
     "execution_count": 193,
     "metadata": {},
     "output_type": "execute_result"
    }
   ],
   "source": [
    "grid_search_gbc_model_classificaiton.fit(X_train_rfe_classification, y_train_classification)"
   ]
  },
  {
   "cell_type": "code",
   "execution_count": 194,
   "id": "432b4c8d",
   "metadata": {},
   "outputs": [],
   "source": [
    "y_gbc_model_pred = grid_search_gbc_model_classificaiton.predict(X_test_rfe_classification)"
   ]
  },
  {
   "cell_type": "code",
   "execution_count": 195,
   "id": "c084c3dc",
   "metadata": {},
   "outputs": [
    {
     "data": {
      "text/plain": [
       "array(['Hit Movie', 'Hit Movie', 'Hit Movie', 'Average Movie',\n",
       "       'Hit Movie', 'Hit Movie', 'Average Movie', 'Average Movie',\n",
       "       'Average Movie', 'Hit Movie', 'Average Movie', 'Hit Movie',\n",
       "       'Hit Movie', 'Hit Movie', 'Average Movie', 'Hit Movie',\n",
       "       'Hit Movie', 'Hit Movie', 'Hit Movie', 'Average Movie',\n",
       "       'Average Movie', 'Hit Movie', 'Hit Movie', 'Hit Movie',\n",
       "       'Hit Movie', 'Hit Movie', 'Hit Movie', 'Hit Movie', 'Hit Movie',\n",
       "       'Hit Movie', 'Hit Movie', 'Hit Movie', 'Average Movie',\n",
       "       'Hit Movie', 'Average Movie', 'Average Movie', 'Average Movie',\n",
       "       'Hit Movie', 'Hit Movie', 'Hit Movie', 'Average Movie',\n",
       "       'Hit Movie', 'Hit Movie', 'Hit Movie', 'Hit Movie',\n",
       "       'Average Movie', 'Hit Movie', 'Average Movie', 'Average Movie',\n",
       "       'Average Movie', 'Hit Movie', 'Hit Movie', 'Average Movie',\n",
       "       'Hit Movie', 'Hit Movie', 'Hit Movie', 'Average Movie',\n",
       "       'Hit Movie', 'Hit Movie', 'Hit Movie', 'Hit Movie', 'Hit Movie',\n",
       "       'Hit Movie', 'Hit Movie', 'Hit Movie', 'Hit Movie', 'Hit Movie',\n",
       "       'Average Movie', 'Hit Movie', 'Hit Movie', 'Hit Movie',\n",
       "       'Hit Movie', 'Hit Movie', 'Hit Movie', 'Hit Movie', 'Hit Movie',\n",
       "       'Hit Movie', 'Average Movie', 'Hit Movie', 'Average Movie',\n",
       "       'Hit Movie', 'Hit Movie', 'Average Movie', 'Hit Movie',\n",
       "       'Hit Movie', 'Hit Movie', 'Hit Movie', 'Average Movie',\n",
       "       'Average Movie', 'Hit Movie', 'Hit Movie', 'Hit Movie',\n",
       "       'Hit Movie', 'Hit Movie', 'Hit Movie', 'Hit Movie',\n",
       "       'Average Movie', 'Hit Movie', 'Hit Movie', 'Hit Movie',\n",
       "       'Average Movie', 'Hit Movie', 'Hit Movie', 'Hit Movie',\n",
       "       'Hit Movie', 'Hit Movie', 'Hit Movie', 'Hit Movie', 'Hit Movie',\n",
       "       'Hit Movie', 'Hit Movie', 'Hit Movie', 'Hit Movie',\n",
       "       'Average Movie', 'Hit Movie', 'Hit Movie', 'Average Movie',\n",
       "       'Hit Movie', 'Hit Movie', 'Average Movie', 'Hit Movie',\n",
       "       'Hit Movie', 'Average Movie', 'Hit Movie', 'Hit Movie',\n",
       "       'Hit Movie', 'Hit Movie', 'Hit Movie', 'Average Movie',\n",
       "       'Average Movie', 'Hit Movie', 'Hit Movie', 'Hit Movie',\n",
       "       'Hit Movie', 'Hit Movie', 'Hit Movie', 'Average Movie',\n",
       "       'Hit Movie', 'Hit Movie', 'Hit Movie', 'Hit Movie', 'Hit Movie',\n",
       "       'Hit Movie', 'Average Movie', 'Average Movie', 'Hit Movie',\n",
       "       'Hit Movie', 'Hit Movie', 'Hit Movie', 'Hit Movie',\n",
       "       'Average Movie', 'Average Movie', 'Hit Movie', 'Average Movie',\n",
       "       'Average Movie', 'Hit Movie', 'Hit Movie', 'Average Movie',\n",
       "       'Hit Movie', 'Hit Movie', 'Average Movie', 'Hit Movie',\n",
       "       'Hit Movie', 'Hit Movie', 'Hit Movie', 'Hit Movie',\n",
       "       'Average Movie', 'Hit Movie', 'Hit Movie', 'Average Movie',\n",
       "       'Average Movie', 'Hit Movie', 'Hit Movie', 'Hit Movie',\n",
       "       'Average Movie', 'Hit Movie', 'Hit Movie', 'Hit Movie',\n",
       "       'Hit Movie', 'Hit Movie', 'Average Movie', 'Average Movie',\n",
       "       'Hit Movie', 'Average Movie', 'Hit Movie', 'Average Movie',\n",
       "       'Hit Movie', 'Hit Movie', 'Hit Movie', 'Average Movie',\n",
       "       'Hit Movie', 'Hit Movie', 'Average Movie', 'Hit Movie',\n",
       "       'Hit Movie', 'Hit Movie', 'Average Movie', 'Hit Movie',\n",
       "       'Hit Movie', 'Average Movie', 'Hit Movie', 'Hit Movie',\n",
       "       'Hit Movie', 'Average Movie', 'Hit Movie', 'Hit Movie',\n",
       "       'Hit Movie', 'Average Movie', 'Average Movie', 'Hit Movie',\n",
       "       'Hit Movie', 'Hit Movie', 'Hit Movie', 'Hit Movie',\n",
       "       'Average Movie', 'Hit Movie', 'Hit Movie', 'Hit Movie',\n",
       "       'Hit Movie', 'Hit Movie', 'Hit Movie', 'Average Movie',\n",
       "       'Hit Movie', 'Hit Movie', 'Hit Movie', 'Hit Movie', 'Hit Movie',\n",
       "       'Hit Movie', 'Average Movie', 'Hit Movie', 'Hit Movie',\n",
       "       'Hit Movie', 'Hit Movie', 'Average Movie', 'Hit Movie',\n",
       "       'Hit Movie', 'Hit Movie', 'Hit Movie', 'Hit Movie', 'Hit Movie',\n",
       "       'Hit Movie', 'Hit Movie', 'Hit Movie', 'Hit Movie', 'Hit Movie',\n",
       "       'Hit Movie', 'Hit Movie', 'Hit Movie', 'Hit Movie', 'Hit Movie',\n",
       "       'Hit Movie', 'Average Movie', 'Hit Movie', 'Average Movie',\n",
       "       'Hit Movie', 'Hit Movie', 'Hit Movie', 'Hit Movie',\n",
       "       'Average Movie', 'Hit Movie', 'Hit Movie', 'Hit Movie',\n",
       "       'Hit Movie', 'Average Movie', 'Average Movie', 'Hit Movie',\n",
       "       'Average Movie', 'Hit Movie', 'Hit Movie', 'Hit Movie',\n",
       "       'Average Movie', 'Hit Movie', 'Hit Movie', 'Hit Movie',\n",
       "       'Hit Movie', 'Hit Movie', 'Average Movie', 'Average Movie',\n",
       "       'Hit Movie', 'Hit Movie', 'Hit Movie', 'Average Movie',\n",
       "       'Hit Movie', 'Hit Movie', 'Hit Movie', 'Average Movie',\n",
       "       'Average Movie', 'Hit Movie', 'Hit Movie', 'Hit Movie',\n",
       "       'Average Movie', 'Hit Movie', 'Hit Movie', 'Hit Movie',\n",
       "       'Hit Movie', 'Hit Movie', 'Hit Movie', 'Hit Movie', 'Hit Movie',\n",
       "       'Average Movie', 'Hit Movie', 'Hit Movie', 'Hit Movie',\n",
       "       'Hit Movie', 'Average Movie', 'Hit Movie', 'Hit Movie',\n",
       "       'Hit Movie', 'Hit Movie', 'Hit Movie', 'Hit Movie', 'Hit Movie',\n",
       "       'Hit Movie', 'Hit Movie', 'Hit Movie', 'Hit Movie', 'Hit Movie',\n",
       "       'Hit Movie', 'Hit Movie', 'Average Movie', 'Hit Movie',\n",
       "       'Average Movie', 'Hit Movie', 'Hit Movie', 'Hit Movie',\n",
       "       'Average Movie', 'Hit Movie', 'Hit Movie', 'Hit Movie',\n",
       "       'Hit Movie', 'Hit Movie', 'Hit Movie', 'Hit Movie',\n",
       "       'Average Movie', 'Hit Movie', 'Hit Movie', 'Hit Movie',\n",
       "       'Hit Movie', 'Hit Movie', 'Hit Movie', 'Hit Movie', 'Hit Movie',\n",
       "       'Hit Movie', 'Average Movie', 'Hit Movie', 'Hit Movie',\n",
       "       'Hit Movie', 'Average Movie', 'Hit Movie', 'Hit Movie',\n",
       "       'Hit Movie', 'Average Movie', 'Hit Movie', 'Average Movie',\n",
       "       'Hit Movie', 'Hit Movie', 'Hit Movie', 'Average Movie',\n",
       "       'Hit Movie', 'Hit Movie', 'Hit Movie', 'Hit Movie',\n",
       "       'Average Movie', 'Hit Movie', 'Hit Movie', 'Hit Movie',\n",
       "       'Hit Movie', 'Hit Movie', 'Hit Movie', 'Hit Movie',\n",
       "       'Average Movie', 'Average Movie', 'Hit Movie', 'Average Movie',\n",
       "       'Hit Movie', 'Hit Movie', 'Hit Movie', 'Average Movie',\n",
       "       'Hit Movie', 'Hit Movie', 'Hit Movie', 'Hit Movie', 'Hit Movie',\n",
       "       'Hit Movie', 'Average Movie', 'Hit Movie', 'Hit Movie',\n",
       "       'Hit Movie', 'Hit Movie', 'Hit Movie', 'Hit Movie', 'Hit Movie',\n",
       "       'Hit Movie', 'Hit Movie', 'Average Movie', 'Average Movie',\n",
       "       'Average Movie', 'Hit Movie', 'Hit Movie', 'Hit Movie',\n",
       "       'Average Movie', 'Hit Movie', 'Hit Movie', 'Hit Movie',\n",
       "       'Hit Movie', 'Hit Movie', 'Hit Movie', 'Hit Movie', 'Hit Movie',\n",
       "       'Average Movie', 'Hit Movie', 'Hit Movie', 'Average Movie',\n",
       "       'Hit Movie', 'Hit Movie', 'Average Movie', 'Hit Movie',\n",
       "       'Hit Movie', 'Hit Movie', 'Hit Movie', 'Hit Movie', 'Hit Movie',\n",
       "       'Hit Movie', 'Average Movie', 'Hit Movie', 'Average Movie',\n",
       "       'Hit Movie', 'Hit Movie', 'Average Movie', 'Hit Movie',\n",
       "       'Hit Movie', 'Hit Movie', 'Average Movie', 'Hit Movie',\n",
       "       'Average Movie', 'Hit Movie', 'Hit Movie', 'Hit Movie',\n",
       "       'Hit Movie', 'Hit Movie', 'Hit Movie', 'Hit Movie', 'Hit Movie',\n",
       "       'Average Movie', 'Average Movie', 'Average Movie', 'Hit Movie',\n",
       "       'Average Movie', 'Hit Movie', 'Average Movie', 'Average Movie',\n",
       "       'Hit Movie', 'Hit Movie', 'Hit Movie', 'Hit Movie', 'Hit Movie',\n",
       "       'Hit Movie', 'Average Movie', 'Hit Movie', 'Average Movie',\n",
       "       'Hit Movie', 'Hit Movie', 'Hit Movie', 'Hit Movie', 'Hit Movie',\n",
       "       'Hit Movie', 'Hit Movie', 'Hit Movie', 'Hit Movie', 'Hit Movie',\n",
       "       'Average Movie', 'Average Movie', 'Hit Movie', 'Average Movie',\n",
       "       'Hit Movie', 'Hit Movie', 'Average Movie', 'Hit Movie',\n",
       "       'Hit Movie', 'Hit Movie', 'Hit Movie', 'Hit Movie', 'Hit Movie',\n",
       "       'Hit Movie', 'Hit Movie', 'Average Movie', 'Hit Movie',\n",
       "       'Hit Movie', 'Hit Movie', 'Average Movie', 'Average Movie',\n",
       "       'Hit Movie', 'Average Movie', 'Average Movie', 'Hit Movie',\n",
       "       'Hit Movie', 'Hit Movie', 'Hit Movie', 'Hit Movie', 'Hit Movie',\n",
       "       'Average Movie', 'Average Movie', 'Average Movie', 'Hit Movie',\n",
       "       'Hit Movie', 'Hit Movie', 'Hit Movie', 'Hit Movie', 'Hit Movie',\n",
       "       'Hit Movie', 'Average Movie', 'Hit Movie', 'Hit Movie',\n",
       "       'Hit Movie', 'Hit Movie', 'Hit Movie', 'Hit Movie', 'Hit Movie',\n",
       "       'Hit Movie', 'Hit Movie', 'Hit Movie', 'Hit Movie', 'Hit Movie',\n",
       "       'Hit Movie', 'Average Movie', 'Average Movie', 'Hit Movie',\n",
       "       'Average Movie', 'Hit Movie', 'Hit Movie', 'Hit Movie',\n",
       "       'Hit Movie', 'Average Movie', 'Average Movie', 'Hit Movie',\n",
       "       'Hit Movie', 'Average Movie', 'Hit Movie', 'Average Movie',\n",
       "       'Hit Movie', 'Average Movie', 'Hit Movie', 'Hit Movie',\n",
       "       'Average Movie', 'Hit Movie', 'Hit Movie', 'Hit Movie',\n",
       "       'Hit Movie', 'Hit Movie', 'Average Movie', 'Hit Movie',\n",
       "       'Hit Movie', 'Hit Movie', 'Hit Movie', 'Average Movie',\n",
       "       'Hit Movie', 'Hit Movie', 'Hit Movie', 'Average Movie',\n",
       "       'Hit Movie', 'Hit Movie', 'Hit Movie', 'Hit Movie', 'Hit Movie',\n",
       "       'Hit Movie', 'Hit Movie', 'Hit Movie', 'Hit Movie', 'Hit Movie',\n",
       "       'Hit Movie', 'Average Movie', 'Average Movie', 'Hit Movie',\n",
       "       'Hit Movie', 'Hit Movie', 'Hit Movie', 'Hit Movie',\n",
       "       'Average Movie', 'Hit Movie', 'Average Movie', 'Average Movie',\n",
       "       'Average Movie', 'Hit Movie', 'Hit Movie', 'Average Movie',\n",
       "       'Hit Movie', 'Average Movie', 'Average Movie', 'Hit Movie',\n",
       "       'Hit Movie', 'Hit Movie', 'Hit Movie', 'Hit Movie', 'Hit Movie',\n",
       "       'Hit Movie', 'Average Movie', 'Hit Movie', 'Hit Movie',\n",
       "       'Hit Movie', 'Hit Movie', 'Hit Movie', 'Hit Movie',\n",
       "       'Average Movie', 'Average Movie', 'Average Movie', 'Hit Movie',\n",
       "       'Hit Movie', 'Hit Movie', 'Hit Movie', 'Hit Movie',\n",
       "       'Average Movie', 'Hit Movie', 'Hit Movie', 'Hit Movie',\n",
       "       'Hit Movie', 'Hit Movie', 'Average Movie', 'Hit Movie',\n",
       "       'Hit Movie', 'Hit Movie', 'Average Movie', 'Hit Movie',\n",
       "       'Hit Movie', 'Hit Movie', 'Hit Movie', 'Average Movie',\n",
       "       'Hit Movie', 'Hit Movie', 'Average Movie', 'Average Movie',\n",
       "       'Hit Movie', 'Hit Movie', 'Hit Movie', 'Average Movie',\n",
       "       'Hit Movie', 'Hit Movie', 'Hit Movie', 'Hit Movie', 'Hit Movie',\n",
       "       'Hit Movie', 'Hit Movie', 'Hit Movie', 'Average Movie',\n",
       "       'Hit Movie', 'Hit Movie', 'Hit Movie', 'Hit Movie', 'Hit Movie',\n",
       "       'Hit Movie', 'Hit Movie', 'Average Movie', 'Hit Movie',\n",
       "       'Hit Movie', 'Hit Movie', 'Hit Movie', 'Average Movie',\n",
       "       'Average Movie', 'Hit Movie', 'Average Movie', 'Hit Movie',\n",
       "       'Hit Movie', 'Hit Movie', 'Average Movie', 'Average Movie',\n",
       "       'Hit Movie', 'Average Movie', 'Average Movie', 'Average Movie',\n",
       "       'Hit Movie', 'Hit Movie', 'Hit Movie', 'Average Movie',\n",
       "       'Hit Movie', 'Hit Movie', 'Hit Movie', 'Average Movie',\n",
       "       'Average Movie', 'Average Movie', 'Hit Movie', 'Average Movie',\n",
       "       'Hit Movie', 'Average Movie', 'Average Movie', 'Hit Movie',\n",
       "       'Hit Movie', 'Hit Movie', 'Average Movie', 'Average Movie',\n",
       "       'Average Movie', 'Average Movie', 'Hit Movie', 'Hit Movie',\n",
       "       'Hit Movie', 'Hit Movie', 'Hit Movie', 'Hit Movie', 'Hit Movie',\n",
       "       'Average Movie', 'Hit Movie', 'Hit Movie', 'Hit Movie',\n",
       "       'Average Movie', 'Hit Movie', 'Hit Movie', 'Average Movie',\n",
       "       'Hit Movie', 'Hit Movie', 'Hit Movie', 'Hit Movie', 'Hit Movie',\n",
       "       'Hit Movie', 'Hit Movie', 'Hit Movie', 'Average Movie',\n",
       "       'Hit Movie', 'Hit Movie', 'Hit Movie', 'Hit Movie', 'Hit Movie',\n",
       "       'Average Movie', 'Hit Movie', 'Average Movie', 'Hit Movie',\n",
       "       'Average Movie', 'Hit Movie', 'Average Movie', 'Hit Movie',\n",
       "       'Hit Movie', 'Hit Movie', 'Hit Movie', 'Hit Movie', 'Hit Movie',\n",
       "       'Hit Movie', 'Hit Movie', 'Hit Movie', 'Hit Movie', 'Hit Movie',\n",
       "       'Hit Movie', 'Hit Movie', 'Hit Movie', 'Hit Movie', 'Hit Movie',\n",
       "       'Hit Movie', 'Hit Movie', 'Hit Movie', 'Average Movie',\n",
       "       'Hit Movie', 'Average Movie', 'Hit Movie', 'Hit Movie',\n",
       "       'Hit Movie', 'Average Movie', 'Average Movie', 'Hit Movie',\n",
       "       'Average Movie', 'Hit Movie', 'Hit Movie', 'Average Movie',\n",
       "       'Hit Movie', 'Hit Movie', 'Average Movie', 'Hit Movie',\n",
       "       'Average Movie', 'Hit Movie'], dtype=object)"
      ]
     },
     "execution_count": 195,
     "metadata": {},
     "output_type": "execute_result"
    }
   ],
   "source": [
    "y_gbc_model_pred"
   ]
  },
  {
   "cell_type": "code",
   "execution_count": 196,
   "id": "f039f1c4",
   "metadata": {},
   "outputs": [
    {
     "name": "stdout",
     "output_type": "stream",
     "text": [
      "Misclassified samples: 128\n",
      "Accuracy: 0.83\n",
      "Precision: 0.53\n",
      "Recall: 0.52\n",
      "F1 score: 0.52\n"
     ]
    },
    {
     "name": "stderr",
     "output_type": "stream",
     "text": [
      "E:\\anaconda3\\envs\\pythoncourse\\lib\\site-packages\\sklearn\\metrics\\_classification.py:1318: UndefinedMetricWarning: Precision is ill-defined and being set to 0.0 in labels with no predicted samples. Use `zero_division` parameter to control this behavior.\n",
      "  _warn_prf(average, modifier, msg_start, len(result))\n"
     ]
    }
   ],
   "source": [
    "from sklearn import metrics\n",
    "count_misclassified = (y_test_classification != y_gbc_model_pred).sum()\n",
    "print('Misclassified samples: {}'.format(count_misclassified))\n",
    "accuracy = metrics.accuracy_score(y_test_classification, y_gbc_model_pred)\n",
    "print('Accuracy: {:.2f}'.format(accuracy))\n",
    "precision = metrics.precision_score(y_test_classification, y_gbc_model_pred, average= 'macro')\n",
    "print('Precision: {:.2f}'.format(precision))\n",
    "recall = metrics.recall_score(y_test_classification, y_gbc_model_pred, average= 'macro')\n",
    "print('Recall: {:.2f}'.format(recall))\n",
    "f1_score = metrics.f1_score(y_test_classification, y_gbc_model_pred, average = 'macro')\n",
    "print('F1 score: {:.2f}'.format(f1_score))"
   ]
  },
  {
   "cell_type": "code",
   "execution_count": 197,
   "id": "6b669a77",
   "metadata": {},
   "outputs": [],
   "source": [
    "from xgboost import XGBClassifier\n",
    "from sklearn.model_selection import GridSearchCV\n",
    "param_grid = {\n",
    "     'objective' : ['multi:softmax', 'multi:softprob'],\n",
    "     'n_estimators': [100, 500, 1000],\n",
    "     'random_state': [0]\n",
    "}\n",
    "# Create a based model\n",
    "xgb_model_classification = XGBClassifier()\n",
    "# Instantiate the grid search model\n",
    "grid_search_xgb_model_classificaiton = GridSearchCV(estimator = xgb_model_classification, param_grid = param_grid, \n",
    "                          cv = 3, n_jobs = -1, verbose = 2)"
   ]
  },
  {
   "cell_type": "code",
   "execution_count": 198,
   "id": "3570ed6c",
   "metadata": {},
   "outputs": [
    {
     "name": "stdout",
     "output_type": "stream",
     "text": [
      "Fitting 3 folds for each of 6 candidates, totalling 18 fits\n"
     ]
    },
    {
     "name": "stderr",
     "output_type": "stream",
     "text": [
      "E:\\anaconda3\\envs\\pythoncourse\\lib\\site-packages\\sklearn\\model_selection\\_validation.py:372: FitFailedWarning: \n",
      "18 fits failed out of a total of 18.\n",
      "The score on these train-test partitions for these parameters will be set to nan.\n",
      "If these failures are not expected, you can try to debug them by setting error_score='raise'.\n",
      "\n",
      "Below are more details about the failures:\n",
      "--------------------------------------------------------------------------------\n",
      "18 fits failed with the following error:\n",
      "Traceback (most recent call last):\n",
      "  File \"E:\\anaconda3\\envs\\pythoncourse\\lib\\site-packages\\sklearn\\model_selection\\_validation.py\", line 680, in _fit_and_score\n",
      "    estimator.fit(X_train, y_train, **fit_params)\n",
      "  File \"E:\\anaconda3\\envs\\pythoncourse\\lib\\site-packages\\xgboost\\core.py\", line 532, in inner_f\n",
      "    return f(**kwargs)\n",
      "  File \"E:\\anaconda3\\envs\\pythoncourse\\lib\\site-packages\\xgboost\\sklearn.py\", line 1357, in fit\n",
      "    raise ValueError(\n",
      "ValueError: Invalid classes inferred from unique values of `y`.  Expected: [0 1 2], got ['Average Movie' 'Flop Movie' 'Hit Movie']\n",
      "\n",
      "  warnings.warn(some_fits_failed_message, FitFailedWarning)\n",
      "E:\\anaconda3\\envs\\pythoncourse\\lib\\site-packages\\sklearn\\model_selection\\_search.py:969: UserWarning: One or more of the test scores are non-finite: [nan nan nan nan nan nan]\n",
      "  warnings.warn(\n"
     ]
    },
    {
     "ename": "ValueError",
     "evalue": "Invalid classes inferred from unique values of `y`.  Expected: [0 1 2], got ['Average Movie' 'Flop Movie' 'Hit Movie']",
     "output_type": "error",
     "traceback": [
      "\u001b[1;31m---------------------------------------------------------------------------\u001b[0m",
      "\u001b[1;31mValueError\u001b[0m                                Traceback (most recent call last)",
      "Input \u001b[1;32mIn [198]\u001b[0m, in \u001b[0;36m<cell line: 1>\u001b[1;34m()\u001b[0m\n\u001b[1;32m----> 1\u001b[0m \u001b[43mgrid_search_xgb_model_classificaiton\u001b[49m\u001b[38;5;241;43m.\u001b[39;49m\u001b[43mfit\u001b[49m\u001b[43m(\u001b[49m\u001b[43mX_train_rfe_classification\u001b[49m\u001b[43m,\u001b[49m\u001b[43m \u001b[49m\u001b[43my_train_classification\u001b[49m\u001b[43m)\u001b[49m\n",
      "File \u001b[1;32mE:\\anaconda3\\envs\\pythoncourse\\lib\\site-packages\\sklearn\\model_selection\\_search.py:926\u001b[0m, in \u001b[0;36mBaseSearchCV.fit\u001b[1;34m(self, X, y, groups, **fit_params)\u001b[0m\n\u001b[0;32m    924\u001b[0m refit_start_time \u001b[38;5;241m=\u001b[39m time\u001b[38;5;241m.\u001b[39mtime()\n\u001b[0;32m    925\u001b[0m \u001b[38;5;28;01mif\u001b[39;00m y \u001b[38;5;129;01mis\u001b[39;00m \u001b[38;5;129;01mnot\u001b[39;00m \u001b[38;5;28;01mNone\u001b[39;00m:\n\u001b[1;32m--> 926\u001b[0m     \u001b[38;5;28mself\u001b[39m\u001b[38;5;241m.\u001b[39mbest_estimator_\u001b[38;5;241m.\u001b[39mfit(X, y, \u001b[38;5;241m*\u001b[39m\u001b[38;5;241m*\u001b[39mfit_params)\n\u001b[0;32m    927\u001b[0m \u001b[38;5;28;01melse\u001b[39;00m:\n\u001b[0;32m    928\u001b[0m     \u001b[38;5;28mself\u001b[39m\u001b[38;5;241m.\u001b[39mbest_estimator_\u001b[38;5;241m.\u001b[39mfit(X, \u001b[38;5;241m*\u001b[39m\u001b[38;5;241m*\u001b[39mfit_params)\n",
      "File \u001b[1;32mE:\\anaconda3\\envs\\pythoncourse\\lib\\site-packages\\xgboost\\core.py:532\u001b[0m, in \u001b[0;36m_deprecate_positional_args.<locals>.inner_f\u001b[1;34m(*args, **kwargs)\u001b[0m\n\u001b[0;32m    530\u001b[0m \u001b[38;5;28;01mfor\u001b[39;00m k, arg \u001b[38;5;129;01min\u001b[39;00m \u001b[38;5;28mzip\u001b[39m(sig\u001b[38;5;241m.\u001b[39mparameters, args):\n\u001b[0;32m    531\u001b[0m     kwargs[k] \u001b[38;5;241m=\u001b[39m arg\n\u001b[1;32m--> 532\u001b[0m \u001b[38;5;28;01mreturn\u001b[39;00m f(\u001b[38;5;241m*\u001b[39m\u001b[38;5;241m*\u001b[39mkwargs)\n",
      "File \u001b[1;32mE:\\anaconda3\\envs\\pythoncourse\\lib\\site-packages\\xgboost\\sklearn.py:1357\u001b[0m, in \u001b[0;36mXGBClassifier.fit\u001b[1;34m(self, X, y, sample_weight, base_margin, eval_set, eval_metric, early_stopping_rounds, verbose, xgb_model, sample_weight_eval_set, base_margin_eval_set, feature_weights, callbacks)\u001b[0m\n\u001b[0;32m   1352\u001b[0m     expected_classes \u001b[38;5;241m=\u001b[39m np\u001b[38;5;241m.\u001b[39marange(\u001b[38;5;28mself\u001b[39m\u001b[38;5;241m.\u001b[39mn_classes_)\n\u001b[0;32m   1353\u001b[0m \u001b[38;5;28;01mif\u001b[39;00m (\n\u001b[0;32m   1354\u001b[0m     \u001b[38;5;28mself\u001b[39m\u001b[38;5;241m.\u001b[39mclasses_\u001b[38;5;241m.\u001b[39mshape \u001b[38;5;241m!=\u001b[39m expected_classes\u001b[38;5;241m.\u001b[39mshape\n\u001b[0;32m   1355\u001b[0m     \u001b[38;5;129;01mor\u001b[39;00m \u001b[38;5;129;01mnot\u001b[39;00m (\u001b[38;5;28mself\u001b[39m\u001b[38;5;241m.\u001b[39mclasses_ \u001b[38;5;241m==\u001b[39m expected_classes)\u001b[38;5;241m.\u001b[39mall()\n\u001b[0;32m   1356\u001b[0m ):\n\u001b[1;32m-> 1357\u001b[0m     \u001b[38;5;28;01mraise\u001b[39;00m \u001b[38;5;167;01mValueError\u001b[39;00m(\n\u001b[0;32m   1358\u001b[0m         \u001b[38;5;124mf\u001b[39m\u001b[38;5;124m\"\u001b[39m\u001b[38;5;124mInvalid classes inferred from unique values of `y`.  \u001b[39m\u001b[38;5;124m\"\u001b[39m\n\u001b[0;32m   1359\u001b[0m         \u001b[38;5;124mf\u001b[39m\u001b[38;5;124m\"\u001b[39m\u001b[38;5;124mExpected: \u001b[39m\u001b[38;5;132;01m{\u001b[39;00mexpected_classes\u001b[38;5;132;01m}\u001b[39;00m\u001b[38;5;124m, got \u001b[39m\u001b[38;5;132;01m{\u001b[39;00m\u001b[38;5;28mself\u001b[39m\u001b[38;5;241m.\u001b[39mclasses_\u001b[38;5;132;01m}\u001b[39;00m\u001b[38;5;124m\"\u001b[39m\n\u001b[0;32m   1360\u001b[0m     )\n\u001b[0;32m   1362\u001b[0m params \u001b[38;5;241m=\u001b[39m \u001b[38;5;28mself\u001b[39m\u001b[38;5;241m.\u001b[39mget_xgb_params()\n\u001b[0;32m   1364\u001b[0m \u001b[38;5;28;01mif\u001b[39;00m callable(\u001b[38;5;28mself\u001b[39m\u001b[38;5;241m.\u001b[39mobjective):\n",
      "\u001b[1;31mValueError\u001b[0m: Invalid classes inferred from unique values of `y`.  Expected: [0 1 2], got ['Average Movie' 'Flop Movie' 'Hit Movie']"
     ]
    }
   ],
   "source": [
    "grid_search_xgb_model_classificaiton.fit(X_train_rfe_classification, y_train_classification)"
   ]
  },
  {
   "cell_type": "code",
   "execution_count": null,
   "id": "10c32826",
   "metadata": {},
   "outputs": [],
   "source": [
    "y_xgb_classification_pred = grid_search_xgb_model_classificaiton.predict(X_test_rfe_classification)"
   ]
  },
  {
   "cell_type": "code",
   "execution_count": null,
   "id": "20789672",
   "metadata": {},
   "outputs": [],
   "source": [
    "y_xgb_classification_pred"
   ]
  },
  {
   "cell_type": "code",
   "execution_count": null,
   "id": "96cb9d22",
   "metadata": {},
   "outputs": [],
   "source": [
    "from sklearn import metrics\n",
    "count_misclassified = (y_test_classification != y_xgb_classification_pred).sum()\n",
    "print('Misclassified samples: {}'.format(count_misclassified))\n",
    "accuracy = metrics.accuracy_score(y_test_classification, y_xgb_classification_pred)\n",
    "print('Accuracy: {:.2f}'.format(accuracy))\n",
    "precision = metrics.precision_score(y_test_classification, y_xgb_classification_pred, average= 'macro')\n",
    "print('Precision: {:.2f}'.format(precision))\n",
    "recall = metrics.recall_score(y_test_classification, y_xgb_classification_pred, average= 'macro')\n",
    "print('Recall: {:.2f}'.format(recall))\n",
    "f1_score = metrics.f1_score(y_test_classification, y_xgb_classification_pred, average = 'macro')\n",
    "print('F1 score: {:.2f}'.format(f1_score))"
   ]
  },
  {
   "cell_type": "code",
   "execution_count": null,
   "id": "4052ce55",
   "metadata": {},
   "outputs": [],
   "source": [
    "feature_importance = grid_search_gbc_model_classificaiton.best_estimator_.feature_importances_\n",
    "sorted_importance = np.argsort(feature_importance)\n",
    "pos = np.arange(len(sorted_importance))\n",
    "plt.figure(figsize=(12,5))\n",
    "plt.barh(pos, feature_importance[sorted_importance],align='center')\n",
    "plt.yticks(pos, X_train_rfe.columns[sorted_importance],fontsize=15)\n",
    "plt.title('Feature Importance ',fontsize=18)\n",
    "plt.show()"
   ]
  },
  {
   "cell_type": "code",
   "execution_count": null,
   "id": "f7d0619d",
   "metadata": {},
   "outputs": [],
   "source": []
  },
  {
   "cell_type": "code",
   "execution_count": null,
   "id": "fb9d9590",
   "metadata": {},
   "outputs": [],
   "source": []
  },
  {
   "cell_type": "code",
   "execution_count": null,
   "id": "765ada96",
   "metadata": {},
   "outputs": [],
   "source": []
  },
  {
   "cell_type": "code",
   "execution_count": null,
   "id": "a0a7725e",
   "metadata": {},
   "outputs": [],
   "source": []
  },
  {
   "cell_type": "code",
   "execution_count": null,
   "id": "95b3f9fe",
   "metadata": {},
   "outputs": [],
   "source": []
  },
  {
   "cell_type": "code",
   "execution_count": null,
   "id": "4130438b",
   "metadata": {},
   "outputs": [],
   "source": []
  },
  {
   "cell_type": "code",
   "execution_count": null,
   "id": "547e3db7",
   "metadata": {},
   "outputs": [],
   "source": []
  },
  {
   "cell_type": "code",
   "execution_count": null,
   "id": "38046249",
   "metadata": {},
   "outputs": [],
   "source": []
  }
 ],
 "metadata": {
  "kernelspec": {
   "display_name": "Python 3 (ipykernel)",
   "language": "python",
   "name": "python3"
  },
  "language_info": {
   "codemirror_mode": {
    "name": "ipython",
    "version": 3
   },
   "file_extension": ".py",
   "mimetype": "text/x-python",
   "name": "python",
   "nbconvert_exporter": "python",
   "pygments_lexer": "ipython3",
   "version": "3.9.7"
  }
 },
 "nbformat": 4,
 "nbformat_minor": 5
}
